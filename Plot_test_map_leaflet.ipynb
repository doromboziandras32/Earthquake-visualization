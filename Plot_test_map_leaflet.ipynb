{
 "cells": [
  {
   "cell_type": "code",
   "execution_count": 14,
   "metadata": {
    "collapsed": true
   },
   "outputs": [],
   "source": [
    "#Some test to exxtract stanford dataset\n",
    "#!pip install dash-leaflet\n",
    "#!pip install obspy"
   ]
  },
  {
   "cell_type": "code",
   "execution_count": 27,
   "metadata": {
    "pycharm": {
     "name": "#%%\n"
    }
   },
   "outputs": [
    {
     "name": "stderr",
     "output_type": "stream",
     "text": [
      "C:\\ProgramData\\Anaconda3\\lib\\site-packages\\IPython\\core\\interactiveshell.py:3165: DtypeWarning: Columns (21) have mixed types.Specify dtype option on import or set low_memory=False.\n",
      "  has_raised = await self.run_ast_nodes(code_ast.body, cell_name,\n"
     ]
    }
   ],
   "source": [
    "import pandas as pd\n",
    "import numpy as np\n",
    "\n",
    "df_test = pd.read_csv(\"csvs/chunk5.csv\")\n",
    "#df_test = pd.read_csv(\"csvs/earthquake_metadata.csv\",low_memory=False)\n",
    "\n",
    "df_test.set_index('trace_name',inplace= True)"
   ]
  },
  {
   "cell_type": "code",
   "execution_count": 28,
   "metadata": {},
   "outputs": [],
   "source": [
    "df_test = df_test.dropna(subset=['source_distance_km', 'source_latitude','source_longitude'])"
   ]
  },
  {
   "cell_type": "code",
   "execution_count": 29,
   "metadata": {},
   "outputs": [],
   "source": [
    "df_test = df_test[df_test['trace_category'] == 'earthquake_local']\n"
   ]
  },
  {
   "cell_type": "code",
   "execution_count": 30,
   "metadata": {},
   "outputs": [],
   "source": [
    "#df_test.to_csv(\"csvs/earthquake_metadata_cleaned.csv\")"
   ]
  },
  {
   "cell_type": "code",
   "execution_count": 31,
   "metadata": {},
   "outputs": [],
   "source": [
    "min(df_test['source_distance_km'])\n",
    "\n",
    "df_test_closest = df_test[df_test['source_distance_km'] == min(df_test['source_distance_km'])]"
   ]
  },
  {
   "cell_type": "code",
   "execution_count": 32,
   "metadata": {},
   "outputs": [
    {
     "data": {
      "text/plain": [
       "0.04"
      ]
     },
     "execution_count": 32,
     "metadata": {},
     "output_type": "execute_result"
    }
   ],
   "source": [
    "min(df_test['source_distance_km'])"
   ]
  },
  {
   "cell_type": "code",
   "execution_count": 33,
   "metadata": {},
   "outputs": [
    {
     "data": {
      "text/html": [
       "<div>\n",
       "<style scoped>\n",
       "    .dataframe tbody tr th:only-of-type {\n",
       "        vertical-align: middle;\n",
       "    }\n",
       "\n",
       "    .dataframe tbody tr th {\n",
       "        vertical-align: top;\n",
       "    }\n",
       "\n",
       "    .dataframe thead th {\n",
       "        text-align: right;\n",
       "    }\n",
       "</style>\n",
       "<table border=\"1\" class=\"dataframe\">\n",
       "  <thead>\n",
       "    <tr style=\"text-align: right;\">\n",
       "      <th></th>\n",
       "      <th>network_code</th>\n",
       "      <th>receiver_code</th>\n",
       "      <th>receiver_type</th>\n",
       "      <th>receiver_latitude</th>\n",
       "      <th>receiver_longitude</th>\n",
       "      <th>receiver_elevation_m</th>\n",
       "      <th>p_arrival_sample</th>\n",
       "      <th>p_status</th>\n",
       "      <th>p_weight</th>\n",
       "      <th>p_travel_sec</th>\n",
       "      <th>...</th>\n",
       "      <th>source_magnitude_type</th>\n",
       "      <th>source_magnitude_author</th>\n",
       "      <th>source_mechanism_strike_dip_rake</th>\n",
       "      <th>source_distance_deg</th>\n",
       "      <th>source_distance_km</th>\n",
       "      <th>back_azimuth_deg</th>\n",
       "      <th>snr_db</th>\n",
       "      <th>coda_end_sample</th>\n",
       "      <th>trace_start_time</th>\n",
       "      <th>trace_category</th>\n",
       "    </tr>\n",
       "    <tr>\n",
       "      <th>trace_name</th>\n",
       "      <th></th>\n",
       "      <th></th>\n",
       "      <th></th>\n",
       "      <th></th>\n",
       "      <th></th>\n",
       "      <th></th>\n",
       "      <th></th>\n",
       "      <th></th>\n",
       "      <th></th>\n",
       "      <th></th>\n",
       "      <th></th>\n",
       "      <th></th>\n",
       "      <th></th>\n",
       "      <th></th>\n",
       "      <th></th>\n",
       "      <th></th>\n",
       "      <th></th>\n",
       "      <th></th>\n",
       "      <th></th>\n",
       "      <th></th>\n",
       "      <th></th>\n",
       "    </tr>\n",
       "  </thead>\n",
       "  <tbody>\n",
       "    <tr>\n",
       "      <th>KAN08.GS_20150408005359_EV</th>\n",
       "      <td>GS</td>\n",
       "      <td>KAN08</td>\n",
       "      <td>HH</td>\n",
       "      <td>37.22672</td>\n",
       "      <td>-97.970947</td>\n",
       "      <td>375.0</td>\n",
       "      <td>400.0</td>\n",
       "      <td>manual</td>\n",
       "      <td>0.63</td>\n",
       "      <td>0.78</td>\n",
       "      <td>...</td>\n",
       "      <td>ml</td>\n",
       "      <td>ISMP</td>\n",
       "      <td>None</td>\n",
       "      <td>0.0004</td>\n",
       "      <td>0.04</td>\n",
       "      <td>166.8</td>\n",
       "      <td>[54.40000153 51.5        48.40000153]</td>\n",
       "      <td>[[1052.]]</td>\n",
       "      <td>2015-04-08 00:54:00.800000</td>\n",
       "      <td>earthquake_local</td>\n",
       "    </tr>\n",
       "  </tbody>\n",
       "</table>\n",
       "<p>1 rows × 34 columns</p>\n",
       "</div>"
      ],
      "text/plain": [
       "                           network_code receiver_code receiver_type  \\\n",
       "trace_name                                                            \n",
       "KAN08.GS_20150408005359_EV           GS         KAN08            HH   \n",
       "\n",
       "                            receiver_latitude  receiver_longitude  \\\n",
       "trace_name                                                          \n",
       "KAN08.GS_20150408005359_EV           37.22672          -97.970947   \n",
       "\n",
       "                            receiver_elevation_m  p_arrival_sample p_status  \\\n",
       "trace_name                                                                    \n",
       "KAN08.GS_20150408005359_EV                 375.0             400.0   manual   \n",
       "\n",
       "                            p_weight  p_travel_sec  ...  \\\n",
       "trace_name                                          ...   \n",
       "KAN08.GS_20150408005359_EV      0.63          0.78  ...   \n",
       "\n",
       "                            source_magnitude_type source_magnitude_author  \\\n",
       "trace_name                                                                  \n",
       "KAN08.GS_20150408005359_EV                     ml                    ISMP   \n",
       "\n",
       "                            source_mechanism_strike_dip_rake  \\\n",
       "trace_name                                                     \n",
       "KAN08.GS_20150408005359_EV                              None   \n",
       "\n",
       "                           source_distance_deg source_distance_km  \\\n",
       "trace_name                                                          \n",
       "KAN08.GS_20150408005359_EV              0.0004               0.04   \n",
       "\n",
       "                           back_azimuth_deg  \\\n",
       "trace_name                                    \n",
       "KAN08.GS_20150408005359_EV            166.8   \n",
       "\n",
       "                                                           snr_db  \\\n",
       "trace_name                                                          \n",
       "KAN08.GS_20150408005359_EV  [54.40000153 51.5        48.40000153]   \n",
       "\n",
       "                            coda_end_sample            trace_start_time  \\\n",
       "trace_name                                                                \n",
       "KAN08.GS_20150408005359_EV        [[1052.]]  2015-04-08 00:54:00.800000   \n",
       "\n",
       "                              trace_category  \n",
       "trace_name                                    \n",
       "KAN08.GS_20150408005359_EV  earthquake_local  \n",
       "\n",
       "[1 rows x 34 columns]"
      ]
     },
     "execution_count": 33,
     "metadata": {},
     "output_type": "execute_result"
    }
   ],
   "source": [
    "df_test_closest"
   ]
  },
  {
   "cell_type": "markdown",
   "metadata": {
    "pycharm": {
     "name": "#%%\n"
    }
   },
   "source": [
    "import h5py\n",
    "hf = h5py.File('chunk5.hdf5', 'r', libver='earliest')"
   ]
  },
  {
   "cell_type": "code",
   "execution_count": 34,
   "metadata": {
    "pycharm": {
     "name": "#%%\n"
    }
   },
   "outputs": [],
   "source": [
    "#eread = pd.read_hdf('chunk5.hdf5')"
   ]
  },
  {
   "cell_type": "markdown",
   "metadata": {
    "pycharm": {
     "name": "#%%\n"
    }
   },
   "source": [
    "#hf['Folder'].attrs.keys()\n",
    "\n",
    "#ee = hf.get('data/HPC.NC_20130403221010_EV')\n",
    "ee = hf.get('data/KAN08.GS_20150408005359_EV')\n"
   ]
  },
  {
   "cell_type": "markdown",
   "metadata": {},
   "source": [
    "## Amplitude normalization init test"
   ]
  },
  {
   "cell_type": "code",
   "execution_count": 35,
   "metadata": {},
   "outputs": [],
   "source": [
    "import librosa\n",
    "import soundfile as sf\n",
    "#Extract the proper seismic instrument\n",
    "#index: 0: north-south, 1: east-west, 2:vertical\n",
    "def create_seismic_sound(x, index = 0):\n",
    "    x1 = x[:,index]\n",
    "    norm_x = x1 = x1/x1.std()\n",
    "    norm_x_resampled = norm_x.resample(8000)\n",
    "    #norm_x_resampled = librosa.resample(norm_x, 100, 8000)\n",
    "    sf.write('assets/extracted_seismic_sound.wav',norm_x_resampled,8000)\n",
    "\n",
    "    return norm_x_resampled"
   ]
  },
  {
   "cell_type": "code",
   "execution_count": 36,
   "metadata": {},
   "outputs": [],
   "source": [
    "import librosa\n",
    "import soundfile as sf\n",
    "#Extract the proper seismic instrument\n",
    "#index: 0: north-south, 1: east-west, 2:vertical\n",
    "def create_seismic_sound_to_dash(x):\n",
    "    print('Read')\n",
    "    x1 = x.data\n",
    "    print('Normalize')\n",
    "    norm_x =  x1/x1.std()\n",
    "    print('Resample')\n",
    "    #norm_x_resampled = norm_x.resample(8000)\n",
    "    norm_x_resampled = librosa.resample(norm_x, x.stats.sampling_rate, 8000)\n",
    "    print('Export')\n",
    "    #norm_x_resampled = librosa.resample(norm_x, 100, 8000)\n",
    "    sf.write('assets/extracted_seismic_sound.wav',norm_x_resampled,8000)\n",
    "\n",
    "    return norm_x_resampled"
   ]
  },
  {
   "cell_type": "code",
   "execution_count": 37,
   "metadata": {},
   "outputs": [],
   "source": [
    " \n",
    "\n",
    "import librosa\n",
    "import soundfile as sf\n",
    "#Extract the proper seismic instrument\n",
    "#index: 0: north-south, 1: east-west, 2:vertical\n",
    "def create_seismic_sound_to_dash_bytes(x):\n",
    "    print('Read')\n",
    "    x1 = x.data\n",
    "    print('Normalize')\n",
    "    norm_x =  x1/x1.std()\n",
    "    print('Resample')\n",
    "    #norm_x_resampled = norm_x.resample(8000)\n",
    "    norm_x_resampled = librosa.resample(norm_x, x.stats.sampling_rate, 8000)\n",
    "    print('Export')\n",
    "    out_audio = BytesIO()\n",
    "    #norm_x_resampled = librosa.resample(norm_x, 100, 8000)\n",
    "    sf.write(out_audio,norm_x_resampled,8000,format = 'wav')\n",
    "\n",
    "    #import base64 \n",
    "    #encoded=base64.b64encode(open(\"file.wav\").read())\n",
    "    \n",
    "\n",
    "    #encoded=base64.b64encode(norm_x_resampled).decode(\"ascii\").replace(\"\\n\", \"\")\n",
    "    out_audio.seek(0)\n",
    "    encoded=base64.b64encode(out_audio.read()).decode(\"ascii\").replace(\"\\n\", \"\")\n",
    "    \n",
    "    #encoded.see\n",
    "    \n",
    "\n",
    "    #print(encoded)\n",
    "\n",
    "    return \"data:audio/wav;base64,{}\".format(encoded)\n",
    "\n",
    "    #return out_audio"
   ]
  },
  {
   "cell_type": "code",
   "execution_count": 38,
   "metadata": {},
   "outputs": [
    {
     "ename": "NameError",
     "evalue": "name 'wave' is not defined",
     "output_type": "error",
     "traceback": [
      "\u001b[1;31m---------------------------------------------------------------------------\u001b[0m",
      "\u001b[1;31mNameError\u001b[0m                                 Traceback (most recent call last)",
      "\u001b[1;32m<ipython-input-38-48603aa49e75>\u001b[0m in \u001b[0;36m<module>\u001b[1;34m\u001b[0m\n\u001b[1;32m----> 1\u001b[1;33m \u001b[0mo_file\u001b[0m \u001b[1;33m=\u001b[0m \u001b[0mcreate_seismic_sound_to_dash_bytes\u001b[0m\u001b[1;33m(\u001b[0m\u001b[0mwave\u001b[0m\u001b[1;33m)\u001b[0m\u001b[1;33m\u001b[0m\u001b[1;33m\u001b[0m\u001b[0m\n\u001b[0m",
      "\u001b[1;31mNameError\u001b[0m: name 'wave' is not defined"
     ]
    }
   ],
   "source": [
    "#o_file = create_seismic_sound_to_dash_bytes(wave)"
   ]
  },
  {
   "cell_type": "markdown",
   "metadata": {},
   "source": [
    "create_seismic_sound(ee,2)"
   ]
  },
  {
   "cell_type": "markdown",
   "metadata": {},
   "source": [
    "x1 = ee[:,2]\n",
    "norm_test = x1 = x1/x1.std()"
   ]
  },
  {
   "cell_type": "markdown",
   "metadata": {},
   "source": [
    "norm_test = np.array(norm_test * (1<<15), dtype=np.int16)\n",
    "audio_segment = pydub.AudioSegment(\n",
    "    norm_test.tobytes(), \n",
    "    frame_rate=100,\n",
    "    sample_width=norm_test.dtype.itemsize, \n",
    "    channels=1\n",
    ")\n",
    "\n",
    "audio_segment = audio_segment.set_frame_rate(8000)"
   ]
  },
  {
   "cell_type": "markdown",
   "metadata": {},
   "source": [
    "audio_segment.export('pydub_seismic_test.wav', format='wav')"
   ]
  },
  {
   "cell_type": "markdown",
   "metadata": {},
   "source": [
    "import soundfile as sf\n",
    "\n",
    "sf.write('test_raw_waveform_normalized_upsampled.wav', seismic_resample, 8000)\n",
    "#sf.write('test_raw_waveform_normalized.wav', norm_test, 100)\n",
    "#sf.write('test_raw_waveform.wav', ee[:,2], 100)"
   ]
  },
  {
   "cell_type": "markdown",
   "metadata": {
    "collapsed": false,
    "pycharm": {
     "name": "#%% md\n"
    }
   },
   "source": [
    "Build up velocity\n",
    "https://docs.obspy.org/contents.html"
   ]
  },
  {
   "cell_type": "code",
   "execution_count": 39,
   "metadata": {
    "collapsed": false,
    "pycharm": {
     "name": "#%%\n"
    }
   },
   "outputs": [],
   "source": [
    "import obspy\n",
    "#import h5py\n",
    "from obspy import UTCDateTime\n",
    "import numpy as np\n",
    "from obspy.clients.fdsn.client import Client\n",
    "import matplotlib.pyplot as plt\n",
    "\n",
    "def make_stream(dataset):\n",
    "    '''\n",
    "    input: hdf5 dataset\n",
    "    output: obspy stream\n",
    "\n",
    "    '''\n",
    "    data = np.array(dataset)\n",
    "\n",
    "    tr_E = obspy.Trace(data=data[:, 0])\n",
    "    tr_E.stats.starttime = UTCDateTime(dataset.attrs['trace_start_time'])\n",
    "    tr_E.stats.delta = 0.01\n",
    "    tr_E.stats.channel = dataset.attrs['receiver_type']+'E'\n",
    "    tr_E.stats.station = dataset.attrs['receiver_code']\n",
    "    tr_E.stats.network = dataset.attrs['network_code']\n",
    "\n",
    "    tr_N = obspy.Trace(data=data[:, 1])\n",
    "    tr_N.stats.starttime = UTCDateTime(dataset.attrs['trace_start_time'])\n",
    "    tr_N.stats.delta = 0.01\n",
    "    tr_N.stats.channel = dataset.attrs['receiver_type']+'N'\n",
    "    tr_N.stats.station = dataset.attrs['receiver_code']\n",
    "    tr_N.stats.network = dataset.attrs['network_code']\n",
    "\n",
    "    tr_Z = obspy.Trace(data=data[:, 2])\n",
    "    tr_Z.stats.starttime = UTCDateTime(dataset.attrs['trace_start_time'])\n",
    "    tr_Z.stats.delta = 0.01\n",
    "    tr_Z.stats.channel = dataset.attrs['receiver_type']+'Z'\n",
    "    tr_Z.stats.station = dataset.attrs['receiver_code']\n",
    "    tr_Z.stats.network = dataset.attrs['network_code']\n",
    "\n",
    "    stream = obspy.Stream([tr_E, tr_N, tr_Z])\n",
    "\n",
    "    return stream"
   ]
  },
  {
   "cell_type": "markdown",
   "metadata": {},
   "source": [
    "\n",
    "client = Client(\"IRIS\")\n",
    "inventory = client.get_stations(network=df_test_closest['network_code'][0],\n",
    "                                station=df_test_closest['receiver_code'][0],\n",
    "                                starttime=UTCDateTime(df_test_closest['trace_start_time'][0]),\n",
    "                                endtime=UTCDateTime(df_test_closest['trace_start_time'][0]) + 60,\n",
    "                                loc=\"*\", \n",
    "                                channel=\"*\",\n",
    "                                level=\"response\")  \n"
   ]
  },
  {
   "cell_type": "code",
   "execution_count": 40,
   "metadata": {},
   "outputs": [
    {
     "data": {
      "text/plain": [
       "'GS'"
      ]
     },
     "execution_count": 40,
     "metadata": {},
     "output_type": "execute_result"
    }
   ],
   "source": [
    "df_test_closest['network_code'][0]"
   ]
  },
  {
   "cell_type": "code",
   "execution_count": 41,
   "metadata": {},
   "outputs": [
    {
     "data": {
      "text/plain": [
       "'KAN08'"
      ]
     },
     "execution_count": 41,
     "metadata": {},
     "output_type": "execute_result"
    }
   ],
   "source": [
    "df_test_closest['receiver_code'][0]"
   ]
  },
  {
   "cell_type": "code",
   "execution_count": 42,
   "metadata": {},
   "outputs": [],
   "source": [
    "\n",
    "client = Client(\"IRIS\")\n",
    "wave = client.get_waveforms(network=df_test_closest['network_code'][0],\n",
    "                            station=df_test_closest['receiver_code'][0],\n",
    "                            starttime=UTCDateTime(df_test_closest['trace_start_time'][0]),\n",
    "                                endtime=UTCDateTime(df_test_closest['trace_start_time'][0]) + 60,\n",
    "                                location = \"*\",\n",
    "                                channel = \"*\"\n",
    ")"
   ]
  },
  {
   "cell_type": "code",
   "execution_count": 43,
   "metadata": {},
   "outputs": [],
   "source": [
    "#http://eqseis.geosc.psu.edu/cammon/HTML/Classes/IntroQuakes/Notes/seismometers.html"
   ]
  },
  {
   "cell_type": "code",
   "execution_count": 44,
   "metadata": {},
   "outputs": [],
   "source": [
    "st =  wave\n",
    "#make_stream(ee)\n",
    "#st = st.remove_response(inventory=inventory, output='VEL', plot=False) \n",
    "\n",
    "# ploting the verical component\n",
    "#make_plot(st[2], title='Velocity', ylab='meters/second')"
   ]
  },
  {
   "cell_type": "markdown",
   "metadata": {},
   "source": [
    "Compression, amplitude normalization:\n",
    "https://librosa.org/doc/main/generated/librosa.effects.time_stretch.html\n",
    "https://superkogito.github.io/blog/rmsnormalization.html\n",
    "\n",
    "https://docs.obspy.org/packages/autogen/obspy.core.trace.Trace.remove_response.html"
   ]
  },
  {
   "cell_type": "code",
   "execution_count": 45,
   "metadata": {},
   "outputs": [],
   "source": [
    "#st.write('seismic_sound_test.wav',format = 'WAV',framerate = 100)"
   ]
  },
  {
   "cell_type": "markdown",
   "metadata": {},
   "source": [
    "https://docs.obspy.org/tutorial/code_snippets/filtering_seismograms.html"
   ]
  },
  {
   "cell_type": "markdown",
   "metadata": {},
   "source": []
  },
  {
   "cell_type": "code",
   "execution_count": 46,
   "metadata": {},
   "outputs": [],
   "source": [
    "from io import BytesIO\n",
    "import base64\n",
    "def fig_to_uri(in_fig, close_all=True, **save_args):\n",
    "    # type: (plt.Figure) -> str\n",
    "    \"\"\"\n",
    "    Save a figure as a URI\n",
    "    :param in_fig:\n",
    "    :return:\n",
    "    \"\"\"\n",
    "    out_img = BytesIO()\n",
    "    in_fig.savefig(out_img, format='png', **save_args)\n",
    "    if close_all:\n",
    "        in_fig.clf()\n",
    "        plt.close('all')\n",
    "    out_img.seek(0)  # rewind file\n",
    "    encoded = base64.b64encode(out_img.read()).decode(\"ascii\").replace(\"\\n\", \"\")\n",
    "    #return encoded\n",
    "    return \"data:image/png;base64,{}\".format(encoded)"
   ]
  },
  {
   "cell_type": "code",
   "execution_count": 47,
   "metadata": {},
   "outputs": [],
   "source": [
    "from io import BytesIO\n",
    "import base64\n",
    "from scipy import signal\n",
    "def spectrogram_to_uri(input_data, close_all=True, **save_args):    \n",
    "    #todo: maybe we might be able to make a bytewriter approach, which is easier, and can be used for seismic plot and spectrograms at once\n",
    "    \n",
    "    f, t, Sxx = signal.spectrogram(input_data.filter(\"highpass\", freq=0.5).data, input_data.stats.sampling_rate)\n",
    "    plt.pcolormesh(t, f, np.log10(Sxx))\n",
    "    plt.ylabel('Frequency [Hz]')\n",
    "    plt.xlabel('Time [sec]')\n",
    "\n",
    "\n",
    "    # type: (plt.Figure) -> str\n",
    "    \"\"\"\n",
    "    Save a figure as a URI\n",
    "    :param in_fig:\n",
    "    :return:\n",
    "    \"\"\"\n",
    "    out_img = BytesIO()\n",
    "    plt.savefig(out_img, format='png', **save_args)\n",
    "    if close_all:\n",
    "        plt.clf()\n",
    "        plt.close('all')\n",
    "    out_img.seek(0)  # rewind file\n",
    "    encoded = base64.b64encode(out_img.read()).decode(\"ascii\").replace(\"\\n\", \"\")\n",
    "    #return encoded\n",
    "    return \"data:image/png;base64,{}\".format(encoded)"
   ]
  },
  {
   "cell_type": "code",
   "execution_count": 48,
   "metadata": {
    "collapsed": false,
    "pycharm": {
     "name": "#%%\n"
    }
   },
   "outputs": [],
   "source": [
    "import matplotlib.pyplot as plt"
   ]
  },
  {
   "cell_type": "markdown",
   "metadata": {},
   "source": [
    "filtered_spectrogram.savefig('test_specgram.png')"
   ]
  },
  {
   "cell_type": "markdown",
   "metadata": {
    "pycharm": {
     "name": "#%%\n"
    }
   },
   "source": [
    "plt.plot(ee[:,2])"
   ]
  },
  {
   "cell_type": "markdown",
   "metadata": {
    "collapsed": false,
    "pycharm": {
     "name": "#%% md\n"
    }
   },
   "source": [
    "E,N,Z channels"
   ]
  },
  {
   "cell_type": "markdown",
   "metadata": {
    "pycharm": {
     "name": "#%%\n"
    }
   },
   "source": [
    "import librosa\n",
    "import librosa.display\n",
    "#TODO: convert to spectrogram\n",
    "fig, ax = plt.subplots()\n",
    "#S = librosa.feature.melspectrogram(y=ee[:,1], sr=100, n_mels=128,fmax=50)\n",
    "\n",
    "#S_dB = librosa.power_to_db(np.abs(S), ref=np.max)\n",
    "#S_dB = librosa.power_to_db(np.abs(librosa.stft(y=ee[:,0])), ref=np.max)\n",
    "S_dB = librosa.power_to_db(np.abs(Sxx), ref=np.max)\n",
    "img = librosa.display.specshow(S_dB, x_axis='time',\n",
    "                               y_axis='mel', sr=100,\n",
    "                               fmax=100, ax=ax)\n",
    "fig.colorbar(img, ax=ax, format='%+2.0f dB')\n",
    "ax.set(title='Mel-frequency spectrogram')"
   ]
  },
  {
   "cell_type": "markdown",
   "metadata": {},
   "source": [
    "filtered_spectrogram = fig"
   ]
  },
  {
   "cell_type": "code",
   "execution_count": 49,
   "metadata": {
    "pycharm": {
     "name": "#%%\n"
    }
   },
   "outputs": [],
   "source": [
    "df_test['time'] = pd.to_datetime(df_test['trace_start_time'], infer_datetime_format=True)\n",
    "df_test['source_depth_km'] = pd.to_numeric(df_test['source_depth_km'],errors='coerce')\n",
    "df_test['source_magnitude'] = pd.to_numeric(df_test['source_magnitude'],errors='coerce')\n",
    "#df_test['source_magnitude'].sort_values()\n",
    "#df_test.head(2)"
   ]
  },
  {
   "cell_type": "code",
   "execution_count": 50,
   "metadata": {},
   "outputs": [],
   "source": [
    "def extract_waveform(client, event_record):\n",
    "    #print(event_record)\n",
    "    print(event_record['network_code'])\n",
    "    print(event_record['receiver_code'])\n",
    "    print(UTCDateTime(event_record['time']))\n",
    "\n",
    "    wave = client.get_waveforms(network=event_record['network_code'],\n",
    "                            station=event_record['receiver_code'],\n",
    "                            starttime=UTCDateTime(event_record['time']),\n",
    "                                endtime=UTCDateTime(event_record['time']) + 60,\n",
    "                                location = \"*\",\n",
    "                                channel = \"*\")\n",
    "\n",
    "    \n",
    "    #temprorarily extract only one stream\n",
    "    return wave[0]"
   ]
  },
  {
   "cell_type": "code",
   "execution_count": 51,
   "metadata": {},
   "outputs": [],
   "source": [
    "stations_df = pd.read_csv('station_definitions_from_metadata.csv')"
   ]
  },
  {
   "cell_type": "code",
   "execution_count": 52,
   "metadata": {},
   "outputs": [],
   "source": [
    "selected_event = df_test.loc['HPC.NC_20130403221010_EV']\n",
    "\n",
    "selected_event = df_test.loc['KAN08.GS_20150408005359_EV']\n",
    "\n",
    "provider_of_waveform = stations_df[(stations_df['network_name'] == selected_event['network_code']) &  (stations_df['station_name'] == selected_event['receiver_code'])]\n",
    "clien = provider_of_waveform['provider'].tolist()[0]"
   ]
  },
  {
   "cell_type": "code",
   "execution_count": 53,
   "metadata": {},
   "outputs": [
    {
     "data": {
      "text/plain": [
       "'IRIS'"
      ]
     },
     "execution_count": 53,
     "metadata": {},
     "output_type": "execute_result"
    }
   ],
   "source": [
    "clien"
   ]
  },
  {
   "cell_type": "code",
   "execution_count": 54,
   "metadata": {},
   "outputs": [
    {
     "data": {
      "text/html": [
       "<div>\n",
       "<style scoped>\n",
       "    .dataframe tbody tr th:only-of-type {\n",
       "        vertical-align: middle;\n",
       "    }\n",
       "\n",
       "    .dataframe tbody tr th {\n",
       "        vertical-align: top;\n",
       "    }\n",
       "\n",
       "    .dataframe thead th {\n",
       "        text-align: right;\n",
       "    }\n",
       "</style>\n",
       "<table border=\"1\" class=\"dataframe\">\n",
       "  <thead>\n",
       "    <tr style=\"text-align: right;\">\n",
       "      <th></th>\n",
       "      <th>Unnamed: 0</th>\n",
       "      <th>provider</th>\n",
       "      <th>network_name</th>\n",
       "      <th>station_name</th>\n",
       "      <th>latitude</th>\n",
       "      <th>longitude</th>\n",
       "      <th>station_opened</th>\n",
       "      <th>station_closed</th>\n",
       "    </tr>\n",
       "  </thead>\n",
       "  <tbody>\n",
       "    <tr>\n",
       "      <th>1232</th>\n",
       "      <td>0</td>\n",
       "      <td>IRIS</td>\n",
       "      <td>GS</td>\n",
       "      <td>KAN08</td>\n",
       "      <td>37.22672</td>\n",
       "      <td>-97.970947</td>\n",
       "      <td>2014-08-21T16:00:00.000000Z</td>\n",
       "      <td>NaN</td>\n",
       "    </tr>\n",
       "  </tbody>\n",
       "</table>\n",
       "</div>"
      ],
      "text/plain": [
       "      Unnamed: 0 provider network_name station_name  latitude  longitude  \\\n",
       "1232           0     IRIS           GS        KAN08  37.22672 -97.970947   \n",
       "\n",
       "                   station_opened station_closed  \n",
       "1232  2014-08-21T16:00:00.000000Z            NaN  "
      ]
     },
     "execution_count": 54,
     "metadata": {},
     "output_type": "execute_result"
    }
   ],
   "source": [
    "provider_of_waveform"
   ]
  },
  {
   "cell_type": "code",
   "execution_count": 55,
   "metadata": {},
   "outputs": [
    {
     "name": "stdout",
     "output_type": "stream",
     "text": [
      "GS\n",
      "KAN08\n",
      "2015-04-08T00:54:00.800000Z\n"
     ]
    }
   ],
   "source": [
    "wave_test = extract_waveform(client, selected_event)"
   ]
  },
  {
   "cell_type": "code",
   "execution_count": 65,
   "metadata": {},
   "outputs": [
    {
     "name": "stdout",
     "output_type": "stream",
     "text": [
      "Read\n",
      "Normalize\n",
      "Resample\n"
     ]
    },
    {
     "name": "stderr",
     "output_type": "stream",
     "text": [
      "<ipython-input-37-fec788d9a968>:12: FutureWarning: Pass orig_sr=200.0, target_sr=8000 as keyword args. From version 0.10 passing these as positional arguments will result in an error\n",
      "  norm_x_resampled = librosa.resample(norm_x, x.stats.sampling_rate, 8000)\n"
     ]
    },
    {
     "name": "stdout",
     "output_type": "stream",
     "text": [
      "Export\n"
     ]
    },
    {
     "name": "stderr",
     "output_type": "stream",
     "text": [
      "<ipython-input-47-3715c0c2c66b>:7: MatplotlibDeprecationWarning: shading='flat' when X and Y have the same dimensions as C is deprecated since 3.3.  Either specify the corners of the quadrilaterals with X and Y, or pass shading='auto', 'nearest' or 'gouraud', or set rcParams['pcolor.shading'].  This will become an error two minor releases later.\n",
      "  plt.pcolormesh(t, f, np.log10(Sxx))\n"
     ]
    },
    {
     "data": {
      "image/png": "[encoded data removed]",
      "text/plain": [
       "<Figure size 800x250 with 1 Axes>"
      ]
     },
     "metadata": {
      "needs_background": "light"
     },
     "output_type": "display_data"
    }
   ],
   "source": [
    "o_file = create_seismic_sound_to_dash_bytes(wave_test)\n",
    "spectrogram_plot = spectrogram_to_uri(wave_test)\n",
    "\n",
    "base_seismogram = fig_to_uri(wave_test.plot())"
   ]
  },
  {
   "cell_type": "code",
   "execution_count": 67,
   "metadata": {
    "pycharm": {
     "name": "#%%\n"
    }
   },
   "outputs": [],
   "source": [
    "#df_test = df_test[['time','source_depth_km','source_magnitude','trace_name','source_latitude','source_longitude','trace_category']]\n",
    "#df_test = df_test[['time','source_depth_km','source_magnitude','source_latitude','source_longitude','trace_category']]"
   ]
  },
  {
   "cell_type": "code",
   "execution_count": 68,
   "metadata": {},
   "outputs": [],
   "source": [
    "#from geopy.geocoders import Nominatim\n",
    "#geolocator = Nominatim(user_agent=\"geoapiExercises\")\n",
    "def create_event_infos(x):\n",
    "    #'time','source_depth_km','source_magnitude','trace_name','source_latitude','source_longitude','trace_category'\n",
    "    #selected_record = df_test.loc[x['trace_name']]\n",
    "    selected_record = df_test.loc[x]\n",
    "    latitude = str(selected_record['source_latitude'])\n",
    "    longitude = str(selected_record['source_longitude'])\n",
    "    try:\n",
    "        location = geolocator.reverse(latitude + \",\" + longitude)\n",
    "    except AttributeError:\n",
    "        location = \"N/A\"\n",
    "    info_dict = dict()\n",
    "    info_dict['trace_name'] = x\n",
    "    info_dict['location'] = location\n",
    "    info_dict['latitude'] = latitude\n",
    "    info_dict['longitude'] = longitude\n",
    "    info_dict['event_recorded_at'] = selected_record['time']\n",
    "    info_dict['earthquake_depth'] = f'{selected_record[\"source_depth_km\"]} km'\n",
    "    info_dict['earthquake_magnitude'] = f'{selected_record[\"source_magnitude\"]} km'\n",
    "    \n",
    "    #return info_dict\n",
    "\n",
    "    #return pd.DataFrame.from_dict(info_dict).to_dict('records')\n",
    "    return pd.DataFrame.from_dict(info_dict, orient='index').reset_index().to_dict('records')\n",
    "    #.to_dict('records')"
   ]
  },
  {
   "cell_type": "markdown",
   "metadata": {},
   "source": [
    "selected_event = create_event_infos('HPC.NC_20130403221010_EV')\n",
    "selected_event"
   ]
  },
  {
   "cell_type": "markdown",
   "metadata": {},
   "source": [
    "df_test.head(5).to_dict('records')"
   ]
  },
  {
   "cell_type": "markdown",
   "metadata": {
    "pycharm": {
     "name": "#%% md\n"
    }
   },
   "source": [
    "Extract the minimum depth, magnitude, recording times etcc"
   ]
  },
  {
   "cell_type": "code",
   "execution_count": 69,
   "metadata": {
    "pycharm": {
     "name": "#%%\n"
    }
   },
   "outputs": [],
   "source": [
    "#Latitudes and longitudes\n",
    "site_lat = df_test.source_latitude\n",
    "site_lon = df_test.source_longitude\n",
    "hover_desc = 'Timestamp: ' +  str(df_test.time) + '<br>Category: ' + df_test.trace_category\n",
    "#hover_desc = f'Time of registration: {df_earthquake_detections.trace_start_time} <br> Category: {df_earthquake_detections.trace_category}'\n",
    "#time = df_earthquake_detections.trace_start_time\n",
    "#ctg =df_earthquake_detections.trace_category\n",
    "#locations_name = df.text\n",
    "#min timestamp\n",
    "#Extract timestamp range\n",
    "min_date = min(df_test['time']).date()\n",
    "max_date = max(df_test['time']).date()\n",
    "#Extract minimum and maximum depth\n",
    "min_depth = min(df_test['source_depth_km'])\n",
    "max_depth = max(df_test['source_depth_km'])\n",
    "#Extract minimum and maximum magnitude\n",
    "min_magnitude = min(df_test['source_magnitude'])\n",
    "max_magnitude = max(df_test['source_magnitude'])\n",
    "\n",
    "depth_space = np.linspace(start=min_depth,stop=max_depth,num=8,endpoint=True,dtype=np.float64)\n",
    "magnitude_space = np.linspace(start=min_magnitude,stop=max_magnitude,num=8,endpoint=True,dtype=np.float64)"
   ]
  },
  {
   "cell_type": "code",
   "execution_count": 70,
   "metadata": {},
   "outputs": [],
   "source": [
    "df_points = df_test.reset_index()[['trace_name','time','source_depth_km','source_magnitude','source_latitude','source_longitude']]\n",
    "#.head(30)\n",
    "df_points_records_renamed = df_points.rename(columns = {'source_latitude' :'lat','source_longitude' :'lon'}).to_dict('records')"
   ]
  },
  {
   "cell_type": "code",
   "execution_count": 71,
   "metadata": {},
   "outputs": [],
   "source": [
    "import dash_leaflet.express as dlx  \n",
    "\n",
    "data_points_geojson = dlx.dicts_to_geojson(df_points_records_renamed) "
   ]
  },
  {
   "cell_type": "markdown",
   "metadata": {},
   "source": [
    "data_points_geojson"
   ]
  },
  {
   "cell_type": "code",
   "execution_count": 72,
   "metadata": {
    "pycharm": {
     "name": "#%%\n"
    }
   },
   "outputs": [],
   "source": [
    "#df_earthquake_detections\n"
   ]
  },
  {
   "cell_type": "markdown",
   "metadata": {},
   "source": [
    "Select multiple elements?\n",
    "#https://github.com/thedirtyfew/dash-leaflet/issues/45"
   ]
  },
  {
   "cell_type": "code",
   "execution_count": 79,
   "metadata": {
    "pycharm": {
     "name": "#%%\n"
    }
   },
   "outputs": [
    {
     "name": "stdout",
     "output_type": "stream",
     "text": [
      "Dash is running on http://127.0.0.1:8050/\n",
      "\n",
      "Dash is running on http://127.0.0.1:8050/\n",
      "\n",
      "Dash is running on http://127.0.0.1:8050/\n",
      "\n",
      "Dash is running on http://127.0.0.1:8050/\n",
      "\n",
      "Dash is running on http://127.0.0.1:8050/\n",
      "\n",
      "Dash is running on http://127.0.0.1:8050/\n",
      "\n",
      "Dash is running on http://127.0.0.1:8050/\n",
      "\n",
      " * Serving Flask app \"__main__\" (lazy loading)\n",
      " * Environment: production\n",
      "   WARNING: This is a development server. Do not use it in a production deployment.\n",
      "   Use a production WSGI server instead.\n",
      " * Debug mode: on\n",
      "BE\n",
      "MEM\n",
      "2013-02-20T19:11:53.490000Z\n"
     ]
    },
    {
     "name": "stderr",
     "output_type": "stream",
     "text": [
      "<ipython-input-47-3715c0c2c66b>:7: MatplotlibDeprecationWarning:\n",
      "\n",
      "shading='flat' when X and Y have the same dimensions as C is deprecated since 3.3.  Either specify the corners of the quadrilaterals with X and Y, or pass shading='auto', 'nearest' or 'gouraud', or set rcParams['pcolor.shading'].  This will become an error two minor releases later.\n",
      "\n"
     ]
    },
    {
     "data": {
      "image/png": "[encoded data removed]",
      "text/plain": [
       "<Figure size 800x250 with 1 Axes>"
      ]
     },
     "metadata": {
      "needs_background": "light"
     },
     "output_type": "display_data"
    },
    {
     "name": "stdout",
     "output_type": "stream",
     "text": [
      "seismic sound processing..\n",
      "FINISHED\n",
      "Read\n",
      "Normalize\n",
      "Resample\n"
     ]
    },
    {
     "name": "stderr",
     "output_type": "stream",
     "text": [
      "<ipython-input-37-fec788d9a968>:12: FutureWarning:\n",
      "\n",
      "Pass orig_sr=100.0, target_sr=8000 as keyword args. From version 0.10 passing these as positional arguments will result in an error\n",
      "\n"
     ]
    },
    {
     "name": "stdout",
     "output_type": "stream",
     "text": [
      "Export\n",
      "Read\n",
      "Normalize\n",
      "Resample\n",
      "Export\n",
      "TA\n",
      "N14K\n",
      "2018-10-24T07:13:25.650000Z\n"
     ]
    },
    {
     "name": "stderr",
     "output_type": "stream",
     "text": [
      "<ipython-input-47-3715c0c2c66b>:7: MatplotlibDeprecationWarning:\n",
      "\n",
      "shading='flat' when X and Y have the same dimensions as C is deprecated since 3.3.  Either specify the corners of the quadrilaterals with X and Y, or pass shading='auto', 'nearest' or 'gouraud', or set rcParams['pcolor.shading'].  This will become an error two minor releases later.\n",
      "\n"
     ]
    },
    {
     "data": {
      "image/png": "[encoded data removed]",
      "text/plain": [
       "<Figure size 800x250 with 1 Axes>"
      ]
     },
     "metadata": {
      "needs_background": "light"
     },
     "output_type": "display_data"
    },
    {
     "name": "stdout",
     "output_type": "stream",
     "text": [
      "seismic sound processing..\n",
      "FINISHED\n",
      "Read\n",
      "Normalize\n",
      "Resample\n"
     ]
    },
    {
     "name": "stderr",
     "output_type": "stream",
     "text": [
      "<ipython-input-37-fec788d9a968>:12: FutureWarning:\n",
      "\n",
      "Pass orig_sr=40.0, target_sr=8000 as keyword args. From version 0.10 passing these as positional arguments will result in an error\n",
      "\n"
     ]
    },
    {
     "name": "stdout",
     "output_type": "stream",
     "text": [
      "Export\n",
      "Read\n",
      "Normalize\n",
      "Resample\n",
      "Export\n",
      "DK\n",
      "NUUG\n",
      "2014-04-06T10:01:14.103000Z\n"
     ]
    },
    {
     "name": "stderr",
     "output_type": "stream",
     "text": [
      "<ipython-input-47-3715c0c2c66b>:7: MatplotlibDeprecationWarning:\n",
      "\n",
      "shading='flat' when X and Y have the same dimensions as C is deprecated since 3.3.  Either specify the corners of the quadrilaterals with X and Y, or pass shading='auto', 'nearest' or 'gouraud', or set rcParams['pcolor.shading'].  This will become an error two minor releases later.\n",
      "\n"
     ]
    },
    {
     "data": {
      "image/png": "[encoded data removed]",
      "text/plain": [
       "<Figure size 800x250 with 1 Axes>"
      ]
     },
     "metadata": {
      "needs_background": "light"
     },
     "output_type": "display_data"
    },
    {
     "name": "stdout",
     "output_type": "stream",
     "text": [
      "seismic sound processing..\n",
      "FINISHED\n",
      "Read\n",
      "Normalize\n",
      "Resample\n"
     ]
    },
    {
     "name": "stderr",
     "output_type": "stream",
     "text": [
      "<ipython-input-37-fec788d9a968>:12: FutureWarning:\n",
      "\n",
      "Pass orig_sr=100.0, target_sr=8000 as keyword args. From version 0.10 passing these as positional arguments will result in an error\n",
      "\n"
     ]
    },
    {
     "name": "stdout",
     "output_type": "stream",
     "text": [
      "Export\n",
      "Read\n",
      "Normalize\n",
      "Resample\n",
      "Export\n",
      "TA\n",
      "L27K\n",
      "2017-10-10T04:32:53.537000Z\n"
     ]
    },
    {
     "name": "stderr",
     "output_type": "stream",
     "text": [
      "<ipython-input-47-3715c0c2c66b>:7: MatplotlibDeprecationWarning:\n",
      "\n",
      "shading='flat' when X and Y have the same dimensions as C is deprecated since 3.3.  Either specify the corners of the quadrilaterals with X and Y, or pass shading='auto', 'nearest' or 'gouraud', or set rcParams['pcolor.shading'].  This will become an error two minor releases later.\n",
      "\n"
     ]
    },
    {
     "data": {
      "image/png": "[encoded data removed]",
      "text/plain": [
       "<Figure size 800x250 with 1 Axes>"
      ]
     },
     "metadata": {
      "needs_background": "light"
     },
     "output_type": "display_data"
    },
    {
     "name": "stdout",
     "output_type": "stream",
     "text": [
      "seismic sound processing..\n",
      "FINISHED\n",
      "Read\n",
      "Normalize\n",
      "Resample\n"
     ]
    },
    {
     "name": "stderr",
     "output_type": "stream",
     "text": [
      "<ipython-input-37-fec788d9a968>:12: FutureWarning:\n",
      "\n",
      "Pass orig_sr=40.0, target_sr=8000 as keyword args. From version 0.10 passing these as positional arguments will result in an error\n",
      "\n"
     ]
    },
    {
     "name": "stdout",
     "output_type": "stream",
     "text": [
      "Export\n",
      "Read\n",
      "Normalize\n",
      "Resample\n",
      "Export\n",
      "AK\n",
      "MCK\n",
      "2012-03-26T15:29:40.550000Z\n"
     ]
    },
    {
     "name": "stderr",
     "output_type": "stream",
     "text": [
      "<ipython-input-47-3715c0c2c66b>:7: MatplotlibDeprecationWarning:\n",
      "\n",
      "shading='flat' when X and Y have the same dimensions as C is deprecated since 3.3.  Either specify the corners of the quadrilaterals with X and Y, or pass shading='auto', 'nearest' or 'gouraud', or set rcParams['pcolor.shading'].  This will become an error two minor releases later.\n",
      "\n"
     ]
    },
    {
     "data": {
      "image/png": "[encoded data removed]",
      "text/plain": [
       "<Figure size 800x250 with 1 Axes>"
      ]
     },
     "metadata": {
      "needs_background": "light"
     },
     "output_type": "display_data"
    },
    {
     "name": "stdout",
     "output_type": "stream",
     "text": [
      "seismic sound processing..\n",
      "FINISHED\n",
      "Read\n",
      "Normalize\n",
      "Resample\n"
     ]
    },
    {
     "name": "stderr",
     "output_type": "stream",
     "text": [
      "<ipython-input-37-fec788d9a968>:12: FutureWarning:\n",
      "\n",
      "Pass orig_sr=50.0, target_sr=8000 as keyword args. From version 0.10 passing these as positional arguments will result in an error\n",
      "\n"
     ]
    },
    {
     "name": "stdout",
     "output_type": "stream",
     "text": [
      "Export\n",
      "Read\n",
      "Normalize\n",
      "Resample\n",
      "Export\n"
     ]
    }
   ],
   "source": [
    "import base64\n",
    "import plotly.graph_objects as go\n",
    "import dash\n",
    "import dash_core_components as dcc\n",
    "import dash_html_components as html\n",
    "import plotly.express as px\n",
    "\n",
    "import dash_bootstrap_components as dbc\n",
    "#from dash import  dash_table\n",
    "import dash_table\n",
    "from datetime import date\n",
    "from dash.dependencies import Input,Output,State\n",
    "from dash import callback_context\n",
    "from geopy.geocoders import Nominatim\n",
    "import dash_leaflet as dl\n",
    "geolocator = Nominatim(user_agent=\"geoapiExercises\")\n",
    "\n",
    "info_colnames = ['trace_name','location','latitude','longitude','event_recorded_at','earthquake_depth','earthquake_magnitude']\n",
    "#info_colnames = ['trace_name','latitude','longitude','event_recorded_at','earthquake_depth','earthquake_magnitude']\n",
    "def create_event_infos(x):\n",
    "    #'time','source_depth_km','source_magnitude','trace_name','source_latitude','source_longitude','trace_category'\n",
    "    #selected_record = df_test.loc[x['trace_name']]\n",
    "    selected_record = df_test.loc[x]\n",
    "    latitude = str(selected_record['source_latitude'])\n",
    "    longitude = str(selected_record['source_longitude'])\n",
    "    address_details = ['road','county','state', 'country']\n",
    "    try:\n",
    "        location = geolocator.reverse(latitude + \",\" + longitude).raw\n",
    "        location_string = str()\n",
    "        for a in address_details:\n",
    "            try:\n",
    "                location_string += location['address'][a]\n",
    "                location_string += ', '\n",
    "\n",
    "            except KeyError:\n",
    "                pass\n",
    "        \n",
    "        location_string = location_string[:-2]\n",
    "    except AttributeError:\n",
    "        location_string = \"N/A\"\n",
    "\n",
    "\n",
    "    #print(location)\n",
    "    info_dict = dict()\n",
    "    info_dict['trace_name'] = x\n",
    "    info_dict['location'] = location_string\n",
    "    info_dict['latitude'] = latitude\n",
    "    info_dict['longitude'] = longitude\n",
    "    info_dict['event_recorded_at'] = str(selected_record['time'])\n",
    "    info_dict['earthquake_depth'] = f'{selected_record[\"source_depth_km\"]} km'\n",
    "    info_dict['earthquake_magnitude'] = f'{selected_record[\"source_magnitude\"]} km'\n",
    "\n",
    "    return pd.DataFrame.from_dict(info_dict, orient='index').reset_index().to_dict('records')\n",
    "    \n",
    "    \n",
    "\n",
    "\n",
    "#!!!!!!!!!!!!!https://github.com/Coding-with-Adam/Dash-by-Plotly/blob/master/Dash_Interactive_Graphs/Scatter_mapbox/recycling.py\n",
    "app = dash.Dash()\n",
    "data_points_geojson\n",
    "\n",
    "image_filename = 'samples_for_wireframe/map_screenshot.PNG'\n",
    "encoded_image = base64.b64encode(open(image_filename, 'rb').read())\n",
    "#app.layout =html.Div([\n",
    "app.layout = html.Div([dbc.Row([\n",
    "\n",
    "                                #Filters|\n",
    "                                html.Div(style={'width':'20%','marginLeft': 5, 'marginRight': 10,'display':'inline-block',\"border\":\"2px black solid\",'vertical-align': 'top'},\n",
    "                                         children = [\n",
    "                                            #html.Div([\n",
    "                                            # dcc.Graph: maybe define somehow here?\n",
    "                                            #dcc.Graph(figure=fig, id='map-layout')]),\n",
    "                                             #'width':'15%','marginLeft': 20, 'marginRight': 20,\n",
    "                                            html.Div(style={ 'display': 'block','vertical-align':'middle'},\n",
    "                                                     children = [\n",
    "                                                        html.Div(id=\"state\"), html.Div(id=\"capital\"),\n",
    "                                                        html.Br(),\n",
    "                                                        html.H3('Select a date interval'),\n",
    "                                                        html.Br(),\n",
    "                                                    #Datepicker to filter for intervals\n",
    "                                                        dcc.DatePickerRange(\n",
    "                                                            id='date-filter',\n",
    "                                                            #min_date_allowed=date(1993, 1, 10),\n",
    "                                                            min_date_allowed=min_date,\n",
    "                                                            max_date_allowed=max_date,\n",
    "                                                            #max_date_allowed=date(2019, 9, 19),\n",
    "                                                            initial_visible_month=min_date,\n",
    "                                                            start_date=min_date,\n",
    "                                                            end_date=max_date\n",
    "                                                        )]),\n",
    "                                            #'width':'15%','marginLeft': 20, 'marginRight': 20,'marginTop':30,\n",
    "                                            html.Div(\n",
    "                                                style={ 'display': 'block','vertical-align':'middle'},\n",
    "                                                children = [\n",
    "                                                html.Br(),\n",
    "                                                html.H3('Select earthquake depth interval ( in km)'),\n",
    "                                                html.Br(),\n",
    "                                                #slider to filter for depth\n",
    "                                                dcc.RangeSlider(min = min_depth, max = max_depth,\n",
    "                                                                id='depth-slider',\n",
    "                                                                marks={i: '{:.2f}'.format(i) for i in depth_space},\n",
    "                                                                value=[min_depth, max_depth],\n",
    "                                                                dots=False,\n",
    "                                                                #step=\n",
    "                                                                step=0.01,\n",
    "                                                                updatemode='drag',\n",
    "                                                                tooltip={\"placement\": \"bottom\", \"always_visible\": False}\n",
    "                                            )]),\n",
    "                                             #'width':'15%','marginLeft': 20, 'marginRight': 20,'marginTop':30,\n",
    "                                            html.Div(\n",
    "                                                style={'display': 'block','vertical-align':'middle'},\n",
    "                                                children = [\n",
    "                                                html.Br(),\n",
    "                                                html.H3('Select earthquake magnitude interval ( in km)'),\n",
    "                                                html.Br(),\n",
    "                                                #slider to filter for magnitudes\n",
    "                                                dcc.RangeSlider(min = min_magnitude, max = max_magnitude,\n",
    "                                                                id='magnitude-slider',\n",
    "                                                                marks={i: '{:.2f}'.format(i) for i in magnitude_space},\n",
    "                                                                value=[min_magnitude, max_magnitude],\n",
    "                                                                dots=False,\n",
    "                                                                step=0.01,\n",
    "                                                                updatemode='drag',\n",
    "                                                                tooltip={\"placement\": \"bottom\", \"always_visible\": False}\n",
    "                                                                ),\n",
    "                                                ]),\n",
    "                                             html.Div(\n",
    "                                                 style={'display': 'block','vertical-align':'middle'},\n",
    "                                                 children = [\n",
    "                                                             html.Button('Apply Filter', id='filter-apply-btn', n_clicks=0),\n",
    "                                                             html.Button('Reset Filter', id='filter-reset-btn', n_clicks=0)\n",
    "                                                             ]\n",
    "                                             )\n",
    "                                         ]),\n",
    "                                #Map\n",
    "                                html.Div(\n",
    "                                        style={'width':'75%', 'marginRight': 5,'display':'inline-block',\"border\":\"2px black solid\"},\n",
    "                                        #children = [dcc.Graph(figure=fig, id='map-layout')])]\n",
    "                                        #children = [html.Img(src ='data:image/png;base64,{}'.format(encoded_image.decode()))])]\n",
    "                                        #Todo: consider using bigger outzoom in the beginning, in order to have quicker loading\n",
    "                                        children = [dl.Map([dl.TileLayer()\n",
    "                                        ,dl.GeoJSON(data = data_points_geojson, cluster=True , zoomToBoundsOnClick=True,\n",
    "                                            superClusterOptions={\"radius\": 100},id ='earthquake_events_geojson')\n",
    "                                        ], style={'width': '1000px', 'height': '500px'})])]\n",
    "                                        #, style={'width': '1000px', 'height': '500px'})])]\n",
    "                                        #children = [ dash_table.DataTable(data = df_test.head(5).to_dict('records'),columns=[{\"name\": i, \"id\": i} for i in df_test.columns], id='tbl')])]\n",
    "                                ),\n",
    "                dbc.Row(html.Div([\n",
    "                    #Audio player\n",
    "                    html.Div(style={'width':'40%','marginLeft': 5,'marginTop': 20, 'marginRight': 20,'display':'inline-block',\"border\":\"2px black solid\",'vertical-align': 'top'},\n",
    "                             #children = [html.Audio(src='/assets/test_raw_waveform_normalized.wav', controls=True)]),\n",
    "                             #children = [html.Audio(html.Source(src=f\"https://file-examples-com.github.io/uploads/2017/11/file_example_WAV_1MG.wav\",\n",
    "                           #type=\"audio/wav\"), controls=True)]),\n",
    "                           children = [\n",
    "                                     #html.Div(id = 'audio_player_div', style={'display':'inline-block'}, children =[]),\n",
    "                                     html.Audio(src = None, controls=True, id = 'audio_player_main'),\n",
    "                                     #html.Source(src=f\"https://file-examples-com.github.io/uploads/2017/11/file_example_WAV_1MG.wav\",\n",
    "                                        #type=\"audio/wav\")\n",
    "                           \n",
    "                                      dash_table.DataTable(id = 'event_info_table',style_header={'display':'none'}\n",
    "                                      ,style_cell={\"whiteSpace\": \"pre-line\"}\n",
    "                                      \n",
    "                                      ,data = create_event_infos('HPC.NC_20130403221010_EV')\n",
    "                                      ,style_cell_conditional=[\n",
    "                                        {'if': {'column_id': 'index'},\n",
    "                                        'width': '20%'},\n",
    "                                        {'if': {'column_id': '0'},\n",
    "                                        'width': '80%'},\n",
    "                                    ]\n",
    "                                      ,columns=[{\"name\": i, \"id\": i} for i in ['index','0']])]),\n",
    "                           #dash_table.DataTable(data = create_event_infos('HPC.NC_20130403221010_EV'),columns=[{\"name\": i, \"id\": i} for i in info_colnames], id='event_info_tbl')]),\n",
    "#                           ]),\n",
    "                                    #,dash_table.DataTable(data = create_event_infos('HPC.NC_20130403221010_EV'),columns=[{\"name\": i, \"id\": i} for i in info_colnames], id='event_info_tbl')]),\n",
    "\n",
    "                    #Spectrogram\n",
    "                    html.Div(style={'width':'50%', 'marginRight': 10 ,'marginTop': 20, 'display':'inline-block',\"border\":\"2px black solid\"},\n",
    "                             #children = [html.Img(src='samples_for_wireframe/img.png')])]))])\n",
    "                             children = [\n",
    "                                         html.Div(style={ 'display': 'block','vertical-align':'middle'},id = 'seismogram-div',\n",
    "                                          children = [html.Img(id ='seismogram_img', src = base_seismogram)]),\n",
    "                                         #html.Div(style={ 'display': 'block','vertical-align':'middle'},id = 'filtered_seismogram-div', children = [html.Img(src = fig_to_uri(filtered_seismogram.plot()))]),\n",
    "                                         html.Div(style={ 'display': 'block','vertical-align':'middle'},id = 'spectrogram-div',\n",
    "                                          children = [html.Img( id ='spectrogram_img',src = spectrogram_plot)])\n",
    "                                         #html.Div(style={ 'display': 'block','vertical-align':'middle'},id = 'spectrogram-div', children = [html.Img(src = fig_to_uri(filtered_spectrogram))])                                                                                                                        \n",
    "                                        ])]))\n",
    "                                        \n",
    "                #,dbc.Row(html.Div(children = [html.Div(style={ 'display': 'block','vertical-align':'middle'},\n",
    "                #                              children = [dash_table.DataTable(style_header={'display':'none'},data = create_event_infos('HPC.NC_20130403221010_EV'),columns=[{\"name\": i, \"id\": i} for i in ['index','0']])])]))                                    \n",
    "                                              #children = [dash_table.DataTable(data = create_event_infos('HPC.NC_20130403221010_EV'),columns=[{\"name\": i, \"id\": i} for i in ['index','0']])])]))                                    \n",
    "                                              #children = [dash_table.DataTable(data = df_test.head(1).to_dict('records'),columns=[{\"name\": i, \"id\": i} for i in df_test.columns])])]))                                    \n",
    "                    ])\n",
    "\n",
    "@app.callback(\n",
    "    #Output(component_id='tbl', component_property='data'), #Output will be the table (later map)\n",
    "    Output(component_id='depth-slider', component_property= 'value'),\n",
    "    Output(component_id='magnitude-slider', component_property= 'value'),\n",
    "    Output(component_id='date-filter', component_property= 'start_date'),\n",
    "    Output(component_id='date-filter', component_property= 'end_date'),\n",
    "    Input(component_id='filter-apply-btn', component_property='n_clicks'), #Input button triggers the callback\n",
    "    Input(component_id='filter-reset-btn', component_property='n_clicks'), #Input button triggers the callback\n",
    "    State(component_id='depth-slider', component_property= 'value'),\n",
    "    State(component_id='magnitude-slider', component_property= 'value'),\n",
    "    State(component_id='date-filter', component_property= 'start_date'),\n",
    "    State(component_id='date-filter', component_property= 'end_date')\n",
    "\n",
    ")\n",
    "def apply_filter(apply_click,reset_click, depth_value, magnitude_value,start_date,end_date):\n",
    "    ctx = dash.callback_context\n",
    "    clicked_element = ctx.triggered[0]['prop_id'].split('.')[0]\n",
    "    if  clicked_element == 'filter-apply-btn':\n",
    "        filter_records = df_test['time'].between(pd.to_datetime(start_date),pd.to_datetime(end_date)) & df_test['source_magnitude'].between(magnitude_value[0],magnitude_value[1])\\\n",
    "                         & df_test['source_depth_km'].between(depth_value[0],depth_value[1])\n",
    "        df_filtered = df_test[filter_records]\n",
    "        return [depth_value,magnitude_value,start_date,end_date]\n",
    "        #return [df_filtered.head(5).to_dict('records'),depth_value,magnitude_value,start_date,end_date]\n",
    "\n",
    "    elif clicked_element == 'filter-reset-btn':\n",
    "        return [[min_depth,max_depth],[min_magnitude,max_magnitude],min_date,max_date]\n",
    "       # return [df_test.head(5).to_dict('records'),[min_depth,max_depth],[min_magnitude,max_magnitude],min_date,max_date]\n",
    "\n",
    "    else:\n",
    "        return dash.no_update\n",
    "\n",
    "\n",
    "@app.callback(Output(\"event_info_table\", \"data\"),\n",
    "Output('seismogram_img', 'src'),\n",
    "Output('spectrogram_img', 'src'), \n",
    "Output('audio_player_main', 'src'),\n",
    "Output('audio_player_main', 'style'),\n",
    "Input(\"earthquake_events_geojson\", \"click_feature\"),\n",
    "State('seismogram_img', 'src'),\n",
    "State('spectrogram_img', 'src'),\n",
    "State('audio_player_main', 'style')\n",
    ")\n",
    "\n",
    "def select_event(clicked_event, current_seismogram_image, current_spectrogram_image, audi_div_element):\n",
    "    if clicked_event is not None and clicked_event['properties']['cluster'] is False:      \n",
    "        #Find the corresponding record from metadata\n",
    "        selected_trace_name = clicked_event['properties']['trace_name']\n",
    "        table_data = create_event_infos(selected_trace_name)\n",
    "        selected_event = df_test.loc[selected_trace_name]\n",
    "\n",
    "        \n",
    "        provider_of_waveform = stations_df[(stations_df['network_name'] == selected_event['network_code']) &  (stations_df['station_name'] == selected_event['receiver_code'])]\n",
    "        try:\n",
    "            client = Client(provider_of_waveform['provider'].tolist()[0])\n",
    "\n",
    "            wave = extract_waveform(client, selected_event)\n",
    "\n",
    "            spectrogram_plot = spectrogram_to_uri(wave)\n",
    "            \n",
    "            #wave.filter(\"highpass\", freq=0.5).spectrogram(log = True)\n",
    "\n",
    "            #seismic_plot = fig_to_uri(base_seismogram.plot())\n",
    "            seismic_plot = fig_to_uri(wave.plot())\n",
    "\n",
    "            print('seismic sound processing..')\n",
    "            #create_seismic_sound_to_dash(wave)\n",
    "            #create_seismic_sound_to_dash_bytes(wave)\n",
    "            print('FINISHED')\n",
    "            audio_src = html.Source(src=create_seismic_sound_to_dash_bytes(wave),type='audio/wav')\n",
    "            audio_src = create_seismic_sound_to_dash_bytes(wave)\n",
    "            #audio_player_div_player = html.Audio(children = audio_src, controls=True, id ='seismic_audio_player')\n",
    "            audio_player_style = {}\n",
    "\n",
    "            #audio_src = html.Source(src=f'/assets/extracted_seismic_sound.wav',type='audio/wav')\n",
    "            \n",
    "\n",
    "        except:\n",
    "            return dash.no_update\n",
    "            #src = \n",
    "                                         #html.Div(style={ 'display': 'block','vertical-align':'middle'},id = 'filtered_seismogram-div', children = [html.Img(src = fig_to_uri(filtered_seismogram.plot()))]),\n",
    "        #spectrogram_plot =  spectrogram_to_uri(st[2])\n",
    "        \n",
    "\n",
    "        return [table_data,seismic_plot,spectrogram_plot,audio_src,audio_player_style]\n",
    "\n",
    "    else:\n",
    "        return dash.no_update\n",
    "\n",
    "        #Load the corresponding informations\n",
    "\n",
    "        \n",
    "         \n",
    "        #some_message = str()\n",
    "        #for k,v in feature['properties'].items():\n",
    "        #    some_message += f'Key: {str(k)}'\n",
    "        #    some_message += '  '\n",
    "        #    some_message += f'Value: {str(v)}'\n",
    "\n",
    "        #return f'{some_message}'\n",
    "        #return f'{str(feature)}'\n",
    "        #return f\"You clicked {feature['properties']['trace_name']}\"\n",
    "        #return f\"{df_test.loc[feature['properties']['trace_name']]}\"\n",
    "\n",
    "'''\n",
    "selection of earthquake events on maps\n",
    "First, selection in the table will be used as test for composition,\n",
    "then refactor for map event selection\n",
    "'''\n",
    "\n",
    "#app.run_server(debug=True, use_reloader=False,dev_tools_hot_reload=False)  # Turn off reloader if inside Jupyter\n",
    "app.run_server(debug=True, use_reloader=False)\n"
   ]
  },
  {
   "cell_type": "code",
   "execution_count": null,
   "metadata": {},
   "outputs": [],
   "source": [
    "def create_event_infos(x):\n",
    "    #'time','source_depth_km','source_magnitude','trace_name','source_latitude','source_longitude','trace_category'\n",
    "    #selected_record = df_test.loc[x['trace_name']]\n",
    "    selected_record = df_test.loc[x]\n",
    "    latitude = str(selected_record['source_latitude'])\n",
    "    longitude = str(selected_record['source_longitude'])\n",
    "    address_details = ['road','county','state', 'country']\n",
    "    try:\n",
    "        location = geolocator.reverse(latitude + \",\" + longitude).raw\n",
    "        location_string = str()\n",
    "        for a in address_details:\n",
    "            try:\n",
    "                location_string += location['address'][a]\n",
    "                location_string += ', '\n",
    "\n",
    "            except KeyError:\n",
    "                pass\n",
    "\n",
    "    except AttributeError:\n",
    "        location_string = \"N/A\"\n",
    "\n",
    "\n",
    "    #print(location)\n",
    "    info_dict = dict()\n",
    "    info_dict['trace_name'] = x\n",
    "    info_dict['location'] = location_string\n",
    "    info_dict['latitude'] = latitude\n",
    "    info_dict['longitude'] = longitude\n",
    "    info_dict['event_recorded_at'] = str(selected_record['time'])\n",
    "    info_dict['earthquake_depth'] = f'{selected_record[\"source_depth_km\"]} km'\n",
    "    info_dict['earthquake_magnitude'] = f'{selected_record[\"source_magnitude\"]} km'\n",
    "\n",
    "    return pd.DataFrame.from_dict(info_dict, orient='index').reset_index().to_dict('records')"
   ]
  },
  {
   "cell_type": "code",
   "execution_count": null,
   "metadata": {},
   "outputs": [
    {
     "data": {
      "text/plain": [
       "[{'index': 'trace_name', 0: 'HPC.NC_20130403221010_EV'},\n",
       " {'index': 'location',\n",
       "  0: 'Rock House Ridge Trail<br>Santa Clara County<br>California<br>United States<br>'},\n",
       " {'index': 'latitude', 0: '37.19483'},\n",
       " {'index': 'longitude', 0: '-121.478'},\n",
       " {'index': 'event_recorded_at', 0: '2013-04-03 22:10:11.730000'},\n",
       " {'index': 'earthquake_depth', 0: '4.72 km'},\n",
       " {'index': 'earthquake_magnitude', 0: '1.9 km'}]"
      ]
     },
     "execution_count": 76,
     "metadata": {},
     "output_type": "execute_result"
    }
   ],
   "source": [
    "create_event_infos('HPC.NC_20130403221010_EV')"
   ]
  },
  {
   "cell_type": "code",
   "execution_count": null,
   "metadata": {},
   "outputs": [
    {
     "data": {
      "text/plain": [
       "[{'index': 'trace_name', 0: 'HPC.NC_20130403221010_EV'},\n",
       " {'index': 'location',\n",
       "  0: 'Rock House Ridge Trail, Santa Clara County, California, United States'},\n",
       " {'index': 'latitude', 0: '37.19483'},\n",
       " {'index': 'longitude', 0: '-121.478'},\n",
       " {'index': 'event_recorded_at', 0: '2013-04-03 22:10:11.730000'},\n",
       " {'index': 'earthquake_depth', 0: '4.72 km'},\n",
       " {'index': 'earthquake_magnitude', 0: '1.9 km'}]"
      ]
     },
     "execution_count": 143,
     "metadata": {},
     "output_type": "execute_result"
    }
   ],
   "source": [
    "create_event_infos('HPC.NC_20130403221010_EV')"
   ]
  },
  {
   "cell_type": "markdown",
   "metadata": {
    "pycharm": {
     "name": "#%% md\n"
    }
   },
   "source": [
    "If we also want to load map, that need to be used"
   ]
  },
  {
   "cell_type": "code",
   "execution_count": null,
   "metadata": {},
   "outputs": [
    {
     "name": "stdout",
     "output_type": "stream",
     "text": [
      "Read\n",
      "Normalize\n",
      "Resample\n"
     ]
    },
    {
     "name": "stderr",
     "output_type": "stream",
     "text": [
      "<ipython-input-183-031103ebb872>:12: FutureWarning:\n",
      "\n",
      "Pass orig_sr=200.0, target_sr=8000 as keyword args. From version 0.10 passing these as positional arguments will result in an error\n",
      "\n"
     ]
    },
    {
     "name": "stdout",
     "output_type": "stream",
     "text": [
      "Export\n"
     ]
    },
    {
     "data": {
      "text/plain": [
       "array([-0.04705812, -0.04779273, -0.04847994, ...,  0.04331925,\n",
       "        0.03305539,  0.02323088])"
      ]
     },
     "execution_count": 184,
     "metadata": {},
     "output_type": "execute_result"
    }
   ],
   "source": [
    "create_seismic_sound_to_dash(wave)"
   ]
  },
  {
   "cell_type": "code",
   "execution_count": null,
   "metadata": {},
   "outputs": [
    {
     "data": {
      "text/plain": [
       "6 Trace(s) in Stream:\n",
       "GS.KAN08.01.HHE | 2015-04-08T00:54:00.800000Z - 2015-04-08T00:55:00.800000Z | 200.0 Hz, 12001 samples\n",
       "GS.KAN08.01.HHN | 2015-04-08T00:54:00.800000Z - 2015-04-08T00:55:00.800000Z | 200.0 Hz, 12001 samples\n",
       "GS.KAN08.01.HHZ | 2015-04-08T00:54:00.800000Z - 2015-04-08T00:55:00.800000Z | 200.0 Hz, 12001 samples\n",
       "GS.KAN08.01.HNE | 2015-04-08T00:54:00.800000Z - 2015-04-08T00:55:00.800000Z | 200.0 Hz, 12001 samples\n",
       "GS.KAN08.01.HNN | 2015-04-08T00:54:00.800000Z - 2015-04-08T00:55:00.800000Z | 200.0 Hz, 12001 samples\n",
       "GS.KAN08.01.HNZ | 2015-04-08T00:54:00.800000Z - 2015-04-08T00:55:00.800000Z | 200.0 Hz, 12001 samples"
      ]
     },
     "execution_count": 177,
     "metadata": {},
     "output_type": "execute_result"
    }
   ],
   "source": [
    "wave"
   ]
  },
  {
   "cell_type": "code",
   "execution_count": null,
   "metadata": {},
   "outputs": [
    {
     "name": "stdout",
     "output_type": "stream",
     "text": [
      "GS\n",
      "KAN08\n",
      "2015-04-08T00:54:00.800000Z\n"
     ]
    }
   ],
   "source": [
    "wave = extract_waveform(client, selected_event)"
   ]
  },
  {
   "cell_type": "code",
   "execution_count": null,
   "metadata": {},
   "outputs": [
    {
     "data": {
      "text/plain": [
       "GS.KAN08.01.HHE | 2015-04-08T00:54:00.800000Z - 2015-04-08T00:55:00.800000Z | 200.0 Hz, 12001 samples"
      ]
     },
     "execution_count": 180,
     "metadata": {},
     "output_type": "execute_result"
    }
   ],
   "source": [
    "wave"
   ]
  },
  {
   "cell_type": "code",
   "execution_count": null,
   "metadata": {},
   "outputs": [],
   "source": []
  }
 ],
 "metadata": {
  "kernelspec": {
   "display_name": "Python 3",
   "language": "python",
   "name": "python3"
  },
  "language_info": {
   "codemirror_mode": {
    "name": "ipython",
    "version": 3
   },
   "file_extension": ".py",
   "mimetype": "text/x-python",
   "name": "python",
   "nbconvert_exporter": "python",
   "pygments_lexer": "ipython3",
   "version": "3.8.8"
  }
 },
 "nbformat": 4,
 "nbformat_minor": 1
}
