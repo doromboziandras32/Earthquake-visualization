{
 "cells": [
  {
   "cell_type": "code",
   "execution_count": 36,
   "metadata": {
    "collapsed": true
   },
   "outputs": [
    {
     "name": "stdout",
     "output_type": "stream",
     "text": [
      "Collecting dash-leaflet\n",
      "  Using cached dash_leaflet-0.1.23-py3-none-any.whl (1.9 MB)\n",
      "Collecting geobuf\n",
      "  Using cached geobuf-1.1.1-py3-none-any.whl (13 kB)\n",
      "Requirement already satisfied: six in c:\\programdata\\anaconda3\\lib\\site-packages (from geobuf->dash-leaflet) (1.15.0)\n",
      "Collecting protobuf\n",
      "  Using cached protobuf-3.19.4-cp38-cp38-win_amd64.whl (895 kB)\n",
      "Requirement already satisfied: click in c:\\programdata\\anaconda3\\lib\\site-packages (from geobuf->dash-leaflet) (7.1.2)\n",
      "Installing collected packages: protobuf, geobuf, dash-leaflet\n",
      "Successfully installed dash-leaflet-0.1.23 geobuf-1.1.1 protobuf-3.19.4\n"
     ]
    }
   ],
   "source": [
    "#Some test to exxtract stanford dataset\n",
    "#!pip install dash-leaflet\n",
    "#!pip install obspy"
   ]
  },
  {
   "cell_type": "code",
   "execution_count": 37,
   "metadata": {
    "pycharm": {
     "name": "#%%\n"
    }
   },
   "outputs": [
    {
     "name": "stderr",
     "output_type": "stream",
     "text": [
      "C:\\ProgramData\\Anaconda3\\lib\\site-packages\\IPython\\core\\interactiveshell.py:3165: DtypeWarning: Columns (21) have mixed types.Specify dtype option on import or set low_memory=False.\n",
      "  has_raised = await self.run_ast_nodes(code_ast.body, cell_name,\n"
     ]
    }
   ],
   "source": [
    "import pandas as pd\n",
    "import numpy as np\n",
    "\n",
    "df_test = pd.read_csv(\"csvs/chunk5.csv\")\n",
    "\n",
    "df_test.set_index('trace_name',inplace= True)"
   ]
  },
  {
   "cell_type": "code",
   "execution_count": 38,
   "metadata": {},
   "outputs": [],
   "source": [
    "min(df_test['source_distance_km'])\n",
    "\n",
    "df_test_closest = df_test[df_test['source_distance_km'] == min(df_test['source_distance_km'])]"
   ]
  },
  {
   "cell_type": "code",
   "execution_count": 39,
   "metadata": {},
   "outputs": [
    {
     "data": {
      "text/html": [
       "<div>\n",
       "<style scoped>\n",
       "    .dataframe tbody tr th:only-of-type {\n",
       "        vertical-align: middle;\n",
       "    }\n",
       "\n",
       "    .dataframe tbody tr th {\n",
       "        vertical-align: top;\n",
       "    }\n",
       "\n",
       "    .dataframe thead th {\n",
       "        text-align: right;\n",
       "    }\n",
       "</style>\n",
       "<table border=\"1\" class=\"dataframe\">\n",
       "  <thead>\n",
       "    <tr style=\"text-align: right;\">\n",
       "      <th></th>\n",
       "      <th>network_code</th>\n",
       "      <th>receiver_code</th>\n",
       "      <th>receiver_type</th>\n",
       "      <th>receiver_latitude</th>\n",
       "      <th>receiver_longitude</th>\n",
       "      <th>receiver_elevation_m</th>\n",
       "      <th>p_arrival_sample</th>\n",
       "      <th>p_status</th>\n",
       "      <th>p_weight</th>\n",
       "      <th>p_travel_sec</th>\n",
       "      <th>...</th>\n",
       "      <th>source_magnitude_type</th>\n",
       "      <th>source_magnitude_author</th>\n",
       "      <th>source_mechanism_strike_dip_rake</th>\n",
       "      <th>source_distance_deg</th>\n",
       "      <th>source_distance_km</th>\n",
       "      <th>back_azimuth_deg</th>\n",
       "      <th>snr_db</th>\n",
       "      <th>coda_end_sample</th>\n",
       "      <th>trace_start_time</th>\n",
       "      <th>trace_category</th>\n",
       "    </tr>\n",
       "    <tr>\n",
       "      <th>trace_name</th>\n",
       "      <th></th>\n",
       "      <th></th>\n",
       "      <th></th>\n",
       "      <th></th>\n",
       "      <th></th>\n",
       "      <th></th>\n",
       "      <th></th>\n",
       "      <th></th>\n",
       "      <th></th>\n",
       "      <th></th>\n",
       "      <th></th>\n",
       "      <th></th>\n",
       "      <th></th>\n",
       "      <th></th>\n",
       "      <th></th>\n",
       "      <th></th>\n",
       "      <th></th>\n",
       "      <th></th>\n",
       "      <th></th>\n",
       "      <th></th>\n",
       "      <th></th>\n",
       "    </tr>\n",
       "  </thead>\n",
       "  <tbody>\n",
       "    <tr>\n",
       "      <th>KAN08.GS_20150408005359_EV</th>\n",
       "      <td>GS</td>\n",
       "      <td>KAN08</td>\n",
       "      <td>HH</td>\n",
       "      <td>37.22672</td>\n",
       "      <td>-97.970947</td>\n",
       "      <td>375.0</td>\n",
       "      <td>400.0</td>\n",
       "      <td>manual</td>\n",
       "      <td>0.63</td>\n",
       "      <td>0.78</td>\n",
       "      <td>...</td>\n",
       "      <td>ml</td>\n",
       "      <td>ISMP</td>\n",
       "      <td>None</td>\n",
       "      <td>0.0004</td>\n",
       "      <td>0.04</td>\n",
       "      <td>166.8</td>\n",
       "      <td>[54.40000153 51.5        48.40000153]</td>\n",
       "      <td>[[1052.]]</td>\n",
       "      <td>2015-04-08 00:54:00.800000</td>\n",
       "      <td>earthquake_local</td>\n",
       "    </tr>\n",
       "  </tbody>\n",
       "</table>\n",
       "<p>1 rows × 34 columns</p>\n",
       "</div>"
      ],
      "text/plain": [
       "                           network_code receiver_code receiver_type  \\\n",
       "trace_name                                                            \n",
       "KAN08.GS_20150408005359_EV           GS         KAN08            HH   \n",
       "\n",
       "                            receiver_latitude  receiver_longitude  \\\n",
       "trace_name                                                          \n",
       "KAN08.GS_20150408005359_EV           37.22672          -97.970947   \n",
       "\n",
       "                            receiver_elevation_m  p_arrival_sample p_status  \\\n",
       "trace_name                                                                    \n",
       "KAN08.GS_20150408005359_EV                 375.0             400.0   manual   \n",
       "\n",
       "                            p_weight  p_travel_sec  ...  \\\n",
       "trace_name                                          ...   \n",
       "KAN08.GS_20150408005359_EV      0.63          0.78  ...   \n",
       "\n",
       "                            source_magnitude_type source_magnitude_author  \\\n",
       "trace_name                                                                  \n",
       "KAN08.GS_20150408005359_EV                     ml                    ISMP   \n",
       "\n",
       "                            source_mechanism_strike_dip_rake  \\\n",
       "trace_name                                                     \n",
       "KAN08.GS_20150408005359_EV                              None   \n",
       "\n",
       "                           source_distance_deg source_distance_km  \\\n",
       "trace_name                                                          \n",
       "KAN08.GS_20150408005359_EV              0.0004               0.04   \n",
       "\n",
       "                           back_azimuth_deg  \\\n",
       "trace_name                                    \n",
       "KAN08.GS_20150408005359_EV            166.8   \n",
       "\n",
       "                                                           snr_db  \\\n",
       "trace_name                                                          \n",
       "KAN08.GS_20150408005359_EV  [54.40000153 51.5        48.40000153]   \n",
       "\n",
       "                            coda_end_sample            trace_start_time  \\\n",
       "trace_name                                                                \n",
       "KAN08.GS_20150408005359_EV        [[1052.]]  2015-04-08 00:54:00.800000   \n",
       "\n",
       "                              trace_category  \n",
       "trace_name                                    \n",
       "KAN08.GS_20150408005359_EV  earthquake_local  \n",
       "\n",
       "[1 rows x 34 columns]"
      ]
     },
     "execution_count": 39,
     "metadata": {},
     "output_type": "execute_result"
    }
   ],
   "source": [
    "df_test_closest"
   ]
  },
  {
   "cell_type": "markdown",
   "metadata": {
    "pycharm": {
     "name": "#%%\n"
    }
   },
   "source": [
    "import h5py\n",
    "hf = h5py.File('chunk5.hdf5', 'r', libver='earliest')"
   ]
  },
  {
   "cell_type": "code",
   "execution_count": 40,
   "metadata": {
    "pycharm": {
     "name": "#%%\n"
    }
   },
   "outputs": [],
   "source": [
    "#eread = pd.read_hdf('chunk5.hdf5')"
   ]
  },
  {
   "cell_type": "markdown",
   "metadata": {
    "pycharm": {
     "name": "#%%\n"
    }
   },
   "source": [
    "#hf['Folder'].attrs.keys()\n",
    "\n",
    "#ee = hf.get('data/HPC.NC_20130403221010_EV')\n",
    "ee = hf.get('data/KAN08.GS_20150408005359_EV')\n"
   ]
  },
  {
   "cell_type": "markdown",
   "metadata": {},
   "source": [
    "## Amplitude normalization init test"
   ]
  },
  {
   "cell_type": "code",
   "execution_count": 41,
   "metadata": {},
   "outputs": [],
   "source": [
    "import librosa\n",
    "import soundfile as sf\n",
    "#Extract the proper seismic instrument\n",
    "#index: 0: north-south, 1: east-west, 2:vertical\n",
    "def create_seismic_sound(x, index = 0):\n",
    "    x1 = x[:,index]\n",
    "    norm_x = x1 = x1/x1.std()\n",
    "    norm_x_resampled = norm_x.resample(8000)\n",
    "    #norm_x_resampled = librosa.resample(norm_x, 100, 8000)\n",
    "    sf.write('assets/extracted_seismic_sound.wav',norm_x_resampled,8000)\n",
    "\n",
    "    return norm_x_resampled"
   ]
  },
  {
   "cell_type": "markdown",
   "metadata": {},
   "source": [
    "create_seismic_sound(ee,2)"
   ]
  },
  {
   "cell_type": "markdown",
   "metadata": {},
   "source": [
    "x1 = ee[:,2]\n",
    "norm_test = x1 = x1/x1.std()"
   ]
  },
  {
   "cell_type": "markdown",
   "metadata": {},
   "source": [
    "norm_test = np.array(norm_test * (1<<15), dtype=np.int16)\n",
    "audio_segment = pydub.AudioSegment(\n",
    "    norm_test.tobytes(), \n",
    "    frame_rate=100,\n",
    "    sample_width=norm_test.dtype.itemsize, \n",
    "    channels=1\n",
    ")\n",
    "\n",
    "audio_segment = audio_segment.set_frame_rate(8000)"
   ]
  },
  {
   "cell_type": "markdown",
   "metadata": {},
   "source": [
    "audio_segment.export('pydub_seismic_test.wav', format='wav')"
   ]
  },
  {
   "cell_type": "markdown",
   "metadata": {},
   "source": [
    "import soundfile as sf\n",
    "\n",
    "sf.write('test_raw_waveform_normalized_upsampled.wav', seismic_resample, 8000)\n",
    "#sf.write('test_raw_waveform_normalized.wav', norm_test, 100)\n",
    "#sf.write('test_raw_waveform.wav', ee[:,2], 100)"
   ]
  },
  {
   "cell_type": "markdown",
   "metadata": {
    "collapsed": false,
    "pycharm": {
     "name": "#%% md\n"
    }
   },
   "source": [
    "Build up velocity\n",
    "https://docs.obspy.org/contents.html"
   ]
  },
  {
   "cell_type": "code",
   "execution_count": 42,
   "metadata": {
    "collapsed": false,
    "pycharm": {
     "name": "#%%\n"
    }
   },
   "outputs": [],
   "source": [
    "import obspy\n",
    "#import h5py\n",
    "from obspy import UTCDateTime\n",
    "import numpy as np\n",
    "from obspy.clients.fdsn.client import Client\n",
    "import matplotlib.pyplot as plt\n",
    "\n",
    "def make_stream(dataset):\n",
    "    '''\n",
    "    input: hdf5 dataset\n",
    "    output: obspy stream\n",
    "\n",
    "    '''\n",
    "    data = np.array(dataset)\n",
    "\n",
    "    tr_E = obspy.Trace(data=data[:, 0])\n",
    "    tr_E.stats.starttime = UTCDateTime(dataset.attrs['trace_start_time'])\n",
    "    tr_E.stats.delta = 0.01\n",
    "    tr_E.stats.channel = dataset.attrs['receiver_type']+'E'\n",
    "    tr_E.stats.station = dataset.attrs['receiver_code']\n",
    "    tr_E.stats.network = dataset.attrs['network_code']\n",
    "\n",
    "    tr_N = obspy.Trace(data=data[:, 1])\n",
    "    tr_N.stats.starttime = UTCDateTime(dataset.attrs['trace_start_time'])\n",
    "    tr_N.stats.delta = 0.01\n",
    "    tr_N.stats.channel = dataset.attrs['receiver_type']+'N'\n",
    "    tr_N.stats.station = dataset.attrs['receiver_code']\n",
    "    tr_N.stats.network = dataset.attrs['network_code']\n",
    "\n",
    "    tr_Z = obspy.Trace(data=data[:, 2])\n",
    "    tr_Z.stats.starttime = UTCDateTime(dataset.attrs['trace_start_time'])\n",
    "    tr_Z.stats.delta = 0.01\n",
    "    tr_Z.stats.channel = dataset.attrs['receiver_type']+'Z'\n",
    "    tr_Z.stats.station = dataset.attrs['receiver_code']\n",
    "    tr_Z.stats.network = dataset.attrs['network_code']\n",
    "\n",
    "    stream = obspy.Stream([tr_E, tr_N, tr_Z])\n",
    "\n",
    "    return stream"
   ]
  },
  {
   "cell_type": "markdown",
   "metadata": {},
   "source": [
    "\n",
    "client = Client(\"IRIS\")\n",
    "inventory = client.get_stations(network=df_test_closest['network_code'][0],\n",
    "                                station=df_test_closest['receiver_code'][0],\n",
    "                                starttime=UTCDateTime(df_test_closest['trace_start_time'][0]),\n",
    "                                endtime=UTCDateTime(df_test_closest['trace_start_time'][0]) + 60,\n",
    "                                loc=\"*\", \n",
    "                                channel=\"*\",\n",
    "                                level=\"response\")  \n"
   ]
  },
  {
   "cell_type": "code",
   "execution_count": 43,
   "metadata": {},
   "outputs": [
    {
     "data": {
      "text/plain": [
       "'GS'"
      ]
     },
     "execution_count": 43,
     "metadata": {},
     "output_type": "execute_result"
    }
   ],
   "source": [
    "df_test_closest['network_code'][0]"
   ]
  },
  {
   "cell_type": "code",
   "execution_count": 44,
   "metadata": {},
   "outputs": [
    {
     "data": {
      "text/plain": [
       "'KAN08'"
      ]
     },
     "execution_count": 44,
     "metadata": {},
     "output_type": "execute_result"
    }
   ],
   "source": [
    "df_test_closest['receiver_code'][0]"
   ]
  },
  {
   "cell_type": "code",
   "execution_count": 45,
   "metadata": {},
   "outputs": [],
   "source": [
    "\n",
    "client = Client(\"IRIS\")\n",
    "wave = client.get_waveforms(network=df_test_closest['network_code'][0],\n",
    "                            station=df_test_closest['receiver_code'][0],\n",
    "                            starttime=UTCDateTime(df_test_closest['trace_start_time'][0]),\n",
    "                                endtime=UTCDateTime(df_test_closest['trace_start_time'][0]) + 60,\n",
    "                                location = \"*\",\n",
    "                                channel = \"*\"\n",
    ")"
   ]
  },
  {
   "cell_type": "code",
   "execution_count": 46,
   "metadata": {},
   "outputs": [],
   "source": [
    "#wave[0].spectrogram()"
   ]
  },
  {
   "cell_type": "code",
   "execution_count": 47,
   "metadata": {},
   "outputs": [],
   "source": [
    "#http://eqseis.geosc.psu.edu/cammon/HTML/Classes/IntroQuakes/Notes/seismometers.html"
   ]
  },
  {
   "cell_type": "code",
   "execution_count": 48,
   "metadata": {},
   "outputs": [],
   "source": [
    "st =  wave\n",
    "#make_stream(ee)\n",
    "#st = st.remove_response(inventory=inventory, output='VEL', plot=False) \n",
    "\n",
    "# ploting the verical component\n",
    "#make_plot(st[2], title='Velocity', ylab='meters/second')"
   ]
  },
  {
   "cell_type": "code",
   "execution_count": 49,
   "metadata": {},
   "outputs": [
    {
     "data": {
      "image/png": "[encoded data removed]",
      "text/plain": [
       "<Figure size 432x288 with 1 Axes>"
      ]
     },
     "metadata": {
      "needs_background": "light"
     },
     "output_type": "display_data"
    }
   ],
   "source": [
    "st[2].spectrogram(log = True)"
   ]
  },
  {
   "cell_type": "markdown",
   "metadata": {},
   "source": [
    "Compression, amplitude normalization:\n",
    "https://librosa.org/doc/main/generated/librosa.effects.time_stretch.html\n",
    "https://superkogito.github.io/blog/rmsnormalization.html\n",
    "\n",
    "https://docs.obspy.org/packages/autogen/obspy.core.trace.Trace.remove_response.html"
   ]
  },
  {
   "cell_type": "code",
   "execution_count": 50,
   "metadata": {},
   "outputs": [],
   "source": [
    "#st.write('seismic_sound_test.wav',format = 'WAV',framerate = 100)"
   ]
  },
  {
   "cell_type": "markdown",
   "metadata": {},
   "source": [
    "https://docs.obspy.org/tutorial/code_snippets/filtering_seismograms.html"
   ]
  },
  {
   "cell_type": "code",
   "execution_count": 51,
   "metadata": {},
   "outputs": [],
   "source": [
    "base_seismogram  = st[2]"
   ]
  },
  {
   "cell_type": "code",
   "execution_count": 52,
   "metadata": {},
   "outputs": [],
   "source": [
    "filtered_seismogram = st[2].filter(\"highpass\", freq=0.5)\n"
   ]
  },
  {
   "cell_type": "code",
   "execution_count": 53,
   "metadata": {},
   "outputs": [
    {
     "data": {
      "text/plain": [
       "(12001,)"
      ]
     },
     "execution_count": 53,
     "metadata": {},
     "output_type": "execute_result"
    }
   ],
   "source": [
    "st[2].filter(\"highpass\", freq=0.5).data.shape\n",
    "#.spectrogram(log = True)"
   ]
  },
  {
   "cell_type": "markdown",
   "metadata": {},
   "source": [
    "from pydub import AudioSegment\n",
    "from pydub.playback import play\n",
    "\n",
    "song = AudioSegment.from_wav(\"seismic_sound_test002.wav\")\n",
    "play(song)\n"
   ]
  },
  {
   "cell_type": "code",
   "execution_count": 54,
   "metadata": {},
   "outputs": [
    {
     "name": "stderr",
     "output_type": "stream",
     "text": [
      "<ipython-input-54-8528c0c08f10>:4: MatplotlibDeprecationWarning: shading='flat' when X and Y have the same dimensions as C is deprecated since 3.3.  Either specify the corners of the quadrilaterals with X and Y, or pass shading='auto', 'nearest' or 'gouraud', or set rcParams['pcolor.shading'].  This will become an error two minor releases later.\n",
      "  plt.pcolormesh(t, f, np.log10(Sxx))\n"
     ]
    },
    {
     "data": {
      "image/png": "[encoded data removed]",
      "text/plain": [
       "<Figure size 432x288 with 1 Axes>"
      ]
     },
     "metadata": {
      "needs_background": "light"
     },
     "output_type": "display_data"
    }
   ],
   "source": [
    "from scipy import signal\n",
    "\n",
    "f, t, Sxx = signal.spectrogram(st[2].filter(\"highpass\", freq=0.5).data, 100)\n",
    "plt.pcolormesh(t, f, np.log10(Sxx))\n",
    "plt.ylabel('Frequency [Hz]')\n",
    "plt.xlabel('Time [sec]')\n",
    "\n",
    "filtered_spectrogram = plt\n",
    "#plt.savefig\n",
    "#plt.show()"
   ]
  },
  {
   "cell_type": "code",
   "execution_count": null,
   "metadata": {},
   "outputs": [],
   "source": []
  },
  {
   "cell_type": "code",
   "execution_count": 55,
   "metadata": {},
   "outputs": [
    {
     "name": "stderr",
     "output_type": "stream",
     "text": [
      "<ipython-input-55-704b77e9e683>:1: MatplotlibDeprecationWarning: shading='flat' when X and Y have the same dimensions as C is deprecated since 3.3.  Either specify the corners of the quadrilaterals with X and Y, or pass shading='auto', 'nearest' or 'gouraud', or set rcParams['pcolor.shading'].  This will become an error two minor releases later.\n",
      "  type(plt.pcolormesh(t, f, np.log10(Sxx)))\n"
     ]
    },
    {
     "data": {
      "text/plain": [
       "matplotlib.collections.QuadMesh"
      ]
     },
     "execution_count": 55,
     "metadata": {},
     "output_type": "execute_result"
    },
    {
     "data": {
      "image/png": "[encoded data removed]",
      "text/plain": [
       "<Figure size 432x288 with 1 Axes>"
      ]
     },
     "metadata": {
      "needs_background": "light"
     },
     "output_type": "display_data"
    }
   ],
   "source": [
    "type(plt.pcolormesh(t, f, np.log10(Sxx)))"
   ]
  },
  {
   "cell_type": "code",
   "execution_count": 56,
   "metadata": {},
   "outputs": [
    {
     "data": {
      "text/plain": [
       "(129, 53)"
      ]
     },
     "execution_count": 56,
     "metadata": {},
     "output_type": "execute_result"
    }
   ],
   "source": [
    "Sxx.shape"
   ]
  },
  {
   "cell_type": "code",
   "execution_count": 57,
   "metadata": {},
   "outputs": [
    {
     "data": {
      "image/png": "[encoded data removed]",
      "text/plain": [
       "<Figure size 432x288 with 1 Axes>"
      ]
     },
     "metadata": {
      "needs_background": "light"
     },
     "output_type": "display_data"
    }
   ],
   "source": [
    "seis_spectrogram = st[2].filter(\"highpass\", freq=0.5).spectrogram(log = True)"
   ]
  },
  {
   "cell_type": "markdown",
   "metadata": {},
   "source": []
  },
  {
   "cell_type": "code",
   "execution_count": 58,
   "metadata": {},
   "outputs": [],
   "source": [
    "from io import BytesIO\n",
    "import base64\n",
    "def fig_to_uri(in_fig, close_all=True, **save_args):\n",
    "    # type: (plt.Figure) -> str\n",
    "    \"\"\"\n",
    "    Save a figure as a URI\n",
    "    :param in_fig:\n",
    "    :return:\n",
    "    \"\"\"\n",
    "    out_img = BytesIO()\n",
    "    in_fig.savefig(out_img, format='png', **save_args)\n",
    "    if close_all:\n",
    "        in_fig.clf()\n",
    "        plt.close('all')\n",
    "    out_img.seek(0)  # rewind file\n",
    "    encoded = base64.b64encode(out_img.read()).decode(\"ascii\").replace(\"\\n\", \"\")\n",
    "    #return encoded\n",
    "    return \"data:image/png;base64,{}\".format(encoded)"
   ]
  },
  {
   "cell_type": "code",
   "execution_count": 59,
   "metadata": {},
   "outputs": [],
   "source": [
    "from io import BytesIO\n",
    "import base64\n",
    "from scipy import signal\n",
    "def spectrogram_to_uri(input_data, close_all=True, **save_args):    \n",
    "    f, t, Sxx = signal.spectrogram(input_data.filter(\"highpass\", freq=0.5).data, 100)\n",
    "    plt.pcolormesh(t, f, np.log10(Sxx))\n",
    "    plt.ylabel('Frequency [Hz]')\n",
    "    plt.xlabel('Time [sec]')\n",
    "\n",
    "\n",
    "    # type: (plt.Figure) -> str\n",
    "    \"\"\"\n",
    "    Save a figure as a URI\n",
    "    :param in_fig:\n",
    "    :return:\n",
    "    \"\"\"\n",
    "    out_img = BytesIO()\n",
    "    plt.savefig(out_img, format='png', **save_args)\n",
    "    if close_all:\n",
    "        plt.clf()\n",
    "        plt.close('all')\n",
    "    out_img.seek(0)  # rewind file\n",
    "    encoded = base64.b64encode(out_img.read()).decode(\"ascii\").replace(\"\\n\", \"\")\n",
    "    #return encoded\n",
    "    return \"data:image/png;base64,{}\".format(encoded)"
   ]
  },
  {
   "cell_type": "code",
   "execution_count": 60,
   "metadata": {
    "collapsed": false,
    "pycharm": {
     "name": "#%%\n"
    }
   },
   "outputs": [],
   "source": [
    "import matplotlib.pyplot as plt"
   ]
  },
  {
   "cell_type": "code",
   "execution_count": 61,
   "metadata": {},
   "outputs": [
    {
     "data": {
      "text/plain": [
       "<Figure size 432x288 with 0 Axes>"
      ]
     },
     "metadata": {},
     "output_type": "display_data"
    }
   ],
   "source": [
    "filtered_spectrogram.savefig('test_specgram.png')"
   ]
  },
  {
   "cell_type": "markdown",
   "metadata": {
    "pycharm": {
     "name": "#%%\n"
    }
   },
   "source": [
    "plt.plot(ee[:,2])"
   ]
  },
  {
   "cell_type": "markdown",
   "metadata": {
    "collapsed": false,
    "pycharm": {
     "name": "#%% md\n"
    }
   },
   "source": [
    "E,N,Z channels"
   ]
  },
  {
   "cell_type": "code",
   "execution_count": 62,
   "metadata": {
    "pycharm": {
     "name": "#%%\n"
    }
   },
   "outputs": [
    {
     "data": {
      "text/plain": [
       "[Text(0.5, 1.0, 'Mel-frequency spectrogram')]"
      ]
     },
     "execution_count": 62,
     "metadata": {},
     "output_type": "execute_result"
    },
    {
     "data": {
      "image/png": "[encoded data removed]",
      "text/plain": [
       "<Figure size 432x288 with 2 Axes>"
      ]
     },
     "metadata": {
      "needs_background": "light"
     },
     "output_type": "display_data"
    }
   ],
   "source": [
    "import librosa\n",
    "import librosa.display\n",
    "#TODO: convert to spectrogram\n",
    "fig, ax = plt.subplots()\n",
    "#S = librosa.feature.melspectrogram(y=ee[:,1], sr=100, n_mels=128,fmax=50)\n",
    "\n",
    "#S_dB = librosa.power_to_db(np.abs(S), ref=np.max)\n",
    "#S_dB = librosa.power_to_db(np.abs(librosa.stft(y=ee[:,0])), ref=np.max)\n",
    "S_dB = librosa.power_to_db(np.abs(Sxx), ref=np.max)\n",
    "img = librosa.display.specshow(S_dB, x_axis='time',\n",
    "                               y_axis='mel', sr=100,\n",
    "                               fmax=100, ax=ax)\n",
    "fig.colorbar(img, ax=ax, format='%+2.0f dB')\n",
    "ax.set(title='Mel-frequency spectrogram')"
   ]
  },
  {
   "cell_type": "code",
   "execution_count": 63,
   "metadata": {},
   "outputs": [],
   "source": [
    "filtered_spectrogram = fig"
   ]
  },
  {
   "cell_type": "code",
   "execution_count": 64,
   "metadata": {
    "pycharm": {
     "name": "#%%\n"
    }
   },
   "outputs": [],
   "source": [
    "df_test['time'] = pd.to_datetime(df_test['trace_start_time'], infer_datetime_format=True)\n",
    "df_test['source_depth_km'] = pd.to_numeric(df_test['source_depth_km'],errors='coerce')\n",
    "df_test['source_magnitude'] = pd.to_numeric(df_test['source_magnitude'],errors='coerce')\n",
    "#df_test['source_magnitude'].sort_values()\n",
    "#df_test.head(2)"
   ]
  },
  {
   "cell_type": "code",
   "execution_count": 65,
   "metadata": {
    "pycharm": {
     "name": "#%%\n"
    }
   },
   "outputs": [],
   "source": [
    "#df_test = df_test[['time','source_depth_km','source_magnitude','trace_name','source_latitude','source_longitude','trace_category']]\n",
    "df_test = df_test[['time','source_depth_km','source_magnitude','source_latitude','source_longitude','trace_category']]"
   ]
  },
  {
   "cell_type": "code",
   "execution_count": 66,
   "metadata": {},
   "outputs": [],
   "source": [
    "#from geopy.geocoders import Nominatim\n",
    "#geolocator = Nominatim(user_agent=\"geoapiExercises\")\n",
    "def create_event_infos(x):\n",
    "    #'time','source_depth_km','source_magnitude','trace_name','source_latitude','source_longitude','trace_category'\n",
    "    #selected_record = df_test.loc[x['trace_name']]\n",
    "    selected_record = df_test.loc[x]\n",
    "    latitude = str(selected_record['source_latitude'])\n",
    "    longitude = str(selected_record['source_longitude'])\n",
    "    location = geolocator.reverse(latitude + \",\" + longitude)\n",
    "\n",
    "    info_dict = dict()\n",
    "    info_dict['trace_name'] = x\n",
    "    info_dict['location'] = location\n",
    "    info_dict['latitude'] = latitude\n",
    "    info_dict['longitude'] = longitude\n",
    "    info_dict['event_recorded_at'] = selected_record['time']\n",
    "    info_dict['earthquake_depth'] = f'{selected_record[\"source_depth_km\"]} km'\n",
    "    info_dict['earthquake_magnitude'] = f'{selected_record[\"source_magnitude\"]} km'\n",
    "    \n",
    "    #return info_dict\n",
    "\n",
    "    #return pd.DataFrame.from_dict(info_dict).to_dict('records')\n",
    "    return pd.DataFrame.from_dict(info_dict, orient='index').reset_index().to_dict('records')\n",
    "    #.to_dict('records')"
   ]
  },
  {
   "cell_type": "markdown",
   "metadata": {},
   "source": [
    "selected_event = create_event_infos('HPC.NC_20130403221010_EV')\n",
    "selected_event"
   ]
  },
  {
   "cell_type": "code",
   "execution_count": 67,
   "metadata": {},
   "outputs": [
    {
     "data": {
      "text/plain": [
       "[{'time': Timestamp('2013-04-03 22:10:11.730000'),\n",
       "  'source_depth_km': 4.72,\n",
       "  'source_magnitude': 1.9,\n",
       "  'source_latitude': 37.19483,\n",
       "  'source_longitude': -121.478,\n",
       "  'trace_category': 'earthquake_local'},\n",
       " {'time': Timestamp('2013-04-04 02:59:57.870000'),\n",
       "  'source_depth_km': 4.72,\n",
       "  'source_magnitude': 0.7,\n",
       "  'source_latitude': 36.96383,\n",
       "  'source_longitude': -121.45567,\n",
       "  'trace_category': 'earthquake_local'},\n",
       " {'time': Timestamp('2013-04-05 01:11:42.080000'),\n",
       "  'source_depth_km': 5.3,\n",
       "  'source_magnitude': 1.3,\n",
       "  'source_latitude': 36.87083,\n",
       "  'source_longitude': -121.302,\n",
       "  'trace_category': 'earthquake_local'},\n",
       " {'time': Timestamp('2013-04-05 09:32:39.100000'),\n",
       "  'source_depth_km': 5.1,\n",
       "  'source_magnitude': 2.8,\n",
       "  'source_latitude': 36.962,\n",
       "  'source_longitude': -121.454,\n",
       "  'trace_category': 'earthquake_local'},\n",
       " {'time': Timestamp('2013-04-07 00:32:03.310000'),\n",
       "  'source_depth_km': 5.4,\n",
       "  'source_magnitude': 0.8,\n",
       "  'source_latitude': 36.93617,\n",
       "  'source_longitude': -121.4265,\n",
       "  'trace_category': 'earthquake_local'}]"
      ]
     },
     "execution_count": 67,
     "metadata": {},
     "output_type": "execute_result"
    }
   ],
   "source": [
    "df_test.head(5).to_dict('records')"
   ]
  },
  {
   "cell_type": "code",
   "execution_count": 74,
   "metadata": {},
   "outputs": [
    {
     "data": {
      "text/html": [
       "<div>\n",
       "<style scoped>\n",
       "    .dataframe tbody tr th:only-of-type {\n",
       "        vertical-align: middle;\n",
       "    }\n",
       "\n",
       "    .dataframe tbody tr th {\n",
       "        vertical-align: top;\n",
       "    }\n",
       "\n",
       "    .dataframe thead th {\n",
       "        text-align: right;\n",
       "    }\n",
       "</style>\n",
       "<table border=\"1\" class=\"dataframe\">\n",
       "  <thead>\n",
       "    <tr style=\"text-align: right;\">\n",
       "      <th></th>\n",
       "      <th>time</th>\n",
       "      <th>source_depth_km</th>\n",
       "      <th>source_magnitude</th>\n",
       "      <th>source_latitude</th>\n",
       "      <th>source_longitude</th>\n",
       "      <th>trace_category</th>\n",
       "    </tr>\n",
       "    <tr>\n",
       "      <th>trace_name</th>\n",
       "      <th></th>\n",
       "      <th></th>\n",
       "      <th></th>\n",
       "      <th></th>\n",
       "      <th></th>\n",
       "      <th></th>\n",
       "    </tr>\n",
       "  </thead>\n",
       "  <tbody>\n",
       "    <tr>\n",
       "      <th>HPC.NC_20130403221010_EV</th>\n",
       "      <td>2013-04-03 22:10:11.730000</td>\n",
       "      <td>4.72</td>\n",
       "      <td>1.90</td>\n",
       "      <td>37.19483</td>\n",
       "      <td>-121.47800</td>\n",
       "      <td>earthquake_local</td>\n",
       "    </tr>\n",
       "    <tr>\n",
       "      <th>HPC.NC_20130404025956_EV</th>\n",
       "      <td>2013-04-04 02:59:57.870000</td>\n",
       "      <td>4.72</td>\n",
       "      <td>0.70</td>\n",
       "      <td>36.96383</td>\n",
       "      <td>-121.45567</td>\n",
       "      <td>earthquake_local</td>\n",
       "    </tr>\n",
       "    <tr>\n",
       "      <th>HPC.NC_20130405011141_EV</th>\n",
       "      <td>2013-04-05 01:11:42.080000</td>\n",
       "      <td>5.30</td>\n",
       "      <td>1.30</td>\n",
       "      <td>36.87083</td>\n",
       "      <td>-121.30200</td>\n",
       "      <td>earthquake_local</td>\n",
       "    </tr>\n",
       "    <tr>\n",
       "      <th>HPC.NC_20130405093239_EV</th>\n",
       "      <td>2013-04-05 09:32:39.100000</td>\n",
       "      <td>5.10</td>\n",
       "      <td>2.80</td>\n",
       "      <td>36.96200</td>\n",
       "      <td>-121.45400</td>\n",
       "      <td>earthquake_local</td>\n",
       "    </tr>\n",
       "    <tr>\n",
       "      <th>HPC.NC_20130407003202_EV</th>\n",
       "      <td>2013-04-07 00:32:03.310000</td>\n",
       "      <td>5.40</td>\n",
       "      <td>0.80</td>\n",
       "      <td>36.93617</td>\n",
       "      <td>-121.42650</td>\n",
       "      <td>earthquake_local</td>\n",
       "    </tr>\n",
       "    <tr>\n",
       "      <th>...</th>\n",
       "      <td>...</td>\n",
       "      <td>...</td>\n",
       "      <td>...</td>\n",
       "      <td>...</td>\n",
       "      <td>...</td>\n",
       "      <td>...</td>\n",
       "    </tr>\n",
       "    <tr>\n",
       "      <th>PAH.NN_20151206184041_EV</th>\n",
       "      <td>2015-12-06 18:40:42.497390</td>\n",
       "      <td>0.00</td>\n",
       "      <td>1.60</td>\n",
       "      <td>39.97890</td>\n",
       "      <td>-118.75330</td>\n",
       "      <td>earthquake_local</td>\n",
       "    </tr>\n",
       "    <tr>\n",
       "      <th>PAH.NN_20151206184806_EV</th>\n",
       "      <td>2015-12-06 18:48:07.362930</td>\n",
       "      <td>3.00</td>\n",
       "      <td>0.00</td>\n",
       "      <td>39.60910</td>\n",
       "      <td>-119.96240</td>\n",
       "      <td>earthquake_local</td>\n",
       "    </tr>\n",
       "    <tr>\n",
       "      <th>PAH.NN_20151208145127_EV</th>\n",
       "      <td>2015-12-08 14:51:28.524250</td>\n",
       "      <td>2.60</td>\n",
       "      <td>1.90</td>\n",
       "      <td>39.61660</td>\n",
       "      <td>-119.96910</td>\n",
       "      <td>earthquake_local</td>\n",
       "    </tr>\n",
       "    <tr>\n",
       "      <th>PAH.NN_20151210082124_EV</th>\n",
       "      <td>2015-12-10 08:21:25.390000</td>\n",
       "      <td>6.19</td>\n",
       "      <td>1.72</td>\n",
       "      <td>39.53750</td>\n",
       "      <td>-120.61950</td>\n",
       "      <td>earthquake_local</td>\n",
       "    </tr>\n",
       "    <tr>\n",
       "      <th>PAH.NN_20151210194654_EV</th>\n",
       "      <td>2015-12-10 19:46:55.095120</td>\n",
       "      <td>2.60</td>\n",
       "      <td>0.20</td>\n",
       "      <td>39.60630</td>\n",
       "      <td>-119.96090</td>\n",
       "      <td>earthquake_local</td>\n",
       "    </tr>\n",
       "  </tbody>\n",
       "</table>\n",
       "<p>200000 rows × 6 columns</p>\n",
       "</div>"
      ],
      "text/plain": [
       "                                               time  source_depth_km  \\\n",
       "trace_name                                                             \n",
       "HPC.NC_20130403221010_EV 2013-04-03 22:10:11.730000             4.72   \n",
       "HPC.NC_20130404025956_EV 2013-04-04 02:59:57.870000             4.72   \n",
       "HPC.NC_20130405011141_EV 2013-04-05 01:11:42.080000             5.30   \n",
       "HPC.NC_20130405093239_EV 2013-04-05 09:32:39.100000             5.10   \n",
       "HPC.NC_20130407003202_EV 2013-04-07 00:32:03.310000             5.40   \n",
       "...                                             ...              ...   \n",
       "PAH.NN_20151206184041_EV 2015-12-06 18:40:42.497390             0.00   \n",
       "PAH.NN_20151206184806_EV 2015-12-06 18:48:07.362930             3.00   \n",
       "PAH.NN_20151208145127_EV 2015-12-08 14:51:28.524250             2.60   \n",
       "PAH.NN_20151210082124_EV 2015-12-10 08:21:25.390000             6.19   \n",
       "PAH.NN_20151210194654_EV 2015-12-10 19:46:55.095120             2.60   \n",
       "\n",
       "                          source_magnitude  source_latitude  source_longitude  \\\n",
       "trace_name                                                                      \n",
       "HPC.NC_20130403221010_EV              1.90         37.19483        -121.47800   \n",
       "HPC.NC_20130404025956_EV              0.70         36.96383        -121.45567   \n",
       "HPC.NC_20130405011141_EV              1.30         36.87083        -121.30200   \n",
       "HPC.NC_20130405093239_EV              2.80         36.96200        -121.45400   \n",
       "HPC.NC_20130407003202_EV              0.80         36.93617        -121.42650   \n",
       "...                                    ...              ...               ...   \n",
       "PAH.NN_20151206184041_EV              1.60         39.97890        -118.75330   \n",
       "PAH.NN_20151206184806_EV              0.00         39.60910        -119.96240   \n",
       "PAH.NN_20151208145127_EV              1.90         39.61660        -119.96910   \n",
       "PAH.NN_20151210082124_EV              1.72         39.53750        -120.61950   \n",
       "PAH.NN_20151210194654_EV              0.20         39.60630        -119.96090   \n",
       "\n",
       "                            trace_category  \n",
       "trace_name                                  \n",
       "HPC.NC_20130403221010_EV  earthquake_local  \n",
       "HPC.NC_20130404025956_EV  earthquake_local  \n",
       "HPC.NC_20130405011141_EV  earthquake_local  \n",
       "HPC.NC_20130405093239_EV  earthquake_local  \n",
       "HPC.NC_20130407003202_EV  earthquake_local  \n",
       "...                                    ...  \n",
       "PAH.NN_20151206184041_EV  earthquake_local  \n",
       "PAH.NN_20151206184806_EV  earthquake_local  \n",
       "PAH.NN_20151208145127_EV  earthquake_local  \n",
       "PAH.NN_20151210082124_EV  earthquake_local  \n",
       "PAH.NN_20151210194654_EV  earthquake_local  \n",
       "\n",
       "[200000 rows x 6 columns]"
      ]
     },
     "execution_count": 74,
     "metadata": {},
     "output_type": "execute_result"
    }
   ],
   "source": [
    "df_test"
   ]
  },
  {
   "cell_type": "markdown",
   "metadata": {
    "pycharm": {
     "name": "#%% md\n"
    }
   },
   "source": [
    "Extract the minimum depth, magnitude, recording times etcc"
   ]
  },
  {
   "cell_type": "code",
   "execution_count": 68,
   "metadata": {
    "pycharm": {
     "name": "#%%\n"
    }
   },
   "outputs": [],
   "source": [
    "#Latitudes and longitudes\n",
    "site_lat = df_test.source_latitude\n",
    "site_lon = df_test.source_longitude\n",
    "hover_desc = 'Timestamp: ' +  str(df_test.time) + '<br>Category: ' + df_test.trace_category\n",
    "#hover_desc = f'Time of registration: {df_earthquake_detections.trace_start_time} <br> Category: {df_earthquake_detections.trace_category}'\n",
    "#time = df_earthquake_detections.trace_start_time\n",
    "#ctg =df_earthquake_detections.trace_category\n",
    "#locations_name = df.text\n",
    "#min timestamp\n",
    "#Extract timestamp range\n",
    "min_date = min(df_test['time']).date()\n",
    "max_date = max(df_test['time']).date()\n",
    "#Extract minimum and maximum depth\n",
    "min_depth = min(df_test['source_depth_km'])\n",
    "max_depth = max(df_test['source_depth_km'])\n",
    "#Extract minimum and maximum magnitude\n",
    "min_magnitude = min(df_test['source_magnitude'])\n",
    "max_magnitude = max(df_test['source_magnitude'])\n",
    "\n",
    "depth_space = np.linspace(start=min_depth,stop=max_depth,num=8,endpoint=True,dtype=np.float64)\n",
    "magnitude_space = np.linspace(start=min_magnitude,stop=max_magnitude,num=8,endpoint=True,dtype=np.float64)"
   ]
  },
  {
   "cell_type": "code",
   "execution_count": 73,
   "metadata": {},
   "outputs": [
    {
     "data": {
      "text/plain": [
       "Index(['time', 'source_depth_km', 'source_magnitude', 'source_latitude',\n",
       "       'source_longitude', 'trace_category'],\n",
       "      dtype='object')"
      ]
     },
     "execution_count": 73,
     "metadata": {},
     "output_type": "execute_result"
    }
   ],
   "source": [
    "df_test.columns"
   ]
  },
  {
   "cell_type": "code",
   "execution_count": 88,
   "metadata": {},
   "outputs": [],
   "source": [
    "df_points = df_test.reset_index()[['trace_name','source_latitude','source_longitude']].head(30)\n",
    "df_points_records_renamed = df_points.rename(columns = {'source_latitude' :'lat','source_longitude' :'lon'}).to_dict('records')"
   ]
  },
  {
   "cell_type": "code",
   "execution_count": 89,
   "metadata": {},
   "outputs": [],
   "source": [
    "import dash_leaflet.express as dlx  \n",
    "\n",
    "data_points_geojson = dlx.dicts_to_geojson(df_points_records_renamed) "
   ]
  },
  {
   "cell_type": "code",
   "execution_count": null,
   "metadata": {},
   "outputs": [],
   "source": []
  },
  {
   "cell_type": "code",
   "execution_count": 69,
   "metadata": {
    "pycharm": {
     "name": "#%%\n"
    }
   },
   "outputs": [],
   "source": [
    "#df_earthquake_detections\n"
   ]
  },
  {
   "cell_type": "markdown",
   "metadata": {},
   "source": [
    "Select multiple elements?\n",
    "#https://github.com/thedirtyfew/dash-leaflet/issues/45"
   ]
  },
  {
   "cell_type": "code",
   "execution_count": 93,
   "metadata": {
    "pycharm": {
     "name": "#%%\n"
    }
   },
   "outputs": [
    {
     "data": {
      "image/png": "[encoded data removed]",
      "text/plain": [
       "<Figure size 800x250 with 1 Axes>"
      ]
     },
     "metadata": {
      "needs_background": "light"
     },
     "output_type": "display_data"
    },
    {
     "name": "stdout",
     "output_type": "stream",
     "text": [
      "Dash is running on http://127.0.0.1:8050/\n",
      "\n",
      "Dash is running on http://127.0.0.1:8050/\n",
      "\n",
      "Dash is running on http://127.0.0.1:8050/\n",
      "\n",
      "Dash is running on http://127.0.0.1:8050/\n",
      "\n",
      "Dash is running on http://127.0.0.1:8050/\n",
      "\n",
      "Dash is running on http://127.0.0.1:8050/\n",
      "\n",
      " * Serving Flask app \"__main__\" (lazy loading)\n",
      " * Environment: production\n",
      "   WARNING: This is a development server. Do not use it in a production deployment.\n",
      "   Use a production WSGI server instead.\n",
      " * Debug mode: on\n"
     ]
    },
    {
     "name": "stderr",
     "output_type": "stream",
     "text": [
      "<ipython-input-59-36ae01439e34>:6: MatplotlibDeprecationWarning:\n",
      "\n",
      "shading='flat' when X and Y have the same dimensions as C is deprecated since 3.3.  Either specify the corners of the quadrilaterals with X and Y, or pass shading='auto', 'nearest' or 'gouraud', or set rcParams['pcolor.shading'].  This will become an error two minor releases later.\n",
      "\n"
     ]
    }
   ],
   "source": [
    "import base64\n",
    "import plotly.graph_objects as go\n",
    "import dash\n",
    "import dash_core_components as dcc\n",
    "import dash_html_components as html\n",
    "import plotly.express as px\n",
    "\n",
    "import dash_bootstrap_components as dbc\n",
    "#from dash import  dash_table\n",
    "import dash_table\n",
    "from datetime import date\n",
    "from dash.dependencies import Input,Output,State\n",
    "from dash import callback_context\n",
    "from geopy.geocoders import Nominatim\n",
    "import dash_leaflet as dl\n",
    "geolocator = Nominatim(user_agent=\"geoapiExercises\")\n",
    "#https://plotly.com/python-api-reference/generated/plotly.graph_objects.Scattermapbox.html\n",
    "#https://community.plotly.com/t/scattermapbox-setting-visible-range/6140/3\n",
    "#mapbox_access_token = open(\".mapbox_token\").read()\n",
    "\n",
    "'''\n",
    "mapbox_access_token = \"pk.eyJ1IjoiZG9yYW5kMzIiLCJhIjoiY2t6OG81a3lnMHhnNjJ2czhkaTg2cGRreiJ9.50gnwHchu58S-KeK0fW8Ig\"\n",
    "#Mapbox map initialize\n",
    "\n",
    "\n",
    "fig = go.Figure({\"layout\": {\n",
    "    \"title\": \"My Dash Graph\",\n",
    "    \"height\": 700,  # px\n",
    "}})\n",
    "fig.add_trace(go.Scattermapbox(\n",
    "    lat=site_lat,\n",
    "    lon=site_lon,\n",
    "    mode='markers',\n",
    "    marker=go.scattermapbox.Marker(\n",
    "        #TODO: size might be affected by strength of the event\n",
    "        size=17,\n",
    "        #TODO: if we have other events which differs from local earthquake, other color would be assigned\n",
    "        color='rgb(255, 0, 0)',\n",
    "        opacity=0.7\n",
    "    ),\n",
    "    text=hover_desc,\n",
    "    #hoverinfo='text'\n",
    "    #hovertemplate=f'<i>Average Stage</i>: %{time}'+\n",
    "    #              '<br><b>Average Discharge</b>: %{ctg}<br>',\n",
    "    hoverinfo='text'\n",
    "))\n",
    "fig.update_layout(\n",
    "    title='Idea for plotting earthquake events',\n",
    "    autosize=True,\n",
    "    hovermode='closest',\n",
    "    showlegend=False,\n",
    "    mapbox=dict(\n",
    "        accesstoken=mapbox_access_token,\n",
    "        bearing=0,\n",
    "        center=dict(\n",
    "            lat=38,\n",
    "            lon=-94\n",
    "        ),\n",
    "        pitch=0,\n",
    "        zoom=1,\n",
    "        #minzoom = 1,\n",
    "        style='light'\n",
    "    ),\n",
    ")\n",
    "#df = px.data.gapminder().query(\"year == 2007\")\n",
    "'''\n",
    "info_colnames = ['trace_name','location','latitude','longitude','event_recorded_at','earthquake_depth','earthquake_magnitude']\n",
    "#info_colnames = ['trace_name','latitude','longitude','event_recorded_at','earthquake_depth','earthquake_magnitude']\n",
    "def create_event_infos(x):\n",
    "    #'time','source_depth_km','source_magnitude','trace_name','source_latitude','source_longitude','trace_category'\n",
    "    #selected_record = df_test.loc[x['trace_name']]\n",
    "    selected_record = df_test.loc[x]\n",
    "    latitude = str(selected_record['source_latitude'])\n",
    "    longitude = str(selected_record['source_longitude'])\n",
    "    location = geolocator.reverse(latitude + \",\" + longitude).address\n",
    "\n",
    "    info_dict = dict()\n",
    "    info_dict['trace_name'] = x\n",
    "    info_dict['location'] = location\n",
    "    info_dict['latitude'] = latitude\n",
    "    info_dict['longitude'] = longitude\n",
    "    info_dict['event_recorded_at'] = str(selected_record['time'])\n",
    "    info_dict['earthquake_depth'] = f'{selected_record[\"source_depth_km\"]} km'\n",
    "    info_dict['earthquake_magnitude'] = f'{selected_record[\"source_magnitude\"]} km'\n",
    "    \n",
    "    #return info_dict\n",
    "\n",
    "    #return pd.DataFrame.from_dict(info_dict).to_dict('records')\n",
    "    #return pd.DataFrame.from_dict(info_dict, orient='index').transpose().to_dict('records')\n",
    "    return pd.DataFrame.from_dict(info_dict, orient='index').reset_index().to_dict('records')\n",
    "    \n",
    "    \n",
    "\n",
    "\n",
    "#!!!!!!!!!!!!!https://github.com/Coding-with-Adam/Dash-by-Plotly/blob/master/Dash_Interactive_Graphs/Scatter_mapbox/recycling.py\n",
    "app = dash.Dash()\n",
    "data_points_geojson\n",
    "\n",
    "image_filename = 'samples_for_wireframe/map_screenshot.PNG'\n",
    "encoded_image = base64.b64encode(open(image_filename, 'rb').read())\n",
    "#app.layout =html.Div([\n",
    "app.layout = html.Div([dbc.Row([\n",
    "\n",
    "                                #Filters|\n",
    "                                html.Div(style={'width':'20%','marginLeft': 5, 'marginRight': 10,'display':'inline-block',\"border\":\"2px black solid\",'vertical-align': 'top'},\n",
    "                                         children = [\n",
    "                                            #html.Div([\n",
    "                                            # dcc.Graph: maybe define somehow here?\n",
    "                                            #dcc.Graph(figure=fig, id='map-layout')]),\n",
    "                                             #'width':'15%','marginLeft': 20, 'marginRight': 20,\n",
    "                                            html.Div(style={ 'display': 'block','vertical-align':'middle'},\n",
    "                                                     children = [\n",
    "                                                        html.Br(),\n",
    "                                                        html.H3('Select a date interval'),\n",
    "                                                        html.Br(),\n",
    "                                                    #Datepicker to filter for intervals\n",
    "                                                        dcc.DatePickerRange(\n",
    "                                                            id='date-filter',\n",
    "                                                            #min_date_allowed=date(1993, 1, 10),\n",
    "                                                            min_date_allowed=min_date,\n",
    "                                                            max_date_allowed=max_date,\n",
    "                                                            #max_date_allowed=date(2019, 9, 19),\n",
    "                                                            initial_visible_month=min_date,\n",
    "                                                            start_date=min_date,\n",
    "                                                            end_date=max_date\n",
    "                                                        )]),\n",
    "                                            #'width':'15%','marginLeft': 20, 'marginRight': 20,'marginTop':30,\n",
    "                                            html.Div(\n",
    "                                                style={ 'display': 'block','vertical-align':'middle'},\n",
    "                                                children = [\n",
    "                                                html.Br(),\n",
    "                                                html.H3('Select earthquake depth interval ( in km)'),\n",
    "                                                html.Br(),\n",
    "                                                #slider to filter for depth\n",
    "                                                dcc.RangeSlider(min = min_depth, max = max_depth,\n",
    "                                                                id='depth-slider',\n",
    "                                                                marks={i: '{:.2f}'.format(i) for i in depth_space},\n",
    "                                                                value=[min_depth, max_depth],\n",
    "                                                                dots=False,\n",
    "                                                                #step=\n",
    "                                                                step=0.01,\n",
    "                                                                updatemode='drag',\n",
    "                                                                tooltip={\"placement\": \"bottom\", \"always_visible\": False}\n",
    "                                            )]),\n",
    "                                             #'width':'15%','marginLeft': 20, 'marginRight': 20,'marginTop':30,\n",
    "                                            html.Div(\n",
    "                                                style={'display': 'block','vertical-align':'middle'},\n",
    "                                                children = [\n",
    "                                                html.Br(),\n",
    "                                                html.H3('Select earthquake magnitude interval ( in km)'),\n",
    "                                                html.Br(),\n",
    "                                                #slider to filter for magnitudes\n",
    "                                                dcc.RangeSlider(min = min_magnitude, max = max_magnitude,\n",
    "                                                                id='magnitude-slider',\n",
    "                                                                marks={i: '{:.2f}'.format(i) for i in magnitude_space},\n",
    "                                                                value=[min_magnitude, max_magnitude],\n",
    "                                                                dots=False,\n",
    "                                                                step=0.01,\n",
    "                                                                updatemode='drag',\n",
    "                                                                tooltip={\"placement\": \"bottom\", \"always_visible\": False}\n",
    "                                                                ),\n",
    "                                                ]),\n",
    "                                             html.Div(\n",
    "                                                 style={'display': 'block','vertical-align':'middle'},\n",
    "                                                 children = [\n",
    "                                                             html.Button('Apply Filter', id='filter-apply-btn', n_clicks=0),\n",
    "                                                             html.Button('Reset Filter', id='filter-reset-btn', n_clicks=0)]\n",
    "                                             )\n",
    "                                         ]),\n",
    "                                #Map\n",
    "                                html.Div(\n",
    "                                        style={'width':'75%', 'marginRight': 5,'display':'inline-block',\"border\":\"2px black solid\"},\n",
    "                                        #children = [dcc.Graph(figure=fig, id='map-layout')])]\n",
    "                                        #children = [html.Img(src ='data:image/png;base64,{}'.format(encoded_image.decode()))])]\n",
    "                                        children = [dl.Map([dl.TileLayer()\n",
    "                                        ,dl.GeoJSON(data = data_points_geojson)\n",
    "                                        ], style={'width': '1000px', 'height': '500px'})])]\n",
    "                                        #, style={'width': '1000px', 'height': '500px'})])]\n",
    "                                        #children = [ dash_table.DataTable(data = df_test.head(5).to_dict('records'),columns=[{\"name\": i, \"id\": i} for i in df_test.columns], id='tbl')])]\n",
    "                                ),\n",
    "                dbc.Row(html.Div([\n",
    "                    #Audio player\n",
    "                    html.Div(style={'width':'40%','marginLeft': 5,'marginTop': 20, 'marginRight': 20,'display':'inline-block',\"border\":\"2px black solid\",'vertical-align': 'top'},\n",
    "                             #children = [html.Audio(src='/assets/test_raw_waveform_normalized.wav', controls=True)]),\n",
    "                             #children = [html.Audio(html.Source(src=f\"https://file-examples-com.github.io/uploads/2017/11/file_example_WAV_1MG.wav\",\n",
    "                           #type=\"audio/wav\"), controls=True)]),\n",
    "                           children = [\n",
    "                           html.Audio(html.Source(src=f'/assets/test_raw_waveform_normalized_upsampled.wav',type='audio/wav'), controls=True),                        \n",
    "                                      dash_table.DataTable(style_header={'display':'none'},data = create_event_infos('HPC.NC_20130403221010_EV'),columns=[{\"name\": i, \"id\": i} for i in ['index','0']])]),\n",
    "                           #dash_table.DataTable(data = create_event_infos('HPC.NC_20130403221010_EV'),columns=[{\"name\": i, \"id\": i} for i in info_colnames], id='event_info_tbl')]),\n",
    "#                           ]),\n",
    "                                    #,dash_table.DataTable(data = create_event_infos('HPC.NC_20130403221010_EV'),columns=[{\"name\": i, \"id\": i} for i in info_colnames], id='event_info_tbl')]),\n",
    "\n",
    "                    #Spectrogram\n",
    "                    html.Div(style={'width':'50%', 'marginRight': 10 ,'marginTop': 20, 'display':'inline-block',\"border\":\"2px black solid\"},\n",
    "                             #children = [html.Img(src='samples_for_wireframe/img.png')])]))])\n",
    "                             children = [\n",
    "                                         html.Div(style={ 'display': 'block','vertical-align':'middle'},id = 'seismogram-div', children = [html.Img(src = fig_to_uri(base_seismogram.plot()))]),\n",
    "                                         #html.Div(style={ 'display': 'block','vertical-align':'middle'},id = 'filtered_seismogram-div', children = [html.Img(src = fig_to_uri(filtered_seismogram.plot()))]),\n",
    "                                         html.Div(style={ 'display': 'block','vertical-align':'middle'},id = 'spectrogram-div', children = [html.Img(src = spectrogram_to_uri(st[2]))])\n",
    "                                         #html.Div(style={ 'display': 'block','vertical-align':'middle'},id = 'spectrogram-div', children = [html.Img(src = fig_to_uri(filtered_spectrogram))])                                                                                                                        \n",
    "                                        ])]))\n",
    "                #,dbc.Row(html.Div(children = [html.Div(style={ 'display': 'block','vertical-align':'middle'},\n",
    "                #                              children = [dash_table.DataTable(style_header={'display':'none'},data = create_event_infos('HPC.NC_20130403221010_EV'),columns=[{\"name\": i, \"id\": i} for i in ['index','0']])])]))                                    \n",
    "                                              #children = [dash_table.DataTable(data = create_event_infos('HPC.NC_20130403221010_EV'),columns=[{\"name\": i, \"id\": i} for i in ['index','0']])])]))                                    \n",
    "                                              #children = [dash_table.DataTable(data = df_test.head(1).to_dict('records'),columns=[{\"name\": i, \"id\": i} for i in df_test.columns])])]))                                    \n",
    "                    ])\n",
    "\n",
    "@app.callback(\n",
    "    #Output(component_id='tbl', component_property='data'), #Output will be the table (later map)\n",
    "    Output(component_id='depth-slider', component_property= 'value'),\n",
    "    Output(component_id='magnitude-slider', component_property= 'value'),\n",
    "    Output(component_id='date-filter', component_property= 'start_date'),\n",
    "    Output(component_id='date-filter', component_property= 'end_date'),\n",
    "    Input(component_id='filter-apply-btn', component_property='n_clicks'), #Input button triggers the callback\n",
    "    Input(component_id='filter-reset-btn', component_property='n_clicks'), #Input button triggers the callback\n",
    "    State(component_id='depth-slider', component_property= 'value'),\n",
    "    State(component_id='magnitude-slider', component_property= 'value'),\n",
    "    State(component_id='date-filter', component_property= 'start_date'),\n",
    "    State(component_id='date-filter', component_property= 'end_date')\n",
    "\n",
    ")\n",
    "def apply_filter(apply_click,reset_click, depth_value, magnitude_value,start_date,end_date):\n",
    "    ctx = dash.callback_context\n",
    "    clicked_element = ctx.triggered[0]['prop_id'].split('.')[0]\n",
    "    if  clicked_element == 'filter-apply-btn':\n",
    "        filter_records = df_test['time'].between(pd.to_datetime(start_date),pd.to_datetime(end_date)) & df_test['source_magnitude'].between(magnitude_value[0],magnitude_value[1])\\\n",
    "                         & df_test['source_depth_km'].between(depth_value[0],depth_value[1])\n",
    "        df_filtered = df_test[filter_records]\n",
    "        return [depth_value,magnitude_value,start_date,end_date]\n",
    "        #return [df_filtered.head(5).to_dict('records'),depth_value,magnitude_value,start_date,end_date]\n",
    "\n",
    "    elif clicked_element == 'filter-reset-btn':\n",
    "        return [[min_depth,max_depth],[min_magnitude,max_magnitude],min_date,max_date]\n",
    "       # return [df_test.head(5).to_dict('records'),[min_depth,max_depth],[min_magnitude,max_magnitude],min_date,max_date]\n",
    "\n",
    "    else:\n",
    "        return dash.no_update\n",
    "\n",
    "\n",
    "'''\n",
    "selection of earthquake events on maps\n",
    "First, selection in the table will be used as test for composition,\n",
    "then refactor for map event selection\n",
    "'''\n",
    "\n",
    "app.run_server(debug=True, use_reloader=False)  # Turn off reloader if inside Jupyter\n"
   ]
  },
  {
   "cell_type": "code",
   "execution_count": null,
   "metadata": {},
   "outputs": [
    {
     "data": {
      "text/plain": [
       "[{'index': 'trace_name', 0: 'HPC.NC_20130403221010_EV'},\n",
       " {'index': 'location',\n",
       "  0: 'Rock House Ridge Trail, Santa Clara County, California, United States'},\n",
       " {'index': 'latitude', 0: '37.19483'},\n",
       " {'index': 'longitude', 0: '-121.478'},\n",
       " {'index': 'event_recorded_at', 0: '2013-04-03 22:10:11.730000'},\n",
       " {'index': 'earthquake_depth', 0: '4.72 km'},\n",
       " {'index': 'earthquake_magnitude', 0: '1.9 km'}]"
      ]
     },
     "execution_count": 143,
     "metadata": {},
     "output_type": "execute_result"
    }
   ],
   "source": [
    "create_event_infos('HPC.NC_20130403221010_EV')"
   ]
  },
  {
   "cell_type": "code",
   "execution_count": null,
   "metadata": {},
   "outputs": [
    {
     "data": {
      "text/plain": [
       "Index(['time', 'source_depth_km', 'source_magnitude', 'source_latitude',\n",
       "       'source_longitude', 'trace_category'],\n",
       "      dtype='object')"
      ]
     },
     "execution_count": 120,
     "metadata": {},
     "output_type": "execute_result"
    }
   ],
   "source": [
    "df_test.columns"
   ]
  },
  {
   "cell_type": "markdown",
   "metadata": {
    "pycharm": {
     "name": "#%% md\n"
    }
   },
   "source": [
    "If we also want to load map, that need to be used"
   ]
  },
  {
   "cell_type": "markdown",
   "metadata": {
    "collapsed": false,
    "pycharm": {
     "name": "#%%\n"
    }
   },
   "source": [
    "import pydub\n",
    "from pydub import AudioSegment\n",
    "AudioSegment.converter = r\"C:/ffmpeg-master-latest-win64-gpl/bin/ffmpeg.exe\"\n",
    "AudioSegment.ffmpeg = 'C:/ffmpeg-master-latest-win64-gpl/bin'\n",
    "\n",
    "#\"/absolute/path/to/ffmpeg\"\n",
    "sound_data = AudioSegment.from_file('assets/test_raw_waveform_normalized.wav', \n",
    "                                  format = \"wav\")"
   ]
  },
  {
   "cell_type": "code",
   "execution_count": null,
   "metadata": {},
   "outputs": [
    {
     "data": {
      "text/plain": [
       "[{'name': 'time', 'id': 'time'},\n",
       " {'name': 'source_depth_km', 'id': 'source_depth_km'},\n",
       " {'name': 'source_magnitude', 'id': 'source_magnitude'},\n",
       " {'name': 'source_latitude', 'id': 'source_latitude'},\n",
       " {'name': 'source_longitude', 'id': 'source_longitude'},\n",
       " {'name': 'trace_category', 'id': 'trace_category'}]"
      ]
     },
     "execution_count": 123,
     "metadata": {},
     "output_type": "execute_result"
    }
   ],
   "source": [
    "[{\"name\": i, \"id\": i} for i in df_test.columns]"
   ]
  },
  {
   "cell_type": "code",
   "execution_count": null,
   "metadata": {},
   "outputs": [
    {
     "data": {
      "text/plain": [
       "[{'name': 'trace_name', 'id': 'trace_name'},\n",
       " {'name': 'location', 'id': 'location'},\n",
       " {'name': 'latitude', 'id': 'latitude'},\n",
       " {'name': 'longitude', 'id': 'longitude'},\n",
       " {'name': 'event_recorded_at', 'id': 'event_recorded_at'},\n",
       " {'name': 'earthquake_depth', 'id': 'earthquake_depth'},\n",
       " {'name': 'earthquake_magnitude', 'id': 'earthquake_magnitude'}]"
      ]
     },
     "execution_count": 122,
     "metadata": {},
     "output_type": "execute_result"
    }
   ],
   "source": [
    "[{\"name\": i, \"id\": i} for i in info_colnames]"
   ]
  },
  {
   "cell_type": "code",
   "execution_count": null,
   "metadata": {},
   "outputs": [
    {
     "ename": "AttributeError",
     "evalue": "'list' object has no attribute 'columns'",
     "output_type": "error",
     "traceback": [
      "\u001b[1;31m---------------------------------------------------------------------------\u001b[0m",
      "\u001b[1;31mAttributeError\u001b[0m                            Traceback (most recent call last)",
      "\u001b[1;32m<ipython-input-124-5c24b0ef9f2e>\u001b[0m in \u001b[0;36m<module>\u001b[1;34m\u001b[0m\n\u001b[0;32m      1\u001b[0m \u001b[0meefos\u001b[0m \u001b[1;33m=\u001b[0m \u001b[0mcreate_event_infos\u001b[0m\u001b[1;33m(\u001b[0m\u001b[1;34m'HPC.NC_20130403221010_EV'\u001b[0m\u001b[1;33m)\u001b[0m\u001b[1;33m\u001b[0m\u001b[1;33m\u001b[0m\u001b[0m\n\u001b[0;32m      2\u001b[0m \u001b[1;33m\u001b[0m\u001b[0m\n\u001b[1;32m----> 3\u001b[1;33m \u001b[1;33m[\u001b[0m\u001b[1;33m{\u001b[0m\u001b[1;34m\"name\"\u001b[0m\u001b[1;33m:\u001b[0m \u001b[0mi\u001b[0m\u001b[1;33m,\u001b[0m \u001b[1;34m\"id\"\u001b[0m\u001b[1;33m:\u001b[0m \u001b[0mi\u001b[0m\u001b[1;33m}\u001b[0m \u001b[1;32mfor\u001b[0m \u001b[0mi\u001b[0m \u001b[1;32min\u001b[0m \u001b[0meefos\u001b[0m\u001b[1;33m.\u001b[0m\u001b[0mcolumns\u001b[0m\u001b[1;33m]\u001b[0m\u001b[1;33m\u001b[0m\u001b[1;33m\u001b[0m\u001b[0m\n\u001b[0m",
      "\u001b[1;31mAttributeError\u001b[0m: 'list' object has no attribute 'columns'"
     ]
    }
   ],
   "source": [
    "eefos = create_event_infos('HPC.NC_20130403221010_EV')\n",
    "\n",
    "[{\"name\": i, \"id\": i} for i in eefos.columns]"
   ]
  },
  {
   "cell_type": "code",
   "execution_count": null,
   "metadata": {},
   "outputs": [],
   "source": [
    "selected_record = df_test.loc['HPC.NC_20130403221010_EV']\n",
    "latitude = str(selected_record['source_latitude'])\n",
    "longitude = str(selected_record['source_longitude'])\n",
    "location_test = geolocator.reverse(latitude + \",\" + longitude)"
   ]
  },
  {
   "cell_type": "code",
   "execution_count": null,
   "metadata": {},
   "outputs": [
    {
     "data": {
      "text/plain": [
       "'Rock House Ridge Trail, Santa Clara County, California, United States'"
      ]
     },
     "execution_count": 133,
     "metadata": {},
     "output_type": "execute_result"
    }
   ],
   "source": [
    "location_test.address"
   ]
  },
  {
   "cell_type": "code",
   "execution_count": null,
   "metadata": {},
   "outputs": [
    {
     "data": {
      "text/plain": [
       "[{'time': Timestamp('2013-04-03 22:10:11.730000'),\n",
       "  'source_depth_km': 4.72,\n",
       "  'source_magnitude': 1.9,\n",
       "  'source_latitude': 37.19483,\n",
       "  'source_longitude': -121.478,\n",
       "  'trace_category': 'earthquake_local'}]"
      ]
     },
     "execution_count": 126,
     "metadata": {},
     "output_type": "execute_result"
    }
   ],
   "source": [
    "df_test.head(1).to_dict('records')"
   ]
  },
  {
   "cell_type": "code",
   "execution_count": null,
   "metadata": {},
   "outputs": [
    {
     "data": {
      "text/plain": [
       "[{'trace_name': 'HPC.NC_20130403221010_EV',\n",
       "  'location': Location(Rock House Ridge Trail, Santa Clara County, California, United States, (37.196515102546805, -121.47592066738518, 0.0)),\n",
       "  'latitude': '37.19483',\n",
       "  'longitude': '-121.478',\n",
       "  'event_recorded_at': '2013-04-03 22:10:11.730000',\n",
       "  'earthquake_depth': '4.72 km',\n",
       "  'earthquake_magnitude': '1.9 km'}]"
      ]
     },
     "execution_count": 127,
     "metadata": {},
     "output_type": "execute_result"
    }
   ],
   "source": [
    "eefos"
   ]
  },
  {
   "cell_type": "code",
   "execution_count": null,
   "metadata": {},
   "outputs": [],
   "source": [
    "eefos"
   ]
  }
 ],
 "metadata": {
  "kernelspec": {
   "display_name": "Python 3",
   "language": "python",
   "name": "python3"
  },
  "language_info": {
   "codemirror_mode": {
    "name": "ipython",
    "version": 3
   },
   "file_extension": ".py",
   "mimetype": "text/x-python",
   "name": "python",
   "nbconvert_exporter": "python",
   "pygments_lexer": "ipython3",
   "version": "3.8.8"
  }
 },
 "nbformat": 4,
 "nbformat_minor": 1
}
