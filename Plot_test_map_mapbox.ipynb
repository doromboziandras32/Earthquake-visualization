{
 "cells": [
  {
   "cell_type": "code",
   "execution_count": 1,
   "metadata": {
    "collapsed": true
   },
   "outputs": [],
   "source": [
    "#Some test to exxtract stanford dataset"
   ]
  },
  {
   "cell_type": "code",
   "execution_count": 2,
   "outputs": [
    {
     "name": "stderr",
     "output_type": "stream",
     "text": [
      "C:\\Users\\Andras\\anaconda3\\lib\\site-packages\\IPython\\core\\interactiveshell.py:3437: DtypeWarning: Columns (21) have mixed types.Specify dtype option on import or set low_memory=False.\n",
      "  exec(code_obj, self.user_global_ns, self.user_ns)\n"
     ]
    }
   ],
   "source": [
    "import pandas as pd\n",
    "\n",
    "df_test = pd.read_csv(\"csvs/chunk5.csv\")"
   ],
   "metadata": {
    "collapsed": false,
    "pycharm": {
     "name": "#%%\n"
    }
   }
  },
  {
   "cell_type": "code",
   "execution_count": 4,
   "outputs": [],
   "source": [
    "df_test.set_index('trace_name',inplace= True)"
   ],
   "metadata": {
    "collapsed": false,
    "pycharm": {
     "name": "#%%\n"
    }
   }
  },
  {
   "cell_type": "code",
   "execution_count": 5,
   "outputs": [
    {
     "data": {
      "text/plain": "                         network_code receiver_code receiver_type  \\\ntrace_name                                                          \nHPC.NC_20130403221010_EV           NC           HPC            EH   \nHPC.NC_20130404025956_EV           NC           HPC            EH   \nHPC.NC_20130405011141_EV           NC           HPC            EH   \nHPC.NC_20130405093239_EV           NC           HPC            EH   \nHPC.NC_20130407003202_EV           NC           HPC            EH   \n...                               ...           ...           ...   \nPAH.NN_20151206184041_EV           NN           PAH            HH   \nPAH.NN_20151206184806_EV           NN           PAH            HH   \nPAH.NN_20151208145127_EV           NN           PAH            HH   \nPAH.NN_20151210082124_EV           NN           PAH            HH   \nPAH.NN_20151210194654_EV           NN           PAH            HH   \n\n                          receiver_latitude  receiver_longitude  \\\ntrace_name                                                        \nHPC.NC_20130403221010_EV          37.059933         -121.275780   \nHPC.NC_20130404025956_EV          37.059933         -121.275780   \nHPC.NC_20130405011141_EV          37.059933         -121.275780   \nHPC.NC_20130405093239_EV          37.059933         -121.275780   \nHPC.NC_20130407003202_EV          37.059933         -121.275780   \n...                                     ...                 ...   \nPAH.NN_20151206184041_EV          39.710602         -119.385399   \nPAH.NN_20151206184806_EV          39.710602         -119.385399   \nPAH.NN_20151208145127_EV          39.710602         -119.385399   \nPAH.NN_20151210082124_EV          39.710602         -119.385399   \nPAH.NN_20151210194654_EV          39.710602         -119.385399   \n\n                          receiver_elevation_m  p_arrival_sample p_status  \\\ntrace_name                                                                  \nHPC.NC_20130403221010_EV                 468.0             800.0   manual   \nHPC.NC_20130404025956_EV                 468.0             500.0   manual   \nHPC.NC_20130405011141_EV                 468.0             600.0   manual   \nHPC.NC_20130405093239_EV                 468.0            1000.0   manual   \nHPC.NC_20130407003202_EV                 468.0             700.0   manual   \n...                                        ...               ...      ...   \nPAH.NN_20151206184041_EV                1520.0             700.0   manual   \nPAH.NN_20151206184806_EV                1520.0             600.0   manual   \nPAH.NN_20151208145127_EV                1520.0             700.0   manual   \nPAH.NN_20151210082124_EV                1520.0             600.0   manual   \nPAH.NN_20151210194654_EV                1520.0             400.0   manual   \n\n                          p_weight  p_travel_sec  ...  source_magnitude_type  \\\ntrace_name                                        ...                          \nHPC.NC_20130403221010_EV      0.68       3.93000  ...                     md   \nHPC.NC_20130404025956_EV      0.64       3.37000  ...                     md   \nHPC.NC_20130405011141_EV      0.66       4.20000  ...                     md   \nHPC.NC_20130405093239_EV      0.38       3.38000  ...                     md   \nHPC.NC_20130407003202_EV      0.68       3.86000  ...                     md   \n...                            ...           ...  ...                    ...   \nPAH.NN_20151206184041_EV      0.95      10.65539  ...                     ml   \nPAH.NN_20151206184806_EV      0.95       8.85193  ...                     ml   \nPAH.NN_20151208145127_EV      0.95       8.69025  ...                     ml   \nPAH.NN_20151210082124_EV      0.60      17.27000  ...                     md   \nPAH.NN_20151210194654_EV      0.95       8.85312  ...                     ml   \n\n                         source_magnitude_author  \\\ntrace_name                                         \nHPC.NC_20130403221010_EV                    None   \nHPC.NC_20130404025956_EV                    None   \nHPC.NC_20130405011141_EV                    None   \nHPC.NC_20130405093239_EV                    None   \nHPC.NC_20130407003202_EV                    None   \n...                                          ...   \nPAH.NN_20151206184041_EV                    None   \nPAH.NN_20151206184806_EV                    None   \nPAH.NN_20151208145127_EV                    None   \nPAH.NN_20151210082124_EV                    None   \nPAH.NN_20151210194654_EV                    None   \n\n                          source_mechanism_strike_dip_rake  \\\ntrace_name                                                   \nHPC.NC_20130403221010_EV                              None   \nHPC.NC_20130404025956_EV                              None   \nHPC.NC_20130405011141_EV                              None   \nHPC.NC_20130405093239_EV                              None   \nHPC.NC_20130407003202_EV                              None   \n...                                                    ...   \nPAH.NN_20151206184041_EV                              None   \nPAH.NN_20151206184806_EV                              None   \nPAH.NN_20151208145127_EV                              None   \nPAH.NN_20151210082124_EV                              None   \nPAH.NN_20151210194654_EV                              None   \n\n                         source_distance_deg source_distance_km  \\\ntrace_name                                                        \nHPC.NC_20130403221010_EV              0.2108              23.39   \nHPC.NC_20130404025956_EV              0.1730              19.24   \nHPC.NC_20130405011141_EV              0.1910              21.12   \nHPC.NC_20130405093239_EV              0.1739              19.30   \nHPC.NC_20130407003202_EV              0.1730              19.20   \n...                                      ...                ...   \nPAH.NN_20151206184041_EV              0.5550              61.76   \nPAH.NN_20151206184806_EV              0.4560              50.78   \nPAH.NN_20151208145127_EV              0.4590              51.16   \nPAH.NN_20151210082124_EV              0.9676             107.69   \nPAH.NN_20151210194654_EV              0.4550              50.73   \n\n                         back_azimuth_deg  \\\ntrace_name                                  \nHPC.NC_20130403221010_EV           309.90   \nHPC.NC_20130404025956_EV           236.20   \nHPC.NC_20130405011141_EV           186.30   \nHPC.NC_20130405093239_EV           235.40   \nHPC.NC_20130407003202_EV           224.20   \n...                                   ...   \nPAH.NN_20151206184041_EV            61.27   \nPAH.NN_20151206184806_EV           256.94   \nPAH.NN_20151208145127_EV           257.99   \nPAH.NN_20151210082124_EV           259.30   \nPAH.NN_20151210194654_EV           256.57   \n\n                                                         snr_db  \\\ntrace_name                                                        \nHPC.NC_20130403221010_EV  [46.5        42.         44.59999847]   \nHPC.NC_20130404025956_EV  [25.79999924 22.29999924 27.39999962]   \nHPC.NC_20130405011141_EV  [41.09999847 33.40000153 36.59999847]   \nHPC.NC_20130405093239_EV  [54.90000153 51.59999847 55.79999924]   \nHPC.NC_20130407003202_EV  [27.60000038 18.70000076 18.70000076]   \n...                                                         ...   \nPAH.NN_20151206184041_EV  [17.29999924 17.29999924 22.20000076]   \nPAH.NN_20151206184806_EV     [9.39999962 8.         8.39999962]   \nPAH.NN_20151208145127_EV  [26.5        27.20000076 27.79999924]   \nPAH.NN_20151210082124_EV  [19.39999962 12.19999981  1.79999995]   \nPAH.NN_20151210194654_EV  [18.89999962 10.39999962  8.89999962]   \n\n                          coda_end_sample            trace_start_time  \\\ntrace_name                                                              \nHPC.NC_20130403221010_EV        [[1680.]]  2013-04-03 22:10:11.730000   \nHPC.NC_20130404025956_EV        [[1438.]]  2013-04-04 02:59:57.870000   \nHPC.NC_20130405011141_EV        [[1464.]]  2013-04-05 01:11:42.080000   \nHPC.NC_20130405093239_EV        [[2195.]]  2013-04-05 09:32:39.100000   \nHPC.NC_20130407003202_EV        [[1593.]]  2013-04-07 00:32:03.310000   \n...                                   ...                         ...   \nPAH.NN_20151206184041_EV        [[2872.]]  2015-12-06 18:40:42.497390   \nPAH.NN_20151206184806_EV        [[3040.]]  2015-12-06 18:48:07.362930   \nPAH.NN_20151208145127_EV        [[2151.]]  2015-12-08 14:51:28.524250   \nPAH.NN_20151210082124_EV        [[2997.]]  2015-12-10 08:21:25.390000   \nPAH.NN_20151210194654_EV        [[1386.]]  2015-12-10 19:46:55.095120   \n\n                            trace_category  \ntrace_name                                  \nHPC.NC_20130403221010_EV  earthquake_local  \nHPC.NC_20130404025956_EV  earthquake_local  \nHPC.NC_20130405011141_EV  earthquake_local  \nHPC.NC_20130405093239_EV  earthquake_local  \nHPC.NC_20130407003202_EV  earthquake_local  \n...                                    ...  \nPAH.NN_20151206184041_EV  earthquake_local  \nPAH.NN_20151206184806_EV  earthquake_local  \nPAH.NN_20151208145127_EV  earthquake_local  \nPAH.NN_20151210082124_EV  earthquake_local  \nPAH.NN_20151210194654_EV  earthquake_local  \n\n[200000 rows x 34 columns]",
      "text/html": "<div>\n<style scoped>\n    .dataframe tbody tr th:only-of-type {\n        vertical-align: middle;\n    }\n\n    .dataframe tbody tr th {\n        vertical-align: top;\n    }\n\n    .dataframe thead th {\n        text-align: right;\n    }\n</style>\n<table border=\"1\" class=\"dataframe\">\n  <thead>\n    <tr style=\"text-align: right;\">\n      <th></th>\n      <th>network_code</th>\n      <th>receiver_code</th>\n      <th>receiver_type</th>\n      <th>receiver_latitude</th>\n      <th>receiver_longitude</th>\n      <th>receiver_elevation_m</th>\n      <th>p_arrival_sample</th>\n      <th>p_status</th>\n      <th>p_weight</th>\n      <th>p_travel_sec</th>\n      <th>...</th>\n      <th>source_magnitude_type</th>\n      <th>source_magnitude_author</th>\n      <th>source_mechanism_strike_dip_rake</th>\n      <th>source_distance_deg</th>\n      <th>source_distance_km</th>\n      <th>back_azimuth_deg</th>\n      <th>snr_db</th>\n      <th>coda_end_sample</th>\n      <th>trace_start_time</th>\n      <th>trace_category</th>\n    </tr>\n    <tr>\n      <th>trace_name</th>\n      <th></th>\n      <th></th>\n      <th></th>\n      <th></th>\n      <th></th>\n      <th></th>\n      <th></th>\n      <th></th>\n      <th></th>\n      <th></th>\n      <th></th>\n      <th></th>\n      <th></th>\n      <th></th>\n      <th></th>\n      <th></th>\n      <th></th>\n      <th></th>\n      <th></th>\n      <th></th>\n      <th></th>\n    </tr>\n  </thead>\n  <tbody>\n    <tr>\n      <th>HPC.NC_20130403221010_EV</th>\n      <td>NC</td>\n      <td>HPC</td>\n      <td>EH</td>\n      <td>37.059933</td>\n      <td>-121.275780</td>\n      <td>468.0</td>\n      <td>800.0</td>\n      <td>manual</td>\n      <td>0.68</td>\n      <td>3.93000</td>\n      <td>...</td>\n      <td>md</td>\n      <td>None</td>\n      <td>None</td>\n      <td>0.2108</td>\n      <td>23.39</td>\n      <td>309.90</td>\n      <td>[46.5        42.         44.59999847]</td>\n      <td>[[1680.]]</td>\n      <td>2013-04-03 22:10:11.730000</td>\n      <td>earthquake_local</td>\n    </tr>\n    <tr>\n      <th>HPC.NC_20130404025956_EV</th>\n      <td>NC</td>\n      <td>HPC</td>\n      <td>EH</td>\n      <td>37.059933</td>\n      <td>-121.275780</td>\n      <td>468.0</td>\n      <td>500.0</td>\n      <td>manual</td>\n      <td>0.64</td>\n      <td>3.37000</td>\n      <td>...</td>\n      <td>md</td>\n      <td>None</td>\n      <td>None</td>\n      <td>0.1730</td>\n      <td>19.24</td>\n      <td>236.20</td>\n      <td>[25.79999924 22.29999924 27.39999962]</td>\n      <td>[[1438.]]</td>\n      <td>2013-04-04 02:59:57.870000</td>\n      <td>earthquake_local</td>\n    </tr>\n    <tr>\n      <th>HPC.NC_20130405011141_EV</th>\n      <td>NC</td>\n      <td>HPC</td>\n      <td>EH</td>\n      <td>37.059933</td>\n      <td>-121.275780</td>\n      <td>468.0</td>\n      <td>600.0</td>\n      <td>manual</td>\n      <td>0.66</td>\n      <td>4.20000</td>\n      <td>...</td>\n      <td>md</td>\n      <td>None</td>\n      <td>None</td>\n      <td>0.1910</td>\n      <td>21.12</td>\n      <td>186.30</td>\n      <td>[41.09999847 33.40000153 36.59999847]</td>\n      <td>[[1464.]]</td>\n      <td>2013-04-05 01:11:42.080000</td>\n      <td>earthquake_local</td>\n    </tr>\n    <tr>\n      <th>HPC.NC_20130405093239_EV</th>\n      <td>NC</td>\n      <td>HPC</td>\n      <td>EH</td>\n      <td>37.059933</td>\n      <td>-121.275780</td>\n      <td>468.0</td>\n      <td>1000.0</td>\n      <td>manual</td>\n      <td>0.38</td>\n      <td>3.38000</td>\n      <td>...</td>\n      <td>md</td>\n      <td>None</td>\n      <td>None</td>\n      <td>0.1739</td>\n      <td>19.30</td>\n      <td>235.40</td>\n      <td>[54.90000153 51.59999847 55.79999924]</td>\n      <td>[[2195.]]</td>\n      <td>2013-04-05 09:32:39.100000</td>\n      <td>earthquake_local</td>\n    </tr>\n    <tr>\n      <th>HPC.NC_20130407003202_EV</th>\n      <td>NC</td>\n      <td>HPC</td>\n      <td>EH</td>\n      <td>37.059933</td>\n      <td>-121.275780</td>\n      <td>468.0</td>\n      <td>700.0</td>\n      <td>manual</td>\n      <td>0.68</td>\n      <td>3.86000</td>\n      <td>...</td>\n      <td>md</td>\n      <td>None</td>\n      <td>None</td>\n      <td>0.1730</td>\n      <td>19.20</td>\n      <td>224.20</td>\n      <td>[27.60000038 18.70000076 18.70000076]</td>\n      <td>[[1593.]]</td>\n      <td>2013-04-07 00:32:03.310000</td>\n      <td>earthquake_local</td>\n    </tr>\n    <tr>\n      <th>...</th>\n      <td>...</td>\n      <td>...</td>\n      <td>...</td>\n      <td>...</td>\n      <td>...</td>\n      <td>...</td>\n      <td>...</td>\n      <td>...</td>\n      <td>...</td>\n      <td>...</td>\n      <td>...</td>\n      <td>...</td>\n      <td>...</td>\n      <td>...</td>\n      <td>...</td>\n      <td>...</td>\n      <td>...</td>\n      <td>...</td>\n      <td>...</td>\n      <td>...</td>\n      <td>...</td>\n    </tr>\n    <tr>\n      <th>PAH.NN_20151206184041_EV</th>\n      <td>NN</td>\n      <td>PAH</td>\n      <td>HH</td>\n      <td>39.710602</td>\n      <td>-119.385399</td>\n      <td>1520.0</td>\n      <td>700.0</td>\n      <td>manual</td>\n      <td>0.95</td>\n      <td>10.65539</td>\n      <td>...</td>\n      <td>ml</td>\n      <td>None</td>\n      <td>None</td>\n      <td>0.5550</td>\n      <td>61.76</td>\n      <td>61.27</td>\n      <td>[17.29999924 17.29999924 22.20000076]</td>\n      <td>[[2872.]]</td>\n      <td>2015-12-06 18:40:42.497390</td>\n      <td>earthquake_local</td>\n    </tr>\n    <tr>\n      <th>PAH.NN_20151206184806_EV</th>\n      <td>NN</td>\n      <td>PAH</td>\n      <td>HH</td>\n      <td>39.710602</td>\n      <td>-119.385399</td>\n      <td>1520.0</td>\n      <td>600.0</td>\n      <td>manual</td>\n      <td>0.95</td>\n      <td>8.85193</td>\n      <td>...</td>\n      <td>ml</td>\n      <td>None</td>\n      <td>None</td>\n      <td>0.4560</td>\n      <td>50.78</td>\n      <td>256.94</td>\n      <td>[9.39999962 8.         8.39999962]</td>\n      <td>[[3040.]]</td>\n      <td>2015-12-06 18:48:07.362930</td>\n      <td>earthquake_local</td>\n    </tr>\n    <tr>\n      <th>PAH.NN_20151208145127_EV</th>\n      <td>NN</td>\n      <td>PAH</td>\n      <td>HH</td>\n      <td>39.710602</td>\n      <td>-119.385399</td>\n      <td>1520.0</td>\n      <td>700.0</td>\n      <td>manual</td>\n      <td>0.95</td>\n      <td>8.69025</td>\n      <td>...</td>\n      <td>ml</td>\n      <td>None</td>\n      <td>None</td>\n      <td>0.4590</td>\n      <td>51.16</td>\n      <td>257.99</td>\n      <td>[26.5        27.20000076 27.79999924]</td>\n      <td>[[2151.]]</td>\n      <td>2015-12-08 14:51:28.524250</td>\n      <td>earthquake_local</td>\n    </tr>\n    <tr>\n      <th>PAH.NN_20151210082124_EV</th>\n      <td>NN</td>\n      <td>PAH</td>\n      <td>HH</td>\n      <td>39.710602</td>\n      <td>-119.385399</td>\n      <td>1520.0</td>\n      <td>600.0</td>\n      <td>manual</td>\n      <td>0.60</td>\n      <td>17.27000</td>\n      <td>...</td>\n      <td>md</td>\n      <td>None</td>\n      <td>None</td>\n      <td>0.9676</td>\n      <td>107.69</td>\n      <td>259.30</td>\n      <td>[19.39999962 12.19999981  1.79999995]</td>\n      <td>[[2997.]]</td>\n      <td>2015-12-10 08:21:25.390000</td>\n      <td>earthquake_local</td>\n    </tr>\n    <tr>\n      <th>PAH.NN_20151210194654_EV</th>\n      <td>NN</td>\n      <td>PAH</td>\n      <td>HH</td>\n      <td>39.710602</td>\n      <td>-119.385399</td>\n      <td>1520.0</td>\n      <td>400.0</td>\n      <td>manual</td>\n      <td>0.95</td>\n      <td>8.85312</td>\n      <td>...</td>\n      <td>ml</td>\n      <td>None</td>\n      <td>None</td>\n      <td>0.4550</td>\n      <td>50.73</td>\n      <td>256.57</td>\n      <td>[18.89999962 10.39999962  8.89999962]</td>\n      <td>[[1386.]]</td>\n      <td>2015-12-10 19:46:55.095120</td>\n      <td>earthquake_local</td>\n    </tr>\n  </tbody>\n</table>\n<p>200000 rows × 34 columns</p>\n</div>"
     },
     "execution_count": 5,
     "metadata": {},
     "output_type": "execute_result"
    }
   ],
   "source": [
    "df_test"
   ],
   "metadata": {
    "collapsed": false,
    "pycharm": {
     "name": "#%%\n"
    }
   }
  },
  {
   "cell_type": "code",
   "execution_count": 6,
   "outputs": [],
   "source": [
    "df_earthquake_detections = df_test[['source_latitude','source_longitude']]"
   ],
   "metadata": {
    "collapsed": false,
    "pycharm": {
     "name": "#%%\n"
    }
   }
  },
  {
   "cell_type": "code",
   "execution_count": 7,
   "outputs": [
    {
     "data": {
      "text/plain": "                          source_latitude  source_longitude\ntrace_name                                                 \nHPC.NC_20130403221010_EV         37.19483        -121.47800\nHPC.NC_20130404025956_EV         36.96383        -121.45567\nHPC.NC_20130405011141_EV         36.87083        -121.30200\nHPC.NC_20130405093239_EV         36.96200        -121.45400\nHPC.NC_20130407003202_EV         36.93617        -121.42650\n...                                   ...               ...\nPAH.NN_20151206184041_EV         39.97890        -118.75330\nPAH.NN_20151206184806_EV         39.60910        -119.96240\nPAH.NN_20151208145127_EV         39.61660        -119.96910\nPAH.NN_20151210082124_EV         39.53750        -120.61950\nPAH.NN_20151210194654_EV         39.60630        -119.96090\n\n[200000 rows x 2 columns]",
      "text/html": "<div>\n<style scoped>\n    .dataframe tbody tr th:only-of-type {\n        vertical-align: middle;\n    }\n\n    .dataframe tbody tr th {\n        vertical-align: top;\n    }\n\n    .dataframe thead th {\n        text-align: right;\n    }\n</style>\n<table border=\"1\" class=\"dataframe\">\n  <thead>\n    <tr style=\"text-align: right;\">\n      <th></th>\n      <th>source_latitude</th>\n      <th>source_longitude</th>\n    </tr>\n    <tr>\n      <th>trace_name</th>\n      <th></th>\n      <th></th>\n    </tr>\n  </thead>\n  <tbody>\n    <tr>\n      <th>HPC.NC_20130403221010_EV</th>\n      <td>37.19483</td>\n      <td>-121.47800</td>\n    </tr>\n    <tr>\n      <th>HPC.NC_20130404025956_EV</th>\n      <td>36.96383</td>\n      <td>-121.45567</td>\n    </tr>\n    <tr>\n      <th>HPC.NC_20130405011141_EV</th>\n      <td>36.87083</td>\n      <td>-121.30200</td>\n    </tr>\n    <tr>\n      <th>HPC.NC_20130405093239_EV</th>\n      <td>36.96200</td>\n      <td>-121.45400</td>\n    </tr>\n    <tr>\n      <th>HPC.NC_20130407003202_EV</th>\n      <td>36.93617</td>\n      <td>-121.42650</td>\n    </tr>\n    <tr>\n      <th>...</th>\n      <td>...</td>\n      <td>...</td>\n    </tr>\n    <tr>\n      <th>PAH.NN_20151206184041_EV</th>\n      <td>39.97890</td>\n      <td>-118.75330</td>\n    </tr>\n    <tr>\n      <th>PAH.NN_20151206184806_EV</th>\n      <td>39.60910</td>\n      <td>-119.96240</td>\n    </tr>\n    <tr>\n      <th>PAH.NN_20151208145127_EV</th>\n      <td>39.61660</td>\n      <td>-119.96910</td>\n    </tr>\n    <tr>\n      <th>PAH.NN_20151210082124_EV</th>\n      <td>39.53750</td>\n      <td>-120.61950</td>\n    </tr>\n    <tr>\n      <th>PAH.NN_20151210194654_EV</th>\n      <td>39.60630</td>\n      <td>-119.96090</td>\n    </tr>\n  </tbody>\n</table>\n<p>200000 rows × 2 columns</p>\n</div>"
     },
     "execution_count": 7,
     "metadata": {},
     "output_type": "execute_result"
    }
   ],
   "source": [
    "df_earthquake_detections"
   ],
   "metadata": {
    "collapsed": false,
    "pycharm": {
     "name": "#%%\n"
    }
   }
  },
  {
   "cell_type": "code",
   "execution_count": null,
   "outputs": [],
   "source": [
    "# initial ideas https://plotly.com/python/scattermapbox/"
   ],
   "metadata": {
    "collapsed": false,
    "pycharm": {
     "name": "#%%\n"
    }
   }
  },
  {
   "cell_type": "code",
   "execution_count": 9,
   "outputs": [
    {
     "name": "stdout",
     "output_type": "stream",
     "text": [
      "Dash is running on http://127.0.0.1:8050/\n",
      "\n",
      " * Serving Flask app \"__main__\" (lazy loading)\r\n",
      " * Environment: production\r\n",
      "   WARNING: This is a development server. Do not use it in a production deployment.\r\n",
      "   Use a production WSGI server instead.\r\n",
      " * Debug mode: on\r\n"
     ]
    }
   ],
   "source": [
    "import plotly.graph_objects as go\n",
    "import dash\n",
    "import dash_core_components as dcc\n",
    "import dash_html_components as html\n",
    "\n",
    "#https://plotly.com/python-api-reference/generated/plotly.graph_objects.Scattermapbox.html\n",
    "#https://community.plotly.com/t/scattermapbox-setting-visible-range/6140/3\n",
    "#mapbox_access_token = open(\".mapbox_token\").read()\n",
    "mapbox_access_token = \"pk.eyJ1IjoiZG9yYW5kMzIiLCJhIjoiY2t6OG81a3lnMHhnNjJ2czhkaTg2cGRreiJ9.50gnwHchu58S-KeK0fW8Ig\"\n",
    "\n",
    "df = pd.read_csv('https://raw.githubusercontent.com/plotly/datasets/master/Nuclear%20Waste%20Sites%20on%20American%20Campuses.csv')\n",
    "#site_lat = df.lat\n",
    "#site_lon = df.lon\n",
    "site_lat = df_earthquake_detections.source_latitude\n",
    "site_lon = df_earthquake_detections.source_longitude\n",
    "#locations_name = df.text\n",
    "\n",
    "fig = go.Figure({\"layout\": {\n",
    "            \"title\": \"My Dash Graph\",\n",
    "            \"height\": 700,  # px\n",
    "        }})\n",
    "\n",
    "\n",
    "fig.add_trace(go.Scattermapbox(\n",
    "    lat=site_lat,\n",
    "    lon=site_lon,\n",
    "    mode='markers',\n",
    "    marker=go.scattermapbox.Marker(\n",
    "        size=17,\n",
    "        color='rgb(255, 0, 0)',\n",
    "        opacity=0.7\n",
    "    )#,\n",
    "    #text=locations_name,\n",
    "    #hoverinfo='text'\n",
    "))\n",
    "\n",
    "fig.add_trace(go.Scattermapbox(\n",
    "    lat=site_lat,\n",
    "    lon=site_lon,\n",
    "    mode='markers',\n",
    "    marker=go.scattermapbox.Marker(\n",
    "        size=8,\n",
    "        color='rgb(242, 177, 172)',\n",
    "        opacity=0.7\n",
    "    ),\n",
    "    hoverinfo='text'\n",
    "))\n",
    "\n",
    "#https://plotly.com/python/reference/layout/mapbox/\n",
    "fig.update_layout(\n",
    "    title='Idea for plotting earthquake events',\n",
    "    autosize=True,\n",
    "    hovermode='closest',\n",
    "    showlegend=False,\n",
    "    mapbox=dict(\n",
    "        accesstoken=mapbox_access_token,\n",
    "        bearing=0,\n",
    "        center=dict(\n",
    "            lat=38,\n",
    "            lon=-94\n",
    "        ),\n",
    "        pitch=0,\n",
    "        zoom=1,\n",
    "        #minzoom = 1,\n",
    "        style='light'\n",
    "    ),\n",
    ")\n",
    "\n",
    "\n",
    "app = dash.Dash()\n",
    "app.layout = html.Div([\n",
    "    dcc.Graph(figure=fig)\n",
    "])\n",
    "\n",
    "app.run_server(debug=True, use_reloader=False)  # Turn off reloader if inside Jupyter\n",
    "\n"
   ],
   "metadata": {
    "collapsed": false,
    "pycharm": {
     "name": "#%%\n"
    }
   }
  },
  {
   "cell_type": "code",
   "execution_count": null,
   "outputs": [],
   "source": [
    "#https://stackoverflow.com/questions/38701969/dynamic-spectrum-using-plotly\n",
    "#https://dash.plotly.com/dash-html-components/audio\n",
    "#https://github.com/plotly/dash-player\n",
    "#https://www.youtube.com/watch?v=rDodciQhfS8\n",
    "#https://github.com/tracek/dash_audio_components\n",
    "\n",
    "\n",
    "#!!!!!!!!!!!!!!https://www.youtube.com/watch?v=7R7VMSLwooo\n"
   ],
   "metadata": {
    "collapsed": false,
    "pycharm": {
     "name": "#%%\n",
     "is_executing": true
    }
   }
  },
  {
   "cell_type": "code",
   "execution_count": null,
   "outputs": [],
   "source": [
    "\n",
    "\n"
   ],
   "metadata": {
    "collapsed": false,
    "pycharm": {
     "name": "#%%\n",
     "is_executing": true
    }
   }
  }
 ],
 "metadata": {
  "kernelspec": {
   "display_name": "Python 3",
   "language": "python",
   "name": "python3"
  },
  "language_info": {
   "codemirror_mode": {
    "name": "ipython",
    "version": 2
   },
   "file_extension": ".py",
   "mimetype": "text/x-python",
   "name": "python",
   "nbconvert_exporter": "python",
   "pygments_lexer": "ipython2",
   "version": "2.7.6"
  }
 },
 "nbformat": 4,
 "nbformat_minor": 0
}