{
 "cells": [
  {
   "cell_type": "code",
   "execution_count": 3,
   "metadata": {
    "collapsed": true
   },
   "outputs": [],
   "source": [
    "#Some test to exxtract stanford dataset"
   ]
  },
  {
   "cell_type": "code",
   "execution_count": 1,
   "metadata": {
    "pycharm": {
     "name": "#%%\n"
    }
   },
   "outputs": [
    {
     "name": "stderr",
     "output_type": "stream",
     "text": [
      "C:\\Users\\Andras\\AppData\\Roaming\\Python\\Python38\\site-packages\\IPython\\core\\interactiveshell.py:3340: DtypeWarning: Columns (21) have mixed types.Specify dtype option on import or set low_memory=False.\n",
      "  exec(code_obj, self.user_global_ns, self.user_ns)\n"
     ]
    }
   ],
   "source": [
    "import pandas as pd\n",
    "import numpy as np\n",
    "\n",
    "df_test = pd.read_csv(\"csvs/chunk5.csv\")\n",
    "\n",
    "#df_test.set_index('trace_name',inplace= True)"
   ]
  },
  {
   "cell_type": "code",
   "execution_count": 2,
   "outputs": [],
   "source": [
    "import librosa"
   ],
   "metadata": {
    "collapsed": false,
    "pycharm": {
     "name": "#%%\n"
    }
   }
  },
  {
   "cell_type": "code",
   "execution_count": 3,
   "metadata": {
    "pycharm": {
     "name": "#%%\n"
    }
   },
   "outputs": [],
   "source": [
    "import h5py\n",
    "hf = h5py.File('chunk5.hdf5', 'r', libver='earliest')"
   ]
  },
  {
   "cell_type": "code",
   "execution_count": null,
   "metadata": {
    "pycharm": {
     "name": "#%%\n"
    }
   },
   "outputs": [],
   "source": [
    "#eread = pd.read_hdf('chunk5.hdf5')"
   ]
  },
  {
   "cell_type": "code",
   "execution_count": 4,
   "metadata": {
    "pycharm": {
     "name": "#%%\n"
    }
   },
   "outputs": [],
   "source": [
    "#hf['Folder'].attrs.keys()\n",
    "\n",
    "ee = hf.get('data/HPC.NC_20130403221010_EV')\n"
   ]
  },
  {
   "cell_type": "code",
   "execution_count": 5,
   "metadata": {
    "pycharm": {
     "name": "#%%\n"
    }
   },
   "outputs": [],
   "source": [
    "import matplotlib.pyplot as plt"
   ]
  },
  {
   "cell_type": "code",
   "execution_count": 6,
   "metadata": {
    "pycharm": {
     "name": "#%%\n"
    }
   },
   "outputs": [
    {
     "data": {
      "text/plain": "[<matplotlib.lines.Line2D at 0x1f3a119bb20>]"
     },
     "execution_count": 6,
     "metadata": {},
     "output_type": "execute_result"
    },
    {
     "data": {
      "text/plain": "<Figure size 432x288 with 1 Axes>",
      "image/png": "[encoded data removed]"
     },
     "metadata": {
      "needs_background": "light"
     },
     "output_type": "display_data"
    }
   ],
   "source": [
    "plt.plot(ee[:,2])"
   ]
  },
  {
   "cell_type": "code",
   "execution_count": 8,
   "outputs": [
    {
     "data": {
      "text/plain": "(6000,)"
     },
     "execution_count": 8,
     "metadata": {},
     "output_type": "execute_result"
    }
   ],
   "source": [
    "ee[:,2].shape"
   ],
   "metadata": {
    "collapsed": false,
    "pycharm": {
     "name": "#%%\n"
    }
   }
  },
  {
   "cell_type": "code",
   "execution_count": 7,
   "metadata": {
    "pycharm": {
     "name": "#%%\n"
    }
   },
   "outputs": [
    {
     "ename": "IndexError",
     "evalue": "tuple index out of range",
     "output_type": "error",
     "traceback": [
      "\u001B[1;31m---------------------------------------------------------------------------\u001B[0m",
      "\u001B[1;31mIndexError\u001B[0m                                Traceback (most recent call last)",
      "Input \u001B[1;32mIn [7]\u001B[0m, in \u001B[0;36m<cell line: 5>\u001B[1;34m()\u001B[0m\n\u001B[0;32m      3\u001B[0m fig, ax \u001B[38;5;241m=\u001B[39m plt\u001B[38;5;241m.\u001B[39msubplots()\n\u001B[0;32m      4\u001B[0m S_dB \u001B[38;5;241m=\u001B[39m librosa\u001B[38;5;241m.\u001B[39mpower_to_db(ee[:,\u001B[38;5;241m2\u001B[39m], ref\u001B[38;5;241m=\u001B[39mnp\u001B[38;5;241m.\u001B[39mmax)\n\u001B[1;32m----> 5\u001B[0m img \u001B[38;5;241m=\u001B[39m librosa\u001B[38;5;241m.\u001B[39mdisplay\u001B[38;5;241m.\u001B[39mspecshow(S_dB, x_axis\u001B[38;5;241m=\u001B[39m\u001B[38;5;124m'\u001B[39m\u001B[38;5;124mtime\u001B[39m\u001B[38;5;124m'\u001B[39m,\n\u001B[0;32m      6\u001B[0m                                y_axis\u001B[38;5;241m=\u001B[39m\u001B[38;5;124m'\u001B[39m\u001B[38;5;124mmel\u001B[39m\u001B[38;5;124m'\u001B[39m, sr\u001B[38;5;241m=\u001B[39m\u001B[38;5;241m100\u001B[39m,\n\u001B[0;32m      7\u001B[0m                                fmax\u001B[38;5;241m=\u001B[39m\u001B[38;5;241m8000\u001B[39m, ax\u001B[38;5;241m=\u001B[39max)\n\u001B[0;32m      8\u001B[0m fig\u001B[38;5;241m.\u001B[39mcolorbar(img, ax\u001B[38;5;241m=\u001B[39max, \u001B[38;5;28mformat\u001B[39m\u001B[38;5;241m=\u001B[39m\u001B[38;5;124m'\u001B[39m\u001B[38;5;132;01m%+2.0f\u001B[39;00m\u001B[38;5;124m dB\u001B[39m\u001B[38;5;124m'\u001B[39m)\n\u001B[0;32m      9\u001B[0m ax\u001B[38;5;241m.\u001B[39mset(title\u001B[38;5;241m=\u001B[39m\u001B[38;5;124m'\u001B[39m\u001B[38;5;124mMel-frequency spectrogram\u001B[39m\u001B[38;5;124m'\u001B[39m)\n",
      "File \u001B[1;32m~\\anaconda3\\lib\\site-packages\\librosa\\display.py:845\u001B[0m, in \u001B[0;36mspecshow\u001B[1;34m(data, x_coords, y_coords, x_axis, y_axis, sr, hop_length, fmin, fmax, tuning, bins_per_octave, key, Sa, mela, thaat, ax, **kwargs)\u001B[0m\n\u001B[0;32m    843\u001B[0m \u001B[38;5;66;03m# Get the x and y coordinates\u001B[39;00m\n\u001B[0;32m    844\u001B[0m y_coords \u001B[38;5;241m=\u001B[39m __mesh_coords(y_axis, y_coords, data\u001B[38;5;241m.\u001B[39mshape[\u001B[38;5;241m0\u001B[39m], \u001B[38;5;241m*\u001B[39m\u001B[38;5;241m*\u001B[39mall_params)\n\u001B[1;32m--> 845\u001B[0m x_coords \u001B[38;5;241m=\u001B[39m __mesh_coords(x_axis, x_coords, \u001B[43mdata\u001B[49m\u001B[38;5;241;43m.\u001B[39;49m\u001B[43mshape\u001B[49m\u001B[43m[\u001B[49m\u001B[38;5;241;43m1\u001B[39;49m\u001B[43m]\u001B[49m, \u001B[38;5;241m*\u001B[39m\u001B[38;5;241m*\u001B[39mall_params)\n\u001B[0;32m    847\u001B[0m axes \u001B[38;5;241m=\u001B[39m __check_axes(ax)\n\u001B[0;32m    848\u001B[0m out \u001B[38;5;241m=\u001B[39m axes\u001B[38;5;241m.\u001B[39mpcolormesh(x_coords, y_coords, data, \u001B[38;5;241m*\u001B[39m\u001B[38;5;241m*\u001B[39mkwargs)\n",
      "\u001B[1;31mIndexError\u001B[0m: tuple index out of range"
     ]
    },
    {
     "data": {
      "text/plain": "<Figure size 432x288 with 1 Axes>",
      "image/png": "[encoded data removed]"
     },
     "metadata": {
      "needs_background": "light"
     },
     "output_type": "display_data"
    }
   ],
   "source": [
    "import librosa\n",
    "import librosa.display\n",
    "#TODO: convert to spectrogram\n",
    "fig, ax = plt.subplots()\n",
    "S_dB = librosa.power_to_db(ee[:,2], ref=np.max)\n",
    "img = librosa.display.specshow(S_dB, x_axis='time',\n",
    "                               y_axis='mel', sr=100,\n",
    "                               fmax=8000, ax=ax)\n",
    "fig.colorbar(img, ax=ax, format='%+2.0f dB')\n",
    "ax.set(title='Mel-frequency spectrogram')"
   ]
  },
  {
   "cell_type": "code",
   "execution_count": null,
   "metadata": {
    "pycharm": {
     "name": "#%%\n"
    }
   },
   "outputs": [],
   "source": [
    "plt.plot(ee[:,0])"
   ]
  },
  {
   "cell_type": "code",
   "execution_count": null,
   "metadata": {
    "pycharm": {
     "name": "#%%\n"
    }
   },
   "outputs": [],
   "source": [
    "plt.plot(ee[:,1])"
   ]
  },
  {
   "cell_type": "code",
   "execution_count": null,
   "metadata": {
    "pycharm": {
     "name": "#%%\n"
    }
   },
   "outputs": [],
   "source": [
    "ee.attrs.keys()"
   ]
  },
  {
   "cell_type": "code",
   "execution_count": null,
   "metadata": {
    "pycharm": {
     "name": "#%%\n"
    }
   },
   "outputs": [],
   "source": [
    "df_test['time'] = pd.to_datetime(df_test['trace_start_time'], infer_datetime_format=True)\n",
    "df_test['source_depth_km'] = pd.to_numeric(df_test['source_depth_km'],errors='coerce')\n",
    "df_test['source_magnitude'] = pd.to_numeric(df_test['source_magnitude'],errors='coerce')\n",
    "#df_test['source_magnitude'].sort_values()\n",
    "#df_test.head(2)"
   ]
  },
  {
   "cell_type": "code",
   "execution_count": null,
   "metadata": {
    "pycharm": {
     "name": "#%%\n"
    }
   },
   "outputs": [],
   "source": [
    "df_test = df_test[['time','source_depth_km','source_magnitude','trace_name','source_latitude','source_longitude','trace_category']]"
   ]
  },
  {
   "cell_type": "code",
   "execution_count": null,
   "metadata": {
    "pycharm": {
     "name": "#%%\n"
    }
   },
   "outputs": [],
   "source": [
    "df_test"
   ]
  },
  {
   "cell_type": "markdown",
   "metadata": {
    "pycharm": {
     "name": "#%% md\n"
    }
   },
   "source": [
    "Extract the minimum depth, magnitude, recording times etcc"
   ]
  },
  {
   "cell_type": "code",
   "execution_count": null,
   "metadata": {
    "pycharm": {
     "name": "#%%\n"
    }
   },
   "outputs": [],
   "source": [
    "#Latitudes and longitudes\n",
    "site_lat = df_test.source_latitude\n",
    "site_lon = df_test.source_longitude\n",
    "hover_desc = 'Timestamp: ' +  str(df_test.time) + '<br>Category: ' + df_test.trace_category\n",
    "#hover_desc = f'Time of registration: {df_earthquake_detections.trace_start_time} <br> Category: {df_earthquake_detections.trace_category}'\n",
    "#time = df_earthquake_detections.trace_start_time\n",
    "#ctg =df_earthquake_detections.trace_category\n",
    "#locations_name = df.text\n",
    "#min timestamp\n",
    "#Extract timestamp range\n",
    "min_date = min(df_test['time']).date()\n",
    "max_date = max(df_test['time']).date()\n",
    "#Extract minimum and maximum depth\n",
    "min_depth = min(df_test['source_depth_km'])\n",
    "max_depth = max(df_test['source_depth_km'])\n",
    "#Extract minimum and maximum magnitude\n",
    "min_magnitude = min(df_test['source_magnitude'])\n",
    "max_magnitude = max(df_test['source_magnitude'])\n",
    "\n",
    "depth_space = np.linspace(start=min_depth,stop=max_depth,num=8,endpoint=True,dtype=np.float64)\n",
    "magnitude_space = np.linspace(start=min_magnitude,stop=max_magnitude,num=8,endpoint=True,dtype=np.float64)"
   ]
  },
  {
   "cell_type": "code",
   "execution_count": null,
   "metadata": {
    "pycharm": {
     "name": "#%%\n"
    }
   },
   "outputs": [],
   "source": [
    "#df_earthquake_detections\n"
   ]
  },
  {
   "cell_type": "code",
   "execution_count": null,
   "metadata": {
    "pycharm": {
     "name": "#%%\n"
    }
   },
   "outputs": [],
   "source": [
    "import base64\n",
    "import plotly.graph_objects as go\n",
    "import dash\n",
    "import dash_core_components as dcc\n",
    "import dash_html_components as html\n",
    "import plotly.express as px\n",
    "\n",
    "import dash_bootstrap_components as dbc\n",
    "#from dash import  dash_table\n",
    "import dash_table\n",
    "from datetime import date\n",
    "from dash.dependencies import Input,Output,State\n",
    "from dash import callback_context\n",
    "#https://plotly.com/python-api-reference/generated/plotly.graph_objects.Scattermapbox.html\n",
    "#https://community.plotly.com/t/scattermapbox-setting-visible-range/6140/3\n",
    "#mapbox_access_token = open(\".mapbox_token\").read()\n",
    "\n",
    "#Mapbox map initialize\n",
    "#fig = go.Figure({\"layout\": {\n",
    "#    \"title\": \"My Dash Graph\",\n",
    "#    \"height\": 700,  # px\n",
    "#}})\n",
    "#df = px.data.gapminder().query(\"year == 2007\")\n",
    "'''\n",
    "fig = px.scatter_geo(df, locations=\"iso_alpha\",\n",
    "                     color=\"continent\", # which column to use to set the color of markers\n",
    "                     hover_name=\"country\", # column added to hover information\n",
    "                     size=\"pop\", # size of markers\n",
    "                     projection=\"natural earth\")\n",
    "'''\n",
    "\n",
    "\n",
    "#!!!!!!!!!!!!!https://github.com/Coding-with-Adam/Dash-by-Plotly/blob/master/Dash_Interactive_Graphs/Scatter_mapbox/recycling.py\n",
    "app = dash.Dash()\n",
    "\n",
    "\n",
    "image_filename = 'samples_for_wireframe/img.png'\n",
    "encoded_image = base64.b64encode(open(image_filename, 'rb').read())\n",
    "#app.layout =html.Div([\n",
    "app.layout = html.Div([dbc.Row([\n",
    "\n",
    "                                #Filters\n",
    "                                html.Div(style={'width':'20%','marginLeft': 5, 'marginRight': 10,'display':'inline-block',\"border\":\"2px black solid\"},\n",
    "                                         children = [\n",
    "                                            #html.Div([\n",
    "                                            # dcc.Graph: maybe define somehow here?\n",
    "                                            #dcc.Graph(figure=fig, id='map-layout')]),\n",
    "                                             #'width':'15%','marginLeft': 20, 'marginRight': 20,\n",
    "                                            html.Div(style={ 'display': 'block','vertical-align':'middle'},\n",
    "                                                     children = [\n",
    "                                                        html.Br(),\n",
    "                                                        html.H3('Select a date interval'),\n",
    "                                                        html.Br(),\n",
    "                                                    #Datepicker to filter for intervals\n",
    "                                                        dcc.DatePickerRange(\n",
    "                                                            id='date-filter',\n",
    "                                                            #min_date_allowed=date(1993, 1, 10),\n",
    "                                                            min_date_allowed=min_date,\n",
    "                                                            max_date_allowed=max_date,\n",
    "                                                            #max_date_allowed=date(2019, 9, 19),\n",
    "                                                            initial_visible_month=min_date,\n",
    "                                                            start_date=min_date,\n",
    "                                                            end_date=max_date\n",
    "                                                        )]),\n",
    "                                            #'width':'15%','marginLeft': 20, 'marginRight': 20,'marginTop':30,\n",
    "                                            html.Div(\n",
    "                                                style={ 'display': 'block','vertical-align':'middle'},\n",
    "                                                children = [\n",
    "                                                html.Br(),\n",
    "                                                html.H3('Select earthquake depth interval ( in km)'),\n",
    "                                                html.Br(),\n",
    "                                                #slider to filter for depth\n",
    "                                                dcc.RangeSlider(min = min_depth, max = max_depth,\n",
    "                                                                id='depth-slider',\n",
    "                                                                marks={i: '{:.2f}'.format(i) for i in depth_space},\n",
    "                                                                value=[min_depth, max_depth],\n",
    "                                                                dots=False,\n",
    "                                                                #step=\n",
    "                                                                step=0.01,\n",
    "                                                                updatemode='drag',\n",
    "                                                                tooltip={\"placement\": \"bottom\", \"always_visible\": False}\n",
    "                                            )]),\n",
    "                                             #'width':'15%','marginLeft': 20, 'marginRight': 20,'marginTop':30,\n",
    "                                            html.Div(\n",
    "                                                style={'display': 'block','vertical-align':'middle'},\n",
    "                                                children = [\n",
    "                                                html.Br(),\n",
    "                                                html.H3('Select earthquake magnitude interval ( in km)'),\n",
    "                                                html.Br(),\n",
    "                                                #slider to filter for magnitudes\n",
    "                                                dcc.RangeSlider(min = min_magnitude, max = max_magnitude,\n",
    "                                                                id='magnitude-slider',\n",
    "                                                                marks={i: '{:.2f}'.format(i) for i in magnitude_space},\n",
    "                                                                value=[min_magnitude, max_magnitude],\n",
    "                                                                dots=False,\n",
    "                                                                step=0.01,\n",
    "                                                                updatemode='drag',\n",
    "                                                                tooltip={\"placement\": \"bottom\", \"always_visible\": False}\n",
    "                                                                ),\n",
    "                                                ]),\n",
    "                                             html.Div(\n",
    "                                                 style={'display': 'block','vertical-align':'middle'},\n",
    "                                                 children = [\n",
    "                                                             html.Button('Apply Filter', id='filter-apply-btn', n_clicks=0),\n",
    "                                                             html.Button('Reset Filter', id='filter-reset-btn', n_clicks=0)]\n",
    "                                             )\n",
    "                                         ]),\n",
    "                                #Map\n",
    "                                html.Div(\n",
    "                                        style={'width':'75%', 'marginRight': 5,'display':'inline-block',\"border\":\"2px black solid\"},\n",
    "                                #children = [dcc.Graph(figure=fig, id='map-layout')])]),\n",
    "                                        children = [ dash_table.DataTable(data = df_test.head(5).to_dict('records'),columns=[{\"name\": i, \"id\": i} for i in df_test.columns], id='tbl')])]\n",
    "                                ),\n",
    "                dbc.Row(html.Div([\n",
    "                    #Audio player\n",
    "                    html.Div(style={'width':'20%','marginLeft': 5,'marginTop': 20, 'marginRight': 20,'display':'inline-block',\"border\":\"2px black solid\"},\n",
    "                             children = [html.Audio(src='samples_for_wireframe/HC1.wav', controls=True)]),\n",
    "                    #Spectrogram\n",
    "                    html.Div(style={'width':'75%', 'marginRight': 10 ,'marginTop': 20, 'display':'inline-block',\"border\":\"2px black solid\"},\n",
    "                             #children = [html.Img(src='samples_for_wireframe/img.png')])]))])\n",
    "                             children = [html.Img(src='data:image/png;base64,{}'.format(encoded_image.decode()))])]))])\n",
    "\n",
    "@app.callback(\n",
    "    Output(component_id='tbl', component_property='data'), #Output will be the table (later map)\n",
    "    Output(component_id='depth-slider', component_property= 'value'),\n",
    "    Output(component_id='magnitude-slider', component_property= 'value'),\n",
    "    Output(component_id='date-filter', component_property= 'start_date'),\n",
    "    Output(component_id='date-filter', component_property= 'end_date'),\n",
    "    Input(component_id='filter-apply-btn', component_property='n_clicks'), #Input button triggers the callback\n",
    "    Input(component_id='filter-reset-btn', component_property='n_clicks'), #Input button triggers the callback\n",
    "    State(component_id='depth-slider', component_property= 'value'),\n",
    "    State(component_id='magnitude-slider', component_property= 'value'),\n",
    "    State(component_id='date-filter', component_property= 'start_date'),\n",
    "    State(component_id='date-filter', component_property= 'end_date')\n",
    "\n",
    ")\n",
    "def apply_filter(apply_click,reset_click, depth_value, magnitude_value,start_date,end_date):\n",
    "    ctx = dash.callback_context\n",
    "    clicked_element = ctx.triggered[0]['prop_id'].split('.')[0]\n",
    "    if  clicked_element == 'filter-apply-btn':\n",
    "        filter_records = df_test['time'].between(pd.to_datetime(start_date),pd.to_datetime(end_date)) & df_test['source_magnitude'].between(magnitude_value[0],magnitude_value[1])\\\n",
    "                         & df_test['source_depth_km'].between(depth_value[0],depth_value[1])\n",
    "        df_filtered = df_test[filter_records]\n",
    "\n",
    "        return [df_filtered.head(5).to_dict('records'),depth_value,magnitude_value,start_date,end_date]\n",
    "\n",
    "    elif clicked_element == 'filter-reset-btn':\n",
    "        return [df_test.head(5).to_dict('records'),[min_depth,max_depth],[min_magnitude,max_magnitude],min_date,max_date]\n",
    "\n",
    "    else:\n",
    "        return dash.no_update\n",
    "\n",
    "\n",
    "'''\n",
    "selection of earthquake events on maps\n",
    "First, selection in the table will be used as test for composition,\n",
    "then refactor for map event selection\n",
    "'''\n",
    "\n",
    "app.run_server(debug=True, use_reloader=False)  # Turn off reloader if inside Jupyter\n"
   ]
  },
  {
   "cell_type": "markdown",
   "metadata": {
    "pycharm": {
     "name": "#%% md\n"
    }
   },
   "source": [
    "If we also want to load map, that need to be used"
   ]
  },
  {
   "cell_type": "code",
   "execution_count": null,
   "outputs": [],
   "source": [],
   "metadata": {
    "collapsed": false,
    "pycharm": {
     "name": "#%%\n"
    }
   }
  }
 ],
 "metadata": {
  "kernelspec": {
   "name": "python3",
   "language": "python",
   "display_name": "Python 3"
  },
  "language_info": {
   "codemirror_mode": {
    "name": "ipython",
    "version": 3
   },
   "file_extension": ".py",
   "mimetype": "text/x-python",
   "name": "python",
   "nbconvert_exporter": "python",
   "pygments_lexer": "ipython3",
   "version": "3.8.8"
  }
 },
 "nbformat": 4,
 "nbformat_minor": 1
}