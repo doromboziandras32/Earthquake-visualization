{
 "cells": [
  {
   "cell_type": "code",
   "execution_count": 4,
   "metadata": {},
   "outputs": [
    {
     "name": "stdout",
     "output_type": "stream",
     "text": [
      "Dash is running on http://127.0.0.1:8050/\n",
      "\n",
      "Dash is running on http://127.0.0.1:8050/\n",
      "\n",
      "Dash is running on http://127.0.0.1:8050/\n",
      "\n",
      "Dash is running on http://127.0.0.1:8050/\n",
      "\n",
      " * Serving Flask app '__main__' (lazy loading)\n",
      " * Environment: production\n",
      "\u001b[31m   WARNING: This is a development server. Do not use it in a production deployment.\u001b[0m\n",
      "\u001b[2m   Use a production WSGI server instead.\u001b[0m\n",
      " * Debug mode: off\n"
     ]
    },
    {
     "name": "stderr",
     "output_type": "stream",
     "text": [
      " * Running on http://127.0.0.1:8050/ (Press CTRL+C to quit)\n",
      "127.0.0.1 - - [06/Apr/2022 00:42:10] \"GET / HTTP/1.1\" 200 -\n",
      "127.0.0.1 - - [06/Apr/2022 00:42:10] \"GET /assets/dashExtensions_default.js?m=1649198526.3229997 HTTP/1.1\" 200 -\n",
      "127.0.0.1 - - [06/Apr/2022 00:42:10] \"GET /_dash-layout HTTP/1.1\" 200 -\n",
      "127.0.0.1 - - [06/Apr/2022 00:42:10] \"GET /_dash-dependencies HTTP/1.1\" 200 -\n",
      "127.0.0.1 - - [06/Apr/2022 00:42:10] \"GET /_favicon.ico?v=2.0.0 HTTP/1.1\" 200 -\n"
     ]
    }
   ],
   "source": [
    "import dash_leaflet as dl\n",
    "import dash_leaflet.express as dlx\n",
    "from dash import Dash, html, Output, Input\n",
    "from dash_extensions.javascript import arrow_function, assign\n",
    "\n",
    "\n",
    "def get_info(feature=None):\n",
    "    header = [html.H4(\"US Population Density\")]\n",
    "    if not feature:\n",
    "        return header + [html.P(\"Hoover over a state\")]\n",
    "    return header + [html.B(feature[\"properties\"][\"name\"]), html.Br(),\n",
    "                     \"{:.3f} people / mi\".format(feature[\"properties\"][\"density\"]), html.Sup(\"2\")]\n",
    "\n",
    "\n",
    "classes = [0, 10, 20, 50, 100, 200, 500, 1000]\n",
    "colorscale = ['#FFEDA0', '#FED976', '#FEB24C', '#FD8D3C', '#FC4E2A', '#E31A1C', '#BD0026', '#800026']\n",
    "style = dict(weight=2, opacity=1, color='white', dashArray='3', fillOpacity=0.7)\n",
    "# Create colorbar.\n",
    "ctg = [\"{}+\".format(cls, classes[i + 1]) for i, cls in enumerate(classes[:-1])] + [\"{}+\".format(classes[-1])]\n",
    "colorbar = dlx.categorical_colorbar(categories=ctg, colorscale=colorscale, width=300, height=30, position=\"bottomleft\")\n",
    "# Geojson rendering logic, must be JavaScript as it is executed in clientside.\n",
    "style_handle = assign(\"\"\"function(feature, context){\n",
    "    const {classes, colorscale, style, colorProp} = context.props.hideout;  // get props from hideout\n",
    "    const value = feature.properties[colorProp];  // get value the determines the color\n",
    "    for (let i = 0; i < classes.length; ++i) {\n",
    "        if (value > classes[i]) {\n",
    "            style.fillColor = colorscale[i];  // set the fill color according to the class\n",
    "        }\n",
    "    }\n",
    "    return style;\n",
    "}\"\"\")\n",
    "# Create geojson.\n",
    "#geojson = dl.GeoJSON(url=\"/assets/us-states.json\",  # url to geojson file\n",
    "geojson = dl.GeoJSON(url=\"regions_geometry_geojson.geojson\",  # url to geojson file\n",
    "                     options=dict(style=style_handle),  # how to style each polygon\n",
    "                     zoomToBounds=True,  # when true, zooms to bounds when data changes (e.g. on load)\n",
    "                     zoomToBoundsOnClick=True,  # when true, zooms to bounds of feature (e.g. polygon) on click\n",
    "                     hoverStyle=arrow_function(dict(weight=5, color='#666', dashArray='')),  # style applied on hover\n",
    "                     hideout=dict(colorscale=colorscale, classes=classes, style=style, colorProp=\"density\"),\n",
    "                     id=\"geojson\")\n",
    "# Create info control.\n",
    "info = html.Div(children=get_info(), id=\"info\", className=\"info\",\n",
    "                style={\"position\": \"absolute\", \"top\": \"10px\", \"right\": \"10px\", \"z-index\": \"1000\"})\n",
    "# Create app.\n",
    "app = Dash(prevent_initial_callbacks=True)\n",
    "#app.layout = html.Div([dl.Map(children=[dl.TileLayer(), geojson, colorbar, info])],\n",
    "app.layout = html.Div([dl.Map(children=[dl.TileLayer()])],\n",
    "                      style={'width': '100%', 'height': '50vh', 'margin': \"auto\", \"display\": \"block\"}, id=\"map\")\n",
    "\n",
    "\n",
    "@app.callback(Output(\"info\", \"children\"), [Input(\"geojson\", \"hover_feature\")])\n",
    "def info_hover(feature):\n",
    "    return get_info(feature)\n",
    "\n",
    "\n",
    "if __name__ == '__main__':\n",
    "    app.run_server()"
   ]
  },
  {
   "cell_type": "code",
   "execution_count": null,
   "metadata": {},
   "outputs": [],
   "source": []
  }
 ],
 "metadata": {
  "interpreter": {
   "hash": "8bef4eb371a10a29fe72b92e774a1e2d63fd6a899a77454bbef34aef85507be0"
  },
  "kernelspec": {
   "display_name": "Python 3.6.13 ('interdisciplinary_leaflet')",
   "language": "python",
   "name": "python3"
  },
  "language_info": {
   "codemirror_mode": {
    "name": "ipython",
    "version": 3
   },
   "file_extension": ".py",
   "mimetype": "text/x-python",
   "name": "python",
   "nbconvert_exporter": "python",
   "pygments_lexer": "ipython3",
   "version": "3.6.13"
  },
  "orig_nbformat": 4
 },
 "nbformat": 4,
 "nbformat_minor": 2
}
