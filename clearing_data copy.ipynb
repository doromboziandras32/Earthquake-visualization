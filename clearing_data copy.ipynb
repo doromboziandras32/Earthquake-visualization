{
 "cells": [
  {
   "cell_type": "code",
   "execution_count": 1,
   "metadata": {},
   "outputs": [],
   "source": [
    "import pandas as pd\n",
    "import numpy as np\n",
    "import obspy\n",
    "#import h5py\n",
    "from obspy import UTCDateTime\n",
    "import numpy as np\n",
    "from obspy.clients.fdsn.client import Client\n",
    "import matplotlib.pyplot as pl\n",
    "from obspy.clients.fdsn.header import URL_MAPPINGS\n",
    "\n",
    "#df_test = pd.read_csv(\"csvs/chunk5.csv\")\n",
    "df_test = pd.read_csv(\"csvs/chunk2.csv\",low_memory=False)\n",
    "\n",
    "df_test.set_index('trace_name',inplace= True)"
   ]
  },
  {
   "cell_type": "code",
   "execution_count": 2,
   "metadata": {},
   "outputs": [],
   "source": [
    "df_test['station_id'] = df_test['network_code'] + '_' + df_test['receiver_code']"
   ]
  },
  {
   "cell_type": "code",
   "execution_count": 3,
   "metadata": {},
   "outputs": [],
   "source": [
    "df_test = df_test.dropna(subset=['source_distance_km', 'source_latitude','source_longitude','station_id'])"
   ]
  },
  {
   "cell_type": "code",
   "execution_count": 4,
   "metadata": {},
   "outputs": [],
   "source": [
    "df_test['time'] = pd.to_datetime(df_test['trace_start_time'], infer_datetime_format=True)\n",
    "df_test['source_depth_km'] = pd.to_numeric(df_test['source_depth_km'],errors='coerce')\n",
    "df_test['source_magnitude'] = pd.to_numeric(df_test['source_magnitude'],errors='coerce')"
   ]
  },
  {
   "cell_type": "code",
   "execution_count": 5,
   "metadata": {},
   "outputs": [
    {
     "data": {
      "text/html": [
       "<div>\n",
       "<style scoped>\n",
       "    .dataframe tbody tr th:only-of-type {\n",
       "        vertical-align: middle;\n",
       "    }\n",
       "\n",
       "    .dataframe tbody tr th {\n",
       "        vertical-align: top;\n",
       "    }\n",
       "\n",
       "    .dataframe thead th {\n",
       "        text-align: right;\n",
       "    }\n",
       "</style>\n",
       "<table border=\"1\" class=\"dataframe\">\n",
       "  <thead>\n",
       "    <tr style=\"text-align: right;\">\n",
       "      <th></th>\n",
       "      <th>network_code</th>\n",
       "      <th>receiver_code</th>\n",
       "      <th>receiver_type</th>\n",
       "      <th>receiver_latitude</th>\n",
       "      <th>receiver_longitude</th>\n",
       "      <th>receiver_elevation_m</th>\n",
       "      <th>p_arrival_sample</th>\n",
       "      <th>p_status</th>\n",
       "      <th>p_weight</th>\n",
       "      <th>p_travel_sec</th>\n",
       "      <th>...</th>\n",
       "      <th>source_mechanism_strike_dip_rake</th>\n",
       "      <th>source_distance_deg</th>\n",
       "      <th>source_distance_km</th>\n",
       "      <th>back_azimuth_deg</th>\n",
       "      <th>snr_db</th>\n",
       "      <th>coda_end_sample</th>\n",
       "      <th>trace_start_time</th>\n",
       "      <th>trace_category</th>\n",
       "      <th>station_id</th>\n",
       "      <th>time</th>\n",
       "    </tr>\n",
       "    <tr>\n",
       "      <th>trace_name</th>\n",
       "      <th></th>\n",
       "      <th></th>\n",
       "      <th></th>\n",
       "      <th></th>\n",
       "      <th></th>\n",
       "      <th></th>\n",
       "      <th></th>\n",
       "      <th></th>\n",
       "      <th></th>\n",
       "      <th></th>\n",
       "      <th></th>\n",
       "      <th></th>\n",
       "      <th></th>\n",
       "      <th></th>\n",
       "      <th></th>\n",
       "      <th></th>\n",
       "      <th></th>\n",
       "      <th></th>\n",
       "      <th></th>\n",
       "      <th></th>\n",
       "      <th></th>\n",
       "    </tr>\n",
       "  </thead>\n",
       "  <tbody>\n",
       "    <tr>\n",
       "      <th>109C.TA_20060723155859_EV</th>\n",
       "      <td>TA</td>\n",
       "      <td>109C</td>\n",
       "      <td>BH</td>\n",
       "      <td>32.8889</td>\n",
       "      <td>-117.1051</td>\n",
       "      <td>150.0</td>\n",
       "      <td>700.0</td>\n",
       "      <td>manual</td>\n",
       "      <td>0.5</td>\n",
       "      <td>17.08</td>\n",
       "      <td>...</td>\n",
       "      <td>None</td>\n",
       "      <td>0.92</td>\n",
       "      <td>102.09</td>\n",
       "      <td>159.3</td>\n",
       "      <td>[56.79999924 55.40000153 47.40000153]</td>\n",
       "      <td>[[2896.]]</td>\n",
       "      <td>2006-07-23 15:59:00.960000</td>\n",
       "      <td>earthquake_local</td>\n",
       "      <td>TA_109C</td>\n",
       "      <td>2006-07-23 15:59:00.960</td>\n",
       "    </tr>\n",
       "  </tbody>\n",
       "</table>\n",
       "<p>1 rows × 36 columns</p>\n",
       "</div>"
      ],
      "text/plain": [
       "                          network_code receiver_code receiver_type  \\\n",
       "trace_name                                                           \n",
       "109C.TA_20060723155859_EV           TA          109C            BH   \n",
       "\n",
       "                           receiver_latitude  receiver_longitude  \\\n",
       "trace_name                                                         \n",
       "109C.TA_20060723155859_EV            32.8889           -117.1051   \n",
       "\n",
       "                           receiver_elevation_m  p_arrival_sample p_status  \\\n",
       "trace_name                                                                   \n",
       "109C.TA_20060723155859_EV                 150.0             700.0   manual   \n",
       "\n",
       "                           p_weight  p_travel_sec  ...  \\\n",
       "trace_name                                         ...   \n",
       "109C.TA_20060723155859_EV       0.5         17.08  ...   \n",
       "\n",
       "                           source_mechanism_strike_dip_rake  \\\n",
       "trace_name                                                    \n",
       "109C.TA_20060723155859_EV                              None   \n",
       "\n",
       "                          source_distance_deg  source_distance_km  \\\n",
       "trace_name                                                          \n",
       "109C.TA_20060723155859_EV                0.92              102.09   \n",
       "\n",
       "                          back_azimuth_deg  \\\n",
       "trace_name                                   \n",
       "109C.TA_20060723155859_EV            159.3   \n",
       "\n",
       "                                                          snr_db  \\\n",
       "trace_name                                                         \n",
       "109C.TA_20060723155859_EV  [56.79999924 55.40000153 47.40000153]   \n",
       "\n",
       "                          coda_end_sample            trace_start_time  \\\n",
       "trace_name                                                              \n",
       "109C.TA_20060723155859_EV       [[2896.]]  2006-07-23 15:59:00.960000   \n",
       "\n",
       "                             trace_category station_id                    time  \n",
       "trace_name                                                                      \n",
       "109C.TA_20060723155859_EV  earthquake_local    TA_109C 2006-07-23 15:59:00.960  \n",
       "\n",
       "[1 rows x 36 columns]"
      ]
     },
     "execution_count": 5,
     "metadata": {},
     "output_type": "execute_result"
    }
   ],
   "source": [
    "df_test.head(1)"
   ]
  },
  {
   "cell_type": "code",
   "execution_count": 6,
   "metadata": {},
   "outputs": [],
   "source": [
    "#stations_df = pd.read_csv('stations_duplicates_removed.csv')\n",
    "stations_df = pd.read_csv('csvs/stations_definition.csv')\n",
    "stations_df['station_opened'] =  pd.to_datetime(stations_df['station_opened'], infer_datetime_format=True)"
   ]
  },
  {
   "cell_type": "code",
   "execution_count": 7,
   "metadata": {},
   "outputs": [
    {
     "data": {
      "text/plain": [
       "{'BGR',\n",
       " 'GEONET',\n",
       " 'ICGC',\n",
       " 'IRIS',\n",
       " 'KOERI',\n",
       " 'LMU',\n",
       " 'NIEP',\n",
       " 'NOA',\n",
       " 'RESIF',\n",
       " 'USP'}"
      ]
     },
     "execution_count": 7,
     "metadata": {},
     "output_type": "execute_result"
    }
   ],
   "source": [
    "set(stations_df['provider'])"
   ]
  },
  {
   "cell_type": "code",
   "execution_count": 8,
   "metadata": {},
   "outputs": [],
   "source": [
    "def extract_waveform(client, event_record):\n",
    "    wave = client.get_waveforms(network=event_record['network_code'],\n",
    "                            station=event_record['receiver_code'],\n",
    "                            starttime=UTCDateTime(event_record['time']),\n",
    "                                endtime=UTCDateTime(event_record['time']) + 60,\n",
    "                                location = \"*\",\n",
    "                                channel = \"*\")\n",
    "    \n",
    "    #temprorarily extract only one stream\n",
    "    return wave[0]"
   ]
  },
  {
   "cell_type": "code",
   "execution_count": 9,
   "metadata": {},
   "outputs": [],
   "source": [
    "def find_existing_records(x):\n",
    "\n",
    "        provider_of_waveform = stations_df[stations_df['station_id'] == x['station_id']]\n",
    "        \n",
    "        try:\n",
    "            providers = provider_of_waveform['provider'].tolist()\n",
    "            for p in providers:\n",
    "                client = Client(p)\n",
    "\n",
    "                wave = extract_waveform(client, x)\n",
    "\n",
    "            return True\n",
    "\n",
    "        except:\n",
    "            return pd.NA\n",
    "    "
   ]
  },
  {
   "cell_type": "code",
   "execution_count": 10,
   "metadata": {},
   "outputs": [],
   "source": [
    "\n",
    "\n",
    "#df_test['has_record'] = df_test.apply(lambda x: find_existing_records(x),axis=1)"
   ]
  },
  {
   "cell_type": "code",
   "execution_count": 11,
   "metadata": {},
   "outputs": [],
   "source": [
    "df_test_sub_subset = df_test.head(500)\n",
    "df_test_sub_subset['has_record'] =df_test_sub_subset.apply(lambda x: find_existing_records(x),axis=1)"
   ]
  },
  {
   "cell_type": "code",
   "execution_count": null,
   "metadata": {},
   "outputs": [],
   "source": [
    "#df_test.to_csv('earthquake_metadata_chunk2_existence_flag.csv')"
   ]
  },
  {
   "cell_type": "code",
   "execution_count": null,
   "metadata": {},
   "outputs": [],
   "source": []
  }
 ],
 "metadata": {
  "interpreter": {
   "hash": "8bef4eb371a10a29fe72b92e774a1e2d63fd6a899a77454bbef34aef85507be0"
  },
  "kernelspec": {
   "display_name": "Python 3.6.13 ('interdisciplinary_leaflet')",
   "language": "python",
   "name": "python3"
  },
  "language_info": {
   "codemirror_mode": {
    "name": "ipython",
    "version": 3
   },
   "file_extension": ".py",
   "mimetype": "text/x-python",
   "name": "python",
   "nbconvert_exporter": "python",
   "pygments_lexer": "ipython3",
   "version": "3.6.13"
  },
  "orig_nbformat": 4
 },
 "nbformat": 4,
 "nbformat_minor": 2
}
