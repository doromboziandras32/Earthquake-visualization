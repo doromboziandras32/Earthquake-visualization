{
 "cells": [
  {
   "cell_type": "code",
   "execution_count": null,
   "metadata": {},
   "outputs": [],
   "source": []
  },
  {
   "cell_type": "code",
   "execution_count": 88,
   "metadata": {},
   "outputs": [],
   "source": [
    "#import cartopy.crs as ccrs\n",
    "#import cartopy.feature as cfeature\n",
    "import obspy\n",
    "import matplotlib.patches as mpatches\n",
    "import matplotlib.pyplot as plt\n",
    "import numpy as np\n",
    "from obspy import read\n",
    "from obspy import UTCDateTime\n",
    "from obspy.clients.fdsn import Client\n",
    "from obspy.taup import plot_travel_times, TauPyModel\n",
    "import pandas as pd \n",
    "from obspy.clients.fdsn.header import URL_MAPPINGS\n",
    "#import pyproj"
   ]
  },
  {
   "cell_type": "code",
   "execution_count": 89,
   "metadata": {},
   "outputs": [
    {
     "name": "stderr",
     "output_type": "stream",
     "text": [
      "C:\\ProgramData\\Anaconda3\\lib\\site-packages\\IPython\\core\\interactiveshell.py:3165: DtypeWarning: Columns (7,11,13,14,15,18,19,20,21,22,24,25,26,30,31) have mixed types.Specify dtype option on import or set low_memory=False.\n",
      "  has_raised = await self.run_ast_nodes(code_ast.body, cell_name,\n"
     ]
    }
   ],
   "source": [
    "\n",
    "df_test = pd.read_csv(\"csvs/earthquake_metadata.csv\")\n",
    "#df_test = pd.read_csv(\"csvs/chunk5.csv\")\n",
    "\n",
    "df_test.set_index('trace_name',inplace= True)"
   ]
  },
  {
   "cell_type": "code",
   "execution_count": null,
   "metadata": {},
   "outputs": [],
   "source": []
  },
  {
   "cell_type": "code",
   "execution_count": 90,
   "metadata": {},
   "outputs": [
    {
     "data": {
      "text/plain": [
       "(1265657, 34)"
      ]
     },
     "execution_count": 90,
     "metadata": {},
     "output_type": "execute_result"
    }
   ],
   "source": [
    "df_test.shape"
   ]
  },
  {
   "cell_type": "code",
   "execution_count": 91,
   "metadata": {},
   "outputs": [],
   "source": [
    "df_test['trace_start_time'] = pd.to_datetime(df_test['trace_start_time'],format=\"%Y-%m-%dT%H:%M:%S.%f\")\n"
   ]
  },
  {
   "cell_type": "code",
   "execution_count": 92,
   "metadata": {},
   "outputs": [],
   "source": [
    "df_test['station'] = df_test['network_code'] + '.' + df_test['receiver_code']"
   ]
  },
  {
   "cell_type": "code",
   "execution_count": 93,
   "metadata": {},
   "outputs": [
    {
     "data": {
      "text/plain": [
       "trace_name\n",
       "109C.TA_201510210555_NO     TA.109C\n",
       "109C.TA_201511061450_NO     TA.109C\n",
       "109C.TA_201511070220_NO     TA.109C\n",
       "109C.TA_201511140515_NO     TA.109C\n",
       "109C.TA_201512251850_NO     TA.109C\n",
       "                             ...   \n",
       "YHL.WY_20170621094042_EV     WY.YHL\n",
       "YHL.WY_20170621122104_EV     WY.YHL\n",
       "YHL.WY_20170621122339_EV     WY.YHL\n",
       "YHL.WY_20170621133439_EV     WY.YHL\n",
       "YHL.WY_20170621140610_EV     WY.YHL\n",
       "Name: station, Length: 1265657, dtype: object"
      ]
     },
     "execution_count": 93,
     "metadata": {},
     "output_type": "execute_result"
    }
   ],
   "source": [
    "df_test['station']"
   ]
  },
  {
   "cell_type": "code",
   "execution_count": 94,
   "metadata": {},
   "outputs": [],
   "source": [
    "earliest_trace  = df_test[df_test['trace_start_time'] == df_test['trace_start_time'].min()]"
   ]
  },
  {
   "cell_type": "code",
   "execution_count": 95,
   "metadata": {},
   "outputs": [
    {
     "data": {
      "text/html": [
       "<div>\n",
       "<style scoped>\n",
       "    .dataframe tbody tr th:only-of-type {\n",
       "        vertical-align: middle;\n",
       "    }\n",
       "\n",
       "    .dataframe tbody tr th {\n",
       "        vertical-align: top;\n",
       "    }\n",
       "\n",
       "    .dataframe thead th {\n",
       "        text-align: right;\n",
       "    }\n",
       "</style>\n",
       "<table border=\"1\" class=\"dataframe\">\n",
       "  <thead>\n",
       "    <tr style=\"text-align: right;\">\n",
       "      <th></th>\n",
       "      <th>network_code</th>\n",
       "      <th>receiver_code</th>\n",
       "      <th>receiver_type</th>\n",
       "      <th>receiver_latitude</th>\n",
       "      <th>receiver_longitude</th>\n",
       "      <th>receiver_elevation_m</th>\n",
       "      <th>p_arrival_sample</th>\n",
       "      <th>p_status</th>\n",
       "      <th>p_weight</th>\n",
       "      <th>p_travel_sec</th>\n",
       "      <th>...</th>\n",
       "      <th>source_magnitude_author</th>\n",
       "      <th>source_mechanism_strike_dip_rake</th>\n",
       "      <th>source_distance_deg</th>\n",
       "      <th>source_distance_km</th>\n",
       "      <th>back_azimuth_deg</th>\n",
       "      <th>snr_db</th>\n",
       "      <th>coda_end_sample</th>\n",
       "      <th>trace_start_time</th>\n",
       "      <th>trace_category</th>\n",
       "      <th>station</th>\n",
       "    </tr>\n",
       "    <tr>\n",
       "      <th>trace_name</th>\n",
       "      <th></th>\n",
       "      <th></th>\n",
       "      <th></th>\n",
       "      <th></th>\n",
       "      <th></th>\n",
       "      <th></th>\n",
       "      <th></th>\n",
       "      <th></th>\n",
       "      <th></th>\n",
       "      <th></th>\n",
       "      <th></th>\n",
       "      <th></th>\n",
       "      <th></th>\n",
       "      <th></th>\n",
       "      <th></th>\n",
       "      <th></th>\n",
       "      <th></th>\n",
       "      <th></th>\n",
       "      <th></th>\n",
       "      <th></th>\n",
       "      <th></th>\n",
       "    </tr>\n",
       "  </thead>\n",
       "  <tbody>\n",
       "    <tr>\n",
       "      <th>109C.TA_201510210555_NO</th>\n",
       "      <td>TA</td>\n",
       "      <td>109C</td>\n",
       "      <td>HH</td>\n",
       "      <td>32.8889</td>\n",
       "      <td>-117.1051</td>\n",
       "      <td>150.0</td>\n",
       "      <td>NaN</td>\n",
       "      <td>NaN</td>\n",
       "      <td>NaN</td>\n",
       "      <td>NaN</td>\n",
       "      <td>...</td>\n",
       "      <td>NaN</td>\n",
       "      <td>NaN</td>\n",
       "      <td>NaN</td>\n",
       "      <td>NaN</td>\n",
       "      <td>NaN</td>\n",
       "      <td>NaN</td>\n",
       "      <td>NaN</td>\n",
       "      <td>2015-10-21 05:55:00</td>\n",
       "      <td>noise</td>\n",
       "      <td>TA.109C</td>\n",
       "    </tr>\n",
       "  </tbody>\n",
       "</table>\n",
       "<p>1 rows × 35 columns</p>\n",
       "</div>"
      ],
      "text/plain": [
       "                        network_code receiver_code receiver_type  \\\n",
       "trace_name                                                         \n",
       "109C.TA_201510210555_NO           TA          109C            HH   \n",
       "\n",
       "                         receiver_latitude  receiver_longitude  \\\n",
       "trace_name                                                       \n",
       "109C.TA_201510210555_NO            32.8889           -117.1051   \n",
       "\n",
       "                         receiver_elevation_m  p_arrival_sample p_status  \\\n",
       "trace_name                                                                 \n",
       "109C.TA_201510210555_NO                 150.0               NaN      NaN   \n",
       "\n",
       "                         p_weight  p_travel_sec  ...  source_magnitude_author  \\\n",
       "trace_name                                       ...                            \n",
       "109C.TA_201510210555_NO       NaN           NaN  ...                      NaN   \n",
       "\n",
       "                        source_mechanism_strike_dip_rake  source_distance_deg  \\\n",
       "trace_name                                                                      \n",
       "109C.TA_201510210555_NO                              NaN                  NaN   \n",
       "\n",
       "                        source_distance_km back_azimuth_deg snr_db  \\\n",
       "trace_name                                                           \n",
       "109C.TA_201510210555_NO                NaN              NaN    NaN   \n",
       "\n",
       "                         coda_end_sample    trace_start_time trace_category  \\\n",
       "trace_name                                                                    \n",
       "109C.TA_201510210555_NO              NaN 2015-10-21 05:55:00          noise   \n",
       "\n",
       "                         station  \n",
       "trace_name                        \n",
       "109C.TA_201510210555_NO  TA.109C  \n",
       "\n",
       "[1 rows x 35 columns]"
      ]
     },
     "execution_count": 95,
     "metadata": {},
     "output_type": "execute_result"
    }
   ],
   "source": [
    "df_test.head(1)"
   ]
  },
  {
   "cell_type": "markdown",
   "metadata": {},
   "source": [
    "\n",
    "for key in sorted(URL_MAPPINGS.keys()):\n",
    "    client = Client(key)\n",
    "#for key,client in clients_dict.items():\n",
    "    try:\n",
    "        station_test = client.get_stations(latitude=32.8889\t, longitude=-117.1051)\n",
    "        print(key)\n",
    "    except:\n",
    "        pass\n"
   ]
  },
  {
   "cell_type": "code",
   "execution_count": 96,
   "metadata": {},
   "outputs": [
    {
     "data": {
      "text/html": [
       "<div>\n",
       "<style scoped>\n",
       "    .dataframe tbody tr th:only-of-type {\n",
       "        vertical-align: middle;\n",
       "    }\n",
       "\n",
       "    .dataframe tbody tr th {\n",
       "        vertical-align: top;\n",
       "    }\n",
       "\n",
       "    .dataframe thead th {\n",
       "        text-align: right;\n",
       "    }\n",
       "</style>\n",
       "<table border=\"1\" class=\"dataframe\">\n",
       "  <thead>\n",
       "    <tr style=\"text-align: right;\">\n",
       "      <th></th>\n",
       "      <th>network_code</th>\n",
       "      <th>receiver_code</th>\n",
       "      <th>receiver_type</th>\n",
       "      <th>receiver_latitude</th>\n",
       "      <th>receiver_longitude</th>\n",
       "      <th>receiver_elevation_m</th>\n",
       "      <th>p_arrival_sample</th>\n",
       "      <th>p_status</th>\n",
       "      <th>p_weight</th>\n",
       "      <th>p_travel_sec</th>\n",
       "      <th>...</th>\n",
       "      <th>source_magnitude_author</th>\n",
       "      <th>source_mechanism_strike_dip_rake</th>\n",
       "      <th>source_distance_deg</th>\n",
       "      <th>source_distance_km</th>\n",
       "      <th>back_azimuth_deg</th>\n",
       "      <th>snr_db</th>\n",
       "      <th>coda_end_sample</th>\n",
       "      <th>trace_start_time</th>\n",
       "      <th>trace_category</th>\n",
       "      <th>station</th>\n",
       "    </tr>\n",
       "    <tr>\n",
       "      <th>trace_name</th>\n",
       "      <th></th>\n",
       "      <th></th>\n",
       "      <th></th>\n",
       "      <th></th>\n",
       "      <th></th>\n",
       "      <th></th>\n",
       "      <th></th>\n",
       "      <th></th>\n",
       "      <th></th>\n",
       "      <th></th>\n",
       "      <th></th>\n",
       "      <th></th>\n",
       "      <th></th>\n",
       "      <th></th>\n",
       "      <th></th>\n",
       "      <th></th>\n",
       "      <th></th>\n",
       "      <th></th>\n",
       "      <th></th>\n",
       "      <th></th>\n",
       "      <th></th>\n",
       "    </tr>\n",
       "  </thead>\n",
       "  <tbody>\n",
       "    <tr>\n",
       "      <th>CAL.NC_19840424221806_EV</th>\n",
       "      <td>NC</td>\n",
       "      <td>CAL</td>\n",
       "      <td>EL</td>\n",
       "      <td>37.450348</td>\n",
       "      <td>-121.800369</td>\n",
       "      <td>251.0</td>\n",
       "      <td>600.0</td>\n",
       "      <td>manual</td>\n",
       "      <td>0.51</td>\n",
       "      <td>4.64</td>\n",
       "      <td>...</td>\n",
       "      <td>NC</td>\n",
       "      <td>None</td>\n",
       "      <td>0.2117</td>\n",
       "      <td>23.37</td>\n",
       "      <td>147.0</td>\n",
       "      <td>[4.5        1.79999995 4.9000001 ]</td>\n",
       "      <td>[[1900.]]</td>\n",
       "      <td>1984-04-24 22:18:07.960</td>\n",
       "      <td>earthquake_local</td>\n",
       "      <td>NC.CAL</td>\n",
       "    </tr>\n",
       "  </tbody>\n",
       "</table>\n",
       "<p>1 rows × 35 columns</p>\n",
       "</div>"
      ],
      "text/plain": [
       "                         network_code receiver_code receiver_type  \\\n",
       "trace_name                                                          \n",
       "CAL.NC_19840424221806_EV           NC           CAL            EL   \n",
       "\n",
       "                          receiver_latitude  receiver_longitude  \\\n",
       "trace_name                                                        \n",
       "CAL.NC_19840424221806_EV          37.450348         -121.800369   \n",
       "\n",
       "                          receiver_elevation_m  p_arrival_sample p_status  \\\n",
       "trace_name                                                                  \n",
       "CAL.NC_19840424221806_EV                 251.0             600.0   manual   \n",
       "\n",
       "                          p_weight  p_travel_sec  ...  \\\n",
       "trace_name                                        ...   \n",
       "CAL.NC_19840424221806_EV      0.51          4.64  ...   \n",
       "\n",
       "                          source_magnitude_author  \\\n",
       "trace_name                                          \n",
       "CAL.NC_19840424221806_EV                       NC   \n",
       "\n",
       "                         source_mechanism_strike_dip_rake  \\\n",
       "trace_name                                                  \n",
       "CAL.NC_19840424221806_EV                             None   \n",
       "\n",
       "                          source_distance_deg source_distance_km  \\\n",
       "trace_name                                                         \n",
       "CAL.NC_19840424221806_EV               0.2117              23.37   \n",
       "\n",
       "                         back_azimuth_deg                              snr_db  \\\n",
       "trace_name                                                                      \n",
       "CAL.NC_19840424221806_EV            147.0  [4.5        1.79999995 4.9000001 ]   \n",
       "\n",
       "                          coda_end_sample        trace_start_time  \\\n",
       "trace_name                                                          \n",
       "CAL.NC_19840424221806_EV        [[1900.]] 1984-04-24 22:18:07.960   \n",
       "\n",
       "                            trace_category station  \n",
       "trace_name                                          \n",
       "CAL.NC_19840424221806_EV  earthquake_local  NC.CAL  \n",
       "\n",
       "[1 rows x 35 columns]"
      ]
     },
     "execution_count": 96,
     "metadata": {},
     "output_type": "execute_result"
    }
   ],
   "source": [
    "earliest_trace"
   ]
  },
  {
   "cell_type": "code",
   "execution_count": 97,
   "metadata": {},
   "outputs": [],
   "source": [
    "#client = Client(\"IRIS\")\n",
    "client = Client(\"IRIS\")\n",
    "first_event = UTCDateTime(df_test['trace_start_time'].min().isoformat())\n",
    "last_event = UTCDateTime(df_test['trace_start_time'].max().isoformat())\n",
    "\n"
   ]
  },
  {
   "cell_type": "markdown",
   "metadata": {},
   "source": [
    "iris_events = client.get_events(starttime  = first_event,\n",
    "endtime=last_event,\n",
    "eventtype = \"earthquake\")\n",
    "inventory = client.get_stations(latitude=37.34164, longitude=-121.64257\t)\n",
    "print(inventory)  "
   ]
  },
  {
   "cell_type": "code",
   "execution_count": 98,
   "metadata": {},
   "outputs": [],
   "source": [
    "df_test_closest = df_test[df_test['source_distance_km'] == min(df_test['source_distance_km'])]"
   ]
  },
  {
   "cell_type": "code",
   "execution_count": 99,
   "metadata": {},
   "outputs": [
    {
     "data": {
      "text/plain": [
       "network_code                                object\n",
       "receiver_code                               object\n",
       "receiver_type                               object\n",
       "receiver_latitude                          float64\n",
       "receiver_longitude                         float64\n",
       "receiver_elevation_m                       float64\n",
       "p_arrival_sample                           float64\n",
       "p_status                                    object\n",
       "p_weight                                   float64\n",
       "p_travel_sec                               float64\n",
       "s_arrival_sample                           float64\n",
       "s_status                                    object\n",
       "s_weight                                   float64\n",
       "source_id                                   object\n",
       "source_origin_time                          object\n",
       "source_origin_uncertainty_sec               object\n",
       "source_latitude                            float64\n",
       "source_longitude                           float64\n",
       "source_error_sec                            object\n",
       "source_gap_deg                              object\n",
       "source_horizontal_uncertainty_km            object\n",
       "source_depth_km                             object\n",
       "source_depth_uncertainty_km                 object\n",
       "source_magnitude                           float64\n",
       "source_magnitude_type                       object\n",
       "source_magnitude_author                     object\n",
       "source_mechanism_strike_dip_rake            object\n",
       "source_distance_deg                        float64\n",
       "source_distance_km                         float64\n",
       "back_azimuth_deg                           float64\n",
       "snr_db                                      object\n",
       "coda_end_sample                             object\n",
       "trace_start_time                    datetime64[ns]\n",
       "trace_category                              object\n",
       "station                                     object\n",
       "dtype: object"
      ]
     },
     "execution_count": 99,
     "metadata": {},
     "output_type": "execute_result"
    }
   ],
   "source": [
    "df_test_closest.dtypes"
   ]
  },
  {
   "cell_type": "code",
   "execution_count": 100,
   "metadata": {},
   "outputs": [],
   "source": [
    "from obspy import read_inventory, UTCDateTime\n",
    "inv = read_inventory()"
   ]
  },
  {
   "cell_type": "markdown",
   "metadata": {},
   "source": [
    "stations = client.get_stations(starttime  = first_event,\n",
    "endtime=last_event,level='station')\n",
    "#.get_contents()[\"stations\"]\n",
    "#[\"stations\"]\n",
    "#.get_contents()[\"stations\"]"
   ]
  },
  {
   "cell_type": "markdown",
   "metadata": {},
   "source": [
    "for key in sorted(URL_MAPPINGS.keys()):\n",
    "    print(key)"
   ]
  },
  {
   "cell_type": "markdown",
   "metadata": {},
   "source": [
    "#for s in stations.get_contents()[\"stations\"]:\n",
    "stations_per_provider = {}\n",
    "providers = list(URL_MAPPINGS.keys())\n",
    "faulty_providers = []\n",
    "#providers.remove('BGR')\n",
    "for key in providers:\n",
    "    #client = Client(key)\n",
    "    try:\n",
    "        client = Client(key)\n",
    "        stations_per_provider[key] = []\n",
    "#client = Client(\"IRIS\")\n",
    "    \n",
    "        stations = client.get_stations(starttime  = first_event,\n",
    "        endtime=last_event,level='station')\n",
    "        for s in stations:\n",
    "            for e in s:\n",
    "            #print()\n",
    "                stations_per_provider[key].append(s.code + '.' + e.code)\n",
    "    except:\n",
    "        #print(key)\n",
    "        faulty_providers.append(key)\n",
    "        pass\n",
    "        #raise ValueError\n",
    "    #station_coords = {}\n",
    "    #for s in stations:\n",
    "    #    for e in s:\n",
    "            #print()\n",
    "    #        stations_per_provider[key].append(s.code + '.' + e.code)\n",
    "            #station_coords[s.code + '.' + e.code] = (e.latitude,e.longitude)\n",
    "            #print(s.code + '.' + e.code)\n",
    "            #print(e.code)\n",
    "\n",
    "    "
   ]
  },
  {
   "cell_type": "markdown",
   "metadata": {},
   "source": [
    "stations_per_provider"
   ]
  },
  {
   "cell_type": "markdown",
   "metadata": {},
   "source": [
    "        client = Client(key)\n",
    "        stations_per_provider[key] = []\n",
    "#client = Client(\"IRIS\")\n",
    "    \n",
    "        stations = client.get_stations(starttime  = first_event,\n",
    "        endtime=last_event,level='station')"
   ]
  },
  {
   "cell_type": "code",
   "execution_count": null,
   "metadata": {},
   "outputs": [],
   "source": []
  },
  {
   "cell_type": "code",
   "execution_count": null,
   "metadata": {},
   "outputs": [],
   "source": []
  },
  {
   "cell_type": "markdown",
   "metadata": {},
   "source": [
    "Stations file creation"
   ]
  },
  {
   "cell_type": "code",
   "execution_count": 133,
   "metadata": {},
   "outputs": [],
   "source": [
    "stations_df = pd.DataFrame(columns=['provider', 'network_name','station_name', 'latitude','longitude','station_opened','station_closed'])"
   ]
  },
  {
   "cell_type": "code",
   "execution_count": 102,
   "metadata": {},
   "outputs": [
    {
     "name": "stdout",
     "output_type": "stream",
     "text": [
      "['BGR', 'ETH', 'EMSC', 'GEONET', 'GFZ', 'ICGC', 'INGV', 'IPGP', 'IRIS', 'ISC', 'KNMI', 'KOERI', 'LMU', 'NCEDC', 'NIEP', 'NOA', 'ODC', 'ORFEUS', 'RESIF', 'RASPISHAKE', 'SCEDC', 'TEXNET', 'UIB-NORSAR', 'USGS', 'USP']\n"
     ]
    },
    {
     "name": "stderr",
     "output_type": "stream",
     "text": [
      "C:\\ProgramData\\Anaconda3\\lib\\site-packages\\obspy\\io\\stationxml\\core.py:96: UserWarning: The StationXML file has version 1, ObsPy can read versions (1.0, 1.1). Proceed with caution.\n",
      "  warnings.warn(\"The StationXML file has version %s, ObsPy can \"\n"
     ]
    }
   ],
   "source": [
    "stations_per_provider = {}\n",
    "providers = list(URL_MAPPINGS.keys())\n",
    "faulty_providers = []\n",
    "#providers.remove('BGR')\n",
    "#print(providers)\n",
    "for key in providers:\n",
    "    #client = Client(key)\n",
    "    try:\n",
    "        client = Client(key)\n",
    "        stations_per_provider[key] = []\n",
    "    #client = Client(\"IRIS\")\n",
    "\n",
    "        stations = client.get_stations(starttime  = first_event,\n",
    "        endtime=last_event,level='station')\n",
    "        for s in stations:\n",
    "            for e in s:\n",
    "                row_frame = pd.Series([key,s.code,e.code,e.latitude,e.longitude,e.creation_date,e.termination_date]).to_frame().T\n",
    "                \n",
    "                #row_frame = station_row.to_frame().T\n",
    "                row_frame.columns = stations_df.columns\n",
    "\n",
    "                stations_df = pd.concat([stations_df,row_frame],names = list(stations_df.columns), join = 'outer')\n",
    "                #print(station_row)\n",
    "                #stations_df = pd.concat([stations_df,station_row],ignore_index = False, axis = 0)\n",
    "                #print(stations_df)\n",
    "                \n",
    "            #print()\n",
    "                #stations_per_provider[key].append(s.code + '.' + e.code)\n",
    "    except:\n",
    "        #print(key)\n",
    "        faulty_providers.append(key)\n",
    "        pass"
   ]
  },
  {
   "cell_type": "code",
   "execution_count": 127,
   "metadata": {},
   "outputs": [
    {
     "ename": "TypeError",
     "evalue": "Can only append a Series if ignore_index=True or if the Series has a name",
     "output_type": "error",
     "traceback": [
      "\u001b[1;31m---------------------------------------------------------------------------\u001b[0m",
      "\u001b[1;31mTypeError\u001b[0m                                 Traceback (most recent call last)",
      "\u001b[1;32m<ipython-input-127-9a2b4994d61f>\u001b[0m in \u001b[0;36m<module>\u001b[1;34m\u001b[0m\n\u001b[1;32m----> 1\u001b[1;33m \u001b[0mstations_df\u001b[0m \u001b[1;33m=\u001b[0m \u001b[0mstations_df\u001b[0m\u001b[1;33m.\u001b[0m\u001b[0mappend\u001b[0m\u001b[1;33m(\u001b[0m\u001b[0mstation_row\u001b[0m\u001b[1;33m,\u001b[0m\u001b[0mignore_index\u001b[0m\u001b[1;33m=\u001b[0m\u001b[1;32mFalse\u001b[0m\u001b[1;33m)\u001b[0m\u001b[1;33m\u001b[0m\u001b[1;33m\u001b[0m\u001b[0m\n\u001b[0m",
      "\u001b[1;32mC:\\ProgramData\\Anaconda3\\lib\\site-packages\\pandas\\core\\frame.py\u001b[0m in \u001b[0;36mappend\u001b[1;34m(self, other, ignore_index, verify_integrity, sort)\u001b[0m\n\u001b[0;32m   7946\u001b[0m                 \u001b[0mother\u001b[0m \u001b[1;33m=\u001b[0m \u001b[0mSeries\u001b[0m\u001b[1;33m(\u001b[0m\u001b[0mother\u001b[0m\u001b[1;33m)\u001b[0m\u001b[1;33m\u001b[0m\u001b[1;33m\u001b[0m\u001b[0m\n\u001b[0;32m   7947\u001b[0m             \u001b[1;32mif\u001b[0m \u001b[0mother\u001b[0m\u001b[1;33m.\u001b[0m\u001b[0mname\u001b[0m \u001b[1;32mis\u001b[0m \u001b[1;32mNone\u001b[0m \u001b[1;32mand\u001b[0m \u001b[1;32mnot\u001b[0m \u001b[0mignore_index\u001b[0m\u001b[1;33m:\u001b[0m\u001b[1;33m\u001b[0m\u001b[1;33m\u001b[0m\u001b[0m\n\u001b[1;32m-> 7948\u001b[1;33m                 raise TypeError(\n\u001b[0m\u001b[0;32m   7949\u001b[0m                     \u001b[1;34m\"Can only append a Series if ignore_index=True \"\u001b[0m\u001b[1;33m\u001b[0m\u001b[1;33m\u001b[0m\u001b[0m\n\u001b[0;32m   7950\u001b[0m                     \u001b[1;34m\"or if the Series has a name\"\u001b[0m\u001b[1;33m\u001b[0m\u001b[1;33m\u001b[0m\u001b[0m\n",
      "\u001b[1;31mTypeError\u001b[0m: Can only append a Series if ignore_index=True or if the Series has a name"
     ]
    }
   ],
   "source": [
    "stations_df = stations_df.append(station_row,ignore_index=False)"
   ]
  },
  {
   "cell_type": "code",
   "execution_count": 139,
   "metadata": {},
   "outputs": [],
   "source": [
    "\n",
    "#to_frame().T\n",
    "row_frame = station_row.to_frame().T\n",
    "row_frame.columns = stations_df.columns\n",
    "\n",
    "ee = pd.concat([stations_df,row_frame],names = list(stations_df.columns), join = 'outer')\n",
    "\n",
    "#stations_df.append(station_row.to_frame().T,ignore_index=True,)"
   ]
  },
  {
   "cell_type": "code",
   "execution_count": 140,
   "metadata": {},
   "outputs": [
    {
     "data": {
      "text/html": [
       "<div>\n",
       "<style scoped>\n",
       "    .dataframe tbody tr th:only-of-type {\n",
       "        vertical-align: middle;\n",
       "    }\n",
       "\n",
       "    .dataframe tbody tr th {\n",
       "        vertical-align: top;\n",
       "    }\n",
       "\n",
       "    .dataframe thead th {\n",
       "        text-align: right;\n",
       "    }\n",
       "</style>\n",
       "<table border=\"1\" class=\"dataframe\">\n",
       "  <thead>\n",
       "    <tr style=\"text-align: right;\">\n",
       "      <th></th>\n",
       "      <th>provider</th>\n",
       "      <th>network_name</th>\n",
       "      <th>station_name</th>\n",
       "      <th>latitude</th>\n",
       "      <th>longitude</th>\n",
       "      <th>station_opened</th>\n",
       "      <th>station_closed</th>\n",
       "    </tr>\n",
       "  </thead>\n",
       "  <tbody>\n",
       "    <tr>\n",
       "      <th>0</th>\n",
       "      <td>USP</td>\n",
       "      <td>II</td>\n",
       "      <td>ERM</td>\n",
       "      <td>42.015</td>\n",
       "      <td>143.1572</td>\n",
       "      <td>1990-05-21T00:00:00.000000Z</td>\n",
       "      <td>None</td>\n",
       "    </tr>\n",
       "  </tbody>\n",
       "</table>\n",
       "</div>"
      ],
      "text/plain": [
       "  provider network_name station_name latitude longitude  \\\n",
       "0      USP           II          ERM   42.015  143.1572   \n",
       "\n",
       "                station_opened station_closed  \n",
       "0  1990-05-21T00:00:00.000000Z           None  "
      ]
     },
     "execution_count": 140,
     "metadata": {},
     "output_type": "execute_result"
    }
   ],
   "source": [
    "ee"
   ]
  },
  {
   "cell_type": "code",
   "execution_count": 82,
   "metadata": {},
   "outputs": [
    {
     "data": {
      "text/html": [
       "<div>\n",
       "<style scoped>\n",
       "    .dataframe tbody tr th:only-of-type {\n",
       "        vertical-align: middle;\n",
       "    }\n",
       "\n",
       "    .dataframe tbody tr th {\n",
       "        vertical-align: top;\n",
       "    }\n",
       "\n",
       "    .dataframe thead th {\n",
       "        text-align: right;\n",
       "    }\n",
       "</style>\n",
       "<table border=\"1\" class=\"dataframe\">\n",
       "  <thead>\n",
       "    <tr style=\"text-align: right;\">\n",
       "      <th></th>\n",
       "      <th>provider</th>\n",
       "      <th>network_name</th>\n",
       "      <th>station_name</th>\n",
       "      <th>latitude</th>\n",
       "      <th>longitude</th>\n",
       "      <th>station_opened</th>\n",
       "      <th>station_closed</th>\n",
       "    </tr>\n",
       "  </thead>\n",
       "  <tbody>\n",
       "  </tbody>\n",
       "</table>\n",
       "</div>"
      ],
      "text/plain": [
       "Empty DataFrame\n",
       "Columns: [provider, network_name, station_name, latitude, longitude, station_opened, station_closed]\n",
       "Index: []"
      ]
     },
     "execution_count": 82,
     "metadata": {},
     "output_type": "execute_result"
    }
   ],
   "source": [
    "stations_df"
   ]
  },
  {
   "cell_type": "code",
   "execution_count": 58,
   "metadata": {},
   "outputs": [
    {
     "data": {
      "text/plain": [
       "['provider',\n",
       " 'network_name',\n",
       " 'station_name',\n",
       " 'latitude',\n",
       " 'longitude',\n",
       " 'station_opened',\n",
       " 'station_closed']"
      ]
     },
     "execution_count": 58,
     "metadata": {},
     "output_type": "execute_result"
    }
   ],
   "source": [
    "list(stations_df.columns)"
   ]
  },
  {
   "cell_type": "code",
   "execution_count": 33,
   "metadata": {},
   "outputs": [
    {
     "data": {
      "text/plain": [
       "7"
      ]
     },
     "execution_count": 33,
     "metadata": {},
     "output_type": "execute_result"
    }
   ],
   "source": [
    "len(stations_df.columns)"
   ]
  },
  {
   "cell_type": "code",
   "execution_count": 34,
   "metadata": {},
   "outputs": [
    {
     "data": {
      "text/plain": [
       "0    0\n",
       "1    1\n",
       "2    2\n",
       "3    3\n",
       "4    4\n",
       "5    5\n",
       "6    6\n",
       "7    7\n",
       "dtype: int64"
      ]
     },
     "execution_count": 34,
     "metadata": {},
     "output_type": "execute_result"
    }
   ],
   "source": [
    "station_row"
   ]
  },
  {
   "cell_type": "code",
   "execution_count": 74,
   "metadata": {},
   "outputs": [],
   "source": [
    "stations_df = pd.concat([stations_df, station_row.T], axis = 0, ignore_index=False, names = list(stations_df.columns))\n",
    "#,names =  list(stations_df.columns))"
   ]
  },
  {
   "cell_type": "code",
   "execution_count": 75,
   "metadata": {},
   "outputs": [
    {
     "data": {
      "text/html": [
       "<div>\n",
       "<style scoped>\n",
       "    .dataframe tbody tr th:only-of-type {\n",
       "        vertical-align: middle;\n",
       "    }\n",
       "\n",
       "    .dataframe tbody tr th {\n",
       "        vertical-align: top;\n",
       "    }\n",
       "\n",
       "    .dataframe thead th {\n",
       "        text-align: right;\n",
       "    }\n",
       "</style>\n",
       "<table border=\"1\" class=\"dataframe\">\n",
       "  <thead>\n",
       "    <tr style=\"text-align: right;\">\n",
       "      <th></th>\n",
       "      <th>0</th>\n",
       "    </tr>\n",
       "  </thead>\n",
       "  <tbody>\n",
       "    <tr>\n",
       "      <th>0</th>\n",
       "      <td>Empty DataFrame\n",
       "Columns: [provider, network_na...</td>\n",
       "    </tr>\n",
       "    <tr>\n",
       "      <th>1</th>\n",
       "      <td>provider          0\n",
       "network_name      1\n",
       "statio...</td>\n",
       "    </tr>\n",
       "    <tr>\n",
       "      <th>provider</th>\n",
       "      <td>0</td>\n",
       "    </tr>\n",
       "    <tr>\n",
       "      <th>network_name</th>\n",
       "      <td>1</td>\n",
       "    </tr>\n",
       "    <tr>\n",
       "      <th>station_name</th>\n",
       "      <td>2</td>\n",
       "    </tr>\n",
       "    <tr>\n",
       "      <th>latitude</th>\n",
       "      <td>3</td>\n",
       "    </tr>\n",
       "    <tr>\n",
       "      <th>longitude</th>\n",
       "      <td>4</td>\n",
       "    </tr>\n",
       "    <tr>\n",
       "      <th>station_opened</th>\n",
       "      <td>5</td>\n",
       "    </tr>\n",
       "    <tr>\n",
       "      <th>station_closed</th>\n",
       "      <td>6</td>\n",
       "    </tr>\n",
       "  </tbody>\n",
       "</table>\n",
       "</div>"
      ],
      "text/plain": [
       "                                                                0\n",
       "0               Empty DataFrame\n",
       "Columns: [provider, network_na...\n",
       "1               provider          0\n",
       "network_name      1\n",
       "statio...\n",
       "provider                                                        0\n",
       "network_name                                                    1\n",
       "station_name                                                    2\n",
       "latitude                                                        3\n",
       "longitude                                                       4\n",
       "station_opened                                                  5\n",
       "station_closed                                                  6"
      ]
     },
     "execution_count": 75,
     "metadata": {},
     "output_type": "execute_result"
    }
   ],
   "source": [
    "stations_df"
   ]
  },
  {
   "cell_type": "code",
   "execution_count": 53,
   "metadata": {},
   "outputs": [],
   "source": [
    "stations_df = stations_df.append(station_row,ignore_index=True)"
   ]
  },
  {
   "cell_type": "code",
   "execution_count": 41,
   "metadata": {},
   "outputs": [
    {
     "data": {
      "text/html": [
       "<div>\n",
       "<style scoped>\n",
       "    .dataframe tbody tr th:only-of-type {\n",
       "        vertical-align: middle;\n",
       "    }\n",
       "\n",
       "    .dataframe tbody tr th {\n",
       "        vertical-align: top;\n",
       "    }\n",
       "\n",
       "    .dataframe thead th {\n",
       "        text-align: right;\n",
       "    }\n",
       "</style>\n",
       "<table border=\"1\" class=\"dataframe\">\n",
       "  <thead>\n",
       "    <tr style=\"text-align: right;\">\n",
       "      <th></th>\n",
       "      <th>provider</th>\n",
       "      <th>network_name</th>\n",
       "      <th>station_name</th>\n",
       "      <th>latitude</th>\n",
       "      <th>longitude</th>\n",
       "      <th>station_opened</th>\n",
       "      <th>station_closed</th>\n",
       "      <th>0</th>\n",
       "      <th>1</th>\n",
       "      <th>2</th>\n",
       "      <th>3</th>\n",
       "      <th>4</th>\n",
       "      <th>5</th>\n",
       "      <th>6</th>\n",
       "      <th>7</th>\n",
       "    </tr>\n",
       "  </thead>\n",
       "  <tbody>\n",
       "    <tr>\n",
       "      <th>0</th>\n",
       "      <td>NaN</td>\n",
       "      <td>NaN</td>\n",
       "      <td>NaN</td>\n",
       "      <td>NaN</td>\n",
       "      <td>NaN</td>\n",
       "      <td>NaN</td>\n",
       "      <td>NaN</td>\n",
       "      <td>0.0</td>\n",
       "      <td>1.0</td>\n",
       "      <td>2.0</td>\n",
       "      <td>3.0</td>\n",
       "      <td>4.0</td>\n",
       "      <td>5.0</td>\n",
       "      <td>6.0</td>\n",
       "      <td>7.0</td>\n",
       "    </tr>\n",
       "  </tbody>\n",
       "</table>\n",
       "</div>"
      ],
      "text/plain": [
       "  provider network_name station_name latitude longitude station_opened  \\\n",
       "0      NaN          NaN          NaN      NaN       NaN            NaN   \n",
       "\n",
       "  station_closed    0    1    2    3    4    5    6    7  \n",
       "0            NaN  0.0  1.0  2.0  3.0  4.0  5.0  6.0  7.0  "
      ]
     },
     "execution_count": 41,
     "metadata": {},
     "output_type": "execute_result"
    }
   ],
   "source": [
    "stations_df"
   ]
  },
  {
   "cell_type": "code",
   "execution_count": null,
   "metadata": {},
   "outputs": [
    {
     "data": {
      "text/html": [
       "<div>\n",
       "<style scoped>\n",
       "    .dataframe tbody tr th:only-of-type {\n",
       "        vertical-align: middle;\n",
       "    }\n",
       "\n",
       "    .dataframe tbody tr th {\n",
       "        vertical-align: top;\n",
       "    }\n",
       "\n",
       "    .dataframe thead th {\n",
       "        text-align: right;\n",
       "    }\n",
       "</style>\n",
       "<table border=\"1\" class=\"dataframe\">\n",
       "  <thead>\n",
       "    <tr style=\"text-align: right;\">\n",
       "      <th></th>\n",
       "      <th>provider</th>\n",
       "      <th>network_name</th>\n",
       "      <th>station_name</th>\n",
       "      <th>latitude</th>\n",
       "      <th>longitude</th>\n",
       "      <th>station_opened</th>\n",
       "      <th>station_closed</th>\n",
       "    </tr>\n",
       "  </thead>\n",
       "  <tbody>\n",
       "  </tbody>\n",
       "</table>\n",
       "</div>"
      ],
      "text/plain": [
       "Empty DataFrame\n",
       "Columns: [provider, network_name, station_name, latitude, longitude, station_opened, station_closed]\n",
       "Index: []"
      ]
     },
     "execution_count": 73,
     "metadata": {},
     "output_type": "execute_result"
    }
   ],
   "source": [
    "stations_df"
   ]
  },
  {
   "cell_type": "code",
   "execution_count": null,
   "metadata": {},
   "outputs": [
    {
     "data": {
      "text/plain": [
       "185.0"
      ]
     },
     "execution_count": 58,
     "metadata": {},
     "output_type": "execute_result"
    }
   ],
   "source": [
    "stations[0][0].elevation"
   ]
  },
  {
   "cell_type": "code",
   "execution_count": null,
   "metadata": {},
   "outputs": [
    {
     "data": {
      "text/plain": [
       "Station PTET (Porto Estrela, MT)\n",
       "\tStation Code: PTET\n",
       "\tChannel Count: None/None (Selected/Total)\n",
       "\t2016-05-04T00:00:00.000000Z - 2019-05-17T00:00:00.000000Z\n",
       "\tAccess: open \n",
       "\tLatitude: -15.38, Longitude: -57.16, Elevation: 185.0 m\n",
       "\tAvailable Channels:\n"
      ]
     },
     "execution_count": 62,
     "metadata": {},
     "output_type": "execute_result"
    }
   ],
   "source": [
    "stations[0][0]"
   ]
  },
  {
   "cell_type": "code",
   "execution_count": null,
   "metadata": {},
   "outputs": [
    {
     "data": {
      "text/plain": [
       "'PTET'"
      ]
     },
     "execution_count": 61,
     "metadata": {},
     "output_type": "execute_result"
    }
   ],
   "source": [
    "stations[0][0].code"
   ]
  },
  {
   "cell_type": "code",
   "execution_count": null,
   "metadata": {},
   "outputs": [
    {
     "data": {
      "text/plain": [
       "Station PTET (Porto Estrela, MT)\n",
       "\tStation Code: PTET\n",
       "\tChannel Count: None/None (Selected/Total)\n",
       "\t2016-05-04T00:00:00.000000Z - 2019-05-17T00:00:00.000000Z\n",
       "\tAccess: open \n",
       "\tLatitude: -15.38, Longitude: -57.16, Elevation: 185.0 m\n",
       "\tAvailable Channels:\n"
      ]
     },
     "execution_count": 54,
     "metadata": {},
     "output_type": "execute_result"
    }
   ],
   "source": [
    "stations[0][0]"
   ]
  },
  {
   "cell_type": "code",
   "execution_count": null,
   "metadata": {},
   "outputs": [
    {
     "data": {
      "text/plain": [
       "['EMSC', 'GFZ', 'IRIS', 'ISC', 'USGS']"
      ]
     },
     "execution_count": 40,
     "metadata": {},
     "output_type": "execute_result"
    }
   ],
   "source": [
    "faulty_providers"
   ]
  },
  {
   "cell_type": "code",
   "execution_count": null,
   "metadata": {},
   "outputs": [
    {
     "data": {
      "text/plain": [
       "['EMSC', 'GFZ', 'IRIS', 'ISC', 'USGS']"
      ]
     },
     "execution_count": 41,
     "metadata": {},
     "output_type": "execute_result"
    }
   ],
   "source": [
    "faulty_providers"
   ]
  },
  {
   "cell_type": "code",
   "execution_count": null,
   "metadata": {},
   "outputs": [
    {
     "name": "stdout",
     "output_type": "stream",
     "text": [
      "IRIS\n"
     ]
    },
    {
     "ename": "ValueError",
     "evalue": "value 336.68668 out of bounds (-90, 90)",
     "output_type": "error",
     "traceback": [
      "\u001b[1;31m---------------------------------------------------------------------------\u001b[0m",
      "\u001b[1;31mValueError\u001b[0m                                Traceback (most recent call last)",
      "\u001b[1;32m<ipython-input-227-85136cd21647>\u001b[0m in \u001b[0;36m<module>\u001b[1;34m\u001b[0m\n\u001b[0;32m     15\u001b[0m \u001b[1;31m#client = Client(\"IRIS\")\u001b[0m\u001b[1;33m\u001b[0m\u001b[1;33m\u001b[0m\u001b[1;33m\u001b[0m\u001b[0m\n\u001b[0;32m     16\u001b[0m \u001b[1;33m\u001b[0m\u001b[0m\n\u001b[1;32m---> 17\u001b[1;33m     stations = client.get_stations(starttime  = first_event,\n\u001b[0m\u001b[0;32m     18\u001b[0m     endtime=last_event,level='station')\n\u001b[0;32m     19\u001b[0m     \u001b[1;32mfor\u001b[0m \u001b[0ms\u001b[0m \u001b[1;32min\u001b[0m \u001b[0mstations\u001b[0m\u001b[1;33m:\u001b[0m\u001b[1;33m\u001b[0m\u001b[1;33m\u001b[0m\u001b[0m\n",
      "\u001b[1;32mC:\\ProgramData\\Anaconda3\\lib\\site-packages\\obspy\\clients\\fdsn\\client.py\u001b[0m in \u001b[0;36mget_stations\u001b[1;34m(self, starttime, endtime, startbefore, startafter, endbefore, endafter, network, station, location, channel, minlatitude, maxlatitude, minlongitude, maxlongitude, latitude, longitude, minradius, maxradius, level, includerestricted, includeavailability, updatedafter, matchtimeseries, filename, format, **kwargs)\u001b[0m\n\u001b[0;32m    730\u001b[0m         \u001b[1;32melse\u001b[0m\u001b[1;33m:\u001b[0m\u001b[1;33m\u001b[0m\u001b[1;33m\u001b[0m\u001b[0m\n\u001b[0;32m    731\u001b[0m             \u001b[1;31m# This works with XML and StationXML data.\u001b[0m\u001b[1;33m\u001b[0m\u001b[1;33m\u001b[0m\u001b[1;33m\u001b[0m\u001b[0m\n\u001b[1;32m--> 732\u001b[1;33m             \u001b[0minventory\u001b[0m \u001b[1;33m=\u001b[0m \u001b[0mread_inventory\u001b[0m\u001b[1;33m(\u001b[0m\u001b[0mdata_stream\u001b[0m\u001b[1;33m)\u001b[0m\u001b[1;33m\u001b[0m\u001b[1;33m\u001b[0m\u001b[0m\n\u001b[0m\u001b[0;32m    733\u001b[0m             \u001b[0mdata_stream\u001b[0m\u001b[1;33m.\u001b[0m\u001b[0mclose\u001b[0m\u001b[1;33m(\u001b[0m\u001b[1;33m)\u001b[0m\u001b[1;33m\u001b[0m\u001b[1;33m\u001b[0m\u001b[0m\n\u001b[0;32m    734\u001b[0m             \u001b[1;32mreturn\u001b[0m \u001b[0minventory\u001b[0m\u001b[1;33m\u001b[0m\u001b[1;33m\u001b[0m\u001b[0m\n",
      "\u001b[1;32mC:\\ProgramData\\Anaconda3\\lib\\site-packages\\decorator.py\u001b[0m in \u001b[0;36mfun\u001b[1;34m(*args, **kw)\u001b[0m\n\u001b[0;32m    229\u001b[0m             \u001b[1;32mif\u001b[0m \u001b[1;32mnot\u001b[0m \u001b[0mkwsyntax\u001b[0m\u001b[1;33m:\u001b[0m\u001b[1;33m\u001b[0m\u001b[1;33m\u001b[0m\u001b[0m\n\u001b[0;32m    230\u001b[0m                 \u001b[0margs\u001b[0m\u001b[1;33m,\u001b[0m \u001b[0mkw\u001b[0m \u001b[1;33m=\u001b[0m \u001b[0mfix\u001b[0m\u001b[1;33m(\u001b[0m\u001b[0margs\u001b[0m\u001b[1;33m,\u001b[0m \u001b[0mkw\u001b[0m\u001b[1;33m,\u001b[0m \u001b[0msig\u001b[0m\u001b[1;33m)\u001b[0m\u001b[1;33m\u001b[0m\u001b[1;33m\u001b[0m\u001b[0m\n\u001b[1;32m--> 231\u001b[1;33m             \u001b[1;32mreturn\u001b[0m \u001b[0mcaller\u001b[0m\u001b[1;33m(\u001b[0m\u001b[0mfunc\u001b[0m\u001b[1;33m,\u001b[0m \u001b[1;33m*\u001b[0m\u001b[1;33m(\u001b[0m\u001b[0mextras\u001b[0m \u001b[1;33m+\u001b[0m \u001b[0margs\u001b[0m\u001b[1;33m)\u001b[0m\u001b[1;33m,\u001b[0m \u001b[1;33m**\u001b[0m\u001b[0mkw\u001b[0m\u001b[1;33m)\u001b[0m\u001b[1;33m\u001b[0m\u001b[1;33m\u001b[0m\u001b[0m\n\u001b[0m\u001b[0;32m    232\u001b[0m     \u001b[0mfun\u001b[0m\u001b[1;33m.\u001b[0m\u001b[0m__name__\u001b[0m \u001b[1;33m=\u001b[0m \u001b[0mfunc\u001b[0m\u001b[1;33m.\u001b[0m\u001b[0m__name__\u001b[0m\u001b[1;33m\u001b[0m\u001b[1;33m\u001b[0m\u001b[0m\n\u001b[0;32m    233\u001b[0m     \u001b[0mfun\u001b[0m\u001b[1;33m.\u001b[0m\u001b[0m__doc__\u001b[0m \u001b[1;33m=\u001b[0m \u001b[0mfunc\u001b[0m\u001b[1;33m.\u001b[0m\u001b[0m__doc__\u001b[0m\u001b[1;33m\u001b[0m\u001b[1;33m\u001b[0m\u001b[0m\n",
      "\u001b[1;32mC:\\ProgramData\\Anaconda3\\lib\\site-packages\\obspy\\core\\util\\decorator.py\u001b[0m in \u001b[0;36m_map_example_filename\u001b[1;34m(func, *args, **kwargs)\u001b[0m\n\u001b[0;32m    298\u001b[0m                         \u001b[1;32mexcept\u001b[0m \u001b[0mIOError\u001b[0m\u001b[1;33m:\u001b[0m\u001b[1;33m\u001b[0m\u001b[1;33m\u001b[0m\u001b[0m\n\u001b[0;32m    299\u001b[0m                             \u001b[1;32mpass\u001b[0m\u001b[1;33m\u001b[0m\u001b[1;33m\u001b[0m\u001b[0m\n\u001b[1;32m--> 300\u001b[1;33m         \u001b[1;32mreturn\u001b[0m \u001b[0mfunc\u001b[0m\u001b[1;33m(\u001b[0m\u001b[1;33m*\u001b[0m\u001b[0margs\u001b[0m\u001b[1;33m,\u001b[0m \u001b[1;33m**\u001b[0m\u001b[0mkwargs\u001b[0m\u001b[1;33m)\u001b[0m\u001b[1;33m\u001b[0m\u001b[1;33m\u001b[0m\u001b[0m\n\u001b[0m\u001b[0;32m    301\u001b[0m     \u001b[1;32mreturn\u001b[0m \u001b[0m_map_example_filename\u001b[0m\u001b[1;33m\u001b[0m\u001b[1;33m\u001b[0m\u001b[0m\n\u001b[0;32m    302\u001b[0m \u001b[1;33m\u001b[0m\u001b[0m\n",
      "\u001b[1;32mC:\\ProgramData\\Anaconda3\\lib\\site-packages\\obspy\\core\\inventory\\inventory.py\u001b[0m in \u001b[0;36mread_inventory\u001b[1;34m(path_or_file_object, format, *args, **kwargs)\u001b[0m\n\u001b[0;32m     86\u001b[0m         \u001b[1;32mreturn\u001b[0m \u001b[0m_create_example_inventory\u001b[0m\u001b[1;33m(\u001b[0m\u001b[1;33m)\u001b[0m\u001b[1;33m\u001b[0m\u001b[1;33m\u001b[0m\u001b[0m\n\u001b[0;32m     87\u001b[0m     \u001b[1;32melse\u001b[0m\u001b[1;33m:\u001b[0m\u001b[1;33m\u001b[0m\u001b[1;33m\u001b[0m\u001b[0m\n\u001b[1;32m---> 88\u001b[1;33m         return _generic_reader(path_or_file_object, _read, format=format,\n\u001b[0m\u001b[0;32m     89\u001b[0m                                **kwargs)\n\u001b[0;32m     90\u001b[0m \u001b[1;33m\u001b[0m\u001b[0m\n",
      "\u001b[1;32mC:\\ProgramData\\Anaconda3\\lib\\site-packages\\obspy\\core\\util\\base.py\u001b[0m in \u001b[0;36m_generic_reader\u001b[1;34m(pathname_or_url, callback_func, **kwargs)\u001b[0m\n\u001b[0;32m    668\u001b[0m         \u001b[1;32mtry\u001b[0m\u001b[1;33m:\u001b[0m\u001b[1;33m\u001b[0m\u001b[1;33m\u001b[0m\u001b[0m\n\u001b[0;32m    669\u001b[0m             \u001b[1;31m# first try reading directly\u001b[0m\u001b[1;33m\u001b[0m\u001b[1;33m\u001b[0m\u001b[1;33m\u001b[0m\u001b[0m\n\u001b[1;32m--> 670\u001b[1;33m             \u001b[0mgeneric\u001b[0m \u001b[1;33m=\u001b[0m \u001b[0mcallback_func\u001b[0m\u001b[1;33m(\u001b[0m\u001b[0mpathname_or_url\u001b[0m\u001b[1;33m,\u001b[0m \u001b[1;33m**\u001b[0m\u001b[0mkwargs\u001b[0m\u001b[1;33m)\u001b[0m\u001b[1;33m\u001b[0m\u001b[1;33m\u001b[0m\u001b[0m\n\u001b[0m\u001b[0;32m    671\u001b[0m         \u001b[1;32mexcept\u001b[0m \u001b[0mTypeError\u001b[0m\u001b[1;33m:\u001b[0m\u001b[1;33m\u001b[0m\u001b[1;33m\u001b[0m\u001b[0m\n\u001b[0;32m    672\u001b[0m             \u001b[1;31m# if this fails, create a temporary file which is read directly\u001b[0m\u001b[1;33m\u001b[0m\u001b[1;33m\u001b[0m\u001b[1;33m\u001b[0m\u001b[0m\n",
      "\u001b[1;32mC:\\ProgramData\\Anaconda3\\lib\\site-packages\\decorator.py\u001b[0m in \u001b[0;36mfun\u001b[1;34m(*args, **kw)\u001b[0m\n\u001b[0;32m    229\u001b[0m             \u001b[1;32mif\u001b[0m \u001b[1;32mnot\u001b[0m \u001b[0mkwsyntax\u001b[0m\u001b[1;33m:\u001b[0m\u001b[1;33m\u001b[0m\u001b[1;33m\u001b[0m\u001b[0m\n\u001b[0;32m    230\u001b[0m                 \u001b[0margs\u001b[0m\u001b[1;33m,\u001b[0m \u001b[0mkw\u001b[0m \u001b[1;33m=\u001b[0m \u001b[0mfix\u001b[0m\u001b[1;33m(\u001b[0m\u001b[0margs\u001b[0m\u001b[1;33m,\u001b[0m \u001b[0mkw\u001b[0m\u001b[1;33m,\u001b[0m \u001b[0msig\u001b[0m\u001b[1;33m)\u001b[0m\u001b[1;33m\u001b[0m\u001b[1;33m\u001b[0m\u001b[0m\n\u001b[1;32m--> 231\u001b[1;33m             \u001b[1;32mreturn\u001b[0m \u001b[0mcaller\u001b[0m\u001b[1;33m(\u001b[0m\u001b[0mfunc\u001b[0m\u001b[1;33m,\u001b[0m \u001b[1;33m*\u001b[0m\u001b[1;33m(\u001b[0m\u001b[0mextras\u001b[0m \u001b[1;33m+\u001b[0m \u001b[0margs\u001b[0m\u001b[1;33m)\u001b[0m\u001b[1;33m,\u001b[0m \u001b[1;33m**\u001b[0m\u001b[0mkw\u001b[0m\u001b[1;33m)\u001b[0m\u001b[1;33m\u001b[0m\u001b[1;33m\u001b[0m\u001b[0m\n\u001b[0m\u001b[0;32m    232\u001b[0m     \u001b[0mfun\u001b[0m\u001b[1;33m.\u001b[0m\u001b[0m__name__\u001b[0m \u001b[1;33m=\u001b[0m \u001b[0mfunc\u001b[0m\u001b[1;33m.\u001b[0m\u001b[0m__name__\u001b[0m\u001b[1;33m\u001b[0m\u001b[1;33m\u001b[0m\u001b[0m\n\u001b[0;32m    233\u001b[0m     \u001b[0mfun\u001b[0m\u001b[1;33m.\u001b[0m\u001b[0m__doc__\u001b[0m \u001b[1;33m=\u001b[0m \u001b[0mfunc\u001b[0m\u001b[1;33m.\u001b[0m\u001b[0m__doc__\u001b[0m\u001b[1;33m\u001b[0m\u001b[1;33m\u001b[0m\u001b[0m\n",
      "\u001b[1;32mC:\\ProgramData\\Anaconda3\\lib\\site-packages\\obspy\\core\\util\\decorator.py\u001b[0m in \u001b[0;36muncompress_file\u001b[1;34m(func, filename, *args, **kwargs)\u001b[0m\n\u001b[0;32m    148\u001b[0m         \u001b[1;32mreturn\u001b[0m \u001b[0mfunc\u001b[0m\u001b[1;33m(\u001b[0m\u001b[0mfilename\u001b[0m\u001b[1;33m,\u001b[0m \u001b[1;33m*\u001b[0m\u001b[0margs\u001b[0m\u001b[1;33m,\u001b[0m \u001b[1;33m**\u001b[0m\u001b[0mkwargs\u001b[0m\u001b[1;33m)\u001b[0m\u001b[1;33m\u001b[0m\u001b[1;33m\u001b[0m\u001b[0m\n\u001b[0;32m    149\u001b[0m     \u001b[1;32mif\u001b[0m \u001b[1;32mnot\u001b[0m \u001b[0misinstance\u001b[0m\u001b[1;33m(\u001b[0m\u001b[0mfilename\u001b[0m\u001b[1;33m,\u001b[0m \u001b[1;33m(\u001b[0m\u001b[0mstr\u001b[0m\u001b[1;33m,\u001b[0m \u001b[0mnative_str\u001b[0m\u001b[1;33m)\u001b[0m\u001b[1;33m)\u001b[0m\u001b[1;33m:\u001b[0m\u001b[1;33m\u001b[0m\u001b[1;33m\u001b[0m\u001b[0m\n\u001b[1;32m--> 150\u001b[1;33m         \u001b[1;32mreturn\u001b[0m \u001b[0mfunc\u001b[0m\u001b[1;33m(\u001b[0m\u001b[0mfilename\u001b[0m\u001b[1;33m,\u001b[0m \u001b[1;33m*\u001b[0m\u001b[0margs\u001b[0m\u001b[1;33m,\u001b[0m \u001b[1;33m**\u001b[0m\u001b[0mkwargs\u001b[0m\u001b[1;33m)\u001b[0m\u001b[1;33m\u001b[0m\u001b[1;33m\u001b[0m\u001b[0m\n\u001b[0m\u001b[0;32m    151\u001b[0m     \u001b[1;32melif\u001b[0m \u001b[1;32mnot\u001b[0m \u001b[0mos\u001b[0m\u001b[1;33m.\u001b[0m\u001b[0mpath\u001b[0m\u001b[1;33m.\u001b[0m\u001b[0mexists\u001b[0m\u001b[1;33m(\u001b[0m\u001b[0mfilename\u001b[0m\u001b[1;33m)\u001b[0m\u001b[1;33m:\u001b[0m\u001b[1;33m\u001b[0m\u001b[1;33m\u001b[0m\u001b[0m\n\u001b[0;32m    152\u001b[0m         \u001b[0mmsg\u001b[0m \u001b[1;33m=\u001b[0m \u001b[1;34m\"File not found '%s'\"\u001b[0m \u001b[1;33m%\u001b[0m \u001b[1;33m(\u001b[0m\u001b[0mfilename\u001b[0m\u001b[1;33m)\u001b[0m\u001b[1;33m\u001b[0m\u001b[1;33m\u001b[0m\u001b[0m\n",
      "\u001b[1;32mC:\\ProgramData\\Anaconda3\\lib\\site-packages\\obspy\\core\\inventory\\inventory.py\u001b[0m in \u001b[0;36m_read\u001b[1;34m(filename, format, **kwargs)\u001b[0m\n\u001b[0;32m     95\u001b[0m     \u001b[0mReads\u001b[0m \u001b[0ma\u001b[0m \u001b[0msingle\u001b[0m \u001b[0mevent\u001b[0m \u001b[0mfile\u001b[0m \u001b[0minto\u001b[0m \u001b[0ma\u001b[0m \u001b[0mObsPy\u001b[0m \u001b[0mCatalog\u001b[0m \u001b[0mobject\u001b[0m\u001b[1;33m.\u001b[0m\u001b[1;33m\u001b[0m\u001b[1;33m\u001b[0m\u001b[0m\n\u001b[0;32m     96\u001b[0m     \"\"\"\n\u001b[1;32m---> 97\u001b[1;33m     inventory, format = _read_from_plugin('inventory', filename, format=format,\n\u001b[0m\u001b[0;32m     98\u001b[0m                                           **kwargs)\n\u001b[0;32m     99\u001b[0m     \u001b[1;32mreturn\u001b[0m \u001b[0minventory\u001b[0m\u001b[1;33m\u001b[0m\u001b[1;33m\u001b[0m\u001b[0m\n",
      "\u001b[1;32mC:\\ProgramData\\Anaconda3\\lib\\site-packages\\obspy\\core\\util\\base.py\u001b[0m in \u001b[0;36m_read_from_plugin\u001b[1;34m(plugin_type, filename, format, **kwargs)\u001b[0m\n\u001b[0;32m    468\u001b[0m         \u001b[1;32mraise\u001b[0m \u001b[0mTypeError\u001b[0m\u001b[1;33m(\u001b[0m\u001b[0mmsg\u001b[0m \u001b[1;33m%\u001b[0m \u001b[1;33m(\u001b[0m\u001b[0mformat_ep\u001b[0m\u001b[1;33m.\u001b[0m\u001b[0mname\u001b[0m\u001b[1;33m,\u001b[0m \u001b[1;34m', '\u001b[0m\u001b[1;33m.\u001b[0m\u001b[0mjoin\u001b[0m\u001b[1;33m(\u001b[0m\u001b[0meps\u001b[0m\u001b[1;33m)\u001b[0m\u001b[1;33m)\u001b[0m\u001b[1;33m)\u001b[0m\u001b[1;33m\u001b[0m\u001b[1;33m\u001b[0m\u001b[0m\n\u001b[0;32m    469\u001b[0m     \u001b[1;31m# read\u001b[0m\u001b[1;33m\u001b[0m\u001b[1;33m\u001b[0m\u001b[1;33m\u001b[0m\u001b[0m\n\u001b[1;32m--> 470\u001b[1;33m     \u001b[0mlist_obj\u001b[0m \u001b[1;33m=\u001b[0m \u001b[0mread_format\u001b[0m\u001b[1;33m(\u001b[0m\u001b[0mfilename\u001b[0m\u001b[1;33m,\u001b[0m \u001b[1;33m**\u001b[0m\u001b[0mkwargs\u001b[0m\u001b[1;33m)\u001b[0m\u001b[1;33m\u001b[0m\u001b[1;33m\u001b[0m\u001b[0m\n\u001b[0m\u001b[0;32m    471\u001b[0m     \u001b[1;32mreturn\u001b[0m \u001b[0mlist_obj\u001b[0m\u001b[1;33m,\u001b[0m \u001b[0mformat_ep\u001b[0m\u001b[1;33m.\u001b[0m\u001b[0mname\u001b[0m\u001b[1;33m\u001b[0m\u001b[1;33m\u001b[0m\u001b[0m\n\u001b[0;32m    472\u001b[0m \u001b[1;33m\u001b[0m\u001b[0m\n",
      "\u001b[1;32mC:\\ProgramData\\Anaconda3\\lib\\site-packages\\obspy\\io\\stationxml\\core.py\u001b[0m in \u001b[0;36m_read_stationxml\u001b[1;34m(path_or_file_object)\u001b[0m\n\u001b[0;32m    179\u001b[0m                 ObsPyDeprecationWarning)\n\u001b[0;32m    180\u001b[0m         \u001b[1;32mfor\u001b[0m \u001b[0mnetwork\u001b[0m \u001b[1;32min\u001b[0m \u001b[0mroot\u001b[0m\u001b[1;33m.\u001b[0m\u001b[0mfindall\u001b[0m\u001b[1;33m(\u001b[0m\u001b[0m_ns\u001b[0m\u001b[1;33m(\u001b[0m\u001b[1;34m\"Network\"\u001b[0m\u001b[1;33m)\u001b[0m\u001b[1;33m)\u001b[0m\u001b[1;33m:\u001b[0m\u001b[1;33m\u001b[0m\u001b[1;33m\u001b[0m\u001b[0m\n\u001b[1;32m--> 181\u001b[1;33m             \u001b[0mnetworks\u001b[0m\u001b[1;33m.\u001b[0m\u001b[0mappend\u001b[0m\u001b[1;33m(\u001b[0m\u001b[0m_read_network\u001b[0m\u001b[1;33m(\u001b[0m\u001b[0mnetwork\u001b[0m\u001b[1;33m,\u001b[0m \u001b[0m_ns\u001b[0m\u001b[1;33m)\u001b[0m\u001b[1;33m)\u001b[0m\u001b[1;33m\u001b[0m\u001b[1;33m\u001b[0m\u001b[0m\n\u001b[0m\u001b[0;32m    182\u001b[0m \u001b[1;33m\u001b[0m\u001b[0m\n\u001b[0;32m    183\u001b[0m     inv = obspy.core.inventory.Inventory(networks=networks, source=source,\n",
      "\u001b[1;32mC:\\ProgramData\\Anaconda3\\lib\\site-packages\\obspy\\io\\stationxml\\core.py\u001b[0m in \u001b[0;36m_read_network\u001b[1;34m(net_element, _ns)\u001b[0m\n\u001b[0;32m    240\u001b[0m     \u001b[0mstations\u001b[0m \u001b[1;33m=\u001b[0m \u001b[1;33m[\u001b[0m\u001b[1;33m]\u001b[0m\u001b[1;33m\u001b[0m\u001b[1;33m\u001b[0m\u001b[0m\n\u001b[0;32m    241\u001b[0m     \u001b[1;32mfor\u001b[0m \u001b[0mstation\u001b[0m \u001b[1;32min\u001b[0m \u001b[0mnet_element\u001b[0m\u001b[1;33m.\u001b[0m\u001b[0mfindall\u001b[0m\u001b[1;33m(\u001b[0m\u001b[0m_ns\u001b[0m\u001b[1;33m(\u001b[0m\u001b[1;34m\"Station\"\u001b[0m\u001b[1;33m)\u001b[0m\u001b[1;33m)\u001b[0m\u001b[1;33m:\u001b[0m\u001b[1;33m\u001b[0m\u001b[1;33m\u001b[0m\u001b[0m\n\u001b[1;32m--> 242\u001b[1;33m         \u001b[0mstations\u001b[0m\u001b[1;33m.\u001b[0m\u001b[0mappend\u001b[0m\u001b[1;33m(\u001b[0m\u001b[0m_read_station\u001b[0m\u001b[1;33m(\u001b[0m\u001b[0mstation\u001b[0m\u001b[1;33m,\u001b[0m \u001b[0m_ns\u001b[0m\u001b[1;33m)\u001b[0m\u001b[1;33m)\u001b[0m\u001b[1;33m\u001b[0m\u001b[1;33m\u001b[0m\u001b[0m\n\u001b[0m\u001b[0;32m    243\u001b[0m     \u001b[0mnetwork\u001b[0m\u001b[1;33m.\u001b[0m\u001b[0mstations\u001b[0m \u001b[1;33m=\u001b[0m \u001b[0mstations\u001b[0m\u001b[1;33m\u001b[0m\u001b[1;33m\u001b[0m\u001b[0m\n\u001b[0;32m    244\u001b[0m     \u001b[1;32mreturn\u001b[0m \u001b[0mnetwork\u001b[0m\u001b[1;33m\u001b[0m\u001b[1;33m\u001b[0m\u001b[0m\n",
      "\u001b[1;32mC:\\ProgramData\\Anaconda3\\lib\\site-packages\\obspy\\io\\stationxml\\core.py\u001b[0m in \u001b[0;36m_read_station\u001b[1;34m(sta_element, _ns)\u001b[0m\n\u001b[0;32m    248\u001b[0m     longitude = _read_floattype(sta_element, _ns(\"Longitude\"), Longitude,\n\u001b[0;32m    249\u001b[0m                                 datum=True)\n\u001b[1;32m--> 250\u001b[1;33m     latitude = _read_floattype(sta_element, _ns(\"Latitude\"), Latitude,\n\u001b[0m\u001b[0;32m    251\u001b[0m                                datum=True)\n\u001b[0;32m    252\u001b[0m     elevation = _read_floattype(sta_element, _ns(\"Elevation\"), Distance,\n",
      "\u001b[1;32mC:\\ProgramData\\Anaconda3\\lib\\site-packages\\obspy\\io\\stationxml\\core.py\u001b[0m in \u001b[0;36m_read_floattype\u001b[1;34m(parent, tag, cls, unit, datum, additional_mapping)\u001b[0m\n\u001b[0;32m    322\u001b[0m         \u001b[1;32mreturn\u001b[0m \u001b[1;32mNone\u001b[0m\u001b[1;33m\u001b[0m\u001b[1;33m\u001b[0m\u001b[0m\n\u001b[0;32m    323\u001b[0m \u001b[1;33m\u001b[0m\u001b[0m\n\u001b[1;32m--> 324\u001b[1;33m     \u001b[0mobj\u001b[0m \u001b[1;33m=\u001b[0m \u001b[0mcls\u001b[0m\u001b[1;33m(\u001b[0m\u001b[0mconvert\u001b[0m\u001b[1;33m)\u001b[0m\u001b[1;33m\u001b[0m\u001b[1;33m\u001b[0m\u001b[0m\n\u001b[0m\u001b[0;32m    325\u001b[0m     \u001b[1;32mif\u001b[0m \u001b[0munit\u001b[0m\u001b[1;33m:\u001b[0m\u001b[1;33m\u001b[0m\u001b[1;33m\u001b[0m\u001b[0m\n\u001b[0;32m    326\u001b[0m         \u001b[0mobj\u001b[0m\u001b[1;33m.\u001b[0m\u001b[0munit\u001b[0m \u001b[1;33m=\u001b[0m \u001b[0melem\u001b[0m\u001b[1;33m.\u001b[0m\u001b[0mattrib\u001b[0m\u001b[1;33m.\u001b[0m\u001b[0mget\u001b[0m\u001b[1;33m(\u001b[0m\u001b[1;34m\"unit\"\u001b[0m\u001b[1;33m)\u001b[0m\u001b[1;33m\u001b[0m\u001b[1;33m\u001b[0m\u001b[0m\n",
      "\u001b[1;32mC:\\ProgramData\\Anaconda3\\lib\\site-packages\\obspy\\core\\util\\obspy_types.py\u001b[0m in \u001b[0;36m__new__\u001b[1;34m(cls, value, **kwargs)\u001b[0m\n\u001b[0;32m    238\u001b[0m             \u001b[0mmsg\u001b[0m \u001b[1;33m=\u001b[0m \u001b[1;34m\"value %s out of bounds (%s, %s)\"\u001b[0m\u001b[1;33m\u001b[0m\u001b[1;33m\u001b[0m\u001b[0m\n\u001b[0;32m    239\u001b[0m             \u001b[0mmsg\u001b[0m \u001b[1;33m=\u001b[0m \u001b[0mmsg\u001b[0m \u001b[1;33m%\u001b[0m \u001b[1;33m(\u001b[0m\u001b[0mvalue\u001b[0m\u001b[1;33m,\u001b[0m \u001b[0mcls\u001b[0m\u001b[1;33m.\u001b[0m\u001b[0m_minimum\u001b[0m\u001b[1;33m,\u001b[0m \u001b[0mcls\u001b[0m\u001b[1;33m.\u001b[0m\u001b[0m_maximum\u001b[0m\u001b[1;33m)\u001b[0m\u001b[1;33m\u001b[0m\u001b[1;33m\u001b[0m\u001b[0m\n\u001b[1;32m--> 240\u001b[1;33m             \u001b[1;32mraise\u001b[0m \u001b[0mValueError\u001b[0m\u001b[1;33m(\u001b[0m\u001b[0mmsg\u001b[0m\u001b[1;33m)\u001b[0m\u001b[1;33m\u001b[0m\u001b[1;33m\u001b[0m\u001b[0m\n\u001b[0m\u001b[0;32m    241\u001b[0m         \u001b[1;32mreturn\u001b[0m \u001b[0msuper\u001b[0m\u001b[1;33m(\u001b[0m\u001b[0mFloatWithUncertainties\u001b[0m\u001b[1;33m,\u001b[0m \u001b[0mcls\u001b[0m\u001b[1;33m)\u001b[0m\u001b[1;33m.\u001b[0m\u001b[0m__new__\u001b[0m\u001b[1;33m(\u001b[0m\u001b[0mcls\u001b[0m\u001b[1;33m,\u001b[0m \u001b[0mvalue\u001b[0m\u001b[1;33m)\u001b[0m\u001b[1;33m\u001b[0m\u001b[1;33m\u001b[0m\u001b[0m\n\u001b[0;32m    242\u001b[0m \u001b[1;33m\u001b[0m\u001b[0m\n",
      "\u001b[1;31mValueError\u001b[0m: value 336.68668 out of bounds (-90, 90)"
     ]
    }
   ],
   "source": [
    "#for s in stations.get_contents()[\"stations\"]:\n",
    "#stations_per_provider = {}\n",
    "#providers = list(URL_MAPPINGS.keys())\n",
    "#faulty_providers = []\n",
    "#providers.remove('BGR')\n",
    "#faulty_providers.remove('EMSC')\n",
    "\n",
    "#faulty_providers.remove('GFZ')\n",
    "for key in faulty_providers:\n",
    "    #client = Client(key)\n",
    "    #try:\n",
    "    print(key)\n",
    "    client = Client(key)\n",
    "    stations_per_provider[key] = []\n",
    "#client = Client(\"IRIS\")\n",
    "\n",
    "    stations = client.get_stations(starttime  = first_event,\n",
    "    endtime=last_event,level='station')\n",
    "    for s in stations:\n",
    "        for e in s:\n",
    "        #print()\n",
    "            try:\n",
    "                stations_per_provider[key].append(s.code + '.' + e.code)\n",
    "            except:\n",
    "                pass\n",
    "    #except:\n",
    "    #    print(key)\n",
    "        #faulty_providers.append(key)\n",
    "        #pass\n",
    "    #    raise ValueError\n",
    "    #station_coords = {}\n",
    "    #for s in stations:\n",
    "    #    for e in s:\n",
    "            #print()\n",
    "    #        stations_per_provider[key].append(s.code + '.' + e.code)\n",
    "            #station_coords[s.code + '.' + e.code] = (e.latitude,e.longitude)\n",
    "            #print(s.code + '.' + e.code)\n",
    "            #print(e.code)\n",
    "\n",
    "    "
   ]
  },
  {
   "cell_type": "code",
   "execution_count": null,
   "metadata": {},
   "outputs": [],
   "source": [
    "station_coords = {}\n",
    "for s in stations:\n",
    "    for e in s:\n",
    "        #print()\n",
    "        station_coords[s.code + '.' + e.code] = (e.latitude,e.longitude)\n",
    "        #print(s.code + '.' + e.code)\n",
    "        #print(e.code)\n"
   ]
  },
  {
   "cell_type": "code",
   "execution_count": null,
   "metadata": {},
   "outputs": [],
   "source": [
    "df_iris_subset = df_test[df_test['station'].isin(station_coords.keys())]"
   ]
  },
  {
   "cell_type": "code",
   "execution_count": null,
   "metadata": {},
   "outputs": [
    {
     "data": {
      "text/html": [
       "<div>\n",
       "<style scoped>\n",
       "    .dataframe tbody tr th:only-of-type {\n",
       "        vertical-align: middle;\n",
       "    }\n",
       "\n",
       "    .dataframe tbody tr th {\n",
       "        vertical-align: top;\n",
       "    }\n",
       "\n",
       "    .dataframe thead th {\n",
       "        text-align: right;\n",
       "    }\n",
       "</style>\n",
       "<table border=\"1\" class=\"dataframe\">\n",
       "  <thead>\n",
       "    <tr style=\"text-align: right;\">\n",
       "      <th></th>\n",
       "      <th>network_code</th>\n",
       "      <th>receiver_code</th>\n",
       "      <th>receiver_type</th>\n",
       "      <th>receiver_latitude</th>\n",
       "      <th>receiver_longitude</th>\n",
       "      <th>receiver_elevation_m</th>\n",
       "      <th>p_arrival_sample</th>\n",
       "      <th>p_status</th>\n",
       "      <th>p_weight</th>\n",
       "      <th>p_travel_sec</th>\n",
       "      <th>...</th>\n",
       "      <th>source_magnitude_author</th>\n",
       "      <th>source_mechanism_strike_dip_rake</th>\n",
       "      <th>source_distance_deg</th>\n",
       "      <th>source_distance_km</th>\n",
       "      <th>back_azimuth_deg</th>\n",
       "      <th>snr_db</th>\n",
       "      <th>coda_end_sample</th>\n",
       "      <th>trace_start_time</th>\n",
       "      <th>trace_category</th>\n",
       "      <th>station</th>\n",
       "    </tr>\n",
       "    <tr>\n",
       "      <th>trace_name</th>\n",
       "      <th></th>\n",
       "      <th></th>\n",
       "      <th></th>\n",
       "      <th></th>\n",
       "      <th></th>\n",
       "      <th></th>\n",
       "      <th></th>\n",
       "      <th></th>\n",
       "      <th></th>\n",
       "      <th></th>\n",
       "      <th></th>\n",
       "      <th></th>\n",
       "      <th></th>\n",
       "      <th></th>\n",
       "      <th></th>\n",
       "      <th></th>\n",
       "      <th></th>\n",
       "      <th></th>\n",
       "      <th></th>\n",
       "      <th></th>\n",
       "      <th></th>\n",
       "    </tr>\n",
       "  </thead>\n",
       "  <tbody>\n",
       "    <tr>\n",
       "      <th>AAK.II_20180115000700_NO</th>\n",
       "      <td>II</td>\n",
       "      <td>AAK</td>\n",
       "      <td>BH</td>\n",
       "      <td>42.637500</td>\n",
       "      <td>74.494200</td>\n",
       "      <td>1633.1</td>\n",
       "      <td>NaN</td>\n",
       "      <td>NaN</td>\n",
       "      <td>NaN</td>\n",
       "      <td>NaN</td>\n",
       "      <td>...</td>\n",
       "      <td>NaN</td>\n",
       "      <td>NaN</td>\n",
       "      <td>NaN</td>\n",
       "      <td>NaN</td>\n",
       "      <td>NaN</td>\n",
       "      <td>NaN</td>\n",
       "      <td>NaN</td>\n",
       "      <td>2018-01-15 00:07:00.000</td>\n",
       "      <td>noise</td>\n",
       "      <td>II.AAK</td>\n",
       "    </tr>\n",
       "    <tr>\n",
       "      <th>AAK.II_20180115001236_NO</th>\n",
       "      <td>II</td>\n",
       "      <td>AAK</td>\n",
       "      <td>BH</td>\n",
       "      <td>42.637500</td>\n",
       "      <td>74.494200</td>\n",
       "      <td>1633.1</td>\n",
       "      <td>NaN</td>\n",
       "      <td>NaN</td>\n",
       "      <td>NaN</td>\n",
       "      <td>NaN</td>\n",
       "      <td>...</td>\n",
       "      <td>NaN</td>\n",
       "      <td>NaN</td>\n",
       "      <td>NaN</td>\n",
       "      <td>NaN</td>\n",
       "      <td>NaN</td>\n",
       "      <td>NaN</td>\n",
       "      <td>NaN</td>\n",
       "      <td>2018-01-15 00:12:36.000</td>\n",
       "      <td>noise</td>\n",
       "      <td>II.AAK</td>\n",
       "    </tr>\n",
       "    <tr>\n",
       "      <th>AAK.II_20180115002306_NO</th>\n",
       "      <td>II</td>\n",
       "      <td>AAK</td>\n",
       "      <td>BH</td>\n",
       "      <td>42.637500</td>\n",
       "      <td>74.494200</td>\n",
       "      <td>1633.1</td>\n",
       "      <td>NaN</td>\n",
       "      <td>NaN</td>\n",
       "      <td>NaN</td>\n",
       "      <td>NaN</td>\n",
       "      <td>...</td>\n",
       "      <td>NaN</td>\n",
       "      <td>NaN</td>\n",
       "      <td>NaN</td>\n",
       "      <td>NaN</td>\n",
       "      <td>NaN</td>\n",
       "      <td>NaN</td>\n",
       "      <td>NaN</td>\n",
       "      <td>2018-01-15 00:23:06.000</td>\n",
       "      <td>noise</td>\n",
       "      <td>II.AAK</td>\n",
       "    </tr>\n",
       "    <tr>\n",
       "      <th>AAK.II_20180115003500_NO</th>\n",
       "      <td>II</td>\n",
       "      <td>AAK</td>\n",
       "      <td>BH</td>\n",
       "      <td>42.637500</td>\n",
       "      <td>74.494200</td>\n",
       "      <td>1633.1</td>\n",
       "      <td>NaN</td>\n",
       "      <td>NaN</td>\n",
       "      <td>NaN</td>\n",
       "      <td>NaN</td>\n",
       "      <td>...</td>\n",
       "      <td>NaN</td>\n",
       "      <td>NaN</td>\n",
       "      <td>NaN</td>\n",
       "      <td>NaN</td>\n",
       "      <td>NaN</td>\n",
       "      <td>NaN</td>\n",
       "      <td>NaN</td>\n",
       "      <td>2018-01-15 00:35:00.000</td>\n",
       "      <td>noise</td>\n",
       "      <td>II.AAK</td>\n",
       "    </tr>\n",
       "    <tr>\n",
       "      <th>AAK.II_20180115005518_NO</th>\n",
       "      <td>II</td>\n",
       "      <td>AAK</td>\n",
       "      <td>BH</td>\n",
       "      <td>42.637500</td>\n",
       "      <td>74.494200</td>\n",
       "      <td>1633.1</td>\n",
       "      <td>NaN</td>\n",
       "      <td>NaN</td>\n",
       "      <td>NaN</td>\n",
       "      <td>NaN</td>\n",
       "      <td>...</td>\n",
       "      <td>NaN</td>\n",
       "      <td>NaN</td>\n",
       "      <td>NaN</td>\n",
       "      <td>NaN</td>\n",
       "      <td>NaN</td>\n",
       "      <td>NaN</td>\n",
       "      <td>NaN</td>\n",
       "      <td>2018-01-15 00:55:18.000</td>\n",
       "      <td>noise</td>\n",
       "      <td>II.AAK</td>\n",
       "    </tr>\n",
       "    <tr>\n",
       "      <th>...</th>\n",
       "      <td>...</td>\n",
       "      <td>...</td>\n",
       "      <td>...</td>\n",
       "      <td>...</td>\n",
       "      <td>...</td>\n",
       "      <td>...</td>\n",
       "      <td>...</td>\n",
       "      <td>...</td>\n",
       "      <td>...</td>\n",
       "      <td>...</td>\n",
       "      <td>...</td>\n",
       "      <td>...</td>\n",
       "      <td>...</td>\n",
       "      <td>...</td>\n",
       "      <td>...</td>\n",
       "      <td>...</td>\n",
       "      <td>...</td>\n",
       "      <td>...</td>\n",
       "      <td>...</td>\n",
       "      <td>...</td>\n",
       "      <td>...</td>\n",
       "    </tr>\n",
       "    <tr>\n",
       "      <th>SNZO.IU_20161114015613_EV</th>\n",
       "      <td>IU</td>\n",
       "      <td>SNZO</td>\n",
       "      <td>BH</td>\n",
       "      <td>-41.308700</td>\n",
       "      <td>174.704300</td>\n",
       "      <td>120.0</td>\n",
       "      <td>1000.0</td>\n",
       "      <td>manual</td>\n",
       "      <td>0.92</td>\n",
       "      <td>16.67</td>\n",
       "      <td>...</td>\n",
       "      <td>None</td>\n",
       "      <td>None</td>\n",
       "      <td>0.85704</td>\n",
       "      <td>95.13</td>\n",
       "      <td>222.3876</td>\n",
       "      <td>[35.5        31.70000076 30.5       ]</td>\n",
       "      <td>[[3144.]]</td>\n",
       "      <td>2016-11-14 01:56:13.510</td>\n",
       "      <td>earthquake_local</td>\n",
       "      <td>IU.SNZO</td>\n",
       "    </tr>\n",
       "    <tr>\n",
       "      <th>SNZO.IU_20161115013448_EV</th>\n",
       "      <td>IU</td>\n",
       "      <td>SNZO</td>\n",
       "      <td>BH</td>\n",
       "      <td>-41.308700</td>\n",
       "      <td>174.704300</td>\n",
       "      <td>120.0</td>\n",
       "      <td>700.0</td>\n",
       "      <td>manual</td>\n",
       "      <td>0.60</td>\n",
       "      <td>11.57</td>\n",
       "      <td>...</td>\n",
       "      <td>US</td>\n",
       "      <td>None</td>\n",
       "      <td>0.56398</td>\n",
       "      <td>62.60</td>\n",
       "      <td>212.1088</td>\n",
       "      <td>[56.70000076 62.5        57.79999924]</td>\n",
       "      <td>[[3402.]]</td>\n",
       "      <td>2016-11-15 01:34:48.620</td>\n",
       "      <td>earthquake_local</td>\n",
       "      <td>IU.SNZO</td>\n",
       "    </tr>\n",
       "    <tr>\n",
       "      <th>SNZO.IU_20161119204857_EV</th>\n",
       "      <td>IU</td>\n",
       "      <td>SNZO</td>\n",
       "      <td>BH</td>\n",
       "      <td>-41.308700</td>\n",
       "      <td>174.704300</td>\n",
       "      <td>120.0</td>\n",
       "      <td>700.0</td>\n",
       "      <td>manual</td>\n",
       "      <td>0.70</td>\n",
       "      <td>10.98</td>\n",
       "      <td>...</td>\n",
       "      <td>None</td>\n",
       "      <td>None</td>\n",
       "      <td>0.51787</td>\n",
       "      <td>57.48</td>\n",
       "      <td>211.2195</td>\n",
       "      <td>[58.40000153 56.5        57.79999924]</td>\n",
       "      <td>[[2944.]]</td>\n",
       "      <td>2016-11-19 20:48:57.720</td>\n",
       "      <td>earthquake_local</td>\n",
       "      <td>IU.SNZO</td>\n",
       "    </tr>\n",
       "    <tr>\n",
       "      <th>SNZO.IU_20170204102921_EV</th>\n",
       "      <td>IU</td>\n",
       "      <td>SNZO</td>\n",
       "      <td>BH</td>\n",
       "      <td>-41.308700</td>\n",
       "      <td>174.704300</td>\n",
       "      <td>120.0</td>\n",
       "      <td>800.0</td>\n",
       "      <td>manual</td>\n",
       "      <td>0.50</td>\n",
       "      <td>20.48</td>\n",
       "      <td>...</td>\n",
       "      <td>None</td>\n",
       "      <td>None</td>\n",
       "      <td>1.00654</td>\n",
       "      <td>111.73</td>\n",
       "      <td>348.3280</td>\n",
       "      <td>[63.59999847 62.70000076 56.20000076]</td>\n",
       "      <td>[[3163.]]</td>\n",
       "      <td>2017-02-04 10:29:21.690</td>\n",
       "      <td>earthquake_local</td>\n",
       "      <td>IU.SNZO</td>\n",
       "    </tr>\n",
       "    <tr>\n",
       "      <th>VAS01.ON_20141014200138_EV</th>\n",
       "      <td>ON</td>\n",
       "      <td>VAS01</td>\n",
       "      <td>HH</td>\n",
       "      <td>-22.280081</td>\n",
       "      <td>-43.442624</td>\n",
       "      <td>402.0</td>\n",
       "      <td>894.4</td>\n",
       "      <td>autopicker</td>\n",
       "      <td>0.80</td>\n",
       "      <td>9.56</td>\n",
       "      <td>...</td>\n",
       "      <td>None</td>\n",
       "      <td>None</td>\n",
       "      <td>0.50160</td>\n",
       "      <td>55.68</td>\n",
       "      <td>215.7220</td>\n",
       "      <td>[17.29999924 14.19999981 12.19999981]</td>\n",
       "      <td>[[3100.]]</td>\n",
       "      <td>2014-10-14 20:01:39.216</td>\n",
       "      <td>earthquake_local</td>\n",
       "      <td>ON.VAS01</td>\n",
       "    </tr>\n",
       "  </tbody>\n",
       "</table>\n",
       "<p>3891 rows × 35 columns</p>\n",
       "</div>"
      ],
      "text/plain": [
       "                           network_code receiver_code receiver_type  \\\n",
       "trace_name                                                            \n",
       "AAK.II_20180115000700_NO             II           AAK            BH   \n",
       "AAK.II_20180115001236_NO             II           AAK            BH   \n",
       "AAK.II_20180115002306_NO             II           AAK            BH   \n",
       "AAK.II_20180115003500_NO             II           AAK            BH   \n",
       "AAK.II_20180115005518_NO             II           AAK            BH   \n",
       "...                                 ...           ...           ...   \n",
       "SNZO.IU_20161114015613_EV            IU          SNZO            BH   \n",
       "SNZO.IU_20161115013448_EV            IU          SNZO            BH   \n",
       "SNZO.IU_20161119204857_EV            IU          SNZO            BH   \n",
       "SNZO.IU_20170204102921_EV            IU          SNZO            BH   \n",
       "VAS01.ON_20141014200138_EV           ON         VAS01            HH   \n",
       "\n",
       "                            receiver_latitude  receiver_longitude  \\\n",
       "trace_name                                                          \n",
       "AAK.II_20180115000700_NO            42.637500           74.494200   \n",
       "AAK.II_20180115001236_NO            42.637500           74.494200   \n",
       "AAK.II_20180115002306_NO            42.637500           74.494200   \n",
       "AAK.II_20180115003500_NO            42.637500           74.494200   \n",
       "AAK.II_20180115005518_NO            42.637500           74.494200   \n",
       "...                                       ...                 ...   \n",
       "SNZO.IU_20161114015613_EV          -41.308700          174.704300   \n",
       "SNZO.IU_20161115013448_EV          -41.308700          174.704300   \n",
       "SNZO.IU_20161119204857_EV          -41.308700          174.704300   \n",
       "SNZO.IU_20170204102921_EV          -41.308700          174.704300   \n",
       "VAS01.ON_20141014200138_EV         -22.280081          -43.442624   \n",
       "\n",
       "                            receiver_elevation_m  p_arrival_sample  \\\n",
       "trace_name                                                           \n",
       "AAK.II_20180115000700_NO                  1633.1               NaN   \n",
       "AAK.II_20180115001236_NO                  1633.1               NaN   \n",
       "AAK.II_20180115002306_NO                  1633.1               NaN   \n",
       "AAK.II_20180115003500_NO                  1633.1               NaN   \n",
       "AAK.II_20180115005518_NO                  1633.1               NaN   \n",
       "...                                          ...               ...   \n",
       "SNZO.IU_20161114015613_EV                  120.0            1000.0   \n",
       "SNZO.IU_20161115013448_EV                  120.0             700.0   \n",
       "SNZO.IU_20161119204857_EV                  120.0             700.0   \n",
       "SNZO.IU_20170204102921_EV                  120.0             800.0   \n",
       "VAS01.ON_20141014200138_EV                 402.0             894.4   \n",
       "\n",
       "                              p_status  p_weight  p_travel_sec  ...  \\\n",
       "trace_name                                                      ...   \n",
       "AAK.II_20180115000700_NO           NaN       NaN           NaN  ...   \n",
       "AAK.II_20180115001236_NO           NaN       NaN           NaN  ...   \n",
       "AAK.II_20180115002306_NO           NaN       NaN           NaN  ...   \n",
       "AAK.II_20180115003500_NO           NaN       NaN           NaN  ...   \n",
       "AAK.II_20180115005518_NO           NaN       NaN           NaN  ...   \n",
       "...                                ...       ...           ...  ...   \n",
       "SNZO.IU_20161114015613_EV       manual      0.92         16.67  ...   \n",
       "SNZO.IU_20161115013448_EV       manual      0.60         11.57  ...   \n",
       "SNZO.IU_20161119204857_EV       manual      0.70         10.98  ...   \n",
       "SNZO.IU_20170204102921_EV       manual      0.50         20.48  ...   \n",
       "VAS01.ON_20141014200138_EV  autopicker      0.80          9.56  ...   \n",
       "\n",
       "                            source_magnitude_author  \\\n",
       "trace_name                                            \n",
       "AAK.II_20180115000700_NO                        NaN   \n",
       "AAK.II_20180115001236_NO                        NaN   \n",
       "AAK.II_20180115002306_NO                        NaN   \n",
       "AAK.II_20180115003500_NO                        NaN   \n",
       "AAK.II_20180115005518_NO                        NaN   \n",
       "...                                             ...   \n",
       "SNZO.IU_20161114015613_EV                      None   \n",
       "SNZO.IU_20161115013448_EV                        US   \n",
       "SNZO.IU_20161119204857_EV                      None   \n",
       "SNZO.IU_20170204102921_EV                      None   \n",
       "VAS01.ON_20141014200138_EV                     None   \n",
       "\n",
       "                           source_mechanism_strike_dip_rake  \\\n",
       "trace_name                                                    \n",
       "AAK.II_20180115000700_NO                                NaN   \n",
       "AAK.II_20180115001236_NO                                NaN   \n",
       "AAK.II_20180115002306_NO                                NaN   \n",
       "AAK.II_20180115003500_NO                                NaN   \n",
       "AAK.II_20180115005518_NO                                NaN   \n",
       "...                                                     ...   \n",
       "SNZO.IU_20161114015613_EV                              None   \n",
       "SNZO.IU_20161115013448_EV                              None   \n",
       "SNZO.IU_20161119204857_EV                              None   \n",
       "SNZO.IU_20170204102921_EV                              None   \n",
       "VAS01.ON_20141014200138_EV                             None   \n",
       "\n",
       "                            source_distance_deg source_distance_km  \\\n",
       "trace_name                                                           \n",
       "AAK.II_20180115000700_NO                    NaN                NaN   \n",
       "AAK.II_20180115001236_NO                    NaN                NaN   \n",
       "AAK.II_20180115002306_NO                    NaN                NaN   \n",
       "AAK.II_20180115003500_NO                    NaN                NaN   \n",
       "AAK.II_20180115005518_NO                    NaN                NaN   \n",
       "...                                         ...                ...   \n",
       "SNZO.IU_20161114015613_EV               0.85704              95.13   \n",
       "SNZO.IU_20161115013448_EV               0.56398              62.60   \n",
       "SNZO.IU_20161119204857_EV               0.51787              57.48   \n",
       "SNZO.IU_20170204102921_EV               1.00654             111.73   \n",
       "VAS01.ON_20141014200138_EV              0.50160              55.68   \n",
       "\n",
       "                           back_azimuth_deg  \\\n",
       "trace_name                                    \n",
       "AAK.II_20180115000700_NO                NaN   \n",
       "AAK.II_20180115001236_NO                NaN   \n",
       "AAK.II_20180115002306_NO                NaN   \n",
       "AAK.II_20180115003500_NO                NaN   \n",
       "AAK.II_20180115005518_NO                NaN   \n",
       "...                                     ...   \n",
       "SNZO.IU_20161114015613_EV          222.3876   \n",
       "SNZO.IU_20161115013448_EV          212.1088   \n",
       "SNZO.IU_20161119204857_EV          211.2195   \n",
       "SNZO.IU_20170204102921_EV          348.3280   \n",
       "VAS01.ON_20141014200138_EV         215.7220   \n",
       "\n",
       "                                                           snr_db  \\\n",
       "trace_name                                                          \n",
       "AAK.II_20180115000700_NO                                      NaN   \n",
       "AAK.II_20180115001236_NO                                      NaN   \n",
       "AAK.II_20180115002306_NO                                      NaN   \n",
       "AAK.II_20180115003500_NO                                      NaN   \n",
       "AAK.II_20180115005518_NO                                      NaN   \n",
       "...                                                           ...   \n",
       "SNZO.IU_20161114015613_EV   [35.5        31.70000076 30.5       ]   \n",
       "SNZO.IU_20161115013448_EV   [56.70000076 62.5        57.79999924]   \n",
       "SNZO.IU_20161119204857_EV   [58.40000153 56.5        57.79999924]   \n",
       "SNZO.IU_20170204102921_EV   [63.59999847 62.70000076 56.20000076]   \n",
       "VAS01.ON_20141014200138_EV  [17.29999924 14.19999981 12.19999981]   \n",
       "\n",
       "                            coda_end_sample        trace_start_time  \\\n",
       "trace_name                                                            \n",
       "AAK.II_20180115000700_NO                NaN 2018-01-15 00:07:00.000   \n",
       "AAK.II_20180115001236_NO                NaN 2018-01-15 00:12:36.000   \n",
       "AAK.II_20180115002306_NO                NaN 2018-01-15 00:23:06.000   \n",
       "AAK.II_20180115003500_NO                NaN 2018-01-15 00:35:00.000   \n",
       "AAK.II_20180115005518_NO                NaN 2018-01-15 00:55:18.000   \n",
       "...                                     ...                     ...   \n",
       "SNZO.IU_20161114015613_EV         [[3144.]] 2016-11-14 01:56:13.510   \n",
       "SNZO.IU_20161115013448_EV         [[3402.]] 2016-11-15 01:34:48.620   \n",
       "SNZO.IU_20161119204857_EV         [[2944.]] 2016-11-19 20:48:57.720   \n",
       "SNZO.IU_20170204102921_EV         [[3163.]] 2017-02-04 10:29:21.690   \n",
       "VAS01.ON_20141014200138_EV        [[3100.]] 2014-10-14 20:01:39.216   \n",
       "\n",
       "                              trace_category   station  \n",
       "trace_name                                              \n",
       "AAK.II_20180115000700_NO               noise    II.AAK  \n",
       "AAK.II_20180115001236_NO               noise    II.AAK  \n",
       "AAK.II_20180115002306_NO               noise    II.AAK  \n",
       "AAK.II_20180115003500_NO               noise    II.AAK  \n",
       "AAK.II_20180115005518_NO               noise    II.AAK  \n",
       "...                                      ...       ...  \n",
       "SNZO.IU_20161114015613_EV   earthquake_local   IU.SNZO  \n",
       "SNZO.IU_20161115013448_EV   earthquake_local   IU.SNZO  \n",
       "SNZO.IU_20161119204857_EV   earthquake_local   IU.SNZO  \n",
       "SNZO.IU_20170204102921_EV   earthquake_local   IU.SNZO  \n",
       "VAS01.ON_20141014200138_EV  earthquake_local  ON.VAS01  \n",
       "\n",
       "[3891 rows x 35 columns]"
      ]
     },
     "execution_count": 201,
     "metadata": {},
     "output_type": "execute_result"
    }
   ],
   "source": [
    "df_iris_subset"
   ]
  },
  {
   "cell_type": "code",
   "execution_count": null,
   "metadata": {},
   "outputs": [
    {
     "data": {
      "text/plain": [
       "353"
      ]
     },
     "execution_count": 198,
     "metadata": {},
     "output_type": "execute_result"
    }
   ],
   "source": [
    "len(station_coords)"
   ]
  },
  {
   "cell_type": "code",
   "execution_count": null,
   "metadata": {},
   "outputs": [],
   "source": [
    "stations"
   ]
  },
  {
   "cell_type": "code",
   "execution_count": null,
   "metadata": {},
   "outputs": [
    {
     "data": {
      "text/plain": [
       "2298"
      ]
     },
     "execution_count": 155,
     "metadata": {},
     "output_type": "execute_result"
    }
   ],
   "source": [
    "len(stations['channels'])"
   ]
  },
  {
   "cell_type": "code",
   "execution_count": null,
   "metadata": {},
   "outputs": [
    {
     "data": {
      "text/plain": [
       "[]"
      ]
     },
     "execution_count": 159,
     "metadata": {},
     "output_type": "execute_result"
    }
   ],
   "source": [
    "coords"
   ]
  },
  {
   "cell_type": "code",
   "execution_count": null,
   "metadata": {},
   "outputs": [
    {
     "data": {
      "text/plain": [
       "['BL.APOB (FAZENDA SAO GERONIMO - APORE - GO)',\n",
       " 'BL.APOB2 (FAZENDA SAO JOAO - APORE - GO)',\n",
       " 'BL.AQDA (AQUIDAUANA - MS)',\n",
       " 'BL.AQDB (Aquidauana, MS)',\n",
       " 'BL.ARCA (Aracuai, MG)',\n",
       " 'BL.AREB (AREADO - MG)',\n",
       " 'BL.BAMB (BAMBUI - MG)',\n",
       " 'BL.BB15B (FAZENDA CINTIA - BB - BEBEDOURO - SP)',\n",
       " 'BL.BB16B (SITIO JOVAL - BB - BEBEDOURO - SP)',\n",
       " 'BL.BB19B (Bebedouro 19, SP)',\n",
       " 'BL.BB22B (Bebedouro 22, SP)',\n",
       " 'BL.BEB (BELEM - PA)',\n",
       " 'BL.BEB1 (SITIO STO ANTONIO - BEBEDOURO - SP)',\n",
       " 'BL.BEB10 (FAZENDA SANTA ZULMIRA - BEBEDOURO - SP)',\n",
       " 'BL.BEB11 (ESTANCIA DOURADA - ANDES - SP)',\n",
       " 'BL.BEB12 (ESTANCIA MONIDENI - BEBEDOURO - SP)',\n",
       " 'BL.BEB13 (FAZENDA RIO TURVO - BEBEDOURO - SP)',\n",
       " 'BL.BEB14 (SITIO PALMEIRAS - BEBEDOURO - SP)',\n",
       " 'BL.BEB15 (FAZENDA CINTIA  BEBEDOURO - SP)',\n",
       " 'BL.BEB16 (SITIO JOVAL -  BEBEDOURO - SP)',\n",
       " 'BL.BEB17 (SITIO SAO LEOPOLDO - BEBEDOURO - SP)',\n",
       " 'BL.BEB18 (SITIO SAO PEDRO - BEBEDOURO - SP)',\n",
       " 'BL.BEB19 (FAZENDA SANTA ZULMIRA - BEBEDOURO - SP)',\n",
       " 'BL.BEB2 (FAZENDA SAO LUIZ -  BEBEDOURO - SP)',\n",
       " 'BL.BEB20 (FAZENDA VERANEIO - BEBEDOURO - SP)',\n",
       " 'BL.BEB21 (SITIO SAO LEOPOLDO - BEBEDOURO - SP)',\n",
       " 'BL.BEB22 (FAZENDA VERANEIO - BEBEDOURO - SP)',\n",
       " 'BL.BEB3 (SITIO SAO FRANCISCO - BEBEDOURO -SP)',\n",
       " 'BL.BEB4 (ESTANCIA DOURADA - BEBEDOURO - SP)',\n",
       " 'BL.BEB4A (ESTANCIA DOURADA - BEBEDOURO - SP)',\n",
       " 'BL.BEB4B (SITIO SANTA TEREZINHA - TAIACU - SP)',\n",
       " 'BL.BEB6 (FAZENDA SAO GERALDO -  BEBEDOURO - SP)',\n",
       " 'BL.BEB7 (FAZENDA STO ANTONIO)',\n",
       " 'BL.BEB8 (FAZENDA VERANEIO - BEBEDOURO - SP)',\n",
       " 'BL.BEB9 (FAZENDA STA BARBARA)',\n",
       " 'BL.BEB9A (FAZENDA SANTA BARBARA - BEBEDOURO - SP)',\n",
       " 'BL.BEB9B (FAZENDA SANTA BARBARA - BEBEDOURO - SP)',\n",
       " 'BL.BESB (BOA ESPERANCA - PI)',\n",
       " 'BL.BSCB (Bom Sucesso, MG)',\n",
       " 'BL.BSFB (Barra do Sao Francisco, ES)',\n",
       " 'BL.C2SB (Chapadao do Sul, MS)',\n",
       " 'BL.CAM1 (Macae, RJ)',\n",
       " 'BL.CAM3 (Guarapari, ES)',\n",
       " 'BL.CAM4 (Nova Friburgo, RJ)',\n",
       " 'BL.CAMB (Estacao CAMB, BLSP-Net)',\n",
       " 'BL.CANB (ITAMBARACA - PR)',\n",
       " 'BL.CANS (Sao Roque de Minas, MG)',\n",
       " 'BL.CAUB (CARUARU - PE)',\n",
       " 'BL.CCUB (CACU - GO)',\n",
       " 'BL.CDSB (FAZ RANCHO IDEAL - CHAPADAO DO SUL - MS)',\n",
       " 'BL.CLDB (Colider, MT)',\n",
       " 'BL.CMPA (CAMAPUA - MS)',\n",
       " 'BL.CNLB (Canela, RS)',\n",
       " 'BL.COIM (Forte Coimbra, MS)',\n",
       " 'BL.COR2 (CALDAS NOVAS - GO)',\n",
       " 'BL.CORB (CALDAS NOVAS - GO)',\n",
       " 'BL.CPSB (Cacapava do Sul, RS)',\n",
       " 'BL.CRJB (CARAJAS-PA)',\n",
       " 'BL.CRTA (CORRENTINA - BA)',\n",
       " 'BL.CRTB (CORRENTINA, BA)',\n",
       " 'BL.CS6B (JAGUARETAMA - CE)',\n",
       " 'BL.DIAM (Diamantina, MG)',\n",
       " 'BL.ESAR (Angra dos Reis, RJ)',\n",
       " 'BL.FRTB (Fartura, SP)',\n",
       " 'BL.GNSA (GOIANESIA - GO)',\n",
       " 'BL.GNSB (GOIANESIA - GO)',\n",
       " 'BL.IBTB (Ibaiti, PR)',\n",
       " 'BL.IGAB (IGARATA - SP)',\n",
       " 'BL.IGCB (IGARAPEACU-PA)',\n",
       " 'BL.IPNA (IPERUNA - SP)',\n",
       " 'BL.ITAB (Ita, SC)',\n",
       " 'BL.ITPB (ITAPEBI-BA)',\n",
       " 'BL.ITQB (Itaqui, RS)',\n",
       " 'BL.ITRB (Iturama, MG)',\n",
       " 'BL.JATB (JATAI - GO)',\n",
       " 'BL.JNRB (JANUARIA - MG)',\n",
       " 'BL.JUQB (JUQUIA - SAO PAULO)',\n",
       " 'BL.MAP01 (FAZENDA MODERNA - MONTE AZUL PAULISTA - SP)',\n",
       " 'BL.MARB (Manoel Ribas, PR)',\n",
       " 'BL.MCI6 (Montes Claros 6, MG (Fzda Jeca Tatu))',\n",
       " 'BL.MCI7 (Montes Claros 7, MG (Exercito))',\n",
       " 'BL.MCI8 (Montes Claros 8, MG (Fzda Vitoria))',\n",
       " 'BL.MCI9 (Montes Claros 9, MG (Fzda MClaros))',\n",
       " 'BL.NOVB (NOVA VENEZA-SC)',\n",
       " 'BL.NUPA (NUPORANGA - SP)',\n",
       " 'BL.NUPB (NUPORANGA - SP)',\n",
       " 'BL.PACB (PACAEMBU - SP)',\n",
       " 'BL.PARB (Paraibuna, SP)',\n",
       " 'BL.PAZB (ARUANA - GO)',\n",
       " 'BL.PCBA (PIRACICABA - SP)',\n",
       " 'BL.PCMB (Pacaembu, SP)',\n",
       " 'BL.PDCB (PEDRA DO CAVALO - BA)',\n",
       " 'BL.PEXB (Peixes, TO)',\n",
       " 'BL.PLTB (Pelotas/PedrasAltas, RS)',\n",
       " 'BL.PMNA (PATO DE MINAS - MG)',\n",
       " 'BL.PMNB (Patos de Minas, MG)',\n",
       " 'BL.POPB (PORTO PRIMAVERA - SP)',\n",
       " 'BL.PORB (PORANGATU - GO)',\n",
       " 'BL.PP1A (USINA PONTE DE PEDRA - SONORA - MS)',\n",
       " 'BL.PP1B (Sonora, MS)',\n",
       " 'BL.PRCB (PARACATU - MG)',\n",
       " 'BL.PTGB (Pitanga, PR)',\n",
       " 'BL.PTMB (PORTO MURTINHO - MS)',\n",
       " 'BL.RCLB (Rio Claro, SP)',\n",
       " 'BL.ROIB (Rosario do Ivai, PR)',\n",
       " 'BL.SICB (Siqueira Campos, PR)',\n",
       " 'BL.SJI1 (Urupes, SP)',\n",
       " 'BL.SJMB (Sao Joao de Manteninha, MG)',\n",
       " 'BL.SLMB (SAO LUIS DE MONTES BELOS - GO)',\n",
       " 'BL.SNVB (SERRA DO NAVIO-AP)',\n",
       " 'BL.STMB (SANTAREM-PA)',\n",
       " 'BL.TLMB (Telemaco Borba, PR)',\n",
       " 'BL.TRCB (Terra Rica, PR)',\n",
       " 'BL.TRIB (Ilha Solteira, SP)',\n",
       " 'BL.TRMB (TRES MARIAS-MG)',\n",
       " 'BL.TRSB (TERESINA-PI)',\n",
       " 'BL.UNIA (UNAI - MG)',\n",
       " 'BL.VABB (Valinhos, SP)',\n",
       " 'BL.VAO (Valinhos, SP)',\n",
       " 'BL.VAO2 (Morro do Gil (Bonsucesso-Guarulhos), SP)',\n",
       " 'BL.VAO3 (Socorro, SP)',\n",
       " 'BO.SOEA (Aiquile)',\n",
       " 'BR.AGBLB (Aguas Belas. PE)',\n",
       " 'BR.ARAG (Araguaiana, MT)',\n",
       " 'BR.BOAV (Boa Vista, RR)',\n",
       " 'BR.CZSB (Cruzeiro do Sul, AC)',\n",
       " 'BR.ETMB (Extrema, RO)',\n",
       " 'BR.IPMB (Ipameri, GO)',\n",
       " 'BR.ITTB (Itaituba, PA)',\n",
       " 'BR.JAN7 (Januaria, MG)',\n",
       " 'BR.JANB (Januaria, MG)',\n",
       " 'BR.LABB (Labrea, AM)',\n",
       " 'BR.MACA (Manacapuru, AM)',\n",
       " 'BR.MAL2 (Monte Alegre, PA)',\n",
       " 'BR.MALB (Monte Alegre, PA)',\n",
       " 'BR.MC01 (Montes Claros, Brazil)',\n",
       " 'BR.MCPB (Macapa, AP)',\n",
       " 'BR.NPGB (Novo Progresso, PA)',\n",
       " 'BR.NTVD (Natividade, TO)',\n",
       " 'BR.PDRB (PT Gauchos, MT)',\n",
       " 'BR.PRPB (Parauapebas, PA)',\n",
       " 'BR.PTLB (Pontes e Lacerda, MT)',\n",
       " 'BR.ROSB (Rosario, MA)',\n",
       " 'BR.SALB (Santo Antonio do Leverger, MT)',\n",
       " 'BR.SALV (Santo Antonio do Leverger, MT)',\n",
       " 'BR.SDBA (Sao Desiderio, BA)',\n",
       " 'BR.SGC2 (S.o Gabriel da Cachoeira, AM)',\n",
       " 'BR.SGCB (S.o Gabriel da Cachoeira, AM)',\n",
       " 'BR.SMTB (Santa Maria do Tocantins, TO)',\n",
       " 'BR.SNDB (Serra Nova Dourada, MT)',\n",
       " 'BR.TBTG (Tabatinga, AM)',\n",
       " 'BR.TEFE (Tefe, AM)',\n",
       " 'BR.TMAB (Tome-Acu,PA)',\n",
       " 'BR.VILB (Vilhena, RO)',\n",
       " 'BX.AR01 (Angra dos Reis, RJ)',\n",
       " 'BX.AR02 (Angra dos Reis 02, RJ)',\n",
       " 'BX.BIPR (Baixo Iguacu (Alta Resolucao))',\n",
       " 'BX.CHAP (Chapeco, SC)',\n",
       " 'BX.GRA1 (Gramado, RS)',\n",
       " 'BX.GRA2 (Gramado, RS)',\n",
       " 'BX.JIR01 (Jirau, RO)',\n",
       " 'BX.LDAE (Londrina E, PR)',\n",
       " 'BX.LDAN (Londrina N, PR)',\n",
       " 'BX.LDAN2 (Londrina N2, PR)',\n",
       " 'BX.LDAO (Londrina O, PR)',\n",
       " 'BX.LDAO2 (Londrina O2, PR)',\n",
       " 'BX.LDASE (Londrina SE, PR)',\n",
       " 'BX.LDAW (Londrina W, PR)',\n",
       " 'BX.LDAW2 (Londrina W2, PR)',\n",
       " 'BX.MTZ01 (Fazenda Harmonia, Matozinhos)',\n",
       " 'BX.MTZ02 (Fazenda da Pia, Matozinhos)',\n",
       " 'BX.MTZ03 (Sete Lagoas)',\n",
       " 'BX.RSIAG (IAG-USP, SP)',\n",
       " 'BX.RSIEE (IEE-USP, SP)',\n",
       " 'BX.RSVAL (Valinhos em teste)',\n",
       " 'BX.RSZN (Ruido Sismico, Zona Norte, SP)',\n",
       " 'BX.SOL1 (Sales Olivera 1 - SP)',\n",
       " 'BX.SOL2 (Sales de Oliveira 2 - SP)',\n",
       " 'BX.SOL3 (Sales de Oliveira 3 - SP)',\n",
       " 'BX.SOL4 (Sales de Oliveira 4 - SP)',\n",
       " 'BX.SOL5 (Sales de Oliveira 5 - SP)',\n",
       " 'BX.SOL6 (Sales de Oliveira 6 - SP)',\n",
       " 'BX.TQJ1A (Jurupema - SP)',\n",
       " 'BX.TQJ2B (Sitio Santa Ines, Jurupema, SP)',\n",
       " 'BX.TQJ3B (Sitio Santa Mariana, Jurupema, SP)',\n",
       " 'BX.TQJ5A (Taquaritinga-Jurupema, 5)',\n",
       " 'BX.TQJ6A (Sitio Sao Joao, Taquaritinga - SP)',\n",
       " 'BX.TQJ7B (Taquaritinga 7)',\n",
       " 'BX.TQJ8A (Taquaritinga / Jurupema SP)',\n",
       " 'BX.TQJ9A (Taquaritinga 9 (omg))',\n",
       " 'G.CAN (Canberra, Australia)',\n",
       " 'G.CLF (Chambon la Foret Observatory, France)',\n",
       " 'G.FOMA (Nahampoana reservation - Fort Dauphin, Madagascar)',\n",
       " 'G.HDC (Heredia, Costa Rica)',\n",
       " \"G.MBO (M'Bour, Senegal)\",\n",
       " 'G.MPG (Montagne des Peres - French Guiana, France)',\n",
       " 'G.SPB (Sao Paulo, Brazil)',\n",
       " 'G.TAM (Tamanrasset, Algeria)',\n",
       " 'G.TRIS (Tristan da Cunha)',\n",
       " 'GT.BDFB (Brasilia, Distrito Federal, Brazil)',\n",
       " 'GT.BOSA (Boshof, South Africa)',\n",
       " 'GT.CPUP (Villa Florida, Paraguay)',\n",
       " \"GT.DBIC (Dimbokro, Cote d'Ivoire)\",\n",
       " 'GT.LPAZ (La Paz , Bolivia)',\n",
       " 'GT.PLCA (Paso Flores, Argentina)',\n",
       " 'II.AAK (Ala Archa, Kyrgyzstan)',\n",
       " 'II.ARU (Arti, Russia)',\n",
       " 'II.ERM (Erimo, Hokkaido Island, Japan)',\n",
       " 'II.KAPI (Kappang, Sulawesi, Indonesia)',\n",
       " 'II.KIV (Kislovodsk, Russia)',\n",
       " 'II.PALK (Pallekele, Sri Lanka)',\n",
       " 'II.TLY (Talaya, Russia)',\n",
       " 'II.UOSS (Univ. of Sharjah, Sharjah, United Arab Emirates)',\n",
       " 'IN.AHML (STA AHML, INPRES)',\n",
       " 'IN.CFAA (STA CFAA, INPRES)',\n",
       " 'IN.CYA (STA CYA, INPRES)',\n",
       " 'IN.GO05 (STA GO05, INPRES)',\n",
       " 'IN.GO09 (STA GO09, INPRES)',\n",
       " 'IN.LPA (STA LPA, INPRES)',\n",
       " 'IN.RTLL (STA RTLL, INPRES)',\n",
       " 'IN.SLA (STA SLA, INPRES)',\n",
       " 'IN.TCA (STA TCA, INPRES)',\n",
       " 'IN.THA (STA THA, INPRES)',\n",
       " 'IN.VCA (STA VCA, INPRES)',\n",
       " 'IU.ANTO (Ankara, Turkey)',\n",
       " 'IU.CHTO (Chiang Mai, Thailand)',\n",
       " 'IU.COLA (College Outpost, Alaska, USA)',\n",
       " 'IU.DAV (Davao, Philippines)',\n",
       " 'IU.DWPF (Disney Wilderness Preserve, Florida, USA)',\n",
       " 'IU.KEV (Kevo, Finland)',\n",
       " 'IU.LCO (Las Campanas Astronomical Observatory, Chile)',\n",
       " 'IU.LCO (Las Campanas Astronomical Observatory, Chile)',\n",
       " 'IU.LVC (Limon Verde, Chile)',\n",
       " 'IU.MAJO (Matsushiro, Japan)',\n",
       " 'IU.MBWA (Marble Bar, Western Australia)',\n",
       " 'IU.OTAV (Otavalo, Ecuador)',\n",
       " 'IU.PMSA (Palmer Station, Antarctica)',\n",
       " 'IU.PMSA (Palmer Station, Antarctica)',\n",
       " 'IU.PTGA (Pitinga, Brazil)',\n",
       " 'IU.RCBR (Riachuelo, Brazil)',\n",
       " 'IU.SAML (Samuel, Brazil)',\n",
       " 'IU.SDV (Santo Domingo, Venezuela)',\n",
       " 'IU.SFJD (Sondre Stromfjord, Greenland)',\n",
       " 'IU.SNZO (South Karori, New Zealand)',\n",
       " 'IU.TRQA (Tornquist, Argentina)',\n",
       " 'NB.ACJC (Joao Camara-RN, Brazil)',\n",
       " 'NB.NBAN (Anadia- AL, Brazil)',\n",
       " 'NB.NBBC (Barreira do Corda - MA, Brazil)',\n",
       " 'NB.NBBL (Bica de Lurdes, Rio Formoso- PE, Brazil)',\n",
       " 'NB.NBCA (Caruaru-PE, Brazil)',\n",
       " 'NB.NBCL (Cascavel-CE, Brazil)',\n",
       " 'NB.NBCP (Cabaceiras do Paraguassu- BA, Brazil)',\n",
       " 'NB.NBCP (Cabaceiras do Paraguassu- BA, Brazil)',\n",
       " 'NB.NBIT (Itape-BA, Brazil)',\n",
       " 'NB.NBJC (Joao Camara-RN, Brazil)',\n",
       " 'NB.NBLA (Lagarto- SE, Brazil)',\n",
       " 'NB.NBLI (Livramento- PB, Brazil)',\n",
       " 'NB.NBLI (Livramento-PB, Brazil)',\n",
       " 'NB.NBLV (Livramento- PB, Brazil)',\n",
       " 'NB.NBMA (Mauriti- CE, Brazil)',\n",
       " 'NB.NBMO (Morrinhos- CE, Brazil)',\n",
       " 'NB.NBPA (Parau-RN, Brazil)',\n",
       " 'NB.NBPB (Pedra Branca-CE, Brazil)',\n",
       " 'NB.NBPN (Ponto Novo- BA, Brazil)',\n",
       " 'NB.NBPS (Pedro Segundo- PI, Brazil)',\n",
       " 'NB.NBPV (Pedro Velho- RN, Brazil)',\n",
       " 'NB.NBRF (Rio Formoso- PE, Brazil)',\n",
       " 'NB.NBRF (Rio Formoso- PE, Brazil)',\n",
       " 'NB.NBTA (Tacaratu- PE, Brazil)',\n",
       " 'NB.PFBR (Pau dos Ferros, RN)',\n",
       " 'NB.RBRC (Universidade do Acre -AC)',\n",
       " 'NB.SBBR (Sobral, CE)',\n",
       " 'ON.ABR01 (\"OBSN: [ABR01] Abrolhos, BA\")',\n",
       " 'ON.ALF01 (\"OBSN: [ALF01] Guarapari, ES\")',\n",
       " 'ON.ANA01 (\"OBSN: [ANA01] Lindo Horizonte, BA\")',\n",
       " 'ON.CAJ01 (\"OBSN: [CAJ01] Cajati, SP\")',\n",
       " 'ON.CAM01 (OBSN: [CAM01] Campos, RJ)',\n",
       " 'ON.CAR01 (OBSN: [CAR01] Carai, MG)',\n",
       " 'ON.CMC01 (\"OBSN: [CMC01] Camacan, BA\")',\n",
       " 'ON.DUB01 (OBSN: [DUB01] Duas Barras, RJ)',\n",
       " 'ON.GDU01 (\"OBSN: [GDU01] Guandu, BA\")',\n",
       " 'ON.GUA01 (\"OBSN: [GUA01] Guaratinga, BA\")',\n",
       " 'ON.JAC01 (OBSN: [JAC01] Jacupiranga, SP)',\n",
       " 'ON.MAJ01 (OBSN: [MAJ01] Major Gercino, SC)',\n",
       " 'ON.MAN01 (OBSN: [MAN01] Mangaratiba, RJ)',\n",
       " 'ON.NAN01 (\"OBSN: [NAN01] Nanuque, MG\")',\n",
       " 'ON.ON02 (OBSN: [ON_02] Rio de Janeiro, RJ)',\n",
       " 'ON.PET01 (OBSN: [PET01] Pedro de Toledo, SP)',\n",
       " 'ON.POA01 (\"OBSN: [POA01] Ponta - SC\")',\n",
       " 'ON.RIB01 (OBSN: [RIB01] Rio Bananal, ES)',\n",
       " 'ON.SLP01 (OBSN: [SLP01] Sao Luis do Paraitinga, SP)',\n",
       " 'ON.TER01 (OBSN: [TER01] Treze de Maio, SC)',\n",
       " 'ON.TIJ01 (OBSN: [TIJ01] Tijucas do Sul, PR)',\n",
       " 'ON.TRI01 (\"OBSN: [TRI01] ILHA DA TRINDADE, ES\")',\n",
       " 'ON.VAS01 (OBSN: [VAS01] Vassouras, RJ)',\n",
       " 'OS.CFSA (Confresa,MT, Brazil)',\n",
       " 'OS.CNRN (Canarana,MT, Brazil)',\n",
       " 'OS.GUIR (Guiratinga, MT, Brazil)',\n",
       " 'PE.IQT0 (Iquitos)',\n",
       " 'PE.PTM0 (Pto Maldonado)',\n",
       " 'PE.PUC0 (Pucallpa)',\n",
       " 'RI.YCA (Yaciret., Corrientes)',\n",
       " 'UY.ANCO (Parque Anchorena, Colonia)',\n",
       " 'UY.OGAUY (Observatorio Geofisico de Aiga, UY)',\n",
       " 'VL.AGLP (Mina Agua Limpa, Rio Piracicaba - MG)',\n",
       " 'VL.CAJU (Mina Sossego, CKS)',\n",
       " 'VL.CHCR (Mina Chacrinha, Itabira - MG)',\n",
       " 'VL.FABR (Mina de Fabrica, Ouro Preto - MG)',\n",
       " 'VL.FJAO (Mina Corrego do Feijao, Sarzedo - MG)',\n",
       " 'VL.FZND (Mina Fazendao, Mariana - MG)',\n",
       " 'VL.GNG1 (Barragem Sul Superior 1, Mina Gongo Soco - MG)',\n",
       " 'VL.GNG2 (Barragem Sul Superior 2, Mina Gongo Soco - MG)',\n",
       " 'VL.GNG3 (Barragem Sul Superior 3, Mina Gongo Soco - MG)',\n",
       " 'VL.GNG4 (Gongo Soco 4)',\n",
       " 'VL.GNG6 (Gongo Soco 6)',\n",
       " 'VL.SAL1 (Mina Salobo (Paiol), CKS)',\n",
       " 'VL.SAL2 (Salobo (Macaco), CKS)',\n",
       " 'VL.SLBO (Mina Salobo, CKS)',\n",
       " 'VL.SRLE (Mina Serra Leste, CKS)',\n",
       " 'VL.SRN1 (Mina Serra Norte, CKS)',\n",
       " 'VL.SRSU (Mina S11D, CKS)',\n",
       " 'XC.ALGR (Alto Alegre, RS)',\n",
       " 'XC.AMBA (Amambai, MS)',\n",
       " 'XC.ANTJ (Antonio Joao, MS)',\n",
       " 'XC.ARAP (Arapey, Uruguay)',\n",
       " 'XC.AZCA (Azaras, Argentina)',\n",
       " 'XC.BBLB (La Banda, Bolivia)',\n",
       " 'XC.BBPS (Puerto Suarez, Bolivia)',\n",
       " 'XC.BBRB (Robore, Bolivia)',\n",
       " 'XC.BBRT (Rincon del Tigre, Bolivia)',\n",
       " 'XC.BBSD (Serra de San Diablo, Bolivia)',\n",
       " 'XC.BDQN (Bodoquena, MS)',\n",
       " 'XC.CCRS (Caceres, MT)',\n",
       " 'XC.CRSM (Crissiumal, RS)',\n",
       " 'XC.DVLD (Doverlandia, GO)',\n",
       " 'XC.EDMB (EDMA, Argentina)',\n",
       " 'XC.ESFA (Espinillo Formosa, Argentina)',\n",
       " 'XC.FDPY (Filadelfia, Paraguay)',\n",
       " 'XC.FRBT (Francisco Beltrao, PR)',\n",
       " 'XC.MAPY (Madrejon, Paraguay)',\n",
       " 'XC.MCR1 (Marechal Candido Rondon, PR)',\n",
       " 'XC.MECA (Mercedes, Argentina)',\n",
       " 'XC.MURT (Porto Murtinho, MS)',\n",
       " 'XC.NBRS (Nobres, MT)',\n",
       " 'XC.PANT (Pantanal, Corumba, MS)',\n",
       " 'XC.PAPY (Pozo Azul, Paraguay)',\n",
       " 'XC.POCN (Pocone, MT)',\n",
       " 'XC.PSAL (Palomas, Salto - UY)',\n",
       " 'XC.PT01 (Fzda. So Por Deus (Pantanal/MS))',\n",
       " 'XC.PT02 (Fzda. Tatiaia (Pantanal/MS))',\n",
       " 'XC.PT03 (Fzda Pindorama (Pantanal/MS))',\n",
       " 'XC.PT04 (Fzda Campocira (Pantanal/MS))',\n",
       " 'XC.PT05 (Fzda. Corixao (Pantanal/MS))',\n",
       " 'XC.PT06 (Fzda. Sta. Maria (Pantanal/MS))',\n",
       " 'XC.PT07 (Fzda. Analy (Pantanal/MS))',\n",
       " 'XC.PT08 (Pedreira Fzda. Rio Negro (Pantanal/MS))',\n",
       " 'XC.PT09 (Fzda. 3 Argolas)',\n",
       " 'XC.PT10 (Rio Negro/MS)',\n",
       " 'XC.PT11 (Hotel Fzda Anew (Fala Verdade/MS))',\n",
       " 'XC.PT28 (Coxim/MS)',\n",
       " 'XC.PT29 (Pedro Gomes/MS)',\n",
       " 'XC.PTET (Porto Estrela, MT)',\n",
       " 'XC.RODS (Rosario do Sul, RS)',\n",
       " 'XC.RPRD (Ribas do Rio Pardo, MS)',\n",
       " 'XC.RVDE (Rio Verde, MS)',\n",
       " 'XC.SCCA (San Cayetano Corrientes, Argentina)',\n",
       " 'XC.SJPY (San Joaquin, Paraguay)',\n",
       " 'XC.TBOT (Tacuarembo, Uruguay)',\n",
       " 'XC.TICA (Tres Isletas, Corrientes, Argentina)',\n",
       " 'XC.UNIS (Unistalda, RS)',\n",
       " 'XC.VACA (Villa Angelo Chaco Argentina)',\n",
       " 'XC.VBST (Vila Bela de Santissima Trindade, MT)',\n",
       " 'XV.GUY1 (Guyana)',\n",
       " 'XV.GUY2 (Guyana)',\n",
       " 'XV.GUY3 (Guyana)',\n",
       " 'XV.GUY4 (Guyana)',\n",
       " 'Y4.ADRB (Adrianopolis, PR)',\n",
       " 'Y4.CAPB (Iepe, SP)',\n",
       " 'Y4.FORT (Mococa, SP (Fazenda Ambiental Fortaleza))',\n",
       " 'Y4.JUQB (Juquia, SP)',\n",
       " 'Y4.PSMB (Serra do Mar, SP)']"
      ]
     },
     "execution_count": 133,
     "metadata": {},
     "output_type": "execute_result"
    }
   ],
   "source": [
    "stations"
   ]
  },
  {
   "cell_type": "code",
   "execution_count": null,
   "metadata": {},
   "outputs": [
    {
     "ename": "AttributeError",
     "evalue": "'str' object has no attribute 'isoformat'",
     "output_type": "error",
     "traceback": [
      "\u001b[1;31m---------------------------------------------------------------------------\u001b[0m",
      "\u001b[1;31mAttributeError\u001b[0m                            Traceback (most recent call last)",
      "\u001b[1;32m<ipython-input-10-b1dc240b9dab>\u001b[0m in \u001b[0;36m<module>\u001b[1;34m\u001b[0m\n\u001b[1;32m----> 1\u001b[1;33m \u001b[0mUTCDateTime\u001b[0m\u001b[1;33m(\u001b[0m\u001b[0mdf_test_closest\u001b[0m\u001b[1;33m[\u001b[0m\u001b[1;34m'trace_start_time'\u001b[0m\u001b[1;33m]\u001b[0m\u001b[1;33m[\u001b[0m\u001b[1;36m0\u001b[0m\u001b[1;33m]\u001b[0m\u001b[1;33m.\u001b[0m\u001b[0misoformat\u001b[0m\u001b[1;33m(\u001b[0m\u001b[1;33m)\u001b[0m\u001b[1;33m)\u001b[0m\u001b[1;33m\u001b[0m\u001b[1;33m\u001b[0m\u001b[0m\n\u001b[0m",
      "\u001b[1;31mAttributeError\u001b[0m: 'str' object has no attribute 'isoformat'"
     ]
    }
   ],
   "source": [
    "UTCDateTime()"
   ]
  },
  {
   "cell_type": "code",
   "execution_count": null,
   "metadata": {},
   "outputs": [
    {
     "data": {
      "text/plain": [
       "trace_name\n",
       "KAN08.GS_20150408005359_EV    GS\n",
       "Name: network_code, dtype: object"
      ]
     },
     "execution_count": 25,
     "metadata": {},
     "output_type": "execute_result"
    }
   ],
   "source": [
    "df_test_closest['network_code']"
   ]
  },
  {
   "cell_type": "code",
   "execution_count": null,
   "metadata": {},
   "outputs": [],
   "source": [
    "\n",
    "client = Client(\"IRIS\")\n",
    "inventory = client.get_waveforms(network=df_test_closest['network_code'][0],\n",
    "                                station=df_test_closest['receiver_code'][0],\n",
    "                                starttime=UTCDateTime(df_test_closest['trace_start_time'][0].isoformat()),\n",
    "                                endtime=UTCDateTime(df_test_closest['trace_start_time'][0].isoformat()) + 60,\n",
    "                                location= \"*\",\n",
    "                                channel =  \"*\",\n",
    "                          attach_response=True)\n",
    "                                #loc=\"*\", \n",
    "                                #channel=\"*\",\n",
    "                                #level=\"response\")  \n"
   ]
  },
  {
   "cell_type": "code",
   "execution_count": null,
   "metadata": {},
   "outputs": [
    {
     "ename": "FDSNException",
     "evalue": "Unknown Error (timeout): The read operation timed out",
     "output_type": "error",
     "traceback": [
      "\u001b[1;31m---------------------------------------------------------------------------\u001b[0m",
      "\u001b[1;31mFDSNException\u001b[0m                             Traceback (most recent call last)",
      "\u001b[1;32m<ipython-input-21-c2b07467e101>\u001b[0m in \u001b[0;36m<module>\u001b[1;34m\u001b[0m\n\u001b[0;32m      1\u001b[0m \u001b[0mfirst_event\u001b[0m \u001b[1;33m=\u001b[0m \u001b[0mUTCDateTime\u001b[0m\u001b[1;33m(\u001b[0m\u001b[0mdf_test\u001b[0m\u001b[1;33m[\u001b[0m\u001b[1;34m'trace_start_time'\u001b[0m\u001b[1;33m]\u001b[0m\u001b[1;33m.\u001b[0m\u001b[0mmin\u001b[0m\u001b[1;33m(\u001b[0m\u001b[1;33m)\u001b[0m\u001b[1;33m.\u001b[0m\u001b[0misoformat\u001b[0m\u001b[1;33m(\u001b[0m\u001b[1;33m)\u001b[0m\u001b[1;33m)\u001b[0m\u001b[1;33m\u001b[0m\u001b[1;33m\u001b[0m\u001b[0m\n\u001b[0;32m      2\u001b[0m \u001b[0mlast_event\u001b[0m \u001b[1;33m=\u001b[0m \u001b[0mUTCDateTime\u001b[0m\u001b[1;33m(\u001b[0m\u001b[0mdf_test\u001b[0m\u001b[1;33m[\u001b[0m\u001b[1;34m'trace_start_time'\u001b[0m\u001b[1;33m]\u001b[0m\u001b[1;33m.\u001b[0m\u001b[0mmax\u001b[0m\u001b[1;33m(\u001b[0m\u001b[1;33m)\u001b[0m\u001b[1;33m.\u001b[0m\u001b[0misoformat\u001b[0m\u001b[1;33m(\u001b[0m\u001b[1;33m)\u001b[0m\u001b[1;33m)\u001b[0m\u001b[1;33m\u001b[0m\u001b[1;33m\u001b[0m\u001b[0m\n\u001b[1;32m----> 3\u001b[1;33m iris_events = client.get_events(starttime  = first_event,\n\u001b[0m\u001b[0;32m      4\u001b[0m \u001b[0mendtime\u001b[0m\u001b[1;33m=\u001b[0m\u001b[0mlast_event\u001b[0m\u001b[1;33m,\u001b[0m\u001b[1;33m\u001b[0m\u001b[1;33m\u001b[0m\u001b[0m\n\u001b[0;32m      5\u001b[0m eventtype = \"earthquake\")\n",
      "\u001b[1;32mC:\\ProgramData\\Anaconda3\\lib\\site-packages\\obspy\\clients\\fdsn\\client.py\u001b[0m in \u001b[0;36mget_events\u001b[1;34m(self, starttime, endtime, minlatitude, maxlatitude, minlongitude, maxlongitude, latitude, longitude, minradius, maxradius, mindepth, maxdepth, minmagnitude, maxmagnitude, magnitudetype, includeallorigins, includeallmagnitudes, includearrivals, eventid, limit, offset, orderby, catalog, contributor, updatedafter, filename, **kwargs)\u001b[0m\n\u001b[0;32m    525\u001b[0m             \"event\", DEFAULT_PARAMETERS['event'], kwargs)\n\u001b[0;32m    526\u001b[0m \u001b[1;33m\u001b[0m\u001b[0m\n\u001b[1;32m--> 527\u001b[1;33m         \u001b[0mdata_stream\u001b[0m \u001b[1;33m=\u001b[0m \u001b[0mself\u001b[0m\u001b[1;33m.\u001b[0m\u001b[0m_download\u001b[0m\u001b[1;33m(\u001b[0m\u001b[0murl\u001b[0m\u001b[1;33m)\u001b[0m\u001b[1;33m\u001b[0m\u001b[1;33m\u001b[0m\u001b[0m\n\u001b[0m\u001b[0;32m    528\u001b[0m         \u001b[0mdata_stream\u001b[0m\u001b[1;33m.\u001b[0m\u001b[0mseek\u001b[0m\u001b[1;33m(\u001b[0m\u001b[1;36m0\u001b[0m\u001b[1;33m,\u001b[0m \u001b[1;36m0\u001b[0m\u001b[1;33m)\u001b[0m\u001b[1;33m\u001b[0m\u001b[1;33m\u001b[0m\u001b[0m\n\u001b[0;32m    529\u001b[0m         \u001b[1;32mif\u001b[0m \u001b[0mfilename\u001b[0m\u001b[1;33m:\u001b[0m\u001b[1;33m\u001b[0m\u001b[1;33m\u001b[0m\u001b[0m\n",
      "\u001b[1;32mC:\\ProgramData\\Anaconda3\\lib\\site-packages\\obspy\\clients\\fdsn\\client.py\u001b[0m in \u001b[0;36m_download\u001b[1;34m(self, url, return_string, data, use_gzip)\u001b[0m\n\u001b[0;32m   1395\u001b[0m             \u001b[0mdebug\u001b[0m\u001b[1;33m=\u001b[0m\u001b[0mself\u001b[0m\u001b[1;33m.\u001b[0m\u001b[0mdebug\u001b[0m\u001b[1;33m,\u001b[0m \u001b[0mreturn_string\u001b[0m\u001b[1;33m=\u001b[0m\u001b[0mreturn_string\u001b[0m\u001b[1;33m,\u001b[0m \u001b[0mdata\u001b[0m\u001b[1;33m=\u001b[0m\u001b[0mdata\u001b[0m\u001b[1;33m,\u001b[0m\u001b[1;33m\u001b[0m\u001b[1;33m\u001b[0m\u001b[0m\n\u001b[0;32m   1396\u001b[0m             timeout=self.timeout, use_gzip=use_gzip)\n\u001b[1;32m-> 1397\u001b[1;33m         \u001b[0mraise_on_error\u001b[0m\u001b[1;33m(\u001b[0m\u001b[0mcode\u001b[0m\u001b[1;33m,\u001b[0m \u001b[0mdata\u001b[0m\u001b[1;33m)\u001b[0m\u001b[1;33m\u001b[0m\u001b[1;33m\u001b[0m\u001b[0m\n\u001b[0m\u001b[0;32m   1398\u001b[0m         \u001b[1;32mreturn\u001b[0m \u001b[0mdata\u001b[0m\u001b[1;33m\u001b[0m\u001b[1;33m\u001b[0m\u001b[0m\n\u001b[0;32m   1399\u001b[0m \u001b[1;33m\u001b[0m\u001b[0m\n",
      "\u001b[1;32mC:\\ProgramData\\Anaconda3\\lib\\site-packages\\obspy\\clients\\fdsn\\client.py\u001b[0m in \u001b[0;36mraise_on_error\u001b[1;34m(code, data)\u001b[0m\n\u001b[0;32m   1753\u001b[0m             \u001b[1;32mraise\u001b[0m \u001b[0mFDSNException\u001b[0m\u001b[1;33m(\u001b[0m\u001b[1;34m\"Timed Out\"\u001b[0m\u001b[1;33m)\u001b[0m\u001b[1;33m\u001b[0m\u001b[1;33m\u001b[0m\u001b[0m\n\u001b[0;32m   1754\u001b[0m         \u001b[1;32melse\u001b[0m\u001b[1;33m:\u001b[0m\u001b[1;33m\u001b[0m\u001b[1;33m\u001b[0m\u001b[0m\n\u001b[1;32m-> 1755\u001b[1;33m             raise FDSNException(\"Unknown Error (%s): %s\" % (\n\u001b[0m\u001b[0;32m   1756\u001b[0m                 (str(data.__class__.__name__), str(data))))\n\u001b[0;32m   1757\u001b[0m     \u001b[1;31m# Catch any non 200 codes.\u001b[0m\u001b[1;33m\u001b[0m\u001b[1;33m\u001b[0m\u001b[1;33m\u001b[0m\u001b[0m\n",
      "\u001b[1;31mFDSNException\u001b[0m: Unknown Error (timeout): The read operation timed out"
     ]
    }
   ],
   "source": []
  },
  {
   "cell_type": "code",
   "execution_count": null,
   "metadata": {},
   "outputs": [
    {
     "data": {
      "text/plain": [
       "'1993-01-10T04:38:49.790000'"
      ]
     },
     "execution_count": 80,
     "metadata": {},
     "output_type": "execute_result"
    }
   ],
   "source": [
    "earliest_trace['trace_start_time'][0].isoformat()"
   ]
  },
  {
   "cell_type": "code",
   "execution_count": null,
   "metadata": {},
   "outputs": [],
   "source": [
    "clients_dict = {}\n",
    "for key in sorted(URL_MAPPINGS.keys()):\n",
    "    clients_dict[key] = Client(key)"
   ]
  },
  {
   "cell_type": "code",
   "execution_count": null,
   "metadata": {},
   "outputs": [
    {
     "data": {
      "text/plain": [
       "dict_keys(['BGR', 'EMSC', 'ETH', 'GEONET', 'GFZ', 'ICGC', 'INGV', 'IPGP', 'IRIS', 'ISC', 'KNMI', 'KOERI', 'LMU', 'NCEDC', 'NIEP', 'NOA', 'ODC', 'ORFEUS', 'RASPISHAKE', 'RESIF', 'SCEDC', 'TEXNET', 'UIB-NORSAR', 'USGS', 'USP'])"
      ]
     },
     "execution_count": 92,
     "metadata": {},
     "output_type": "execute_result"
    }
   ],
   "source": [
    "clients_dict.keys()"
   ]
  },
  {
   "cell_type": "code",
   "execution_count": null,
   "metadata": {},
   "outputs": [
    {
     "name": "stdout",
     "output_type": "stream",
     "text": [
      "NCEDC\n"
     ]
    }
   ],
   "source": [
    "\n",
    "for key in sorted(URL_MAPPINGS.keys()):\n",
    "    client = Client(key)\n",
    "#for key,client in clients_dict.items():\n",
    "    try:\n",
    "        inventory = client.get_waveforms(network=earliest_trace['network_code'][0],\n",
    "                                    station=earliest_trace['receiver_code'][0],\n",
    "                                    starttime=UTCDateTime(earliest_trace['trace_start_time'][0].isoformat()),\n",
    "                                    endtime=UTCDateTime(earliest_trace['trace_start_time'][0].isoformat()) + 60,\n",
    "                                    location= \"*\",\n",
    "                                    channel =  \"*\",\n",
    "                            attach_response=True)\n",
    "\n",
    "        print(key)\n",
    "    except:\n",
    "        pass\n",
    "        #print(key)"
   ]
  },
  {
   "cell_type": "code",
   "execution_count": null,
   "metadata": {},
   "outputs": [
    {
     "data": {
      "text/plain": [
       "21 Trace(s) in Stream:\n",
       "\n",
       "BK.MHC..BHE | 1993-01-10T04:38:49.828000Z - 1993-01-10T04:39:49.778000Z | 20.0 Hz, 1200 samples\n",
       "...\n",
       "(19 other traces)\n",
       "...\n",
       "BK.MHC..VHZ | 1993-01-10T04:38:56.286000Z - 1993-01-10T04:39:46.286000Z | 0.1 Hz, 6 samples\n",
       "\n",
       "[Use \"print(Stream.__str__(extended=True))\" to print all Traces]"
      ]
     },
     "execution_count": 101,
     "metadata": {},
     "output_type": "execute_result"
    }
   ],
   "source": [
    "inventory"
   ]
  },
  {
   "cell_type": "code",
   "execution_count": null,
   "metadata": {},
   "outputs": [
    {
     "name": "stdout",
     "output_type": "stream",
     "text": [
      "NCEDC\n"
     ]
    }
   ],
   "source": [
    "\n",
    "for key in sorted(URL_MAPPINGS.keys()):\n",
    "    client = Client(key)\n",
    "#for key,client in clients_dict.items():\n",
    "    try:\n",
    "        inventory = client.get_waveforms(network=earliest_trace['network_code'][0],\n",
    "                                    station=earliest_trace['receiver_code'][0],\n",
    "                                    starttime=UTCDateTime(earliest_trace['trace_start_time'][0].isoformat()),\n",
    "                                    endtime=UTCDateTime(earliest_trace['trace_start_time'][0].isoformat()) + 60,\n",
    "                                    location= \"*\",\n",
    "                                    channel =  \"*\",\n",
    "                            attach_response=True)\n",
    "\n",
    "        print(key)\n",
    "    except:\n",
    "        pass\n",
    "        #print(key)"
   ]
  },
  {
   "cell_type": "code",
   "execution_count": null,
   "metadata": {},
   "outputs": [
    {
     "data": {
      "text/plain": [
       "4 Trace(s) in Stream:\n",
       "NC.CAL.02.EHZ | 1984-04-24T22:18:07.960000Z - 1984-04-24T22:19:07.950000Z | 100.0 Hz, 6000 samples\n",
       "NC.CAL.02.ELE | 1984-04-24T22:18:07.960000Z - 1984-04-24T22:19:07.950000Z | 100.0 Hz, 6000 samples\n",
       "NC.CAL.02.ELN | 1984-04-24T22:18:07.960000Z - 1984-04-24T22:19:07.950000Z | 100.0 Hz, 6000 samples\n",
       "NC.CAL.02.ELZ | 1984-04-24T22:18:07.960000Z - 1984-04-24T22:19:07.950000Z | 100.0 Hz, 6000 samples"
      ]
     },
     "execution_count": 89,
     "metadata": {},
     "output_type": "execute_result"
    }
   ],
   "source": [
    "inventory"
   ]
  },
  {
   "cell_type": "code",
   "execution_count": null,
   "metadata": {},
   "outputs": [
    {
     "ename": "FDSNNoDataException",
     "evalue": "No data available for request.\nDetailed response of server:\n\n",
     "output_type": "error",
     "traceback": [
      "\u001b[1;31m---------------------------------------------------------------------------\u001b[0m",
      "\u001b[1;31mFDSNNoDataException\u001b[0m                       Traceback (most recent call last)",
      "\u001b[1;32m<ipython-input-87-f6afffde94ec>\u001b[0m in \u001b[0;36m<module>\u001b[1;34m\u001b[0m\n\u001b[0;32m      2\u001b[0m \u001b[1;33m\u001b[0m\u001b[0m\n\u001b[0;32m      3\u001b[0m \u001b[0mclient\u001b[0m \u001b[1;33m=\u001b[0m \u001b[0mClient\u001b[0m\u001b[1;33m(\u001b[0m\u001b[1;34m\"IRIS\"\u001b[0m\u001b[1;33m)\u001b[0m\u001b[1;33m\u001b[0m\u001b[1;33m\u001b[0m\u001b[0m\n\u001b[1;32m----> 4\u001b[1;33m inventory = client.get_waveforms(network=earliest_trace['network_code'][0],\n\u001b[0m\u001b[0;32m      5\u001b[0m                                 \u001b[0mstation\u001b[0m\u001b[1;33m=\u001b[0m\u001b[0mearliest_trace\u001b[0m\u001b[1;33m[\u001b[0m\u001b[1;34m'receiver_code'\u001b[0m\u001b[1;33m]\u001b[0m\u001b[1;33m[\u001b[0m\u001b[1;36m0\u001b[0m\u001b[1;33m]\u001b[0m\u001b[1;33m,\u001b[0m\u001b[1;33m\u001b[0m\u001b[1;33m\u001b[0m\u001b[0m\n\u001b[0;32m      6\u001b[0m                                 \u001b[0mstarttime\u001b[0m\u001b[1;33m=\u001b[0m\u001b[0mUTCDateTime\u001b[0m\u001b[1;33m(\u001b[0m\u001b[0mearliest_trace\u001b[0m\u001b[1;33m[\u001b[0m\u001b[1;34m'trace_start_time'\u001b[0m\u001b[1;33m]\u001b[0m\u001b[1;33m[\u001b[0m\u001b[1;36m0\u001b[0m\u001b[1;33m]\u001b[0m\u001b[1;33m.\u001b[0m\u001b[0misoformat\u001b[0m\u001b[1;33m(\u001b[0m\u001b[1;33m)\u001b[0m\u001b[1;33m)\u001b[0m\u001b[1;33m,\u001b[0m\u001b[1;33m\u001b[0m\u001b[1;33m\u001b[0m\u001b[0m\n",
      "\u001b[1;32mC:\\ProgramData\\Anaconda3\\lib\\site-packages\\obspy\\clients\\fdsn\\client.py\u001b[0m in \u001b[0;36mget_waveforms\u001b[1;34m(self, network, station, location, channel, starttime, endtime, quality, minimumlength, longestonly, filename, attach_response, **kwargs)\u001b[0m\n\u001b[0;32m    842\u001b[0m         \u001b[1;31m# Gzip not worth it for MiniSEED and most likely disabled for this\u001b[0m\u001b[1;33m\u001b[0m\u001b[1;33m\u001b[0m\u001b[1;33m\u001b[0m\u001b[0m\n\u001b[0;32m    843\u001b[0m         \u001b[1;31m# route in any case.\u001b[0m\u001b[1;33m\u001b[0m\u001b[1;33m\u001b[0m\u001b[1;33m\u001b[0m\u001b[0m\n\u001b[1;32m--> 844\u001b[1;33m         \u001b[0mdata_stream\u001b[0m \u001b[1;33m=\u001b[0m \u001b[0mself\u001b[0m\u001b[1;33m.\u001b[0m\u001b[0m_download\u001b[0m\u001b[1;33m(\u001b[0m\u001b[0murl\u001b[0m\u001b[1;33m,\u001b[0m \u001b[0muse_gzip\u001b[0m\u001b[1;33m=\u001b[0m\u001b[1;32mFalse\u001b[0m\u001b[1;33m)\u001b[0m\u001b[1;33m\u001b[0m\u001b[1;33m\u001b[0m\u001b[0m\n\u001b[0m\u001b[0;32m    845\u001b[0m         \u001b[0mdata_stream\u001b[0m\u001b[1;33m.\u001b[0m\u001b[0mseek\u001b[0m\u001b[1;33m(\u001b[0m\u001b[1;36m0\u001b[0m\u001b[1;33m,\u001b[0m \u001b[1;36m0\u001b[0m\u001b[1;33m)\u001b[0m\u001b[1;33m\u001b[0m\u001b[1;33m\u001b[0m\u001b[0m\n\u001b[0;32m    846\u001b[0m         \u001b[1;32mif\u001b[0m \u001b[0mfilename\u001b[0m\u001b[1;33m:\u001b[0m\u001b[1;33m\u001b[0m\u001b[1;33m\u001b[0m\u001b[0m\n",
      "\u001b[1;32mC:\\ProgramData\\Anaconda3\\lib\\site-packages\\obspy\\clients\\fdsn\\client.py\u001b[0m in \u001b[0;36m_download\u001b[1;34m(self, url, return_string, data, use_gzip)\u001b[0m\n\u001b[0;32m   1395\u001b[0m             \u001b[0mdebug\u001b[0m\u001b[1;33m=\u001b[0m\u001b[0mself\u001b[0m\u001b[1;33m.\u001b[0m\u001b[0mdebug\u001b[0m\u001b[1;33m,\u001b[0m \u001b[0mreturn_string\u001b[0m\u001b[1;33m=\u001b[0m\u001b[0mreturn_string\u001b[0m\u001b[1;33m,\u001b[0m \u001b[0mdata\u001b[0m\u001b[1;33m=\u001b[0m\u001b[0mdata\u001b[0m\u001b[1;33m,\u001b[0m\u001b[1;33m\u001b[0m\u001b[1;33m\u001b[0m\u001b[0m\n\u001b[0;32m   1396\u001b[0m             timeout=self.timeout, use_gzip=use_gzip)\n\u001b[1;32m-> 1397\u001b[1;33m         \u001b[0mraise_on_error\u001b[0m\u001b[1;33m(\u001b[0m\u001b[0mcode\u001b[0m\u001b[1;33m,\u001b[0m \u001b[0mdata\u001b[0m\u001b[1;33m)\u001b[0m\u001b[1;33m\u001b[0m\u001b[1;33m\u001b[0m\u001b[0m\n\u001b[0m\u001b[0;32m   1398\u001b[0m         \u001b[1;32mreturn\u001b[0m \u001b[0mdata\u001b[0m\u001b[1;33m\u001b[0m\u001b[1;33m\u001b[0m\u001b[0m\n\u001b[0;32m   1399\u001b[0m \u001b[1;33m\u001b[0m\u001b[0m\n",
      "\u001b[1;32mC:\\ProgramData\\Anaconda3\\lib\\site-packages\\obspy\\clients\\fdsn\\client.py\u001b[0m in \u001b[0;36mraise_on_error\u001b[1;34m(code, data)\u001b[0m\n\u001b[0;32m   1720\u001b[0m     \u001b[1;31m# No data.\u001b[0m\u001b[1;33m\u001b[0m\u001b[1;33m\u001b[0m\u001b[1;33m\u001b[0m\u001b[0m\n\u001b[0;32m   1721\u001b[0m     \u001b[1;32mif\u001b[0m \u001b[0mcode\u001b[0m \u001b[1;33m==\u001b[0m \u001b[1;36m204\u001b[0m\u001b[1;33m:\u001b[0m\u001b[1;33m\u001b[0m\u001b[1;33m\u001b[0m\u001b[0m\n\u001b[1;32m-> 1722\u001b[1;33m         raise FDSNNoDataException(\"No data available for request.\",\n\u001b[0m\u001b[0;32m   1723\u001b[0m                                   server_info)\n\u001b[0;32m   1724\u001b[0m     \u001b[1;32melif\u001b[0m \u001b[0mcode\u001b[0m \u001b[1;33m==\u001b[0m \u001b[1;36m400\u001b[0m\u001b[1;33m:\u001b[0m\u001b[1;33m\u001b[0m\u001b[1;33m\u001b[0m\u001b[0m\n",
      "\u001b[1;31mFDSNNoDataException\u001b[0m: No data available for request.\nDetailed response of server:\n\n"
     ]
    }
   ],
   "source": [
    "earliest_trace\n",
    "\n",
    "client = Client(\"IRIS\")\n",
    "inventory = client.get_waveforms(network=earliest_trace['network_code'][0],\n",
    "                                station=earliest_trace['receiver_code'][0],\n",
    "                                starttime=UTCDateTime(earliest_trace['trace_start_time'][0].isoformat()),\n",
    "                                endtime=UTCDateTime(earliest_trace['trace_start_time'][0].isoformat()) + 60,\n",
    "                                location= \"*\",\n",
    "                                channel =  \"*\",\n",
    "                          attach_response=True)"
   ]
  },
  {
   "cell_type": "code",
   "execution_count": null,
   "metadata": {},
   "outputs": [],
   "source": [
    "wave_resampled = inventory.resample(8000)\n",
    "wave_resampled = wave_resampled.normalize()\n",
    "one_sample = np.array(wave_resampled[0])\n",
    "#wave_norm_x =  one_sample/one_sample.std()\n",
    "#sf.write('assets/new_sound_extraction_test_other.wav',wave_norm_x,8000)\n",
    "sf.write('assets/new_sound_extraction_test_obspy_normalize.wav',one_sample,8000)\n"
   ]
  },
  {
   "cell_type": "code",
   "execution_count": null,
   "metadata": {},
   "outputs": [],
   "source": [
    "import librosa\n",
    "import soundfile as sf\n",
    "#Extract the proper seismic instrument\n",
    "#index: 0: north-south, 1: east-west, 2:vertical\n",
    "def create_seismic_sound(x, index = 0):\n",
    "    #x1 = x[:,index]\n",
    "    x1=np.array(x)\n",
    "    norm_x = x1 = x1/x1.std()\n",
    "    #norm_x_resampled = librosa.resample(norm_x, 100, 8000)\n",
    "    sf.write('assets/new_sound_extraction_test.wav',norm_x_resampled,8000)\n",
    "\n",
    "    return norm_x_resampled"
   ]
  },
  {
   "cell_type": "code",
   "execution_count": null,
   "metadata": {},
   "outputs": [],
   "source": [
    "waveform_normalize = inventory.normalize()"
   ]
  },
  {
   "cell_type": "code",
   "execution_count": null,
   "metadata": {},
   "outputs": [
    {
     "data": {
      "text/plain": [
       "(12001,)"
      ]
     },
     "execution_count": 61,
     "metadata": {},
     "output_type": "execute_result"
    }
   ],
   "source": [
    "np.array(waveform_normalize[0]).shape"
   ]
  },
  {
   "cell_type": "code",
   "execution_count": null,
   "metadata": {},
   "outputs": [
    {
     "name": "stderr",
     "output_type": "stream",
     "text": [
      "<ipython-input-65-f6bdc02d7f2b>:1: FutureWarning: Pass orig_sr=200, target_sr=8000 as keyword args. From version 0.10 passing these as positional arguments will result in an error\n",
      "  waveform_normalize_resampled = librosa.resample(np.array(waveform_normalize[0]), 200, 8000)\n"
     ]
    }
   ],
   "source": [
    "waveform_normalize_resampled = librosa.resample(np.array(waveform_normalize[0]), 200, 8000)\n",
    "sf.write('assets/new_sound_extraction_test.wav',waveform_normalize_resampled,8000)"
   ]
  },
  {
   "cell_type": "code",
   "execution_count": null,
   "metadata": {},
   "outputs": [],
   "source": []
  },
  {
   "cell_type": "code",
   "execution_count": null,
   "metadata": {},
   "outputs": [
    {
     "name": "stderr",
     "output_type": "stream",
     "text": [
      "<ipython-input-49-b8532cfac02a>:9: FutureWarning: Pass orig_sr=100, target_sr=8000 as keyword args. From version 0.10 passing these as positional arguments will result in an error\n",
      "  norm_x_resampled = librosa.resample(norm_x, 100, 8000)\n"
     ]
    },
    {
     "data": {
      "text/plain": [
       "array([-0.04705812, -0.04743128, -0.04779273, ...,  0.02808716,\n",
       "        0.02323079,  0.01848785])"
      ]
     },
     "execution_count": 50,
     "metadata": {},
     "output_type": "execute_result"
    }
   ],
   "source": [
    "create_seismic_sound(inventory[0])"
   ]
  },
  {
   "cell_type": "code",
   "execution_count": null,
   "metadata": {},
   "outputs": [
    {
     "data": {
      "text/html": [
       "<div>\n",
       "<style scoped>\n",
       "    .dataframe tbody tr th:only-of-type {\n",
       "        vertical-align: middle;\n",
       "    }\n",
       "\n",
       "    .dataframe tbody tr th {\n",
       "        vertical-align: top;\n",
       "    }\n",
       "\n",
       "    .dataframe thead th {\n",
       "        text-align: right;\n",
       "    }\n",
       "</style>\n",
       "<table border=\"1\" class=\"dataframe\">\n",
       "  <thead>\n",
       "    <tr style=\"text-align: right;\">\n",
       "      <th></th>\n",
       "      <th>network_code</th>\n",
       "      <th>receiver_code</th>\n",
       "      <th>receiver_type</th>\n",
       "      <th>receiver_latitude</th>\n",
       "      <th>receiver_longitude</th>\n",
       "      <th>receiver_elevation_m</th>\n",
       "      <th>p_arrival_sample</th>\n",
       "      <th>p_status</th>\n",
       "      <th>p_weight</th>\n",
       "      <th>p_travel_sec</th>\n",
       "      <th>...</th>\n",
       "      <th>source_magnitude_type</th>\n",
       "      <th>source_magnitude_author</th>\n",
       "      <th>source_mechanism_strike_dip_rake</th>\n",
       "      <th>source_distance_deg</th>\n",
       "      <th>source_distance_km</th>\n",
       "      <th>back_azimuth_deg</th>\n",
       "      <th>snr_db</th>\n",
       "      <th>coda_end_sample</th>\n",
       "      <th>trace_start_time</th>\n",
       "      <th>trace_category</th>\n",
       "    </tr>\n",
       "    <tr>\n",
       "      <th>trace_name</th>\n",
       "      <th></th>\n",
       "      <th></th>\n",
       "      <th></th>\n",
       "      <th></th>\n",
       "      <th></th>\n",
       "      <th></th>\n",
       "      <th></th>\n",
       "      <th></th>\n",
       "      <th></th>\n",
       "      <th></th>\n",
       "      <th></th>\n",
       "      <th></th>\n",
       "      <th></th>\n",
       "      <th></th>\n",
       "      <th></th>\n",
       "      <th></th>\n",
       "      <th></th>\n",
       "      <th></th>\n",
       "      <th></th>\n",
       "      <th></th>\n",
       "      <th></th>\n",
       "    </tr>\n",
       "  </thead>\n",
       "  <tbody>\n",
       "    <tr>\n",
       "      <th>KAN08.GS_20150408005359_EV</th>\n",
       "      <td>GS</td>\n",
       "      <td>KAN08</td>\n",
       "      <td>HH</td>\n",
       "      <td>37.22672</td>\n",
       "      <td>-97.970947</td>\n",
       "      <td>375.0</td>\n",
       "      <td>400.0</td>\n",
       "      <td>manual</td>\n",
       "      <td>0.63</td>\n",
       "      <td>0.78</td>\n",
       "      <td>...</td>\n",
       "      <td>ml</td>\n",
       "      <td>ISMP</td>\n",
       "      <td>None</td>\n",
       "      <td>0.0004</td>\n",
       "      <td>0.04</td>\n",
       "      <td>166.8</td>\n",
       "      <td>[54.40000153 51.5        48.40000153]</td>\n",
       "      <td>[[1052.]]</td>\n",
       "      <td>2015-04-08 00:54:00.800</td>\n",
       "      <td>earthquake_local</td>\n",
       "    </tr>\n",
       "  </tbody>\n",
       "</table>\n",
       "<p>1 rows × 34 columns</p>\n",
       "</div>"
      ],
      "text/plain": [
       "                           network_code receiver_code receiver_type  \\\n",
       "trace_name                                                            \n",
       "KAN08.GS_20150408005359_EV           GS         KAN08            HH   \n",
       "\n",
       "                            receiver_latitude  receiver_longitude  \\\n",
       "trace_name                                                          \n",
       "KAN08.GS_20150408005359_EV           37.22672          -97.970947   \n",
       "\n",
       "                            receiver_elevation_m  p_arrival_sample p_status  \\\n",
       "trace_name                                                                    \n",
       "KAN08.GS_20150408005359_EV                 375.0             400.0   manual   \n",
       "\n",
       "                            p_weight  p_travel_sec  ...  \\\n",
       "trace_name                                          ...   \n",
       "KAN08.GS_20150408005359_EV      0.63          0.78  ...   \n",
       "\n",
       "                            source_magnitude_type source_magnitude_author  \\\n",
       "trace_name                                                                  \n",
       "KAN08.GS_20150408005359_EV                     ml                    ISMP   \n",
       "\n",
       "                            source_mechanism_strike_dip_rake  \\\n",
       "trace_name                                                     \n",
       "KAN08.GS_20150408005359_EV                              None   \n",
       "\n",
       "                           source_distance_deg source_distance_km  \\\n",
       "trace_name                                                          \n",
       "KAN08.GS_20150408005359_EV              0.0004               0.04   \n",
       "\n",
       "                           back_azimuth_deg  \\\n",
       "trace_name                                    \n",
       "KAN08.GS_20150408005359_EV            166.8   \n",
       "\n",
       "                                                           snr_db  \\\n",
       "trace_name                                                          \n",
       "KAN08.GS_20150408005359_EV  [54.40000153 51.5        48.40000153]   \n",
       "\n",
       "                            coda_end_sample        trace_start_time  \\\n",
       "trace_name                                                            \n",
       "KAN08.GS_20150408005359_EV        [[1052.]] 2015-04-08 00:54:00.800   \n",
       "\n",
       "                              trace_category  \n",
       "trace_name                                    \n",
       "KAN08.GS_20150408005359_EV  earthquake_local  \n",
       "\n",
       "[1 rows x 34 columns]"
      ]
     },
     "execution_count": 39,
     "metadata": {},
     "output_type": "execute_result"
    }
   ],
   "source": [
    "df_test_closest"
   ]
  },
  {
   "cell_type": "code",
   "execution_count": null,
   "metadata": {},
   "outputs": [],
   "source": []
  }
 ],
 "metadata": {
  "interpreter": {
   "hash": "031a9bbd11e4d60f7ad627af8532c4f804cff37576b4e93c1ce2d4ef3d0c789d"
  },
  "kernelspec": {
   "display_name": "Python 3.8.8 ('base')",
   "language": "python",
   "name": "python3"
  },
  "language_info": {
   "codemirror_mode": {
    "name": "ipython",
    "version": 3
   },
   "file_extension": ".py",
   "mimetype": "text/x-python",
   "name": "python",
   "nbconvert_exporter": "python",
   "pygments_lexer": "ipython3",
   "version": "3.8.8"
  },
  "orig_nbformat": 4
 },
 "nbformat": 4,
 "nbformat_minor": 2
}
