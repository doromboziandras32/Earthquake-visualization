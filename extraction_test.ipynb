{
 "cells": [
  {
   "cell_type": "code",
   "execution_count": 6,
   "metadata": {},
   "outputs": [
    {
     "ename": "FDSNNoDataException",
     "evalue": "No data available for request.\nDetailed response of server:\n\n",
     "output_type": "error",
     "traceback": [
      "\u001b[1;31m---------------------------------------------------------------------------\u001b[0m",
      "\u001b[1;31mFDSNNoDataException\u001b[0m                       Traceback (most recent call last)",
      "\u001b[1;32mc:\\Users\\Andras\\TU\\interdisciplinary\\Project_ver0\\Interdisciplinary\\extraction_test.ipynb Cell 1'\u001b[0m in \u001b[0;36m<cell line: 6>\u001b[1;34m()\u001b[0m\n\u001b[0;32m      <a href='vscode-notebook-cell:/c%3A/Users/Andras/TU/interdisciplinary/Project_ver0/Interdisciplinary/extraction_test.ipynb#ch0000000?line=3'>4</a>\u001b[0m starttime \u001b[39m=\u001b[39m UTCDateTime(\u001b[39m\"\u001b[39m\u001b[39m2016-01-01\u001b[39m\u001b[39m\"\u001b[39m)\n\u001b[0;32m      <a href='vscode-notebook-cell:/c%3A/Users/Andras/TU/interdisciplinary/Project_ver0/Interdisciplinary/extraction_test.ipynb#ch0000000?line=4'>5</a>\u001b[0m endtime \u001b[39m=\u001b[39m UTCDateTime(\u001b[39m\"\u001b[39m\u001b[39m2022-01-02\u001b[39m\u001b[39m\"\u001b[39m)\n\u001b[1;32m----> <a href='vscode-notebook-cell:/c%3A/Users/Andras/TU/interdisciplinary/Project_ver0/Interdisciplinary/extraction_test.ipynb#ch0000000?line=5'>6</a>\u001b[0m cat \u001b[39m=\u001b[39m client\u001b[39m.\u001b[39;49mget_events(starttime\u001b[39m=\u001b[39;49mstarttime, endtime\u001b[39m=\u001b[39;49mendtime,\n\u001b[0;32m      <a href='vscode-notebook-cell:/c%3A/Users/Andras/TU/interdisciplinary/Project_ver0/Interdisciplinary/extraction_test.ipynb#ch0000000?line=6'>7</a>\u001b[0m                         minmagnitude\u001b[39m=\u001b[39;49m\u001b[39m0\u001b[39;49m, catalog\u001b[39m=\u001b[39;49m\u001b[39m\"\u001b[39;49m\u001b[39mISC\u001b[39;49m\u001b[39m\"\u001b[39;49m)\n",
      "File \u001b[1;32m~\\.conda\\envs\\interdiciplinary_deploy\\lib\\site-packages\\obspy\\clients\\fdsn\\client.py:527\u001b[0m, in \u001b[0;36mClient.get_events\u001b[1;34m(self, starttime, endtime, minlatitude, maxlatitude, minlongitude, maxlongitude, latitude, longitude, minradius, maxradius, mindepth, maxdepth, minmagnitude, maxmagnitude, magnitudetype, includeallorigins, includeallmagnitudes, includearrivals, eventid, limit, offset, orderby, catalog, contributor, updatedafter, filename, **kwargs)\u001b[0m\n\u001b[0;32m    <a href='file:///c%3A/Users/Andras/.conda/envs/interdiciplinary_deploy/lib/site-packages/obspy/clients/fdsn/client.py?line=521'>522</a>\u001b[0m setup_query_dict(\u001b[39m'\u001b[39m\u001b[39mevent\u001b[39m\u001b[39m'\u001b[39m, locs, kwargs)\n\u001b[0;32m    <a href='file:///c%3A/Users/Andras/.conda/envs/interdiciplinary_deploy/lib/site-packages/obspy/clients/fdsn/client.py?line=523'>524</a>\u001b[0m url \u001b[39m=\u001b[39m \u001b[39mself\u001b[39m\u001b[39m.\u001b[39m_create_url_from_parameters(\n\u001b[0;32m    <a href='file:///c%3A/Users/Andras/.conda/envs/interdiciplinary_deploy/lib/site-packages/obspy/clients/fdsn/client.py?line=524'>525</a>\u001b[0m     \u001b[39m\"\u001b[39m\u001b[39mevent\u001b[39m\u001b[39m\"\u001b[39m, DEFAULT_PARAMETERS[\u001b[39m'\u001b[39m\u001b[39mevent\u001b[39m\u001b[39m'\u001b[39m], kwargs)\n\u001b[1;32m--> <a href='file:///c%3A/Users/Andras/.conda/envs/interdiciplinary_deploy/lib/site-packages/obspy/clients/fdsn/client.py?line=526'>527</a>\u001b[0m data_stream \u001b[39m=\u001b[39m \u001b[39mself\u001b[39;49m\u001b[39m.\u001b[39;49m_download(url)\n\u001b[0;32m    <a href='file:///c%3A/Users/Andras/.conda/envs/interdiciplinary_deploy/lib/site-packages/obspy/clients/fdsn/client.py?line=527'>528</a>\u001b[0m data_stream\u001b[39m.\u001b[39mseek(\u001b[39m0\u001b[39m, \u001b[39m0\u001b[39m)\n\u001b[0;32m    <a href='file:///c%3A/Users/Andras/.conda/envs/interdiciplinary_deploy/lib/site-packages/obspy/clients/fdsn/client.py?line=528'>529</a>\u001b[0m \u001b[39mif\u001b[39;00m filename:\n",
      "File \u001b[1;32m~\\.conda\\envs\\interdiciplinary_deploy\\lib\\site-packages\\obspy\\clients\\fdsn\\client.py:1397\u001b[0m, in \u001b[0;36mClient._download\u001b[1;34m(self, url, return_string, data, use_gzip)\u001b[0m\n\u001b[0;32m   <a href='file:///c%3A/Users/Andras/.conda/envs/interdiciplinary_deploy/lib/site-packages/obspy/clients/fdsn/client.py?line=1391'>1392</a>\u001b[0m \u001b[39mdef\u001b[39;00m \u001b[39m_download\u001b[39m(\u001b[39mself\u001b[39m, url, return_string\u001b[39m=\u001b[39m\u001b[39mFalse\u001b[39;00m, data\u001b[39m=\u001b[39m\u001b[39mNone\u001b[39;00m, use_gzip\u001b[39m=\u001b[39m\u001b[39mTrue\u001b[39;00m):\n\u001b[0;32m   <a href='file:///c%3A/Users/Andras/.conda/envs/interdiciplinary_deploy/lib/site-packages/obspy/clients/fdsn/client.py?line=1392'>1393</a>\u001b[0m     code, data \u001b[39m=\u001b[39m download_url(\n\u001b[0;32m   <a href='file:///c%3A/Users/Andras/.conda/envs/interdiciplinary_deploy/lib/site-packages/obspy/clients/fdsn/client.py?line=1393'>1394</a>\u001b[0m         url, opener\u001b[39m=\u001b[39m\u001b[39mself\u001b[39m\u001b[39m.\u001b[39m_url_opener, headers\u001b[39m=\u001b[39m\u001b[39mself\u001b[39m\u001b[39m.\u001b[39mrequest_headers,\n\u001b[0;32m   <a href='file:///c%3A/Users/Andras/.conda/envs/interdiciplinary_deploy/lib/site-packages/obspy/clients/fdsn/client.py?line=1394'>1395</a>\u001b[0m         debug\u001b[39m=\u001b[39m\u001b[39mself\u001b[39m\u001b[39m.\u001b[39mdebug, return_string\u001b[39m=\u001b[39mreturn_string, data\u001b[39m=\u001b[39mdata,\n\u001b[0;32m   <a href='file:///c%3A/Users/Andras/.conda/envs/interdiciplinary_deploy/lib/site-packages/obspy/clients/fdsn/client.py?line=1395'>1396</a>\u001b[0m         timeout\u001b[39m=\u001b[39m\u001b[39mself\u001b[39m\u001b[39m.\u001b[39mtimeout, use_gzip\u001b[39m=\u001b[39muse_gzip)\n\u001b[1;32m-> <a href='file:///c%3A/Users/Andras/.conda/envs/interdiciplinary_deploy/lib/site-packages/obspy/clients/fdsn/client.py?line=1396'>1397</a>\u001b[0m     raise_on_error(code, data)\n\u001b[0;32m   <a href='file:///c%3A/Users/Andras/.conda/envs/interdiciplinary_deploy/lib/site-packages/obspy/clients/fdsn/client.py?line=1397'>1398</a>\u001b[0m     \u001b[39mreturn\u001b[39;00m data\n",
      "File \u001b[1;32m~\\.conda\\envs\\interdiciplinary_deploy\\lib\\site-packages\\obspy\\clients\\fdsn\\client.py:1722\u001b[0m, in \u001b[0;36mraise_on_error\u001b[1;34m(code, data)\u001b[0m\n\u001b[0;32m   <a href='file:///c%3A/Users/Andras/.conda/envs/interdiciplinary_deploy/lib/site-packages/obspy/clients/fdsn/client.py?line=1719'>1720</a>\u001b[0m \u001b[39m# No data.\u001b[39;00m\n\u001b[0;32m   <a href='file:///c%3A/Users/Andras/.conda/envs/interdiciplinary_deploy/lib/site-packages/obspy/clients/fdsn/client.py?line=1720'>1721</a>\u001b[0m \u001b[39mif\u001b[39;00m code \u001b[39m==\u001b[39m \u001b[39m204\u001b[39m:\n\u001b[1;32m-> <a href='file:///c%3A/Users/Andras/.conda/envs/interdiciplinary_deploy/lib/site-packages/obspy/clients/fdsn/client.py?line=1721'>1722</a>\u001b[0m     \u001b[39mraise\u001b[39;00m FDSNNoDataException(\u001b[39m\"\u001b[39m\u001b[39mNo data available for request.\u001b[39m\u001b[39m\"\u001b[39m,\n\u001b[0;32m   <a href='file:///c%3A/Users/Andras/.conda/envs/interdiciplinary_deploy/lib/site-packages/obspy/clients/fdsn/client.py?line=1722'>1723</a>\u001b[0m                               server_info)\n\u001b[0;32m   <a href='file:///c%3A/Users/Andras/.conda/envs/interdiciplinary_deploy/lib/site-packages/obspy/clients/fdsn/client.py?line=1723'>1724</a>\u001b[0m \u001b[39melif\u001b[39;00m code \u001b[39m==\u001b[39m \u001b[39m400\u001b[39m:\n\u001b[0;32m   <a href='file:///c%3A/Users/Andras/.conda/envs/interdiciplinary_deploy/lib/site-packages/obspy/clients/fdsn/client.py?line=1724'>1725</a>\u001b[0m     msg \u001b[39m=\u001b[39m (\u001b[39m\"\u001b[39m\u001b[39mBad request. If you think your request was valid \u001b[39m\u001b[39m\"\u001b[39m\n\u001b[0;32m   <a href='file:///c%3A/Users/Andras/.conda/envs/interdiciplinary_deploy/lib/site-packages/obspy/clients/fdsn/client.py?line=1725'>1726</a>\u001b[0m            \u001b[39m\"\u001b[39m\u001b[39mplease contact the developers.\u001b[39m\u001b[39m\"\u001b[39m)\n",
      "\u001b[1;31mFDSNNoDataException\u001b[0m: No data available for request.\nDetailed response of server:\n\n"
     ]
    }
   ],
   "source": [
    "from obspy.clients.fdsn import Client\n",
    "client = Client(\"IRIS\")\n",
    "from obspy import UTCDateTime\n",
    "starttime = UTCDateTime(\"2016-01-01\")\n",
    "endtime = UTCDateTime(\"2022-01-02\")\n",
    "cat = client.get_events(starttime=starttime, endtime=endtime,\n",
    "                        minmagnitude=0, catalog=\"IRIS        \")"
   ]
  },
  {
   "cell_type": "code",
   "execution_count": null,
   "metadata": {},
   "outputs": [
    {
     "ename": "NameError",
     "evalue": "name 'cat' is not defined",
     "output_type": "error",
     "traceback": [
      "\u001b[1;31m---------------------------------------------------------------------------\u001b[0m",
      "\u001b[1;31mNameError\u001b[0m                                 Traceback (most recent call last)",
      "\u001b[1;32mc:\\Users\\Andras\\TU\\interdisciplinary\\Project_ver0\\Interdisciplinary\\extraction_test.ipynb Cell 2'\u001b[0m in \u001b[0;36m<cell line: 1>\u001b[1;34m()\u001b[0m\n\u001b[1;32m----> <a href='vscode-notebook-cell:/c%3A/Users/Andras/TU/interdisciplinary/Project_ver0/Interdisciplinary/extraction_test.ipynb#ch0000004?line=0'>1</a>\u001b[0m cat\n",
      "\u001b[1;31mNameError\u001b[0m: name 'cat' is not defined"
     ]
    }
   ],
   "source": [
    "cat"
   ]
  },
  {
   "cell_type": "code",
   "execution_count": null,
   "metadata": {},
   "outputs": [
    {
     "data": {
      "text/plain": [
       "1099 Event(s) in Catalog:\n",
       "2002-01-01T11:29:22.720000Z |  +6.282, +125.749 | 6.3 MW\n",
       "2002-01-01T07:28:57.480000Z | +36.991,  +72.336 | 6.3 Mb\n",
       "...\n",
       "1994-01-04T19:31:59.890000Z |  -4.319, +135.161 | 6.0 mw\n",
       "1994-01-03T13:24:13.760000Z | -49.023, +164.638 | 6.1 mw\n",
       "To see all events call 'print(CatalogObject.__str__(print_all=True))'"
      ]
     },
     "execution_count": 6,
     "metadata": {},
     "output_type": "execute_result"
    }
   ],
   "source": [
    "cat"
   ]
  },
  {
   "cell_type": "code",
   "execution_count": null,
   "metadata": {},
   "outputs": [
    {
     "data": {
      "text/plain": [
       "Event:\t2002-01-01T11:29:22.720000Z |  +6.282, +125.749 | 6.3 MW\n",
       "\n",
       "\t            resource_id: ResourceIdentifier(id=\"smi:service.iris.edu/fdsnws/event/1/query?eventid=1237407\")\n",
       "\t             event_type: 'earthquake'\n",
       "\t    preferred_origin_id: ResourceIdentifier(id=\"smi:service.iris.edu/fdsnws/event/1/query?originid=3110321\")\n",
       "\t preferred_magnitude_id: ResourceIdentifier(id=\"smi:service.iris.edu/fdsnws/event/1/query?magnitudeid=16655792\")\n",
       "\t                   ---------\n",
       "\t     event_descriptions: 1 Elements\n",
       "\t                origins: 1 Elements\n",
       "\t             magnitudes: 1 Elements"
      ]
     },
     "execution_count": 4,
     "metadata": {},
     "output_type": "execute_result"
    }
   ],
   "source": [
    "cat[0]"
   ]
  },
  {
   "cell_type": "code",
   "execution_count": null,
   "metadata": {},
   "outputs": [],
   "source": []
  }
 ],
 "metadata": {
  "interpreter": {
   "hash": "039fee3eb7e209655f3b47e3b9c125dc8493e6ad5004fe9b652394c4da7015df"
  },
  "kernelspec": {
   "display_name": "Python 3.8.13 ('interdiciplinary_deploy')",
   "language": "python",
   "name": "python3"
  },
  "language_info": {
   "codemirror_mode": {
    "name": "ipython",
    "version": 3
   },
   "file_extension": ".py",
   "mimetype": "text/x-python",
   "name": "python",
   "nbconvert_exporter": "python",
   "pygments_lexer": "ipython3",
   "version": "3.8.13"
  },
  "orig_nbformat": 4
 },
 "nbformat": 4,
 "nbformat_minor": 2
}
