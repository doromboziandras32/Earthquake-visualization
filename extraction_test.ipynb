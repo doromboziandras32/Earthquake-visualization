{
 "cells": [
  {
   "cell_type": "code",
   "execution_count": 12,
   "metadata": {},
   "outputs": [],
   "source": [
    "from obspy.clients.fdsn import Client\n",
    "#NEIC PDE, ISC, GCMT\n",
    "client = Client(\"IRIS\")\n",
    "from obspy import UTCDateTime\n",
    "starttime = UTCDateTime(\"2018-01-01\")\n",
    "endtime = UTCDateTime(\"2022-01-02\")\n",
    "cat = client.get_events(starttime=starttime, endtime=endtime,\n",
    "                         catalog = 'NEIC PDE')"
   ]
  },
  {
   "cell_type": "code",
   "execution_count": null,
   "metadata": {},
   "outputs": [],
   "source": [
    "#GCMT\n",
    "#minmagnitude=0,"
   ]
  },
  {
   "cell_type": "code",
   "execution_count": 3,
   "metadata": {},
   "outputs": [
    {
     "name": "stdout",
     "output_type": "stream",
     "text": [
      "FDSN Webservice Client (base url: http://service.iris.edu)\n",
      "Available Services: 'dataselect' (v1.1.9), 'event' (v1.1.13), 'station' (v1.1.48), 'available_event_catalogs', 'available_event_contributors'\n",
      "\n",
      "Use e.g. client.help('dataselect') for the\n",
      "parameter description of the individual services\n",
      "or client.help() for parameter description of\n",
      "all webservices.\n"
     ]
    }
   ],
   "source": [
    "print(client)"
   ]
  },
  {
   "cell_type": "code",
   "execution_count": 6,
   "metadata": {},
   "outputs": [
    {
     "name": "stdout",
     "output_type": "stream",
     "text": [
      "Parameter description for the 'dataselect' service (v1.1.9) of 'http://service.iris.edu':\n",
      "The service offers the following optional standard parameters:\n",
      "    quality (str), Default value: B, Choices: D, R, Q, M, B\n",
      "    minimumlength (float)\n",
      "    longestonly (bool)\n",
      "Parameter description for the 'station' service (v1.1.48) of 'http://service.iris.edu':\n",
      "The service offers the following optional standard parameters:\n",
      "    startbefore (UTCDateTime)\n",
      "        limit to stations starting before the specified time\n",
      "    startafter (UTCDateTime)\n",
      "        limit to stations starting after the specified time\n",
      "    endbefore (UTCDateTime)\n",
      "        limit to stations ending before the specified time\n",
      "    endafter (UTCDateTime)\n",
      "        limit to stations ending after the specified time\n",
      "    latitude (float)\n",
      "        Specify the central latitude point for a radial search\n",
      "    longitude (float)\n",
      "        Specify the central longitude point for a radial search\n",
      "    minradius (float)\n",
      "        Specify maximum distance from the geographic point defined by latitude\n",
      "        and longitude\n",
      "    maxradius (float), Default value: 180.0\n",
      "        Specify minimum distance from the geographic point defined by latitude\n",
      "        and longitude\n",
      "    includerestricted (bool), Default value: True\n",
      "    includeavailability (bool)\n",
      "        Specify if results should include information about time series data\n",
      "        availability.\n",
      "    updatedafter (UTCDateTime)\n",
      "        Limit to metadata updated after specified date; updates are data center\n",
      "        specific\n",
      "    matchtimeseries (bool)\n",
      "        Specify that the availabilities line up with available data. This is an\n",
      "        IRIS extension to the FDSN specification\n",
      "    format (str), Default value: xml, Choices: xml, text\n",
      "        Specify output format. This is an IRIS extension to the FDSN\n",
      "        specification\n",
      "Parameter description for the 'event' service (v1.1.13) of 'http://service.iris.edu':\n",
      "The service offers the following optional standard parameters:\n",
      "    latitude (float)\n",
      "        Specify the central latitude point for a radial search\n",
      "    longitude (float)\n",
      "        Specify the central longitude point for a radial search\n",
      "    minradius (float)\n",
      "        Specify minimum distance from the geographic point defined by latitude\n",
      "        and longitude\n",
      "    maxradius (float), Default value: 180.0\n",
      "        Specify maximum distance from the geographic point defined by latitude\n",
      "        and longitude\n",
      "    magnitudetype (str)\n",
      "        type of Magnitude used to test minimum and maximum limits (case\n",
      "        insensitive)\n",
      "    includeallorigins (bool)\n",
      "        Retrieve all origins or only the primary origin associated with each\n",
      "        event in a catalog\n",
      "    includeallmagnitudes (bool)\n",
      "        Retrieve all magnitudes for the event, or only the primary magnitude\n",
      "        from within the catalog\n",
      "    includearrivals (bool)\n",
      "        Specify if phase arrivals should be included\n",
      "    eventid (str)\n",
      "        Retrieve an event based on the unique ID numbers assigned by the IRIS\n",
      "        DMC\n",
      "    limit (int)\n",
      "        Limit the results to the specified number of events\n",
      "    offset (int), Default value: 1\n",
      "        Return results starting at the event count specified\n",
      "    catalog (str), Default value: NEIC+PDE\n",
      "        Specify the catalog from which origins and magnitudes will be retrieved\n",
      "    contributor (str)\n",
      "        Limit to events contributed by a specified contributor\n",
      "    updatedafter (UTCDateTime)\n",
      "        Limit to events updated after the specified time\n",
      "The service offers the following non-standard parameters:\n",
      "    format (str), Default value: xml, Choices: xml, text\n",
      "        Specify output format. This is an IRIS extension to the FDSN\n",
      "        specification\n",
      "    originid (str)\n",
      "        Retrieve an event based on the unique origin ID numbers assigned by the\n",
      "        IRIS DMC\n",
      "Available catalogs: NEIC PDE, ISC, GCMT\n",
      "Available contributors: LD, pr,us, GEN, us_buc, TAP, SJR, us_gcg, gii, uw, DHMR, OGSO, W, sja, AEIC, ROM, us_teh, HVO, official, SNM, car, J, SPEC, us_ott, BSE, CLE, GUC, us_wel, us_isk, ismpkansas, mdd, SNET, us_inmg, MPR, sof, SOF, us_ath, wel, O, dja, NM, THE, unm, MB, HV, NSSP, ath, rom, INMG, nn, ew, U, R, nm, TUL, TVA, CSS, C, ZAG, WEL, ismp, us_sja, spec, tul, ak,us, se, us_unm, ZUR, M, DMN, pt, BER, ALG, UW, at, SPE, lim, THR, TEIC, ucr, REN, AGS, T, us_the, the, us_bgs, pr, buc, HLW, NC, RSNC, us_car, JMA, PAL, CAR, SCP, SLC, WES, SDD, BLA, iscgem, AG, qui, us_pgc, BRK, GII, ok, us_hlw, us_qui, tir, STR, us_guc, G, GRF, TRN, BOU, PRE, inmg, hdc, ISC, OBN, us_ldg, us_thr, H, PGC, tap, PDA, CERI, PPT, casc, us_aust, sko, DJA, BYKL, NDI, ci, IRSA, pivs, SKO, thr, zur, zag, gcmt, UU, BHL, bdf, DOE, LJU, mb, TEI, us_mdd, CSEM, AEI, GCMT, NIC, UNM, ak, bji, PDG, US, LIM, L, nc, RYD, ZAMG, SJA, SEA, teh, WAR, BEO, snet, tx, MRB, ECX, S, nic, A, pdg, rsnc, BUT, INDR, us_snet, HON, D, DNK, trn, USBR, DDA, BGS, oh, OTT, ber, wes, GL, BUC, V, SSNC, TEH, us_tul, BDF, bgs, CI, EPT, GFU, NNC, HEL, NN, ISK, P, MAC, us_rsnc, AUST, MEL, E, ecx, rey, MDD, ld, UCR, zamg, LDG, MACR, ldg, ott, sors, TIR, FBB, aust, DBN, CASC, SE, bgrd, PAS, us_lim, us_ecx, I, HDC, isk, CSC, JSN, TRI, B, UPA, us, ATH, csem, av, QUI, UPP, GOM, RSPR, uu, FDF, HOJ, SLM, LAK, guc, BJI, hv, pgc, EXP, CNRM, ARO, us_trn, iscgemsup, us_rom\n"
     ]
    }
   ],
   "source": [
    "client.help()"
   ]
  },
  {
   "cell_type": "code",
   "execution_count": null,
   "metadata": {},
   "outputs": [
    {
     "ename": "NameError",
     "evalue": "name 'cat' is not defined",
     "output_type": "error",
     "traceback": [
      "\u001b[1;31m---------------------------------------------------------------------------\u001b[0m",
      "\u001b[1;31mNameError\u001b[0m                                 Traceback (most recent call last)",
      "\u001b[1;32mc:\\Users\\Andras\\TU\\interdisciplinary\\Project_ver0\\Interdisciplinary\\extraction_test.ipynb Cell 2'\u001b[0m in \u001b[0;36m<cell line: 1>\u001b[1;34m()\u001b[0m\n\u001b[1;32m----> <a href='vscode-notebook-cell:/c%3A/Users/Andras/TU/interdisciplinary/Project_ver0/Interdisciplinary/extraction_test.ipynb#ch0000004?line=0'>1</a>\u001b[0m cat\n",
      "\u001b[1;31mNameError\u001b[0m: name 'cat' is not defined"
     ]
    }
   ],
   "source": [
    "cat"
   ]
  },
  {
   "cell_type": "code",
   "execution_count": null,
   "metadata": {},
   "outputs": [
    {
     "data": {
      "text/plain": [
       "1099 Event(s) in Catalog:\n",
       "2002-01-01T11:29:22.720000Z |  +6.282, +125.749 | 6.3 MW\n",
       "2002-01-01T07:28:57.480000Z | +36.991,  +72.336 | 6.3 Mb\n",
       "...\n",
       "1994-01-04T19:31:59.890000Z |  -4.319, +135.161 | 6.0 mw\n",
       "1994-01-03T13:24:13.760000Z | -49.023, +164.638 | 6.1 mw\n",
       "To see all events call 'print(CatalogObject.__str__(print_all=True))'"
      ]
     },
     "execution_count": 6,
     "metadata": {},
     "output_type": "execute_result"
    }
   ],
   "source": [
    "cat"
   ]
  },
  {
   "cell_type": "code",
   "execution_count": null,
   "metadata": {},
   "outputs": [
    {
     "data": {
      "text/plain": [
       "Event:\t2002-01-01T11:29:22.720000Z |  +6.282, +125.749 | 6.3 MW\n",
       "\n",
       "\t            resource_id: ResourceIdentifier(id=\"smi:service.iris.edu/fdsnws/event/1/query?eventid=1237407\")\n",
       "\t             event_type: 'earthquake'\n",
       "\t    preferred_origin_id: ResourceIdentifier(id=\"smi:service.iris.edu/fdsnws/event/1/query?originid=3110321\")\n",
       "\t preferred_magnitude_id: ResourceIdentifier(id=\"smi:service.iris.edu/fdsnws/event/1/query?magnitudeid=16655792\")\n",
       "\t                   ---------\n",
       "\t     event_descriptions: 1 Elements\n",
       "\t                origins: 1 Elements\n",
       "\t             magnitudes: 1 Elements"
      ]
     },
     "execution_count": 4,
     "metadata": {},
     "output_type": "execute_result"
    }
   ],
   "source": [
    "cat[0]"
   ]
  },
  {
   "cell_type": "code",
   "execution_count": null,
   "metadata": {},
   "outputs": [],
   "source": []
  }
 ],
 "metadata": {
  "interpreter": {
   "hash": "039fee3eb7e209655f3b47e3b9c125dc8493e6ad5004fe9b652394c4da7015df"
  },
  "kernelspec": {
   "display_name": "Python 3.8.13 ('interdiciplinary_deploy')",
   "language": "python",
   "name": "python3"
  },
  "language_info": {
   "codemirror_mode": {
    "name": "ipython",
    "version": 3
   },
   "file_extension": ".py",
   "mimetype": "text/x-python",
   "name": "python",
   "nbconvert_exporter": "python",
   "pygments_lexer": "ipython3",
   "version": "3.8.13"
  },
  "orig_nbformat": 4
 },
 "nbformat": 4,
 "nbformat_minor": 2
}
