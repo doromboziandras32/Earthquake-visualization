{
 "cells": [
  {
   "cell_type": "code",
   "execution_count": 1,
   "metadata": {},
   "outputs": [
    {
     "name": "stdout",
     "output_type": "stream",
     "text": [
      "     World_ID                              World_RG  Archaeo_ID  \\\n",
      "0           1  Northern North America and Greenland           1   \n",
      "1           1  Northern North America and Greenland           2   \n",
      "2           1  Northern North America and Greenland           3   \n",
      "3           1  Northern North America and Greenland           4   \n",
      "4           1  Northern North America and Greenland           5   \n",
      "..        ...                                   ...         ...   \n",
      "141        16     Australia, New Zealand, Melanesia         142   \n",
      "142        16     Australia, New Zealand, Melanesia         143   \n",
      "143        17              Micronesia and Polynesia         144   \n",
      "144        17              Micronesia and Polynesia         145   \n",
      "145        17              Micronesia and Polynesia         146   \n",
      "\n",
      "                Archaeo_RG  Total_Area   Land_Area  \\\n",
      "0                   Alaska  1499260.00  1492600.00   \n",
      "1          Yukon Territory   482548.00   482179.00   \n",
      "2    Northwest Territories  1342540.00  1277000.00   \n",
      "3                  Nunavut  2069700.00  2056380.00   \n",
      "4         British Columbia   943566.00   940882.00   \n",
      "..                     ...         ...         ...   \n",
      "141              Melanesia    76932.60    76932.60   \n",
      "142            New Zealand   268010.00   267193.00   \n",
      "143             Micronesia     2577.49     2577.49   \n",
      "144              Polynesia     9902.43     9902.43   \n",
      "145                 Hawaii    16940.30    16940.30   \n",
      "\n",
      "                                              geometry  \n",
      "0    MULTIPOLYGON (((-14146170.873 6198852.535, -14...  \n",
      "1    MULTIPOLYGON (((-9332421.098 7719687.669, -933...  \n",
      "2    MULTIPOLYGON (((-9067439.093 7686930.768, -906...  \n",
      "3    MULTIPOLYGON (((-6223275.813 6275963.631, -622...  \n",
      "4    MULTIPOLYGON (((-9928444.846 5934385.201, -992...  \n",
      "..                                                 ...  \n",
      "141  MULTIPOLYGON (((15262253.321 -2932181.997, 152...  \n",
      "142  MULTIPOLYGON (((12215283.240 -6529970.448, 122...  \n",
      "143  MULTIPOLYGON (((16618061.436 -349785.720, 1661...  \n",
      "144  MULTIPOLYGON (((-14587862.069 -5484783.307, -1...  \n",
      "145  MULTIPOLYGON (((-15667612.399 2185410.142, -15...  \n",
      "\n",
      "[146 rows x 7 columns]\n"
     ]
    }
   ],
   "source": [
    "import geopandas as gpd\n",
    "\n",
    "shapefile = gpd.read_file(\"archaeglobe/ArchaeGLOBE_Regions.shp\")\n",
    "print(shapefile)"
   ]
  },
  {
   "cell_type": "code",
   "execution_count": 16,
   "metadata": {},
   "outputs": [
    {
     "data": {
      "text/plain": [
       "146"
      ]
     },
     "execution_count": 16,
     "metadata": {},
     "output_type": "execute_result"
    }
   ],
   "source": []
  },
  {
   "cell_type": "code",
   "execution_count": 36,
   "metadata": {},
   "outputs": [],
   "source": [
    "import numpy as np\n",
    "rand_nums = np.random.randint(0,high=1000,size=len(shapefile))"
   ]
  },
  {
   "cell_type": "code",
   "execution_count": 37,
   "metadata": {},
   "outputs": [],
   "source": [
    "#shapefile['density_test'] = rand_nums\n",
    "shapefile['density'] = rand_nums\n"
   ]
  },
  {
   "cell_type": "code",
   "execution_count": 39,
   "metadata": {},
   "outputs": [
    {
     "data": {
      "text/plain": [
       "0      372\n",
       "1      290\n",
       "2      855\n",
       "3      183\n",
       "4      605\n",
       "      ... \n",
       "141    411\n",
       "142    687\n",
       "143    371\n",
       "144    677\n",
       "145    491\n",
       "Name: density, Length: 146, dtype: int32"
      ]
     },
     "execution_count": 39,
     "metadata": {},
     "output_type": "execute_result"
    }
   ],
   "source": [
    "shapefile['density']"
   ]
  },
  {
   "cell_type": "code",
   "execution_count": 14,
   "metadata": {},
   "outputs": [
    {
     "data": {
      "text/plain": [
       "(<shapely.geometry.polygon.Polygon at 0x1f93e4122b0>,\n",
       " <shapely.geometry.polygon.Polygon at 0x1f93e4124c0>)"
      ]
     },
     "execution_count": 14,
     "metadata": {},
     "output_type": "execute_result"
    }
   ],
   "source": [
    "shapefile['geometry'][0][0],shapefile['geometry'][0][1]"
   ]
  },
  {
   "cell_type": "code",
   "execution_count": null,
   "metadata": {},
   "outputs": [],
   "source": []
  },
  {
   "cell_type": "code",
   "execution_count": 4,
   "metadata": {},
   "outputs": [],
   "source": [
    "import pandas as pd"
   ]
  },
  {
   "cell_type": "code",
   "execution_count": 5,
   "metadata": {},
   "outputs": [],
   "source": [
    "regions_df = pd.DataFrame(shapefile)"
   ]
  },
  {
   "cell_type": "code",
   "execution_count": 21,
   "metadata": {},
   "outputs": [],
   "source": [
    "#shapefile.to_json('geo_areas_with_random_density_test.json')"
   ]
  },
  {
   "cell_type": "code",
   "execution_count": 7,
   "metadata": {},
   "outputs": [],
   "source": [
    "#regions_df.to_csv('regions_geometry_df.csv')"
   ]
  },
  {
   "cell_type": "code",
   "execution_count": 28,
   "metadata": {},
   "outputs": [],
   "source": [
    "shapefile['boundary'] = shapefile['geometry'].boundary"
   ]
  },
  {
   "cell_type": "code",
   "execution_count": 33,
   "metadata": {},
   "outputs": [],
   "source": [
    "shapefile.drop(columns='boundary', inplace=True)\n",
    "shapefile.to_csv('regions_geometry_df.csv')"
   ]
  },
  {
   "cell_type": "code",
   "execution_count": 38,
   "metadata": {},
   "outputs": [
    {
     "name": "stderr",
     "output_type": "stream",
     "text": [
      "C:\\Users\\Andras\\.conda\\envs\\geopandas\\lib\\site-packages\\geopandas\\io\\file.py:299: FutureWarning: pandas.Int64Index is deprecated and will be removed from pandas in a future version. Use pandas.Index with the appropriate dtype instead.\n",
      "  pd.Int64Index,\n"
     ]
    }
   ],
   "source": [
    "shapefile.to_file('regions_geometry_geojson.geojson', driver='GeoJSON')  "
   ]
  },
  {
   "cell_type": "code",
   "execution_count": 40,
   "metadata": {},
   "outputs": [],
   "source": [
    "df = gpd.read_file('regions_geometry_geojson.geojson')"
   ]
  },
  {
   "cell_type": "code",
   "execution_count": 41,
   "metadata": {},
   "outputs": [
    {
     "data": {
      "text/html": [
       "<div>\n",
       "<style scoped>\n",
       "    .dataframe tbody tr th:only-of-type {\n",
       "        vertical-align: middle;\n",
       "    }\n",
       "\n",
       "    .dataframe tbody tr th {\n",
       "        vertical-align: top;\n",
       "    }\n",
       "\n",
       "    .dataframe thead th {\n",
       "        text-align: right;\n",
       "    }\n",
       "</style>\n",
       "<table border=\"1\" class=\"dataframe\">\n",
       "  <thead>\n",
       "    <tr style=\"text-align: right;\">\n",
       "      <th></th>\n",
       "      <th>World_ID</th>\n",
       "      <th>World_RG</th>\n",
       "      <th>Archaeo_ID</th>\n",
       "      <th>Archaeo_RG</th>\n",
       "      <th>Total_Area</th>\n",
       "      <th>Land_Area</th>\n",
       "      <th>density_test</th>\n",
       "      <th>density</th>\n",
       "      <th>geometry</th>\n",
       "    </tr>\n",
       "  </thead>\n",
       "  <tbody>\n",
       "    <tr>\n",
       "      <th>0</th>\n",
       "      <td>1</td>\n",
       "      <td>Northern North America and Greenland</td>\n",
       "      <td>1</td>\n",
       "      <td>Alaska</td>\n",
       "      <td>1499260.00</td>\n",
       "      <td>1492600.00</td>\n",
       "      <td>0.373829</td>\n",
       "      <td>372</td>\n",
       "      <td>MULTIPOLYGON (((-14146170.873 6198852.535, -14...</td>\n",
       "    </tr>\n",
       "    <tr>\n",
       "      <th>1</th>\n",
       "      <td>1</td>\n",
       "      <td>Northern North America and Greenland</td>\n",
       "      <td>2</td>\n",
       "      <td>Yukon Territory</td>\n",
       "      <td>482548.00</td>\n",
       "      <td>482179.00</td>\n",
       "      <td>0.996613</td>\n",
       "      <td>290</td>\n",
       "      <td>MULTIPOLYGON (((-9332421.098 7719687.669, -933...</td>\n",
       "    </tr>\n",
       "    <tr>\n",
       "      <th>2</th>\n",
       "      <td>1</td>\n",
       "      <td>Northern North America and Greenland</td>\n",
       "      <td>3</td>\n",
       "      <td>Northwest Territories</td>\n",
       "      <td>1342540.00</td>\n",
       "      <td>1277000.00</td>\n",
       "      <td>0.094400</td>\n",
       "      <td>855</td>\n",
       "      <td>MULTIPOLYGON (((-9067439.093 7686930.768, -906...</td>\n",
       "    </tr>\n",
       "    <tr>\n",
       "      <th>3</th>\n",
       "      <td>1</td>\n",
       "      <td>Northern North America and Greenland</td>\n",
       "      <td>4</td>\n",
       "      <td>Nunavut</td>\n",
       "      <td>2069700.00</td>\n",
       "      <td>2056380.00</td>\n",
       "      <td>0.136611</td>\n",
       "      <td>183</td>\n",
       "      <td>MULTIPOLYGON (((-6223275.813 6275963.631, -622...</td>\n",
       "    </tr>\n",
       "    <tr>\n",
       "      <th>4</th>\n",
       "      <td>1</td>\n",
       "      <td>Northern North America and Greenland</td>\n",
       "      <td>5</td>\n",
       "      <td>British Columbia</td>\n",
       "      <td>943566.00</td>\n",
       "      <td>940882.00</td>\n",
       "      <td>0.019685</td>\n",
       "      <td>605</td>\n",
       "      <td>MULTIPOLYGON (((-9928444.846 5934385.201, -992...</td>\n",
       "    </tr>\n",
       "    <tr>\n",
       "      <th>...</th>\n",
       "      <td>...</td>\n",
       "      <td>...</td>\n",
       "      <td>...</td>\n",
       "      <td>...</td>\n",
       "      <td>...</td>\n",
       "      <td>...</td>\n",
       "      <td>...</td>\n",
       "      <td>...</td>\n",
       "      <td>...</td>\n",
       "    </tr>\n",
       "    <tr>\n",
       "      <th>141</th>\n",
       "      <td>16</td>\n",
       "      <td>Australia, New Zealand, Melanesia</td>\n",
       "      <td>142</td>\n",
       "      <td>Melanesia</td>\n",
       "      <td>76932.60</td>\n",
       "      <td>76932.60</td>\n",
       "      <td>0.175781</td>\n",
       "      <td>411</td>\n",
       "      <td>MULTIPOLYGON (((15262253.321 -2932181.997, 152...</td>\n",
       "    </tr>\n",
       "    <tr>\n",
       "      <th>142</th>\n",
       "      <td>16</td>\n",
       "      <td>Australia, New Zealand, Melanesia</td>\n",
       "      <td>143</td>\n",
       "      <td>New Zealand</td>\n",
       "      <td>268010.00</td>\n",
       "      <td>267193.00</td>\n",
       "      <td>0.619151</td>\n",
       "      <td>687</td>\n",
       "      <td>MULTIPOLYGON (((12215283.240 -6529970.448, 122...</td>\n",
       "    </tr>\n",
       "    <tr>\n",
       "      <th>143</th>\n",
       "      <td>17</td>\n",
       "      <td>Micronesia and Polynesia</td>\n",
       "      <td>144</td>\n",
       "      <td>Micronesia</td>\n",
       "      <td>2577.49</td>\n",
       "      <td>2577.49</td>\n",
       "      <td>0.086792</td>\n",
       "      <td>371</td>\n",
       "      <td>MULTIPOLYGON (((16618061.436 -349785.720, 1661...</td>\n",
       "    </tr>\n",
       "    <tr>\n",
       "      <th>144</th>\n",
       "      <td>17</td>\n",
       "      <td>Micronesia and Polynesia</td>\n",
       "      <td>145</td>\n",
       "      <td>Polynesia</td>\n",
       "      <td>9902.43</td>\n",
       "      <td>9902.43</td>\n",
       "      <td>0.624889</td>\n",
       "      <td>677</td>\n",
       "      <td>MULTIPOLYGON (((-14587862.069 -5484783.307, -1...</td>\n",
       "    </tr>\n",
       "    <tr>\n",
       "      <th>145</th>\n",
       "      <td>17</td>\n",
       "      <td>Micronesia and Polynesia</td>\n",
       "      <td>146</td>\n",
       "      <td>Hawaii</td>\n",
       "      <td>16940.30</td>\n",
       "      <td>16940.30</td>\n",
       "      <td>0.559474</td>\n",
       "      <td>491</td>\n",
       "      <td>MULTIPOLYGON (((-15667612.399 2185410.142, -15...</td>\n",
       "    </tr>\n",
       "  </tbody>\n",
       "</table>\n",
       "<p>146 rows × 9 columns</p>\n",
       "</div>"
      ],
      "text/plain": [
       "     World_ID                              World_RG  Archaeo_ID  \\\n",
       "0           1  Northern North America and Greenland           1   \n",
       "1           1  Northern North America and Greenland           2   \n",
       "2           1  Northern North America and Greenland           3   \n",
       "3           1  Northern North America and Greenland           4   \n",
       "4           1  Northern North America and Greenland           5   \n",
       "..        ...                                   ...         ...   \n",
       "141        16     Australia, New Zealand, Melanesia         142   \n",
       "142        16     Australia, New Zealand, Melanesia         143   \n",
       "143        17              Micronesia and Polynesia         144   \n",
       "144        17              Micronesia and Polynesia         145   \n",
       "145        17              Micronesia and Polynesia         146   \n",
       "\n",
       "                Archaeo_RG  Total_Area   Land_Area  density_test  density  \\\n",
       "0                   Alaska  1499260.00  1492600.00      0.373829      372   \n",
       "1          Yukon Territory   482548.00   482179.00      0.996613      290   \n",
       "2    Northwest Territories  1342540.00  1277000.00      0.094400      855   \n",
       "3                  Nunavut  2069700.00  2056380.00      0.136611      183   \n",
       "4         British Columbia   943566.00   940882.00      0.019685      605   \n",
       "..                     ...         ...         ...           ...      ...   \n",
       "141              Melanesia    76932.60    76932.60      0.175781      411   \n",
       "142            New Zealand   268010.00   267193.00      0.619151      687   \n",
       "143             Micronesia     2577.49     2577.49      0.086792      371   \n",
       "144              Polynesia     9902.43     9902.43      0.624889      677   \n",
       "145                 Hawaii    16940.30    16940.30      0.559474      491   \n",
       "\n",
       "                                              geometry  \n",
       "0    MULTIPOLYGON (((-14146170.873 6198852.535, -14...  \n",
       "1    MULTIPOLYGON (((-9332421.098 7719687.669, -933...  \n",
       "2    MULTIPOLYGON (((-9067439.093 7686930.768, -906...  \n",
       "3    MULTIPOLYGON (((-6223275.813 6275963.631, -622...  \n",
       "4    MULTIPOLYGON (((-9928444.846 5934385.201, -992...  \n",
       "..                                                 ...  \n",
       "141  MULTIPOLYGON (((15262253.321 -2932181.997, 152...  \n",
       "142  MULTIPOLYGON (((12215283.240 -6529970.448, 122...  \n",
       "143  MULTIPOLYGON (((16618061.436 -349785.720, 1661...  \n",
       "144  MULTIPOLYGON (((-14587862.069 -5484783.307, -1...  \n",
       "145  MULTIPOLYGON (((-15667612.399 2185410.142, -15...  \n",
       "\n",
       "[146 rows x 9 columns]"
      ]
     },
     "execution_count": 41,
     "metadata": {},
     "output_type": "execute_result"
    }
   ],
   "source": [
    "df"
   ]
  },
  {
   "cell_type": "code",
   "execution_count": 30,
   "metadata": {},
   "outputs": [
    {
     "data": {
      "text/plain": [
       "0    MULTILINESTRING ((-14146170.873 6198852.535, -...\n",
       "1    MULTILINESTRING ((-9332421.098 7719687.669, -9...\n",
       "Name: boundary, dtype: geometry"
      ]
     },
     "execution_count": 30,
     "metadata": {},
     "output_type": "execute_result"
    }
   ],
   "source": [
    "shapefile['boundary']"
   ]
  },
  {
   "cell_type": "code",
   "execution_count": 31,
   "metadata": {},
   "outputs": [
    {
     "data": {
      "text/html": [
       "<div>\n",
       "<style scoped>\n",
       "    .dataframe tbody tr th:only-of-type {\n",
       "        vertical-align: middle;\n",
       "    }\n",
       "\n",
       "    .dataframe tbody tr th {\n",
       "        vertical-align: top;\n",
       "    }\n",
       "\n",
       "    .dataframe thead th {\n",
       "        text-align: right;\n",
       "    }\n",
       "</style>\n",
       "<table border=\"1\" class=\"dataframe\">\n",
       "  <thead>\n",
       "    <tr style=\"text-align: right;\">\n",
       "      <th></th>\n",
       "      <th>World_ID</th>\n",
       "      <th>World_RG</th>\n",
       "      <th>Archaeo_ID</th>\n",
       "      <th>Archaeo_RG</th>\n",
       "      <th>Total_Area</th>\n",
       "      <th>Land_Area</th>\n",
       "      <th>geometry</th>\n",
       "      <th>density_test</th>\n",
       "      <th>boundary</th>\n",
       "    </tr>\n",
       "  </thead>\n",
       "  <tbody>\n",
       "    <tr>\n",
       "      <th>0</th>\n",
       "      <td>1</td>\n",
       "      <td>Northern North America and Greenland</td>\n",
       "      <td>1</td>\n",
       "      <td>Alaska</td>\n",
       "      <td>1499260.0</td>\n",
       "      <td>1492600.0</td>\n",
       "      <td>MULTIPOLYGON (((-14146170.873 6198852.535, -14...</td>\n",
       "      <td>0.373829</td>\n",
       "      <td>MULTILINESTRING ((-14146170.873 6198852.535, -...</td>\n",
       "    </tr>\n",
       "    <tr>\n",
       "      <th>1</th>\n",
       "      <td>1</td>\n",
       "      <td>Northern North America and Greenland</td>\n",
       "      <td>2</td>\n",
       "      <td>Yukon Territory</td>\n",
       "      <td>482548.0</td>\n",
       "      <td>482179.0</td>\n",
       "      <td>MULTIPOLYGON (((-9332421.098 7719687.669, -933...</td>\n",
       "      <td>0.996613</td>\n",
       "      <td>MULTILINESTRING ((-9332421.098 7719687.669, -9...</td>\n",
       "    </tr>\n",
       "    <tr>\n",
       "      <th>2</th>\n",
       "      <td>1</td>\n",
       "      <td>Northern North America and Greenland</td>\n",
       "      <td>3</td>\n",
       "      <td>Northwest Territories</td>\n",
       "      <td>1342540.0</td>\n",
       "      <td>1277000.0</td>\n",
       "      <td>MULTIPOLYGON (((-9067439.093 7686930.768, -906...</td>\n",
       "      <td>0.094400</td>\n",
       "      <td>MULTILINESTRING ((-9067439.093 7686930.768, -9...</td>\n",
       "    </tr>\n",
       "    <tr>\n",
       "      <th>3</th>\n",
       "      <td>1</td>\n",
       "      <td>Northern North America and Greenland</td>\n",
       "      <td>4</td>\n",
       "      <td>Nunavut</td>\n",
       "      <td>2069700.0</td>\n",
       "      <td>2056380.0</td>\n",
       "      <td>MULTIPOLYGON (((-6223275.813 6275963.631, -622...</td>\n",
       "      <td>0.136611</td>\n",
       "      <td>MULTILINESTRING ((-6223275.813 6275963.631, -6...</td>\n",
       "    </tr>\n",
       "    <tr>\n",
       "      <th>4</th>\n",
       "      <td>1</td>\n",
       "      <td>Northern North America and Greenland</td>\n",
       "      <td>5</td>\n",
       "      <td>British Columbia</td>\n",
       "      <td>943566.0</td>\n",
       "      <td>940882.0</td>\n",
       "      <td>MULTIPOLYGON (((-9928444.846 5934385.201, -992...</td>\n",
       "      <td>0.019685</td>\n",
       "      <td>MULTILINESTRING ((-9928444.846 5934385.201, -9...</td>\n",
       "    </tr>\n",
       "  </tbody>\n",
       "</table>\n",
       "</div>"
      ],
      "text/plain": [
       "   World_ID                              World_RG  Archaeo_ID  \\\n",
       "0         1  Northern North America and Greenland           1   \n",
       "1         1  Northern North America and Greenland           2   \n",
       "2         1  Northern North America and Greenland           3   \n",
       "3         1  Northern North America and Greenland           4   \n",
       "4         1  Northern North America and Greenland           5   \n",
       "\n",
       "              Archaeo_RG  Total_Area  Land_Area  \\\n",
       "0                 Alaska   1499260.0  1492600.0   \n",
       "1        Yukon Territory    482548.0   482179.0   \n",
       "2  Northwest Territories   1342540.0  1277000.0   \n",
       "3                Nunavut   2069700.0  2056380.0   \n",
       "4       British Columbia    943566.0   940882.0   \n",
       "\n",
       "                                            geometry  density_test  \\\n",
       "0  MULTIPOLYGON (((-14146170.873 6198852.535, -14...      0.373829   \n",
       "1  MULTIPOLYGON (((-9332421.098 7719687.669, -933...      0.996613   \n",
       "2  MULTIPOLYGON (((-9067439.093 7686930.768, -906...      0.094400   \n",
       "3  MULTIPOLYGON (((-6223275.813 6275963.631, -622...      0.136611   \n",
       "4  MULTIPOLYGON (((-9928444.846 5934385.201, -992...      0.019685   \n",
       "\n",
       "                                            boundary  \n",
       "0  MULTILINESTRING ((-14146170.873 6198852.535, -...  \n",
       "1  MULTILINESTRING ((-9332421.098 7719687.669, -9...  \n",
       "2  MULTILINESTRING ((-9067439.093 7686930.768, -9...  \n",
       "3  MULTILINESTRING ((-6223275.813 6275963.631, -6...  \n",
       "4  MULTILINESTRING ((-9928444.846 5934385.201, -9...  "
      ]
     },
     "execution_count": 31,
     "metadata": {},
     "output_type": "execute_result"
    }
   ],
   "source": [
    "shapefile.head()"
   ]
  },
  {
   "cell_type": "code",
   "execution_count": null,
   "metadata": {},
   "outputs": [],
   "source": []
  }
 ],
 "metadata": {
  "interpreter": {
   "hash": "8bef4eb371a10a29fe72b92e774a1e2d63fd6a899a77454bbef34aef85507be0"
  },
  "kernelspec": {
   "display_name": "Python 3.6.13 ('interdisciplinary_leaflet')",
   "language": "python",
   "name": "python3"
  },
  "language_info": {
   "codemirror_mode": {
    "name": "ipython",
    "version": 3
   },
   "file_extension": ".py",
   "mimetype": "text/x-python",
   "name": "python",
   "nbconvert_exporter": "python",
   "pygments_lexer": "ipython3",
   "version": "3.9.12"
  },
  "orig_nbformat": 4
 },
 "nbformat": 4,
 "nbformat_minor": 2
}
